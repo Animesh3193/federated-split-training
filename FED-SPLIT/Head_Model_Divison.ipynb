{
 "cells": [
  {
   "cell_type": "markdown",
   "metadata": {},
   "source": [
    "# HEAD Model - cpu device\n",
    "\n",
    "## Downloading the required files\n",
    "\n",
    "The data collection can be downloaded as Publicly available dataset from Creatis hosting the challange of Automated Cardiac Diagnosis Challenge (ACDC).\n",
    "The dataset contains a list 100 patients with the main MRI image consist of the training set and 50 pateients with the test set. Data download links can be found in the link below\n",
    "\n",
    "https://www.creatis.insa-lyon.fr/Challenge/acdc/\n",
    "\n",
    "\n",
    "Important modules also needed to be installed for oython such as :-\n",
    "1. Opencv\n",
    "2. pandas\n",
    "3. Matplotlib and Seaborn\n",
    "4. Nibabel and Monai\n",
    "5. Pytorch\n",
    "6. Transformers"
   ]
  },
  {
   "cell_type": "code",
   "execution_count": 1,
   "metadata": {},
   "outputs": [
    {
     "name": "stdout",
     "output_type": "stream",
     "text": [
      "Requirement already satisfied: nibabel in d:\\anaconda3\\lib\\site-packages (5.1.0)\n",
      "Requirement already satisfied: monai in d:\\anaconda3\\lib\\site-packages (1.1.0)\n",
      "Requirement already satisfied: loguru in d:\\anaconda3\\lib\\site-packages (0.7.0)\n",
      "Requirement already satisfied: packaging>=17 in d:\\anaconda3\\lib\\site-packages (from nibabel) (23.0)\n",
      "Requirement already satisfied: numpy>=1.19 in d:\\anaconda3\\lib\\site-packages (from nibabel) (1.23.5)\n",
      "Requirement already satisfied: torch>=1.8 in d:\\anaconda3\\lib\\site-packages (from monai) (2.0.0)\n",
      "Requirement already satisfied: colorama>=0.3.4 in d:\\anaconda3\\lib\\site-packages (from loguru) (0.4.6)\n",
      "Requirement already satisfied: win32-setctime>=1.0.0 in d:\\anaconda3\\lib\\site-packages (from loguru) (1.1.0)\n",
      "Requirement already satisfied: filelock in d:\\anaconda3\\lib\\site-packages (from torch>=1.8->monai) (3.9.0)\n",
      "Requirement already satisfied: typing-extensions in d:\\anaconda3\\lib\\site-packages (from torch>=1.8->monai) (4.4.0)\n",
      "Requirement already satisfied: sympy in d:\\anaconda3\\lib\\site-packages (from torch>=1.8->monai) (1.11.1)\n",
      "Requirement already satisfied: networkx in d:\\anaconda3\\lib\\site-packages (from torch>=1.8->monai) (2.8.4)\n",
      "Requirement already satisfied: jinja2 in d:\\anaconda3\\lib\\site-packages (from torch>=1.8->monai) (2.11.3)\n",
      "Requirement already satisfied: MarkupSafe>=0.23 in d:\\anaconda3\\lib\\site-packages (from jinja2->torch>=1.8->monai) (2.0.1)\n",
      "Requirement already satisfied: mpmath>=0.19 in d:\\anaconda3\\lib\\site-packages (from sympy->torch>=1.8->monai) (1.2.1)\n"
     ]
    }
   ],
   "source": [
    "!pip install nibabel monai loguru"
   ]
  },
  {
   "cell_type": "code",
   "execution_count": 2,
   "metadata": {},
   "outputs": [],
   "source": [
    "import os\n",
    "import sys\n",
    "import random\n",
    "import time\n",
    "from copy import deepcopy\n",
    "from pathlib import Path\n",
    "\n",
    "import h5py\n",
    "import numpy as np\n",
    "from monai import data, transforms as mt\n",
    "\n",
    "import matplotlib.pyplot as plt\n",
    "import seaborn as sns\n",
    "from sklearn.model_selection import KFold\n",
    "\n",
    "import torch\n",
    "import torch.nn as nn\n",
    "import torch.nn.functional as F\n",
    "from torch.utils.data import DataLoader, TensorDataset\n",
    "from torch.utils.data.dataset import Dataset\n",
    "\n",
    "import socket\n",
    "from loguru import logger\n",
    "\n",
    "from model import Block_encoder_bottleneck, dict_args, init_weights, FCT_Head"
   ]
  },
  {
   "cell_type": "code",
   "execution_count": 3,
   "metadata": {},
   "outputs": [],
   "source": [
    "device = torch.device(\"cpu\")\n"
   ]
  },
  {
   "cell_type": "code",
   "execution_count": 4,
   "metadata": {},
   "outputs": [],
   "source": [
    "# Train and test data path\n",
    "\n",
    "# train_image_path = 'dataset/ACDC/database/training'\n",
    "# test_image_path = 'dataset/ACDC/database/testing'\n",
    "train_image_path = \"data/train\"\n",
    "test_image_path = \"data/test\"\n",
    "\n",
    "# target/crop shape for the images and masks when training\n",
    "tar_shape = (256, 256)\n",
    "crop_shape = (224, 224)\n",
    "\n",
    "\n",
    "def normalize(data):\n",
    "    data = (data - data.mean()) / data.std()\n",
    "    return data\n",
    "\n",
    "\n",
    "max_epoch = dict_args['max_epoch']"
   ]
  },
  {
   "cell_type": "code",
   "execution_count": 5,
   "metadata": {},
   "outputs": [
    {
     "data": {
      "text/plain": [
       "FCT_Head(\n",
       "  (scale_img): AvgPool2d(kernel_size=2, stride=2, padding=0)\n",
       "  (block_1): Block_encoder_bottleneck(\n",
       "    (layernorm): LayerNorm((1,), eps=1e-05, elementwise_affine=True)\n",
       "    (conv1): Conv2d(1, 8, kernel_size=(3, 3), stride=(1, 1), padding=same)\n",
       "    (conv2): Conv2d(8, 8, kernel_size=(3, 3), stride=(1, 1), padding=same)\n",
       "    (trans): Transformer(\n",
       "      (attention_output): Attention(\n",
       "        (conv_q): Conv2d(8, 8, kernel_size=(3, 3), stride=(1, 1), padding=same, groups=8)\n",
       "        (layernorm_q): LayerNorm((8,), eps=1e-05, elementwise_affine=True)\n",
       "        (conv_k): Conv2d(8, 8, kernel_size=(3, 3), stride=(1, 1), padding=(1, 1), groups=8)\n",
       "        (layernorm_k): LayerNorm((8,), eps=1e-05, elementwise_affine=True)\n",
       "        (conv_v): Conv2d(8, 8, kernel_size=(3, 3), stride=(1, 1), padding=(1, 1), groups=8)\n",
       "        (layernorm_v): LayerNorm((8,), eps=1e-05, elementwise_affine=True)\n",
       "        (attention): MultiheadAttention(\n",
       "          (out_proj): NonDynamicallyQuantizableLinear(in_features=8, out_features=8, bias=True)\n",
       "        )\n",
       "      )\n",
       "      (conv1): Conv2d(8, 8, kernel_size=(3, 3), stride=(1, 1), padding=same)\n",
       "      (layernorm): LayerNorm((8,), eps=1e-05, elementwise_affine=True)\n",
       "      (wide_focus): Wide_Focus(\n",
       "        (conv1): Conv2d(8, 8, kernel_size=(3, 3), stride=(1, 1), padding=same)\n",
       "        (conv2): Conv2d(8, 8, kernel_size=(3, 3), stride=(1, 1), padding=same, dilation=(2, 2))\n",
       "        (conv3): Conv2d(8, 8, kernel_size=(3, 3), stride=(1, 1), padding=same, dilation=(3, 3))\n",
       "        (conv4): Conv2d(8, 8, kernel_size=(3, 3), stride=(1, 1), padding=same)\n",
       "      )\n",
       "    )\n",
       "  )\n",
       "  (block_2): Block_encoder_bottleneck(\n",
       "    (layernorm): LayerNorm((8,), eps=1e-05, elementwise_affine=True)\n",
       "    (conv1): Conv2d(1, 8, kernel_size=(3, 3), stride=(1, 1), padding=same)\n",
       "    (conv2): Conv2d(16, 16, kernel_size=(3, 3), stride=(1, 1), padding=same)\n",
       "    (conv3): Conv2d(16, 16, kernel_size=(3, 3), stride=(1, 1), padding=same)\n",
       "    (trans): Transformer(\n",
       "      (attention_output): Attention(\n",
       "        (conv_q): Conv2d(16, 16, kernel_size=(3, 3), stride=(1, 1), padding=same, groups=16)\n",
       "        (layernorm_q): LayerNorm((16,), eps=1e-05, elementwise_affine=True)\n",
       "        (conv_k): Conv2d(16, 16, kernel_size=(3, 3), stride=(1, 1), padding=(1, 1), groups=16)\n",
       "        (layernorm_k): LayerNorm((16,), eps=1e-05, elementwise_affine=True)\n",
       "        (conv_v): Conv2d(16, 16, kernel_size=(3, 3), stride=(1, 1), padding=(1, 1), groups=16)\n",
       "        (layernorm_v): LayerNorm((16,), eps=1e-05, elementwise_affine=True)\n",
       "        (attention): MultiheadAttention(\n",
       "          (out_proj): NonDynamicallyQuantizableLinear(in_features=16, out_features=16, bias=True)\n",
       "        )\n",
       "      )\n",
       "      (conv1): Conv2d(16, 16, kernel_size=(3, 3), stride=(1, 1), padding=same)\n",
       "      (layernorm): LayerNorm((16,), eps=1e-05, elementwise_affine=True)\n",
       "      (wide_focus): Wide_Focus(\n",
       "        (conv1): Conv2d(16, 16, kernel_size=(3, 3), stride=(1, 1), padding=same)\n",
       "        (conv2): Conv2d(16, 16, kernel_size=(3, 3), stride=(1, 1), padding=same, dilation=(2, 2))\n",
       "        (conv3): Conv2d(16, 16, kernel_size=(3, 3), stride=(1, 1), padding=same, dilation=(3, 3))\n",
       "        (conv4): Conv2d(16, 16, kernel_size=(3, 3), stride=(1, 1), padding=same)\n",
       "      )\n",
       "    )\n",
       "  )\n",
       "  (block_3): Block_encoder_bottleneck(\n",
       "    (layernorm): LayerNorm((16,), eps=1e-05, elementwise_affine=True)\n",
       "    (conv1): Conv2d(1, 16, kernel_size=(3, 3), stride=(1, 1), padding=same)\n",
       "    (conv2): Conv2d(32, 32, kernel_size=(3, 3), stride=(1, 1), padding=same)\n",
       "    (conv3): Conv2d(32, 32, kernel_size=(3, 3), stride=(1, 1), padding=same)\n",
       "    (trans): Transformer(\n",
       "      (attention_output): Attention(\n",
       "        (conv_q): Conv2d(32, 32, kernel_size=(3, 3), stride=(1, 1), padding=same, groups=32)\n",
       "        (layernorm_q): LayerNorm((32,), eps=1e-05, elementwise_affine=True)\n",
       "        (conv_k): Conv2d(32, 32, kernel_size=(3, 3), stride=(1, 1), padding=(1, 1), groups=32)\n",
       "        (layernorm_k): LayerNorm((32,), eps=1e-05, elementwise_affine=True)\n",
       "        (conv_v): Conv2d(32, 32, kernel_size=(3, 3), stride=(1, 1), padding=(1, 1), groups=32)\n",
       "        (layernorm_v): LayerNorm((32,), eps=1e-05, elementwise_affine=True)\n",
       "        (attention): MultiheadAttention(\n",
       "          (out_proj): NonDynamicallyQuantizableLinear(in_features=32, out_features=32, bias=True)\n",
       "        )\n",
       "      )\n",
       "      (conv1): Conv2d(32, 32, kernel_size=(3, 3), stride=(1, 1), padding=same)\n",
       "      (layernorm): LayerNorm((32,), eps=1e-05, elementwise_affine=True)\n",
       "      (wide_focus): Wide_Focus(\n",
       "        (conv1): Conv2d(32, 32, kernel_size=(3, 3), stride=(1, 1), padding=same)\n",
       "        (conv2): Conv2d(32, 32, kernel_size=(3, 3), stride=(1, 1), padding=same, dilation=(2, 2))\n",
       "        (conv3): Conv2d(32, 32, kernel_size=(3, 3), stride=(1, 1), padding=same, dilation=(3, 3))\n",
       "        (conv4): Conv2d(32, 32, kernel_size=(3, 3), stride=(1, 1), padding=same)\n",
       "      )\n",
       "    )\n",
       "  )\n",
       "  (block_4): Block_encoder_bottleneck(\n",
       "    (layernorm): LayerNorm((32,), eps=1e-05, elementwise_affine=True)\n",
       "    (conv1): Conv2d(1, 32, kernel_size=(3, 3), stride=(1, 1), padding=same)\n",
       "    (conv2): Conv2d(64, 64, kernel_size=(3, 3), stride=(1, 1), padding=same)\n",
       "    (conv3): Conv2d(64, 64, kernel_size=(3, 3), stride=(1, 1), padding=same)\n",
       "    (trans): Transformer(\n",
       "      (attention_output): Attention(\n",
       "        (conv_q): Conv2d(64, 64, kernel_size=(3, 3), stride=(1, 1), padding=same, groups=64)\n",
       "        (layernorm_q): LayerNorm((64,), eps=1e-05, elementwise_affine=True)\n",
       "        (conv_k): Conv2d(64, 64, kernel_size=(3, 3), stride=(1, 1), padding=(1, 1), groups=64)\n",
       "        (layernorm_k): LayerNorm((64,), eps=1e-05, elementwise_affine=True)\n",
       "        (conv_v): Conv2d(64, 64, kernel_size=(3, 3), stride=(1, 1), padding=(1, 1), groups=64)\n",
       "        (layernorm_v): LayerNorm((64,), eps=1e-05, elementwise_affine=True)\n",
       "        (attention): MultiheadAttention(\n",
       "          (out_proj): NonDynamicallyQuantizableLinear(in_features=64, out_features=64, bias=True)\n",
       "        )\n",
       "      )\n",
       "      (conv1): Conv2d(64, 64, kernel_size=(3, 3), stride=(1, 1), padding=same)\n",
       "      (layernorm): LayerNorm((64,), eps=1e-05, elementwise_affine=True)\n",
       "      (wide_focus): Wide_Focus(\n",
       "        (conv1): Conv2d(64, 64, kernel_size=(3, 3), stride=(1, 1), padding=same)\n",
       "        (conv2): Conv2d(64, 64, kernel_size=(3, 3), stride=(1, 1), padding=same, dilation=(2, 2))\n",
       "        (conv3): Conv2d(64, 64, kernel_size=(3, 3), stride=(1, 1), padding=same, dilation=(3, 3))\n",
       "        (conv4): Conv2d(64, 64, kernel_size=(3, 3), stride=(1, 1), padding=same)\n",
       "      )\n",
       "    )\n",
       "  )\n",
       "  (block_5): Block_encoder_bottleneck(\n",
       "    (layernorm): LayerNorm((64,), eps=1e-05, elementwise_affine=True)\n",
       "    (conv1): Conv2d(64, 128, kernel_size=(3, 3), stride=(1, 1), padding=same)\n",
       "    (conv2): Conv2d(128, 128, kernel_size=(3, 3), stride=(1, 1), padding=same)\n",
       "    (trans): Transformer(\n",
       "      (attention_output): Attention(\n",
       "        (conv_q): Conv2d(128, 128, kernel_size=(3, 3), stride=(1, 1), padding=same, groups=128)\n",
       "        (layernorm_q): LayerNorm((128,), eps=1e-05, elementwise_affine=True)\n",
       "        (conv_k): Conv2d(128, 128, kernel_size=(3, 3), stride=(1, 1), padding=(1, 1), groups=128)\n",
       "        (layernorm_k): LayerNorm((128,), eps=1e-05, elementwise_affine=True)\n",
       "        (conv_v): Conv2d(128, 128, kernel_size=(3, 3), stride=(1, 1), padding=(1, 1), groups=128)\n",
       "        (layernorm_v): LayerNorm((128,), eps=1e-05, elementwise_affine=True)\n",
       "        (attention): MultiheadAttention(\n",
       "          (out_proj): NonDynamicallyQuantizableLinear(in_features=128, out_features=128, bias=True)\n",
       "        )\n",
       "      )\n",
       "      (conv1): Conv2d(128, 128, kernel_size=(3, 3), stride=(1, 1), padding=same)\n",
       "      (layernorm): LayerNorm((128,), eps=1e-05, elementwise_affine=True)\n",
       "      (wide_focus): Wide_Focus(\n",
       "        (conv1): Conv2d(128, 128, kernel_size=(3, 3), stride=(1, 1), padding=same)\n",
       "        (conv2): Conv2d(128, 128, kernel_size=(3, 3), stride=(1, 1), padding=same, dilation=(2, 2))\n",
       "        (conv3): Conv2d(128, 128, kernel_size=(3, 3), stride=(1, 1), padding=same, dilation=(3, 3))\n",
       "        (conv4): Conv2d(128, 128, kernel_size=(3, 3), stride=(1, 1), padding=same)\n",
       "      )\n",
       "    )\n",
       "  )\n",
       ")"
      ]
     },
     "execution_count": 5,
     "metadata": {},
     "output_type": "execute_result"
    }
   ],
   "source": [
    "# =======================================================================\n",
    "#                                HEAD\n",
    "# =======================================================================\n",
    "\n",
    "model_head = FCT_Head()\n",
    "model_head.apply(init_weights)\n",
    "\n",
    "# optimizer_head = torch.optim.Adam(model_head.parameters(), lr=dict_args['lr'],weight_decay=dict_args['decay'])\n",
    "\n",
    "# scheduler_head = torch.optim.lr_scheduler.ReduceLROnPlateau(\n",
    "#             optimizer_head,\n",
    "#             mode='min',\n",
    "#             factor=dict_args['lr_factor'],\n",
    "#             verbose=True,\n",
    "#             threshold=1e-6,\n",
    "#             patience=10,\n",
    "#             min_lr=dict_args['min_lr'])\n",
    "\n",
    "model_head.to(device)"
   ]
  },
  {
   "cell_type": "code",
   "execution_count": 6,
   "metadata": {},
   "outputs": [],
   "source": [
    "class ACDC_Load_Gray(Dataset):\n",
    "    def __init__(self, source, ind, Transform=None):\n",
    "        # basic transforms\n",
    "        self.loader = mt.LoadImaged(keys=[\"image\", \"mask\"])\n",
    "        self.add_channel = mt.EnsureChannelFirstd(keys=[\"image\", \"mask\"])\n",
    "        self.spatial_pad = mt.SpatialPadD(keys=[\"image\", \"mask\"], spatial_size=tar_shape, mode=\"edge\")\n",
    "        self.spacing = mt.Spacingd(keys=[\"image\", \"mask\"], pixdim=(1.25, 1.25, -1.0), mode=(\"nearest\", \"nearest\"))\n",
    "        # index\n",
    "        self.ind = ind\n",
    "        # transform\n",
    "        if Transform is not None:\n",
    "            self.transform = Transform\n",
    "        else:\n",
    "            self.transform = mt.Compose([\n",
    "                mt.SpatialPadD(keys=[\"image\", \"mask\"], spatial_size=tar_shape, mode=\"edge\"),\n",
    "                mt.ToTensorD(keys=[\"image\", \"mask\"], allow_missing_keys=False)\n",
    "            ])\n",
    "\n",
    "        # take the images\n",
    "        source = Path(source)\n",
    "        # dirs = os.listdir(str(source))  # stores patient name\n",
    "        all_data_ed = []\n",
    "        all_data_ed_mask = []\n",
    "        all_data_es = []\n",
    "        all_data_es_mask = []\n",
    "        for filenames in source.iterdir():\n",
    "            if filenames.is_dir():\n",
    "                # patient_path = Path(str(source), filenames)  # individual patient path\n",
    "                patient_info = str(filenames / \"Info.cfg\")  # patient information\n",
    "                file = open(patient_info, 'r').readlines()\n",
    "                ED_frame = int(file[0].split(\":\")[1])\n",
    "                ES_frame = int(file[1].split(\":\")[1])\n",
    "                ED = (filenames / f\"{filenames.name}_frame{ED_frame:02d}.nii.gz\")\n",
    "                ES = (filenames / f\"{filenames.name}_frame{ES_frame:02d}.nii.gz\")\n",
    "                ED_gt = (filenames / f\"{filenames.name}_frame{ED_frame:02d}_gt.nii.gz\")\n",
    "                ES_gt = (filenames / f\"{filenames.name}_frame{ES_frame:02d}_gt.nii.gz\")\n",
    "                all_data_ed.append(ED)\n",
    "                all_data_ed_mask.append(ED_gt)\n",
    "                all_data_es.append(ES)\n",
    "                all_data_es_mask.append(ES_gt)\n",
    "\n",
    "        if self.ind is not None:\n",
    "            all_data_ed = [all_data_ed[i] for i in self.ind]\n",
    "            all_data_ed_mask = [all_data_ed_mask[i] for i in self.ind]\n",
    "            all_data_es = [all_data_es[i] for i in self.ind]\n",
    "            all_data_es_mask = [all_data_es_mask[i] for i in self.ind]\n",
    "\n",
    "        self.data = [all_data_ed, all_data_ed_mask, all_data_es, all_data_es_mask]\n",
    "\n",
    "    def __len__(self):\n",
    "        return len(self.data[0])\n",
    "\n",
    "    def __getitem__(self, idx):\n",
    "        ED_img, ED_mask, ES_img, ES_mask = self.data[0][idx], self.data[1][idx], self.data[2][idx], self.data[3][idx]\n",
    "        # data dict\n",
    "        ED_data_dict = {\"image\": ED_img,\n",
    "                        \"mask\": ED_mask}\n",
    "        ES_data_dict = {\"image\": ES_img,\n",
    "                        \"mask\": ES_mask}\n",
    "        # instead of returning both ED and ES, I have to return just a random choice between ED and ES(image and mask)\n",
    "        datalist = [ED_data_dict, ES_data_dict]\n",
    "        data_return = np.random.choice(datalist)\n",
    "        data_return = self.loader(data_return)\n",
    "        data_return = self.add_channel(data_return)\n",
    "        data_return = self.spacing(data_return)\n",
    "        data_return[\"image\"] = normalize(data_return[\"image\"])\n",
    "        num_slice = data_return[\"image\"].shape[3]\n",
    "        random_slice = random.randint(0, num_slice - 1)\n",
    "        data_return[\"image\"] = data_return[\"image\"][:, :, :, random_slice]\n",
    "        data_return[\"image\"] = normalize(data_return[\"image\"])\n",
    "        data_return[\"mask\"] = data_return[\"mask\"][:, :, :, random_slice]\n",
    "        data_return = self.transform(data_return)\n",
    "        return data_return"
   ]
  },
  {
   "cell_type": "code",
   "execution_count": 7,
   "metadata": {},
   "outputs": [],
   "source": [
    "def train_loader_ACDC(train_index, data_path=train_image_path, transform=None):\n",
    "    train_loader = ACDC_Load_Gray(source=data_path, Transform=transform, ind=train_index)\n",
    "    return train_loader\n",
    "\n",
    "\n",
    "def val_loader_ACDC(val_index, data_path=train_image_path, transform=None):\n",
    "    val_loader = ACDC_Load_Gray(source=data_path, Transform=transform, ind=val_index)\n",
    "    return val_loader\n",
    "\n",
    "\n",
    "def test_loader_ACDC(test_index, data_path=test_image_path, transform=None):\n",
    "    test_loader = ACDC_Load_Gray(source=data_path, Transform=transform, ind=test_index)\n",
    "    return test_loader"
   ]
  },
  {
   "cell_type": "code",
   "execution_count": 8,
   "metadata": {},
   "outputs": [],
   "source": [
    "\"\"\" To load the training and validation dataloader works \"\"\"\n",
    "\n",
    "train_compose = mt.Compose(\n",
    "    [mt.SpatialPadD(keys=[\"image\", \"mask\"], spatial_size=tar_shape, mode=\"edge\"),\n",
    "     mt.RandSpatialCropD(keys=[\"image\", \"mask\"], roi_size=crop_shape, random_center=True, random_size=False),\n",
    "     mt.ToTensorD(keys=[\"image\", \"mask\"], allow_missing_keys=False),\n",
    "     ]\n",
    ")\n",
    "\n",
    "val_compose = mt.Compose(\n",
    "    [   mt.SpatialPadD(keys=[\"image\", \"mask\"], spatial_size=tar_shape, mode=\"edge\"),\n",
    "        mt.RandSpatialCropD(keys=[\"image\", \"mask\"], roi_size=crop_shape, random_center=True, random_size=False),\n",
    "        mt.ToTensorD(keys=[\"image\", \"mask\"], allow_missing_keys=False),\n",
    "    ]\n",
    ")\n",
    "\n",
    "splits = KFold(n_splits=5, shuffle=True, random_state=42)\n",
    "\n",
    "concatenated_dataset = train_loader_ACDC(transform=None, train_index=None)"
   ]
  },
  {
   "cell_type": "code",
   "execution_count": 9,
   "metadata": {},
   "outputs": [],
   "source": [
    "\"\"\" To load the testing dataloader works \"\"\"\n",
    "test_compose = mt.Compose(\n",
    "    [\n",
    "        mt.SpatialPadD(keys=[\"image\", \"mask\"], spatial_size=tar_shape, mode=\"edge\"),\n",
    "        mt.RandSpatialCropD(keys=[\"image\", \"mask\"], roi_size=crop_shape, random_center=True, random_size=False),\n",
    "        mt.ToTensorD(keys=[\"image\", \"mask\"], allow_missing_keys=False),\n",
    "    ]\n",
    ")\n",
    "\n",
    "test_data = DataLoader(test_loader_ACDC(transform=test_compose, test_index=None), batch_size=1, shuffle=False)"
   ]
  },
  {
   "cell_type": "code",
   "execution_count": 10,
   "metadata": {},
   "outputs": [
    {
     "name": "stdout",
     "output_type": "stream",
     "text": [
      "-------------------------- Fold 1 --------------------------\n",
      "train from here 12\n",
      "val from here 12\n",
      "-------------------------- Fold 2 --------------------------\n",
      "train from here 12\n",
      "val from here 12\n",
      "-------------------------- Fold 3 --------------------------\n",
      "train from here 12\n",
      "val from here 12\n",
      "-------------------------- Fold 4 --------------------------\n",
      "train from here 12\n",
      "val from here 12\n",
      "-------------------------- Fold 5 --------------------------\n",
      "train from here 12\n",
      "val from here 12\n"
     ]
    }
   ],
   "source": [
    "for fold, (train_idx, val_idx) in enumerate(splits.split(np.arange(len(concatenated_dataset)))):\n",
    "\n",
    "    print(\"--------------------------\", \"Fold\", fold + 1, \"--------------------------\")\n",
    "\n",
    "    # training dataset\n",
    "    training_data = DataLoader(train_loader_ACDC(transform=train_compose, train_index=train_idx), batch_size=4,\n",
    "                               shuffle=False)\n",
    "    print(\"train from here\", len(training_data))\n",
    "    # for dic in training_data:\n",
    "    #     images = dic[\"image\"]\n",
    "    #     masks = dic[\"mask\"]\n",
    "    #     print(images.shape, masks.shape)\n",
    "    #     image, label = dic[\"image\"], dic[\"mask\"]\n",
    "    #     plt.figure(\"visualise\", (8, 4))\n",
    "    #     plt.subplot(1, 2, 1)\n",
    "    #     plt.title(\"image\")\n",
    "    #     plt.imshow(image[0, 0, :, :], cmap=\"gray\")\n",
    "    #     plt.subplot(1, 2, 2)\n",
    "    #     plt.title(\"mask\")\n",
    "    #     plt.imshow(label[0, 0, :, :], cmap=\"gray\")\n",
    "    #     plt.show()\n",
    "    #     break\n",
    "\n",
    "    # validation dataset\n",
    "    validation_data = DataLoader(val_loader_ACDC(transform=val_compose, val_index=val_idx), batch_size=1,\n",
    "                                 shuffle=False)\n",
    "    print(\"val from here\", len(validation_data))\n",
    "    # for dic in validation_data:\n",
    "    #     images = dic[\"image\"]\n",
    "    #     masks = dic[\"mask\"]\n",
    "    #     print(images.shape, masks.shape)\n",
    "    #     image, label = dic[\"image\"], dic[\"mask\"]\n",
    "    #     plt.figure(\"visualise\", (8, 4))\n",
    "    #     plt.subplot(1, 2, 1)\n",
    "    #     plt.title(\"image\")\n",
    "    #     plt.imshow(image[0, 0, :, :], cmap=\"gray\")\n",
    "    #     plt.subplot(1, 2, 2)\n",
    "    #     plt.title(\"mask\")\n",
    "    #     plt.imshow(label[0, 0, :, :], cmap=\"gray\")\n",
    "    #     plt.show()\n",
    "    #     break\n",
    "\n",
    "    # test dataset\n",
    "    # ========================== TEST Data ===================\n",
    "    # test_data = DataLoader(test_loader_ACDC(transform=test_compose, test_index=None), batch_size=1, shuffle=False)\n",
    "    # ========================== TEST Data ===================\n",
    "    # print(\"test from here\")\n",
    "    # for dic in test_data:\n",
    "    #     images = dic[\"image\"]\n",
    "    #     masks = dic[\"mask\"]\n",
    "    #     print(images.shape, masks.shape)\n",
    "    #     image, label = dic[\"image\"], dic[\"mask\"]\n",
    "    #     plt.figure(\"visualise\", (8, 4))\n",
    "    #     plt.subplot(1, 2, 1)\n",
    "    #     plt.title(\"image\")\n",
    "    #     plt.imshow(image[0, 0, :, :], cmap=\"gray\")\n",
    "    #     plt.subplot(1, 2, 2)\n",
    "    #     plt.title(\"mask\")\n",
    "    #     plt.imshow(label[0, 0, :, :], cmap=\"gray\")\n",
    "    #     plt.show()\n",
    "    #     break"
   ]
  },
  {
   "cell_type": "code",
   "execution_count": 11,
   "metadata": {},
   "outputs": [],
   "source": [
    "def send_socket_info(port=6161, message_data=None):\n",
    "    import socket\n",
    "    with socket.socket(socket.AF_INET, socket.SOCK_STREAM) as s:\n",
    "        s.connect(('127.0.0.1', port))\n",
    "        if message_data is  None:\n",
    "            raise ValueError(f\"Message that is being sent to port {port} is empty\")\n",
    "        s.send(message_data.encode('UTF-8'))"
   ]
  },
  {
   "cell_type": "code",
   "execution_count": 12,
   "metadata": {},
   "outputs": [],
   "source": [
    "recv_body = socket.socket(socket.AF_INET, socket.SOCK_STREAM)\n",
    "recv_body.bind(('127.0.0.1', 9191))"
   ]
  },
  {
   "cell_type": "code",
   "execution_count": 13,
   "metadata": {},
   "outputs": [
    {
     "name": "stdout",
     "output_type": "stream",
     "text": [
      "index value is  0\n",
      "Block 1 out -> [4, 8, 112, 112]\n",
      "Block 2 out -> [4, 16, 56, 56]\n",
      "Block 3 out -> [4, 32, 28, 28]\n",
      "Block 4 out -> [4, 64, 14, 14]\n"
     ]
    },
    {
     "name": "stderr",
     "output_type": "stream",
     "text": [
      "\u001b[32m2023-04-23 23:52:53.896\u001b[0m | \u001b[1mINFO    \u001b[0m | \u001b[36m__main__\u001b[0m:\u001b[36m<module>\u001b[0m:\u001b[36m30\u001b[0m - \u001b[1mconnected: ('127.0.0.1', 54014)\u001b[0m\n",
      "\u001b[32m2023-04-23 23:53:05.595\u001b[0m | \u001b[1mINFO    \u001b[0m | \u001b[36m__main__\u001b[0m:\u001b[36m<module>\u001b[0m:\u001b[36m49\u001b[0m - \u001b[1mdisconnected from body for gradient calc: ('127.0.0.1', 54014)\u001b[0m\n"
     ]
    },
    {
     "name": "stdout",
     "output_type": "stream",
     "text": [
      "index value is  1\n",
      "Block 1 out -> [4, 8, 112, 112]\n",
      "Block 2 out -> [4, 16, 56, 56]\n",
      "Block 3 out -> [4, 32, 28, 28]\n",
      "Block 4 out -> [4, 64, 14, 14]\n"
     ]
    },
    {
     "name": "stderr",
     "output_type": "stream",
     "text": [
      "\u001b[32m2023-04-23 23:53:55.702\u001b[0m | \u001b[1mINFO    \u001b[0m | \u001b[36m__main__\u001b[0m:\u001b[36m<module>\u001b[0m:\u001b[36m30\u001b[0m - \u001b[1mconnected: ('127.0.0.1', 54077)\u001b[0m\n",
      "\u001b[32m2023-04-23 23:54:04.546\u001b[0m | \u001b[1mINFO    \u001b[0m | \u001b[36m__main__\u001b[0m:\u001b[36m<module>\u001b[0m:\u001b[36m49\u001b[0m - \u001b[1mdisconnected from body for gradient calc: ('127.0.0.1', 54077)\u001b[0m\n"
     ]
    },
    {
     "name": "stdout",
     "output_type": "stream",
     "text": [
      "index value is  2\n",
      "Block 1 out -> [4, 8, 112, 112]\n",
      "Block 2 out -> [4, 16, 56, 56]\n",
      "Block 3 out -> [4, 32, 28, 28]\n",
      "Block 4 out -> [4, 64, 14, 14]\n"
     ]
    },
    {
     "name": "stderr",
     "output_type": "stream",
     "text": [
      "\u001b[32m2023-04-23 23:54:43.128\u001b[0m | \u001b[1mINFO    \u001b[0m | \u001b[36m__main__\u001b[0m:\u001b[36m<module>\u001b[0m:\u001b[36m30\u001b[0m - \u001b[1mconnected: ('127.0.0.1', 54111)\u001b[0m\n",
      "\u001b[32m2023-04-23 23:54:49.225\u001b[0m | \u001b[1mINFO    \u001b[0m | \u001b[36m__main__\u001b[0m:\u001b[36m<module>\u001b[0m:\u001b[36m49\u001b[0m - \u001b[1mdisconnected from body for gradient calc: ('127.0.0.1', 54111)\u001b[0m\n"
     ]
    },
    {
     "name": "stdout",
     "output_type": "stream",
     "text": [
      "index value is  3\n",
      "Block 1 out -> [4, 8, 112, 112]\n",
      "Block 2 out -> [4, 16, 56, 56]\n",
      "Block 3 out -> [4, 32, 28, 28]\n",
      "Block 4 out -> [4, 64, 14, 14]\n"
     ]
    },
    {
     "name": "stderr",
     "output_type": "stream",
     "text": [
      "\u001b[32m2023-04-23 23:55:13.034\u001b[0m | \u001b[1mINFO    \u001b[0m | \u001b[36m__main__\u001b[0m:\u001b[36m<module>\u001b[0m:\u001b[36m30\u001b[0m - \u001b[1mconnected: ('127.0.0.1', 54132)\u001b[0m\n",
      "\u001b[32m2023-04-23 23:55:18.018\u001b[0m | \u001b[1mINFO    \u001b[0m | \u001b[36m__main__\u001b[0m:\u001b[36m<module>\u001b[0m:\u001b[36m49\u001b[0m - \u001b[1mdisconnected from body for gradient calc: ('127.0.0.1', 54132)\u001b[0m\n"
     ]
    },
    {
     "name": "stdout",
     "output_type": "stream",
     "text": [
      "index value is  4\n",
      "Block 1 out -> [4, 8, 112, 112]\n",
      "Block 2 out -> [4, 16, 56, 56]\n",
      "Block 3 out -> [4, 32, 28, 28]\n",
      "Block 4 out -> [4, 64, 14, 14]\n"
     ]
    },
    {
     "name": "stderr",
     "output_type": "stream",
     "text": [
      "\u001b[32m2023-04-23 23:55:40.110\u001b[0m | \u001b[1mINFO    \u001b[0m | \u001b[36m__main__\u001b[0m:\u001b[36m<module>\u001b[0m:\u001b[36m30\u001b[0m - \u001b[1mconnected: ('127.0.0.1', 54151)\u001b[0m\n",
      "\u001b[32m2023-04-23 23:55:44.538\u001b[0m | \u001b[1mINFO    \u001b[0m | \u001b[36m__main__\u001b[0m:\u001b[36m<module>\u001b[0m:\u001b[36m49\u001b[0m - \u001b[1mdisconnected from body for gradient calc: ('127.0.0.1', 54151)\u001b[0m\n"
     ]
    },
    {
     "name": "stdout",
     "output_type": "stream",
     "text": [
      "index value is  5\n",
      "Block 1 out -> [4, 8, 112, 112]\n",
      "Block 2 out -> [4, 16, 56, 56]\n",
      "Block 3 out -> [4, 32, 28, 28]\n",
      "Block 4 out -> [4, 64, 14, 14]\n"
     ]
    },
    {
     "name": "stderr",
     "output_type": "stream",
     "text": [
      "\u001b[32m2023-04-23 23:56:09.281\u001b[0m | \u001b[1mINFO    \u001b[0m | \u001b[36m__main__\u001b[0m:\u001b[36m<module>\u001b[0m:\u001b[36m30\u001b[0m - \u001b[1mconnected: ('127.0.0.1', 54168)\u001b[0m\n",
      "\u001b[32m2023-04-23 23:56:14.669\u001b[0m | \u001b[1mINFO    \u001b[0m | \u001b[36m__main__\u001b[0m:\u001b[36m<module>\u001b[0m:\u001b[36m49\u001b[0m - \u001b[1mdisconnected from body for gradient calc: ('127.0.0.1', 54168)\u001b[0m\n"
     ]
    },
    {
     "name": "stdout",
     "output_type": "stream",
     "text": [
      "index value is  6\n",
      "Block 1 out -> [4, 8, 112, 112]\n",
      "Block 2 out -> [4, 16, 56, 56]\n",
      "Block 3 out -> [4, 32, 28, 28]\n",
      "Block 4 out -> [4, 64, 14, 14]\n"
     ]
    },
    {
     "name": "stderr",
     "output_type": "stream",
     "text": [
      "\u001b[32m2023-04-23 23:56:37.492\u001b[0m | \u001b[1mINFO    \u001b[0m | \u001b[36m__main__\u001b[0m:\u001b[36m<module>\u001b[0m:\u001b[36m30\u001b[0m - \u001b[1mconnected: ('127.0.0.1', 54186)\u001b[0m\n",
      "\u001b[32m2023-04-23 23:56:42.376\u001b[0m | \u001b[1mINFO    \u001b[0m | \u001b[36m__main__\u001b[0m:\u001b[36m<module>\u001b[0m:\u001b[36m49\u001b[0m - \u001b[1mdisconnected from body for gradient calc: ('127.0.0.1', 54186)\u001b[0m\n"
     ]
    },
    {
     "name": "stdout",
     "output_type": "stream",
     "text": [
      "index value is  7\n",
      "Block 1 out -> [4, 8, 112, 112]\n",
      "Block 2 out -> [4, 16, 56, 56]\n",
      "Block 3 out -> [4, 32, 28, 28]\n",
      "Block 4 out -> [4, 64, 14, 14]\n"
     ]
    },
    {
     "name": "stderr",
     "output_type": "stream",
     "text": [
      "\u001b[32m2023-04-23 23:57:04.346\u001b[0m | \u001b[1mINFO    \u001b[0m | \u001b[36m__main__\u001b[0m:\u001b[36m<module>\u001b[0m:\u001b[36m30\u001b[0m - \u001b[1mconnected: ('127.0.0.1', 54205)\u001b[0m\n",
      "\u001b[32m2023-04-23 23:57:09.877\u001b[0m | \u001b[1mINFO    \u001b[0m | \u001b[36m__main__\u001b[0m:\u001b[36m<module>\u001b[0m:\u001b[36m49\u001b[0m - \u001b[1mdisconnected from body for gradient calc: ('127.0.0.1', 54205)\u001b[0m\n"
     ]
    },
    {
     "name": "stdout",
     "output_type": "stream",
     "text": [
      "index value is  8\n",
      "Block 1 out -> [4, 8, 112, 112]\n",
      "Block 2 out -> [4, 16, 56, 56]\n",
      "Block 3 out -> [4, 32, 28, 28]\n",
      "Block 4 out -> [4, 64, 14, 14]\n"
     ]
    },
    {
     "name": "stderr",
     "output_type": "stream",
     "text": [
      "\u001b[32m2023-04-23 23:57:34.309\u001b[0m | \u001b[1mINFO    \u001b[0m | \u001b[36m__main__\u001b[0m:\u001b[36m<module>\u001b[0m:\u001b[36m30\u001b[0m - \u001b[1mconnected: ('127.0.0.1', 54295)\u001b[0m\n",
      "\u001b[32m2023-04-23 23:57:39.176\u001b[0m | \u001b[1mINFO    \u001b[0m | \u001b[36m__main__\u001b[0m:\u001b[36m<module>\u001b[0m:\u001b[36m49\u001b[0m - \u001b[1mdisconnected from body for gradient calc: ('127.0.0.1', 54295)\u001b[0m\n"
     ]
    },
    {
     "name": "stdout",
     "output_type": "stream",
     "text": [
      "index value is  9\n",
      "Block 1 out -> [4, 8, 112, 112]\n",
      "Block 2 out -> [4, 16, 56, 56]\n",
      "Block 3 out -> [4, 32, 28, 28]\n",
      "Block 4 out -> [4, 64, 14, 14]\n"
     ]
    },
    {
     "name": "stderr",
     "output_type": "stream",
     "text": [
      "\u001b[32m2023-04-23 23:58:02.153\u001b[0m | \u001b[1mINFO    \u001b[0m | \u001b[36m__main__\u001b[0m:\u001b[36m<module>\u001b[0m:\u001b[36m30\u001b[0m - \u001b[1mconnected: ('127.0.0.1', 54311)\u001b[0m\n",
      "\u001b[32m2023-04-23 23:58:07.036\u001b[0m | \u001b[1mINFO    \u001b[0m | \u001b[36m__main__\u001b[0m:\u001b[36m<module>\u001b[0m:\u001b[36m49\u001b[0m - \u001b[1mdisconnected from body for gradient calc: ('127.0.0.1', 54311)\u001b[0m\n"
     ]
    },
    {
     "name": "stdout",
     "output_type": "stream",
     "text": [
      "index value is  10\n",
      "Block 1 out -> [4, 8, 112, 112]\n",
      "Block 2 out -> [4, 16, 56, 56]\n",
      "Block 3 out -> [4, 32, 28, 28]\n",
      "Block 4 out -> [4, 64, 14, 14]\n"
     ]
    },
    {
     "name": "stderr",
     "output_type": "stream",
     "text": [
      "\u001b[32m2023-04-23 23:58:34.162\u001b[0m | \u001b[1mINFO    \u001b[0m | \u001b[36m__main__\u001b[0m:\u001b[36m<module>\u001b[0m:\u001b[36m30\u001b[0m - \u001b[1mconnected: ('127.0.0.1', 54340)\u001b[0m\n",
      "\u001b[32m2023-04-23 23:58:40.451\u001b[0m | \u001b[1mINFO    \u001b[0m | \u001b[36m__main__\u001b[0m:\u001b[36m<module>\u001b[0m:\u001b[36m49\u001b[0m - \u001b[1mdisconnected from body for gradient calc: ('127.0.0.1', 54340)\u001b[0m\n"
     ]
    },
    {
     "name": "stdout",
     "output_type": "stream",
     "text": [
      "index value is  11\n",
      "Block 1 out -> [4, 8, 112, 112]\n",
      "Block 2 out -> [4, 16, 56, 56]\n",
      "Block 3 out -> [4, 32, 28, 28]\n",
      "Block 4 out -> [4, 64, 14, 14]\n"
     ]
    },
    {
     "name": "stderr",
     "output_type": "stream",
     "text": [
      "\u001b[32m2023-04-23 23:59:04.784\u001b[0m | \u001b[1mINFO    \u001b[0m | \u001b[36m__main__\u001b[0m:\u001b[36m<module>\u001b[0m:\u001b[36m30\u001b[0m - \u001b[1mconnected: ('127.0.0.1', 54381)\u001b[0m\n",
      "\u001b[32m2023-04-23 23:59:11.677\u001b[0m | \u001b[1mINFO    \u001b[0m | \u001b[36m__main__\u001b[0m:\u001b[36m<module>\u001b[0m:\u001b[36m49\u001b[0m - \u001b[1mdisconnected from body for gradient calc: ('127.0.0.1', 54381)\u001b[0m\n"
     ]
    },
    {
     "name": "stdout",
     "output_type": "stream",
     "text": [
      "index value is  0\n",
      "Block 1 out -> [4, 8, 112, 112]\n",
      "Block 2 out -> [4, 16, 56, 56]\n",
      "Block 3 out -> [4, 32, 28, 28]\n",
      "Block 4 out -> [4, 64, 14, 14]\n"
     ]
    },
    {
     "name": "stderr",
     "output_type": "stream",
     "text": [
      "\u001b[32m2023-04-23 23:59:57.206\u001b[0m | \u001b[1mINFO    \u001b[0m | \u001b[36m__main__\u001b[0m:\u001b[36m<module>\u001b[0m:\u001b[36m30\u001b[0m - \u001b[1mconnected: ('127.0.0.1', 54425)\u001b[0m\n",
      "\u001b[32m2023-04-24 00:00:07.257\u001b[0m | \u001b[1mINFO    \u001b[0m | \u001b[36m__main__\u001b[0m:\u001b[36m<module>\u001b[0m:\u001b[36m49\u001b[0m - \u001b[1mdisconnected from body for gradient calc: ('127.0.0.1', 54425)\u001b[0m\n"
     ]
    },
    {
     "name": "stdout",
     "output_type": "stream",
     "text": [
      "index value is  1\n",
      "Block 1 out -> [4, 8, 112, 112]\n",
      "Block 2 out -> [4, 16, 56, 56]\n",
      "Block 3 out -> [4, 32, 28, 28]\n",
      "Block 4 out -> [4, 64, 14, 14]\n"
     ]
    },
    {
     "name": "stderr",
     "output_type": "stream",
     "text": [
      "\u001b[32m2023-04-24 00:00:57.564\u001b[0m | \u001b[1mINFO    \u001b[0m | \u001b[36m__main__\u001b[0m:\u001b[36m<module>\u001b[0m:\u001b[36m30\u001b[0m - \u001b[1mconnected: ('127.0.0.1', 54513)\u001b[0m\n",
      "\u001b[32m2023-04-24 00:01:04.636\u001b[0m | \u001b[1mINFO    \u001b[0m | \u001b[36m__main__\u001b[0m:\u001b[36m<module>\u001b[0m:\u001b[36m49\u001b[0m - \u001b[1mdisconnected from body for gradient calc: ('127.0.0.1', 54513)\u001b[0m\n"
     ]
    },
    {
     "name": "stdout",
     "output_type": "stream",
     "text": [
      "index value is  2\n",
      "Block 1 out -> [4, 8, 112, 112]\n",
      "Block 2 out -> [4, 16, 56, 56]\n",
      "Block 3 out -> [4, 32, 28, 28]\n",
      "Block 4 out -> [4, 64, 14, 14]\n"
     ]
    },
    {
     "name": "stderr",
     "output_type": "stream",
     "text": [
      "\u001b[32m2023-04-24 00:01:41.667\u001b[0m | \u001b[1mINFO    \u001b[0m | \u001b[36m__main__\u001b[0m:\u001b[36m<module>\u001b[0m:\u001b[36m30\u001b[0m - \u001b[1mconnected: ('127.0.0.1', 54549)\u001b[0m\n",
      "\u001b[32m2023-04-24 00:01:47.338\u001b[0m | \u001b[1mINFO    \u001b[0m | \u001b[36m__main__\u001b[0m:\u001b[36m<module>\u001b[0m:\u001b[36m49\u001b[0m - \u001b[1mdisconnected from body for gradient calc: ('127.0.0.1', 54549)\u001b[0m\n"
     ]
    },
    {
     "name": "stdout",
     "output_type": "stream",
     "text": [
      "index value is  3\n",
      "Block 1 out -> [4, 8, 112, 112]\n",
      "Block 2 out -> [4, 16, 56, 56]\n",
      "Block 3 out -> [4, 32, 28, 28]\n",
      "Block 4 out -> [4, 64, 14, 14]\n"
     ]
    },
    {
     "name": "stderr",
     "output_type": "stream",
     "text": [
      "\u001b[32m2023-04-24 00:02:09.593\u001b[0m | \u001b[1mINFO    \u001b[0m | \u001b[36m__main__\u001b[0m:\u001b[36m<module>\u001b[0m:\u001b[36m30\u001b[0m - \u001b[1mconnected: ('127.0.0.1', 54568)\u001b[0m\n",
      "\u001b[32m2023-04-24 00:02:14.368\u001b[0m | \u001b[1mINFO    \u001b[0m | \u001b[36m__main__\u001b[0m:\u001b[36m<module>\u001b[0m:\u001b[36m49\u001b[0m - \u001b[1mdisconnected from body for gradient calc: ('127.0.0.1', 54568)\u001b[0m\n"
     ]
    },
    {
     "name": "stdout",
     "output_type": "stream",
     "text": [
      "index value is  4\n",
      "Block 1 out -> [4, 8, 112, 112]\n",
      "Block 2 out -> [4, 16, 56, 56]\n",
      "Block 3 out -> [4, 32, 28, 28]\n",
      "Block 4 out -> [4, 64, 14, 14]\n"
     ]
    },
    {
     "name": "stderr",
     "output_type": "stream",
     "text": [
      "\u001b[32m2023-04-24 00:02:48.600\u001b[0m | \u001b[1mINFO    \u001b[0m | \u001b[36m__main__\u001b[0m:\u001b[36m<module>\u001b[0m:\u001b[36m30\u001b[0m - \u001b[1mconnected: ('127.0.0.1', 54602)\u001b[0m\n",
      "\u001b[32m2023-04-24 00:02:57.689\u001b[0m | \u001b[1mINFO    \u001b[0m | \u001b[36m__main__\u001b[0m:\u001b[36m<module>\u001b[0m:\u001b[36m49\u001b[0m - \u001b[1mdisconnected from body for gradient calc: ('127.0.0.1', 54602)\u001b[0m\n"
     ]
    },
    {
     "name": "stdout",
     "output_type": "stream",
     "text": [
      "index value is  5\n",
      "Block 1 out -> [4, 8, 112, 112]\n",
      "Block 2 out -> [4, 16, 56, 56]\n",
      "Block 3 out -> [4, 32, 28, 28]\n",
      "Block 4 out -> [4, 64, 14, 14]\n"
     ]
    },
    {
     "name": "stderr",
     "output_type": "stream",
     "text": [
      "\u001b[32m2023-04-24 00:03:41.705\u001b[0m | \u001b[1mINFO    \u001b[0m | \u001b[36m__main__\u001b[0m:\u001b[36m<module>\u001b[0m:\u001b[36m30\u001b[0m - \u001b[1mconnected: ('127.0.0.1', 54637)\u001b[0m\n",
      "\u001b[32m2023-04-24 00:03:53.126\u001b[0m | \u001b[1mINFO    \u001b[0m | \u001b[36m__main__\u001b[0m:\u001b[36m<module>\u001b[0m:\u001b[36m49\u001b[0m - \u001b[1mdisconnected from body for gradient calc: ('127.0.0.1', 54637)\u001b[0m\n"
     ]
    },
    {
     "name": "stdout",
     "output_type": "stream",
     "text": [
      "index value is  6\n",
      "Block 1 out -> [4, 8, 112, 112]\n",
      "Block 2 out -> [4, 16, 56, 56]\n",
      "Block 3 out -> [4, 32, 28, 28]\n",
      "Block 4 out -> [4, 64, 14, 14]\n"
     ]
    },
    {
     "name": "stderr",
     "output_type": "stream",
     "text": [
      "\u001b[32m2023-04-24 00:04:52.454\u001b[0m | \u001b[1mINFO    \u001b[0m | \u001b[36m__main__\u001b[0m:\u001b[36m<module>\u001b[0m:\u001b[36m30\u001b[0m - \u001b[1mconnected: ('127.0.0.1', 54688)\u001b[0m\n",
      "\u001b[32m2023-04-24 00:05:03.275\u001b[0m | \u001b[1mINFO    \u001b[0m | \u001b[36m__main__\u001b[0m:\u001b[36m<module>\u001b[0m:\u001b[36m49\u001b[0m - \u001b[1mdisconnected from body for gradient calc: ('127.0.0.1', 54688)\u001b[0m\n"
     ]
    },
    {
     "name": "stdout",
     "output_type": "stream",
     "text": [
      "index value is  7\n",
      "Block 1 out -> [4, 8, 112, 112]\n",
      "Block 2 out -> [4, 16, 56, 56]\n",
      "Block 3 out -> [4, 32, 28, 28]\n",
      "Block 4 out -> [4, 64, 14, 14]\n"
     ]
    },
    {
     "name": "stderr",
     "output_type": "stream",
     "text": [
      "\u001b[32m2023-04-24 00:05:57.136\u001b[0m | \u001b[1mINFO    \u001b[0m | \u001b[36m__main__\u001b[0m:\u001b[36m<module>\u001b[0m:\u001b[36m30\u001b[0m - \u001b[1mconnected: ('127.0.0.1', 54729)\u001b[0m\n",
      "\u001b[32m2023-04-24 00:06:07.476\u001b[0m | \u001b[1mINFO    \u001b[0m | \u001b[36m__main__\u001b[0m:\u001b[36m<module>\u001b[0m:\u001b[36m49\u001b[0m - \u001b[1mdisconnected from body for gradient calc: ('127.0.0.1', 54729)\u001b[0m\n"
     ]
    },
    {
     "name": "stdout",
     "output_type": "stream",
     "text": [
      "index value is  8\n",
      "Block 1 out -> [4, 8, 112, 112]\n",
      "Block 2 out -> [4, 16, 56, 56]\n",
      "Block 3 out -> [4, 32, 28, 28]\n",
      "Block 4 out -> [4, 64, 14, 14]\n"
     ]
    },
    {
     "name": "stderr",
     "output_type": "stream",
     "text": [
      "\u001b[32m2023-04-24 00:06:58.227\u001b[0m | \u001b[1mINFO    \u001b[0m | \u001b[36m__main__\u001b[0m:\u001b[36m<module>\u001b[0m:\u001b[36m30\u001b[0m - \u001b[1mconnected: ('127.0.0.1', 54769)\u001b[0m\n",
      "\u001b[32m2023-04-24 00:07:07.480\u001b[0m | \u001b[1mINFO    \u001b[0m | \u001b[36m__main__\u001b[0m:\u001b[36m<module>\u001b[0m:\u001b[36m49\u001b[0m - \u001b[1mdisconnected from body for gradient calc: ('127.0.0.1', 54769)\u001b[0m\n"
     ]
    },
    {
     "name": "stdout",
     "output_type": "stream",
     "text": [
      "index value is  9\n",
      "Block 1 out -> [4, 8, 112, 112]\n",
      "Block 2 out -> [4, 16, 56, 56]\n",
      "Block 3 out -> [4, 32, 28, 28]\n",
      "Block 4 out -> [4, 64, 14, 14]\n"
     ]
    },
    {
     "name": "stderr",
     "output_type": "stream",
     "text": [
      "\u001b[32m2023-04-24 00:07:55.821\u001b[0m | \u001b[1mINFO    \u001b[0m | \u001b[36m__main__\u001b[0m:\u001b[36m<module>\u001b[0m:\u001b[36m30\u001b[0m - \u001b[1mconnected: ('127.0.0.1', 54804)\u001b[0m\n",
      "\u001b[32m2023-04-24 00:08:06.304\u001b[0m | \u001b[1mINFO    \u001b[0m | \u001b[36m__main__\u001b[0m:\u001b[36m<module>\u001b[0m:\u001b[36m49\u001b[0m - \u001b[1mdisconnected from body for gradient calc: ('127.0.0.1', 54804)\u001b[0m\n"
     ]
    },
    {
     "name": "stdout",
     "output_type": "stream",
     "text": [
      "index value is  10\n",
      "Block 1 out -> [4, 8, 112, 112]\n",
      "Block 2 out -> [4, 16, 56, 56]\n",
      "Block 3 out -> [4, 32, 28, 28]\n",
      "Block 4 out -> [4, 64, 14, 14]\n"
     ]
    },
    {
     "name": "stderr",
     "output_type": "stream",
     "text": [
      "\u001b[32m2023-04-24 00:08:49.748\u001b[0m | \u001b[1mINFO    \u001b[0m | \u001b[36m__main__\u001b[0m:\u001b[36m<module>\u001b[0m:\u001b[36m30\u001b[0m - \u001b[1mconnected: ('127.0.0.1', 54841)\u001b[0m\n",
      "\u001b[32m2023-04-24 00:08:58.345\u001b[0m | \u001b[1mINFO    \u001b[0m | \u001b[36m__main__\u001b[0m:\u001b[36m<module>\u001b[0m:\u001b[36m49\u001b[0m - \u001b[1mdisconnected from body for gradient calc: ('127.0.0.1', 54841)\u001b[0m\n"
     ]
    },
    {
     "name": "stdout",
     "output_type": "stream",
     "text": [
      "index value is  11\n",
      "Block 1 out -> [4, 8, 112, 112]\n",
      "Block 2 out -> [4, 16, 56, 56]\n",
      "Block 3 out -> [4, 32, 28, 28]\n",
      "Block 4 out -> [4, 64, 14, 14]\n"
     ]
    },
    {
     "name": "stderr",
     "output_type": "stream",
     "text": [
      "\u001b[32m2023-04-24 00:09:24.961\u001b[0m | \u001b[1mINFO    \u001b[0m | \u001b[36m__main__\u001b[0m:\u001b[36m<module>\u001b[0m:\u001b[36m30\u001b[0m - \u001b[1mconnected: ('127.0.0.1', 54870)\u001b[0m\n",
      "\u001b[32m2023-04-24 00:09:30.544\u001b[0m | \u001b[1mINFO    \u001b[0m | \u001b[36m__main__\u001b[0m:\u001b[36m<module>\u001b[0m:\u001b[36m49\u001b[0m - \u001b[1mdisconnected from body for gradient calc: ('127.0.0.1', 54870)\u001b[0m\n"
     ]
    },
    {
     "name": "stdout",
     "output_type": "stream",
     "text": [
      "index value is  0\n",
      "Block 1 out -> [4, 8, 112, 112]\n",
      "Block 2 out -> [4, 16, 56, 56]\n",
      "Block 3 out -> [4, 32, 28, 28]\n",
      "Block 4 out -> [4, 64, 14, 14]\n"
     ]
    },
    {
     "name": "stderr",
     "output_type": "stream",
     "text": [
      "\u001b[32m2023-04-24 00:09:53.618\u001b[0m | \u001b[1mINFO    \u001b[0m | \u001b[36m__main__\u001b[0m:\u001b[36m<module>\u001b[0m:\u001b[36m30\u001b[0m - \u001b[1mconnected: ('127.0.0.1', 54887)\u001b[0m\n",
      "\u001b[32m2023-04-24 00:09:58.488\u001b[0m | \u001b[1mINFO    \u001b[0m | \u001b[36m__main__\u001b[0m:\u001b[36m<module>\u001b[0m:\u001b[36m49\u001b[0m - \u001b[1mdisconnected from body for gradient calc: ('127.0.0.1', 54887)\u001b[0m\n"
     ]
    },
    {
     "name": "stdout",
     "output_type": "stream",
     "text": [
      "index value is  1\n",
      "Block 1 out -> [4, 8, 112, 112]\n",
      "Block 2 out -> [4, 16, 56, 56]\n",
      "Block 3 out -> [4, 32, 28, 28]\n",
      "Block 4 out -> [4, 64, 14, 14]\n"
     ]
    },
    {
     "name": "stderr",
     "output_type": "stream",
     "text": [
      "\u001b[32m2023-04-24 00:10:24.786\u001b[0m | \u001b[1mINFO    \u001b[0m | \u001b[36m__main__\u001b[0m:\u001b[36m<module>\u001b[0m:\u001b[36m30\u001b[0m - \u001b[1mconnected: ('127.0.0.1', 54963)\u001b[0m\n",
      "\u001b[32m2023-04-24 00:10:30.253\u001b[0m | \u001b[1mINFO    \u001b[0m | \u001b[36m__main__\u001b[0m:\u001b[36m<module>\u001b[0m:\u001b[36m49\u001b[0m - \u001b[1mdisconnected from body for gradient calc: ('127.0.0.1', 54963)\u001b[0m\n"
     ]
    },
    {
     "name": "stdout",
     "output_type": "stream",
     "text": [
      "index value is  2\n",
      "Block 1 out -> [4, 8, 112, 112]\n",
      "Block 2 out -> [4, 16, 56, 56]\n",
      "Block 3 out -> [4, 32, 28, 28]\n",
      "Block 4 out -> [4, 64, 14, 14]\n"
     ]
    },
    {
     "name": "stderr",
     "output_type": "stream",
     "text": [
      "\u001b[32m2023-04-24 00:11:02.067\u001b[0m | \u001b[1mINFO    \u001b[0m | \u001b[36m__main__\u001b[0m:\u001b[36m<module>\u001b[0m:\u001b[36m30\u001b[0m - \u001b[1mconnected: ('127.0.0.1', 55008)\u001b[0m\n",
      "\u001b[32m2023-04-24 00:11:08.475\u001b[0m | \u001b[1mINFO    \u001b[0m | \u001b[36m__main__\u001b[0m:\u001b[36m<module>\u001b[0m:\u001b[36m49\u001b[0m - \u001b[1mdisconnected from body for gradient calc: ('127.0.0.1', 55008)\u001b[0m\n"
     ]
    },
    {
     "name": "stdout",
     "output_type": "stream",
     "text": [
      "index value is  3\n",
      "Block 1 out -> [4, 8, 112, 112]\n",
      "Block 2 out -> [4, 16, 56, 56]\n",
      "Block 3 out -> [4, 32, 28, 28]\n",
      "Block 4 out -> [4, 64, 14, 14]\n"
     ]
    },
    {
     "name": "stderr",
     "output_type": "stream",
     "text": [
      "\u001b[32m2023-04-24 00:11:35.749\u001b[0m | \u001b[1mINFO    \u001b[0m | \u001b[36m__main__\u001b[0m:\u001b[36m<module>\u001b[0m:\u001b[36m30\u001b[0m - \u001b[1mconnected: ('127.0.0.1', 55028)\u001b[0m\n",
      "\u001b[32m2023-04-24 00:11:40.021\u001b[0m | \u001b[1mINFO    \u001b[0m | \u001b[36m__main__\u001b[0m:\u001b[36m<module>\u001b[0m:\u001b[36m49\u001b[0m - \u001b[1mdisconnected from body for gradient calc: ('127.0.0.1', 55028)\u001b[0m\n"
     ]
    },
    {
     "name": "stdout",
     "output_type": "stream",
     "text": [
      "index value is  4\n",
      "Block 1 out -> [4, 8, 112, 112]\n",
      "Block 2 out -> [4, 16, 56, 56]\n",
      "Block 3 out -> [4, 32, 28, 28]\n",
      "Block 4 out -> [4, 64, 14, 14]\n"
     ]
    },
    {
     "name": "stderr",
     "output_type": "stream",
     "text": [
      "\u001b[32m2023-04-24 00:11:59.800\u001b[0m | \u001b[1mINFO    \u001b[0m | \u001b[36m__main__\u001b[0m:\u001b[36m<module>\u001b[0m:\u001b[36m30\u001b[0m - \u001b[1mconnected: ('127.0.0.1', 55042)\u001b[0m\n",
      "\u001b[32m2023-04-24 00:12:03.627\u001b[0m | \u001b[1mINFO    \u001b[0m | \u001b[36m__main__\u001b[0m:\u001b[36m<module>\u001b[0m:\u001b[36m49\u001b[0m - \u001b[1mdisconnected from body for gradient calc: ('127.0.0.1', 55042)\u001b[0m\n"
     ]
    },
    {
     "name": "stdout",
     "output_type": "stream",
     "text": [
      "index value is  5\n",
      "Block 1 out -> [4, 8, 112, 112]\n",
      "Block 2 out -> [4, 16, 56, 56]\n",
      "Block 3 out -> [4, 32, 28, 28]\n",
      "Block 4 out -> [4, 64, 14, 14]\n"
     ]
    },
    {
     "name": "stderr",
     "output_type": "stream",
     "text": [
      "\u001b[32m2023-04-24 00:12:23.028\u001b[0m | \u001b[1mINFO    \u001b[0m | \u001b[36m__main__\u001b[0m:\u001b[36m<module>\u001b[0m:\u001b[36m30\u001b[0m - \u001b[1mconnected: ('127.0.0.1', 55057)\u001b[0m\n",
      "\u001b[32m2023-04-24 00:12:26.917\u001b[0m | \u001b[1mINFO    \u001b[0m | \u001b[36m__main__\u001b[0m:\u001b[36m<module>\u001b[0m:\u001b[36m49\u001b[0m - \u001b[1mdisconnected from body for gradient calc: ('127.0.0.1', 55057)\u001b[0m\n"
     ]
    },
    {
     "name": "stdout",
     "output_type": "stream",
     "text": [
      "index value is  6\n",
      "Block 1 out -> [4, 8, 112, 112]\n",
      "Block 2 out -> [4, 16, 56, 56]\n",
      "Block 3 out -> [4, 32, 28, 28]\n",
      "Block 4 out -> [4, 64, 14, 14]\n"
     ]
    },
    {
     "name": "stderr",
     "output_type": "stream",
     "text": [
      "\u001b[32m2023-04-24 00:12:46.667\u001b[0m | \u001b[1mINFO    \u001b[0m | \u001b[36m__main__\u001b[0m:\u001b[36m<module>\u001b[0m:\u001b[36m30\u001b[0m - \u001b[1mconnected: ('127.0.0.1', 55078)\u001b[0m\n",
      "\u001b[32m2023-04-24 00:12:50.422\u001b[0m | \u001b[1mINFO    \u001b[0m | \u001b[36m__main__\u001b[0m:\u001b[36m<module>\u001b[0m:\u001b[36m49\u001b[0m - \u001b[1mdisconnected from body for gradient calc: ('127.0.0.1', 55078)\u001b[0m\n"
     ]
    },
    {
     "name": "stdout",
     "output_type": "stream",
     "text": [
      "index value is  7\n",
      "Block 1 out -> [4, 8, 112, 112]\n",
      "Block 2 out -> [4, 16, 56, 56]\n",
      "Block 3 out -> [4, 32, 28, 28]\n",
      "Block 4 out -> [4, 64, 14, 14]\n"
     ]
    },
    {
     "name": "stderr",
     "output_type": "stream",
     "text": [
      "\u001b[32m2023-04-24 00:13:10.437\u001b[0m | \u001b[1mINFO    \u001b[0m | \u001b[36m__main__\u001b[0m:\u001b[36m<module>\u001b[0m:\u001b[36m30\u001b[0m - \u001b[1mconnected: ('127.0.0.1', 55092)\u001b[0m\n",
      "\u001b[32m2023-04-24 00:13:14.583\u001b[0m | \u001b[1mINFO    \u001b[0m | \u001b[36m__main__\u001b[0m:\u001b[36m<module>\u001b[0m:\u001b[36m49\u001b[0m - \u001b[1mdisconnected from body for gradient calc: ('127.0.0.1', 55092)\u001b[0m\n"
     ]
    },
    {
     "name": "stdout",
     "output_type": "stream",
     "text": [
      "index value is  8\n",
      "Block 1 out -> [4, 8, 112, 112]\n",
      "Block 2 out -> [4, 16, 56, 56]\n",
      "Block 3 out -> [4, 32, 28, 28]\n",
      "Block 4 out -> [4, 64, 14, 14]\n"
     ]
    },
    {
     "name": "stderr",
     "output_type": "stream",
     "text": [
      "\u001b[32m2023-04-24 00:13:35.549\u001b[0m | \u001b[1mINFO    \u001b[0m | \u001b[36m__main__\u001b[0m:\u001b[36m<module>\u001b[0m:\u001b[36m30\u001b[0m - \u001b[1mconnected: ('127.0.0.1', 55114)\u001b[0m\n",
      "\u001b[32m2023-04-24 00:13:39.996\u001b[0m | \u001b[1mINFO    \u001b[0m | \u001b[36m__main__\u001b[0m:\u001b[36m<module>\u001b[0m:\u001b[36m49\u001b[0m - \u001b[1mdisconnected from body for gradient calc: ('127.0.0.1', 55114)\u001b[0m\n"
     ]
    },
    {
     "name": "stdout",
     "output_type": "stream",
     "text": [
      "index value is  9\n",
      "Block 1 out -> [4, 8, 112, 112]\n",
      "Block 2 out -> [4, 16, 56, 56]\n",
      "Block 3 out -> [4, 32, 28, 28]\n",
      "Block 4 out -> [4, 64, 14, 14]\n"
     ]
    },
    {
     "name": "stderr",
     "output_type": "stream",
     "text": [
      "\u001b[32m2023-04-24 00:14:02.031\u001b[0m | \u001b[1mINFO    \u001b[0m | \u001b[36m__main__\u001b[0m:\u001b[36m<module>\u001b[0m:\u001b[36m30\u001b[0m - \u001b[1mconnected: ('127.0.0.1', 55142)\u001b[0m\n",
      "\u001b[32m2023-04-24 00:14:06.182\u001b[0m | \u001b[1mINFO    \u001b[0m | \u001b[36m__main__\u001b[0m:\u001b[36m<module>\u001b[0m:\u001b[36m49\u001b[0m - \u001b[1mdisconnected from body for gradient calc: ('127.0.0.1', 55142)\u001b[0m\n"
     ]
    },
    {
     "name": "stdout",
     "output_type": "stream",
     "text": [
      "index value is  10\n",
      "Block 1 out -> [4, 8, 112, 112]\n",
      "Block 2 out -> [4, 16, 56, 56]\n",
      "Block 3 out -> [4, 32, 28, 28]\n",
      "Block 4 out -> [4, 64, 14, 14]\n"
     ]
    },
    {
     "name": "stderr",
     "output_type": "stream",
     "text": [
      "\u001b[32m2023-04-24 00:14:25.758\u001b[0m | \u001b[1mINFO    \u001b[0m | \u001b[36m__main__\u001b[0m:\u001b[36m<module>\u001b[0m:\u001b[36m30\u001b[0m - \u001b[1mconnected: ('127.0.0.1', 55160)\u001b[0m\n",
      "\u001b[32m2023-04-24 00:14:29.536\u001b[0m | \u001b[1mINFO    \u001b[0m | \u001b[36m__main__\u001b[0m:\u001b[36m<module>\u001b[0m:\u001b[36m49\u001b[0m - \u001b[1mdisconnected from body for gradient calc: ('127.0.0.1', 55160)\u001b[0m\n"
     ]
    },
    {
     "name": "stdout",
     "output_type": "stream",
     "text": [
      "index value is  11\n",
      "Block 1 out -> [4, 8, 112, 112]\n",
      "Block 2 out -> [4, 16, 56, 56]\n",
      "Block 3 out -> [4, 32, 28, 28]\n",
      "Block 4 out -> [4, 64, 14, 14]\n"
     ]
    },
    {
     "name": "stderr",
     "output_type": "stream",
     "text": [
      "\u001b[32m2023-04-24 00:14:50.178\u001b[0m | \u001b[1mINFO    \u001b[0m | \u001b[36m__main__\u001b[0m:\u001b[36m<module>\u001b[0m:\u001b[36m30\u001b[0m - \u001b[1mconnected: ('127.0.0.1', 55182)\u001b[0m\n",
      "\u001b[32m2023-04-24 00:14:54.334\u001b[0m | \u001b[1mINFO    \u001b[0m | \u001b[36m__main__\u001b[0m:\u001b[36m<module>\u001b[0m:\u001b[36m49\u001b[0m - \u001b[1mdisconnected from body for gradient calc: ('127.0.0.1', 55182)\u001b[0m\n"
     ]
    },
    {
     "name": "stdout",
     "output_type": "stream",
     "text": [
      "index value is  0\n",
      "Block 1 out -> [4, 8, 112, 112]\n",
      "Block 2 out -> [4, 16, 56, 56]\n",
      "Block 3 out -> [4, 32, 28, 28]\n",
      "Block 4 out -> [4, 64, 14, 14]\n"
     ]
    },
    {
     "name": "stderr",
     "output_type": "stream",
     "text": [
      "\u001b[32m2023-04-24 00:15:18.386\u001b[0m | \u001b[1mINFO    \u001b[0m | \u001b[36m__main__\u001b[0m:\u001b[36m<module>\u001b[0m:\u001b[36m30\u001b[0m - \u001b[1mconnected: ('127.0.0.1', 55264)\u001b[0m\n",
      "\u001b[32m2023-04-24 00:15:23.388\u001b[0m | \u001b[1mINFO    \u001b[0m | \u001b[36m__main__\u001b[0m:\u001b[36m<module>\u001b[0m:\u001b[36m49\u001b[0m - \u001b[1mdisconnected from body for gradient calc: ('127.0.0.1', 55264)\u001b[0m\n"
     ]
    },
    {
     "name": "stdout",
     "output_type": "stream",
     "text": [
      "index value is  1\n",
      "Block 1 out -> [4, 8, 112, 112]\n",
      "Block 2 out -> [4, 16, 56, 56]\n",
      "Block 3 out -> [4, 32, 28, 28]\n",
      "Block 4 out -> [4, 64, 14, 14]\n"
     ]
    },
    {
     "name": "stderr",
     "output_type": "stream",
     "text": [
      "\u001b[32m2023-04-24 00:15:46.323\u001b[0m | \u001b[1mINFO    \u001b[0m | \u001b[36m__main__\u001b[0m:\u001b[36m<module>\u001b[0m:\u001b[36m30\u001b[0m - \u001b[1mconnected: ('127.0.0.1', 55296)\u001b[0m\n",
      "\u001b[32m2023-04-24 00:15:50.525\u001b[0m | \u001b[1mINFO    \u001b[0m | \u001b[36m__main__\u001b[0m:\u001b[36m<module>\u001b[0m:\u001b[36m49\u001b[0m - \u001b[1mdisconnected from body for gradient calc: ('127.0.0.1', 55296)\u001b[0m\n"
     ]
    },
    {
     "name": "stdout",
     "output_type": "stream",
     "text": [
      "index value is  2\n",
      "Block 1 out -> [4, 8, 112, 112]\n",
      "Block 2 out -> [4, 16, 56, 56]\n",
      "Block 3 out -> [4, 32, 28, 28]\n",
      "Block 4 out -> [4, 64, 14, 14]\n"
     ]
    },
    {
     "name": "stderr",
     "output_type": "stream",
     "text": [
      "\u001b[32m2023-04-24 00:16:10.901\u001b[0m | \u001b[1mINFO    \u001b[0m | \u001b[36m__main__\u001b[0m:\u001b[36m<module>\u001b[0m:\u001b[36m30\u001b[0m - \u001b[1mconnected: ('127.0.0.1', 55308)\u001b[0m\n",
      "\u001b[32m2023-04-24 00:16:14.761\u001b[0m | \u001b[1mINFO    \u001b[0m | \u001b[36m__main__\u001b[0m:\u001b[36m<module>\u001b[0m:\u001b[36m49\u001b[0m - \u001b[1mdisconnected from body for gradient calc: ('127.0.0.1', 55308)\u001b[0m\n"
     ]
    },
    {
     "name": "stdout",
     "output_type": "stream",
     "text": [
      "index value is  3\n",
      "Block 1 out -> [4, 8, 112, 112]\n",
      "Block 2 out -> [4, 16, 56, 56]\n",
      "Block 3 out -> [4, 32, 28, 28]\n",
      "Block 4 out -> [4, 64, 14, 14]\n"
     ]
    },
    {
     "name": "stderr",
     "output_type": "stream",
     "text": [
      "\u001b[32m2023-04-24 00:16:33.535\u001b[0m | \u001b[1mINFO    \u001b[0m | \u001b[36m__main__\u001b[0m:\u001b[36m<module>\u001b[0m:\u001b[36m30\u001b[0m - \u001b[1mconnected: ('127.0.0.1', 55332)\u001b[0m\n",
      "\u001b[32m2023-04-24 00:16:37.113\u001b[0m | \u001b[1mINFO    \u001b[0m | \u001b[36m__main__\u001b[0m:\u001b[36m<module>\u001b[0m:\u001b[36m49\u001b[0m - \u001b[1mdisconnected from body for gradient calc: ('127.0.0.1', 55332)\u001b[0m\n"
     ]
    },
    {
     "name": "stdout",
     "output_type": "stream",
     "text": [
      "index value is  4\n",
      "Block 1 out -> [4, 8, 112, 112]\n",
      "Block 2 out -> [4, 16, 56, 56]\n",
      "Block 3 out -> [4, 32, 28, 28]\n",
      "Block 4 out -> [4, 64, 14, 14]\n"
     ]
    },
    {
     "name": "stderr",
     "output_type": "stream",
     "text": [
      "\u001b[32m2023-04-24 00:16:57.190\u001b[0m | \u001b[1mINFO    \u001b[0m | \u001b[36m__main__\u001b[0m:\u001b[36m<module>\u001b[0m:\u001b[36m30\u001b[0m - \u001b[1mconnected: ('127.0.0.1', 55346)\u001b[0m\n",
      "\u001b[32m2023-04-24 00:17:00.825\u001b[0m | \u001b[1mINFO    \u001b[0m | \u001b[36m__main__\u001b[0m:\u001b[36m<module>\u001b[0m:\u001b[36m49\u001b[0m - \u001b[1mdisconnected from body for gradient calc: ('127.0.0.1', 55346)\u001b[0m\n"
     ]
    },
    {
     "name": "stdout",
     "output_type": "stream",
     "text": [
      "index value is  5\n",
      "Block 1 out -> [4, 8, 112, 112]\n",
      "Block 2 out -> [4, 16, 56, 56]\n",
      "Block 3 out -> [4, 32, 28, 28]\n",
      "Block 4 out -> [4, 64, 14, 14]\n"
     ]
    },
    {
     "name": "stderr",
     "output_type": "stream",
     "text": [
      "\u001b[32m2023-04-24 00:17:20.267\u001b[0m | \u001b[1mINFO    \u001b[0m | \u001b[36m__main__\u001b[0m:\u001b[36m<module>\u001b[0m:\u001b[36m30\u001b[0m - \u001b[1mconnected: ('127.0.0.1', 55372)\u001b[0m\n",
      "\u001b[32m2023-04-24 00:17:23.909\u001b[0m | \u001b[1mINFO    \u001b[0m | \u001b[36m__main__\u001b[0m:\u001b[36m<module>\u001b[0m:\u001b[36m49\u001b[0m - \u001b[1mdisconnected from body for gradient calc: ('127.0.0.1', 55372)\u001b[0m\n"
     ]
    },
    {
     "name": "stdout",
     "output_type": "stream",
     "text": [
      "index value is  6\n",
      "Block 1 out -> [4, 8, 112, 112]\n",
      "Block 2 out -> [4, 16, 56, 56]\n",
      "Block 3 out -> [4, 32, 28, 28]\n",
      "Block 4 out -> [4, 64, 14, 14]\n"
     ]
    },
    {
     "name": "stderr",
     "output_type": "stream",
     "text": [
      "\u001b[32m2023-04-24 00:17:47.016\u001b[0m | \u001b[1mINFO    \u001b[0m | \u001b[36m__main__\u001b[0m:\u001b[36m<module>\u001b[0m:\u001b[36m30\u001b[0m - \u001b[1mconnected: ('127.0.0.1', 55390)\u001b[0m\n",
      "\u001b[32m2023-04-24 00:17:51.421\u001b[0m | \u001b[1mINFO    \u001b[0m | \u001b[36m__main__\u001b[0m:\u001b[36m<module>\u001b[0m:\u001b[36m49\u001b[0m - \u001b[1mdisconnected from body for gradient calc: ('127.0.0.1', 55390)\u001b[0m\n"
     ]
    },
    {
     "name": "stdout",
     "output_type": "stream",
     "text": [
      "index value is  7\n",
      "Block 1 out -> [4, 8, 112, 112]\n",
      "Block 2 out -> [4, 16, 56, 56]\n",
      "Block 3 out -> [4, 32, 28, 28]\n",
      "Block 4 out -> [4, 64, 14, 14]\n"
     ]
    },
    {
     "name": "stderr",
     "output_type": "stream",
     "text": [
      "\u001b[32m2023-04-24 00:18:10.373\u001b[0m | \u001b[1mINFO    \u001b[0m | \u001b[36m__main__\u001b[0m:\u001b[36m<module>\u001b[0m:\u001b[36m30\u001b[0m - \u001b[1mconnected: ('127.0.0.1', 55403)\u001b[0m\n",
      "\u001b[32m2023-04-24 00:18:13.974\u001b[0m | \u001b[1mINFO    \u001b[0m | \u001b[36m__main__\u001b[0m:\u001b[36m<module>\u001b[0m:\u001b[36m49\u001b[0m - \u001b[1mdisconnected from body for gradient calc: ('127.0.0.1', 55403)\u001b[0m\n"
     ]
    },
    {
     "name": "stdout",
     "output_type": "stream",
     "text": [
      "index value is  8\n",
      "Block 1 out -> [4, 8, 112, 112]\n",
      "Block 2 out -> [4, 16, 56, 56]\n",
      "Block 3 out -> [4, 32, 28, 28]\n",
      "Block 4 out -> [4, 64, 14, 14]\n"
     ]
    },
    {
     "name": "stderr",
     "output_type": "stream",
     "text": [
      "\u001b[32m2023-04-24 00:18:32.433\u001b[0m | \u001b[1mINFO    \u001b[0m | \u001b[36m__main__\u001b[0m:\u001b[36m<module>\u001b[0m:\u001b[36m30\u001b[0m - \u001b[1mconnected: ('127.0.0.1', 55423)\u001b[0m\n",
      "\u001b[32m2023-04-24 00:18:36.234\u001b[0m | \u001b[1mINFO    \u001b[0m | \u001b[36m__main__\u001b[0m:\u001b[36m<module>\u001b[0m:\u001b[36m49\u001b[0m - \u001b[1mdisconnected from body for gradient calc: ('127.0.0.1', 55423)\u001b[0m\n"
     ]
    },
    {
     "name": "stdout",
     "output_type": "stream",
     "text": [
      "index value is  9\n",
      "Block 1 out -> [4, 8, 112, 112]\n",
      "Block 2 out -> [4, 16, 56, 56]\n",
      "Block 3 out -> [4, 32, 28, 28]\n",
      "Block 4 out -> [4, 64, 14, 14]\n"
     ]
    },
    {
     "name": "stderr",
     "output_type": "stream",
     "text": [
      "\u001b[32m2023-04-24 00:18:59.145\u001b[0m | \u001b[1mINFO    \u001b[0m | \u001b[36m__main__\u001b[0m:\u001b[36m<module>\u001b[0m:\u001b[36m30\u001b[0m - \u001b[1mconnected: ('127.0.0.1', 55449)\u001b[0m\n",
      "\u001b[32m2023-04-24 00:19:05.895\u001b[0m | \u001b[1mINFO    \u001b[0m | \u001b[36m__main__\u001b[0m:\u001b[36m<module>\u001b[0m:\u001b[36m49\u001b[0m - \u001b[1mdisconnected from body for gradient calc: ('127.0.0.1', 55449)\u001b[0m\n"
     ]
    },
    {
     "name": "stdout",
     "output_type": "stream",
     "text": [
      "index value is  10\n",
      "Block 1 out -> [4, 8, 112, 112]\n",
      "Block 2 out -> [4, 16, 56, 56]\n",
      "Block 3 out -> [4, 32, 28, 28]\n",
      "Block 4 out -> [4, 64, 14, 14]\n"
     ]
    },
    {
     "name": "stderr",
     "output_type": "stream",
     "text": [
      "\u001b[32m2023-04-24 00:19:35.334\u001b[0m | \u001b[1mINFO    \u001b[0m | \u001b[36m__main__\u001b[0m:\u001b[36m<module>\u001b[0m:\u001b[36m30\u001b[0m - \u001b[1mconnected: ('127.0.0.1', 55470)\u001b[0m\n",
      "\u001b[32m2023-04-24 00:19:41.356\u001b[0m | \u001b[1mINFO    \u001b[0m | \u001b[36m__main__\u001b[0m:\u001b[36m<module>\u001b[0m:\u001b[36m49\u001b[0m - \u001b[1mdisconnected from body for gradient calc: ('127.0.0.1', 55470)\u001b[0m\n"
     ]
    },
    {
     "name": "stdout",
     "output_type": "stream",
     "text": [
      "index value is  11\n",
      "Block 1 out -> [4, 8, 112, 112]\n",
      "Block 2 out -> [4, 16, 56, 56]\n",
      "Block 3 out -> [4, 32, 28, 28]\n",
      "Block 4 out -> [4, 64, 14, 14]\n"
     ]
    },
    {
     "name": "stderr",
     "output_type": "stream",
     "text": [
      "\u001b[32m2023-04-24 00:20:09.639\u001b[0m | \u001b[1mINFO    \u001b[0m | \u001b[36m__main__\u001b[0m:\u001b[36m<module>\u001b[0m:\u001b[36m30\u001b[0m - \u001b[1mconnected: ('127.0.0.1', 55486)\u001b[0m\n",
      "\u001b[32m2023-04-24 00:20:15.462\u001b[0m | \u001b[1mINFO    \u001b[0m | \u001b[36m__main__\u001b[0m:\u001b[36m<module>\u001b[0m:\u001b[36m49\u001b[0m - \u001b[1mdisconnected from body for gradient calc: ('127.0.0.1', 55486)\u001b[0m\n"
     ]
    },
    {
     "name": "stdout",
     "output_type": "stream",
     "text": [
      "index value is  0\n",
      "Block 1 out -> [4, 8, 112, 112]\n",
      "Block 2 out -> [4, 16, 56, 56]\n",
      "Block 3 out -> [4, 32, 28, 28]\n",
      "Block 4 out -> [4, 64, 14, 14]\n"
     ]
    },
    {
     "name": "stderr",
     "output_type": "stream",
     "text": [
      "\u001b[32m2023-04-24 00:20:53.068\u001b[0m | \u001b[1mINFO    \u001b[0m | \u001b[36m__main__\u001b[0m:\u001b[36m<module>\u001b[0m:\u001b[36m30\u001b[0m - \u001b[1mconnected: ('127.0.0.1', 55558)\u001b[0m\n",
      "\u001b[32m2023-04-24 00:20:59.938\u001b[0m | \u001b[1mINFO    \u001b[0m | \u001b[36m__main__\u001b[0m:\u001b[36m<module>\u001b[0m:\u001b[36m49\u001b[0m - \u001b[1mdisconnected from body for gradient calc: ('127.0.0.1', 55558)\u001b[0m\n"
     ]
    },
    {
     "name": "stdout",
     "output_type": "stream",
     "text": [
      "index value is  1\n",
      "Block 1 out -> [4, 8, 112, 112]\n",
      "Block 2 out -> [4, 16, 56, 56]\n",
      "Block 3 out -> [4, 32, 28, 28]\n",
      "Block 4 out -> [4, 64, 14, 14]\n"
     ]
    },
    {
     "name": "stderr",
     "output_type": "stream",
     "text": [
      "\u001b[32m2023-04-24 00:21:30.093\u001b[0m | \u001b[1mINFO    \u001b[0m | \u001b[36m__main__\u001b[0m:\u001b[36m<module>\u001b[0m:\u001b[36m30\u001b[0m - \u001b[1mconnected: ('127.0.0.1', 55579)\u001b[0m\n",
      "\u001b[32m2023-04-24 00:21:36.316\u001b[0m | \u001b[1mINFO    \u001b[0m | \u001b[36m__main__\u001b[0m:\u001b[36m<module>\u001b[0m:\u001b[36m49\u001b[0m - \u001b[1mdisconnected from body for gradient calc: ('127.0.0.1', 55579)\u001b[0m\n"
     ]
    },
    {
     "name": "stdout",
     "output_type": "stream",
     "text": [
      "index value is  2\n",
      "Block 1 out -> [4, 8, 112, 112]\n",
      "Block 2 out -> [4, 16, 56, 56]\n",
      "Block 3 out -> [4, 32, 28, 28]\n",
      "Block 4 out -> [4, 64, 14, 14]\n"
     ]
    },
    {
     "name": "stderr",
     "output_type": "stream",
     "text": [
      "\u001b[32m2023-04-24 00:22:04.331\u001b[0m | \u001b[1mINFO    \u001b[0m | \u001b[36m__main__\u001b[0m:\u001b[36m<module>\u001b[0m:\u001b[36m30\u001b[0m - \u001b[1mconnected: ('127.0.0.1', 55596)\u001b[0m\n",
      "\u001b[32m2023-04-24 00:22:11.535\u001b[0m | \u001b[1mINFO    \u001b[0m | \u001b[36m__main__\u001b[0m:\u001b[36m<module>\u001b[0m:\u001b[36m49\u001b[0m - \u001b[1mdisconnected from body for gradient calc: ('127.0.0.1', 55596)\u001b[0m\n"
     ]
    },
    {
     "name": "stdout",
     "output_type": "stream",
     "text": [
      "index value is  3\n",
      "Block 1 out -> [4, 8, 112, 112]\n",
      "Block 2 out -> [4, 16, 56, 56]\n",
      "Block 3 out -> [4, 32, 28, 28]\n",
      "Block 4 out -> [4, 64, 14, 14]\n"
     ]
    },
    {
     "name": "stderr",
     "output_type": "stream",
     "text": [
      "\u001b[32m2023-04-24 00:22:47.393\u001b[0m | \u001b[1mINFO    \u001b[0m | \u001b[36m__main__\u001b[0m:\u001b[36m<module>\u001b[0m:\u001b[36m30\u001b[0m - \u001b[1mconnected: ('127.0.0.1', 55627)\u001b[0m\n",
      "\u001b[32m2023-04-24 00:22:54.711\u001b[0m | \u001b[1mINFO    \u001b[0m | \u001b[36m__main__\u001b[0m:\u001b[36m<module>\u001b[0m:\u001b[36m49\u001b[0m - \u001b[1mdisconnected from body for gradient calc: ('127.0.0.1', 55627)\u001b[0m\n"
     ]
    },
    {
     "name": "stdout",
     "output_type": "stream",
     "text": [
      "index value is  4\n",
      "Block 1 out -> [4, 8, 112, 112]\n",
      "Block 2 out -> [4, 16, 56, 56]\n",
      "Block 3 out -> [4, 32, 28, 28]\n",
      "Block 4 out -> [4, 64, 14, 14]\n"
     ]
    },
    {
     "name": "stderr",
     "output_type": "stream",
     "text": [
      "\u001b[32m2023-04-24 00:23:31.610\u001b[0m | \u001b[1mINFO    \u001b[0m | \u001b[36m__main__\u001b[0m:\u001b[36m<module>\u001b[0m:\u001b[36m30\u001b[0m - \u001b[1mconnected: ('127.0.0.1', 55657)\u001b[0m\n",
      "\u001b[32m2023-04-24 00:23:38.335\u001b[0m | \u001b[1mINFO    \u001b[0m | \u001b[36m__main__\u001b[0m:\u001b[36m<module>\u001b[0m:\u001b[36m49\u001b[0m - \u001b[1mdisconnected from body for gradient calc: ('127.0.0.1', 55657)\u001b[0m\n"
     ]
    },
    {
     "name": "stdout",
     "output_type": "stream",
     "text": [
      "index value is  5\n",
      "Block 1 out -> [4, 8, 112, 112]\n",
      "Block 2 out -> [4, 16, 56, 56]\n",
      "Block 3 out -> [4, 32, 28, 28]\n",
      "Block 4 out -> [4, 64, 14, 14]\n"
     ]
    },
    {
     "name": "stderr",
     "output_type": "stream",
     "text": [
      "\u001b[32m2023-04-24 00:24:09.391\u001b[0m | \u001b[1mINFO    \u001b[0m | \u001b[36m__main__\u001b[0m:\u001b[36m<module>\u001b[0m:\u001b[36m30\u001b[0m - \u001b[1mconnected: ('127.0.0.1', 55690)\u001b[0m\n",
      "\u001b[32m2023-04-24 00:24:16.431\u001b[0m | \u001b[1mINFO    \u001b[0m | \u001b[36m__main__\u001b[0m:\u001b[36m<module>\u001b[0m:\u001b[36m49\u001b[0m - \u001b[1mdisconnected from body for gradient calc: ('127.0.0.1', 55690)\u001b[0m\n"
     ]
    },
    {
     "name": "stdout",
     "output_type": "stream",
     "text": [
      "index value is  6\n",
      "Block 1 out -> [4, 8, 112, 112]\n",
      "Block 2 out -> [4, 16, 56, 56]\n",
      "Block 3 out -> [4, 32, 28, 28]\n",
      "Block 4 out -> [4, 64, 14, 14]\n"
     ]
    },
    {
     "name": "stderr",
     "output_type": "stream",
     "text": [
      "\u001b[32m2023-04-24 00:24:56.578\u001b[0m | \u001b[1mINFO    \u001b[0m | \u001b[36m__main__\u001b[0m:\u001b[36m<module>\u001b[0m:\u001b[36m30\u001b[0m - \u001b[1mconnected: ('127.0.0.1', 55715)\u001b[0m\n",
      "\u001b[32m2023-04-24 00:25:03.334\u001b[0m | \u001b[1mINFO    \u001b[0m | \u001b[36m__main__\u001b[0m:\u001b[36m<module>\u001b[0m:\u001b[36m49\u001b[0m - \u001b[1mdisconnected from body for gradient calc: ('127.0.0.1', 55715)\u001b[0m\n"
     ]
    },
    {
     "name": "stdout",
     "output_type": "stream",
     "text": [
      "index value is  7\n",
      "Block 1 out -> [4, 8, 112, 112]\n",
      "Block 2 out -> [4, 16, 56, 56]\n",
      "Block 3 out -> [4, 32, 28, 28]\n",
      "Block 4 out -> [4, 64, 14, 14]\n"
     ]
    },
    {
     "name": "stderr",
     "output_type": "stream",
     "text": [
      "\u001b[32m2023-04-24 00:25:32.510\u001b[0m | \u001b[1mINFO    \u001b[0m | \u001b[36m__main__\u001b[0m:\u001b[36m<module>\u001b[0m:\u001b[36m30\u001b[0m - \u001b[1mconnected: ('127.0.0.1', 55738)\u001b[0m\n",
      "\u001b[32m2023-04-24 00:25:39.049\u001b[0m | \u001b[1mINFO    \u001b[0m | \u001b[36m__main__\u001b[0m:\u001b[36m<module>\u001b[0m:\u001b[36m49\u001b[0m - \u001b[1mdisconnected from body for gradient calc: ('127.0.0.1', 55738)\u001b[0m\n"
     ]
    },
    {
     "name": "stdout",
     "output_type": "stream",
     "text": [
      "index value is  8\n",
      "Block 1 out -> [4, 8, 112, 112]\n",
      "Block 2 out -> [4, 16, 56, 56]\n",
      "Block 3 out -> [4, 32, 28, 28]\n",
      "Block 4 out -> [4, 64, 14, 14]\n"
     ]
    },
    {
     "name": "stderr",
     "output_type": "stream",
     "text": [
      "\u001b[32m2023-04-24 00:26:14.514\u001b[0m | \u001b[1mINFO    \u001b[0m | \u001b[36m__main__\u001b[0m:\u001b[36m<module>\u001b[0m:\u001b[36m30\u001b[0m - \u001b[1mconnected: ('127.0.0.1', 55787)\u001b[0m\n",
      "\u001b[32m2023-04-24 00:26:23.595\u001b[0m | \u001b[1mINFO    \u001b[0m | \u001b[36m__main__\u001b[0m:\u001b[36m<module>\u001b[0m:\u001b[36m49\u001b[0m - \u001b[1mdisconnected from body for gradient calc: ('127.0.0.1', 55787)\u001b[0m\n"
     ]
    },
    {
     "name": "stdout",
     "output_type": "stream",
     "text": [
      "index value is  9\n",
      "Block 1 out -> [4, 8, 112, 112]\n",
      "Block 2 out -> [4, 16, 56, 56]\n",
      "Block 3 out -> [4, 32, 28, 28]\n",
      "Block 4 out -> [4, 64, 14, 14]\n"
     ]
    },
    {
     "name": "stderr",
     "output_type": "stream",
     "text": [
      "\u001b[32m2023-04-24 00:27:05.706\u001b[0m | \u001b[1mINFO    \u001b[0m | \u001b[36m__main__\u001b[0m:\u001b[36m<module>\u001b[0m:\u001b[36m30\u001b[0m - \u001b[1mconnected: ('127.0.0.1', 55843)\u001b[0m\n",
      "\u001b[32m2023-04-24 00:27:13.547\u001b[0m | \u001b[1mINFO    \u001b[0m | \u001b[36m__main__\u001b[0m:\u001b[36m<module>\u001b[0m:\u001b[36m49\u001b[0m - \u001b[1mdisconnected from body for gradient calc: ('127.0.0.1', 55843)\u001b[0m\n"
     ]
    },
    {
     "name": "stdout",
     "output_type": "stream",
     "text": [
      "index value is  10\n",
      "Block 1 out -> [4, 8, 112, 112]\n",
      "Block 2 out -> [4, 16, 56, 56]\n",
      "Block 3 out -> [4, 32, 28, 28]\n",
      "Block 4 out -> [4, 64, 14, 14]\n"
     ]
    },
    {
     "name": "stderr",
     "output_type": "stream",
     "text": [
      "\u001b[32m2023-04-24 00:27:56.773\u001b[0m | \u001b[1mINFO    \u001b[0m | \u001b[36m__main__\u001b[0m:\u001b[36m<module>\u001b[0m:\u001b[36m30\u001b[0m - \u001b[1mconnected: ('127.0.0.1', 55946)\u001b[0m\n",
      "\u001b[32m2023-04-24 00:28:04.477\u001b[0m | \u001b[1mINFO    \u001b[0m | \u001b[36m__main__\u001b[0m:\u001b[36m<module>\u001b[0m:\u001b[36m49\u001b[0m - \u001b[1mdisconnected from body for gradient calc: ('127.0.0.1', 55946)\u001b[0m\n"
     ]
    },
    {
     "name": "stdout",
     "output_type": "stream",
     "text": [
      "index value is  11\n",
      "Block 1 out -> [4, 8, 112, 112]\n",
      "Block 2 out -> [4, 16, 56, 56]\n",
      "Block 3 out -> [4, 32, 28, 28]\n",
      "Block 4 out -> [4, 64, 14, 14]\n"
     ]
    },
    {
     "name": "stderr",
     "output_type": "stream",
     "text": [
      "\u001b[32m2023-04-24 00:28:42.013\u001b[0m | \u001b[1mINFO    \u001b[0m | \u001b[36m__main__\u001b[0m:\u001b[36m<module>\u001b[0m:\u001b[36m30\u001b[0m - \u001b[1mconnected: ('127.0.0.1', 55984)\u001b[0m\n",
      "\u001b[32m2023-04-24 00:28:50.406\u001b[0m | \u001b[1mINFO    \u001b[0m | \u001b[36m__main__\u001b[0m:\u001b[36m<module>\u001b[0m:\u001b[36m49\u001b[0m - \u001b[1mdisconnected from body for gradient calc: ('127.0.0.1', 55984)\u001b[0m\n"
     ]
    },
    {
     "name": "stdout",
     "output_type": "stream",
     "text": [
      "index value is  0\n",
      "Block 1 out -> [4, 8, 112, 112]\n",
      "Block 2 out -> [4, 16, 56, 56]\n",
      "Block 3 out -> [4, 32, 28, 28]\n",
      "Block 4 out -> [4, 64, 14, 14]\n"
     ]
    },
    {
     "name": "stderr",
     "output_type": "stream",
     "text": [
      "\u001b[32m2023-04-24 00:29:30.255\u001b[0m | \u001b[1mINFO    \u001b[0m | \u001b[36m__main__\u001b[0m:\u001b[36m<module>\u001b[0m:\u001b[36m30\u001b[0m - \u001b[1mconnected: ('127.0.0.1', 56018)\u001b[0m\n",
      "\u001b[32m2023-04-24 00:29:38.519\u001b[0m | \u001b[1mINFO    \u001b[0m | \u001b[36m__main__\u001b[0m:\u001b[36m<module>\u001b[0m:\u001b[36m49\u001b[0m - \u001b[1mdisconnected from body for gradient calc: ('127.0.0.1', 56018)\u001b[0m\n"
     ]
    },
    {
     "name": "stdout",
     "output_type": "stream",
     "text": [
      "index value is  1\n",
      "Block 1 out -> [4, 8, 112, 112]\n",
      "Block 2 out -> [4, 16, 56, 56]\n",
      "Block 3 out -> [4, 32, 28, 28]\n",
      "Block 4 out -> [4, 64, 14, 14]\n"
     ]
    },
    {
     "name": "stderr",
     "output_type": "stream",
     "text": [
      "\u001b[32m2023-04-24 00:30:20.125\u001b[0m | \u001b[1mINFO    \u001b[0m | \u001b[36m__main__\u001b[0m:\u001b[36m<module>\u001b[0m:\u001b[36m30\u001b[0m - \u001b[1mconnected: ('127.0.0.1', 56054)\u001b[0m\n",
      "\u001b[32m2023-04-24 00:30:27.680\u001b[0m | \u001b[1mINFO    \u001b[0m | \u001b[36m__main__\u001b[0m:\u001b[36m<module>\u001b[0m:\u001b[36m49\u001b[0m - \u001b[1mdisconnected from body for gradient calc: ('127.0.0.1', 56054)\u001b[0m\n"
     ]
    },
    {
     "name": "stdout",
     "output_type": "stream",
     "text": [
      "index value is  2\n",
      "Block 1 out -> [4, 8, 112, 112]\n",
      "Block 2 out -> [4, 16, 56, 56]\n",
      "Block 3 out -> [4, 32, 28, 28]\n",
      "Block 4 out -> [4, 64, 14, 14]\n"
     ]
    },
    {
     "name": "stderr",
     "output_type": "stream",
     "text": [
      "\u001b[32m2023-04-24 00:31:02.117\u001b[0m | \u001b[1mINFO    \u001b[0m | \u001b[36m__main__\u001b[0m:\u001b[36m<module>\u001b[0m:\u001b[36m30\u001b[0m - \u001b[1mconnected: ('127.0.0.1', 56088)\u001b[0m\n",
      "\u001b[32m2023-04-24 00:31:09.320\u001b[0m | \u001b[1mINFO    \u001b[0m | \u001b[36m__main__\u001b[0m:\u001b[36m<module>\u001b[0m:\u001b[36m49\u001b[0m - \u001b[1mdisconnected from body for gradient calc: ('127.0.0.1', 56088)\u001b[0m\n"
     ]
    },
    {
     "name": "stdout",
     "output_type": "stream",
     "text": [
      "index value is  3\n",
      "Block 1 out -> [4, 8, 112, 112]\n",
      "Block 2 out -> [4, 16, 56, 56]\n",
      "Block 3 out -> [4, 32, 28, 28]\n",
      "Block 4 out -> [4, 64, 14, 14]\n"
     ]
    },
    {
     "name": "stderr",
     "output_type": "stream",
     "text": [
      "\u001b[32m2023-04-24 00:31:49.274\u001b[0m | \u001b[1mINFO    \u001b[0m | \u001b[36m__main__\u001b[0m:\u001b[36m<module>\u001b[0m:\u001b[36m30\u001b[0m - \u001b[1mconnected: ('127.0.0.1', 56128)\u001b[0m\n",
      "\u001b[32m2023-04-24 00:31:57.066\u001b[0m | \u001b[1mINFO    \u001b[0m | \u001b[36m__main__\u001b[0m:\u001b[36m<module>\u001b[0m:\u001b[36m49\u001b[0m - \u001b[1mdisconnected from body for gradient calc: ('127.0.0.1', 56128)\u001b[0m\n"
     ]
    },
    {
     "name": "stdout",
     "output_type": "stream",
     "text": [
      "index value is  4\n",
      "Block 1 out -> [4, 8, 112, 112]\n",
      "Block 2 out -> [4, 16, 56, 56]\n",
      "Block 3 out -> [4, 32, 28, 28]\n",
      "Block 4 out -> [4, 64, 14, 14]\n"
     ]
    },
    {
     "name": "stderr",
     "output_type": "stream",
     "text": [
      "\u001b[32m2023-04-24 00:32:35.864\u001b[0m | \u001b[1mINFO    \u001b[0m | \u001b[36m__main__\u001b[0m:\u001b[36m<module>\u001b[0m:\u001b[36m30\u001b[0m - \u001b[1mconnected: ('127.0.0.1', 56163)\u001b[0m\n",
      "\u001b[32m2023-04-24 00:32:44.390\u001b[0m | \u001b[1mINFO    \u001b[0m | \u001b[36m__main__\u001b[0m:\u001b[36m<module>\u001b[0m:\u001b[36m49\u001b[0m - \u001b[1mdisconnected from body for gradient calc: ('127.0.0.1', 56163)\u001b[0m\n"
     ]
    },
    {
     "name": "stdout",
     "output_type": "stream",
     "text": [
      "index value is  5\n",
      "Block 1 out -> [4, 8, 112, 112]\n",
      "Block 2 out -> [4, 16, 56, 56]\n",
      "Block 3 out -> [4, 32, 28, 28]\n",
      "Block 4 out -> [4, 64, 14, 14]\n"
     ]
    },
    {
     "name": "stderr",
     "output_type": "stream",
     "text": [
      "\u001b[32m2023-04-24 00:33:25.173\u001b[0m | \u001b[1mINFO    \u001b[0m | \u001b[36m__main__\u001b[0m:\u001b[36m<module>\u001b[0m:\u001b[36m30\u001b[0m - \u001b[1mconnected: ('127.0.0.1', 56186)\u001b[0m\n",
      "\u001b[32m2023-04-24 00:33:33.738\u001b[0m | \u001b[1mINFO    \u001b[0m | \u001b[36m__main__\u001b[0m:\u001b[36m<module>\u001b[0m:\u001b[36m49\u001b[0m - \u001b[1mdisconnected from body for gradient calc: ('127.0.0.1', 56186)\u001b[0m\n"
     ]
    },
    {
     "name": "stdout",
     "output_type": "stream",
     "text": [
      "index value is  6\n",
      "Block 1 out -> [4, 8, 112, 112]\n",
      "Block 2 out -> [4, 16, 56, 56]\n",
      "Block 3 out -> [4, 32, 28, 28]\n",
      "Block 4 out -> [4, 64, 14, 14]\n"
     ]
    },
    {
     "name": "stderr",
     "output_type": "stream",
     "text": [
      "\u001b[32m2023-04-24 00:34:11.274\u001b[0m | \u001b[1mINFO    \u001b[0m | \u001b[36m__main__\u001b[0m:\u001b[36m<module>\u001b[0m:\u001b[36m30\u001b[0m - \u001b[1mconnected: ('127.0.0.1', 56216)\u001b[0m\n",
      "\u001b[32m2023-04-24 00:34:19.757\u001b[0m | \u001b[1mINFO    \u001b[0m | \u001b[36m__main__\u001b[0m:\u001b[36m<module>\u001b[0m:\u001b[36m49\u001b[0m - \u001b[1mdisconnected from body for gradient calc: ('127.0.0.1', 56216)\u001b[0m\n"
     ]
    },
    {
     "name": "stdout",
     "output_type": "stream",
     "text": [
      "index value is  7\n",
      "Block 1 out -> [4, 8, 112, 112]\n",
      "Block 2 out -> [4, 16, 56, 56]\n",
      "Block 3 out -> [4, 32, 28, 28]\n",
      "Block 4 out -> [4, 64, 14, 14]\n"
     ]
    },
    {
     "name": "stderr",
     "output_type": "stream",
     "text": [
      "\u001b[32m2023-04-24 00:35:07.062\u001b[0m | \u001b[1mINFO    \u001b[0m | \u001b[36m__main__\u001b[0m:\u001b[36m<module>\u001b[0m:\u001b[36m30\u001b[0m - \u001b[1mconnected: ('127.0.0.1', 56255)\u001b[0m\n",
      "\u001b[32m2023-04-24 00:35:16.205\u001b[0m | \u001b[1mINFO    \u001b[0m | \u001b[36m__main__\u001b[0m:\u001b[36m<module>\u001b[0m:\u001b[36m49\u001b[0m - \u001b[1mdisconnected from body for gradient calc: ('127.0.0.1', 56255)\u001b[0m\n"
     ]
    },
    {
     "name": "stdout",
     "output_type": "stream",
     "text": [
      "index value is  8\n",
      "Block 1 out -> [4, 8, 112, 112]\n",
      "Block 2 out -> [4, 16, 56, 56]\n",
      "Block 3 out -> [4, 32, 28, 28]\n",
      "Block 4 out -> [4, 64, 14, 14]\n"
     ]
    },
    {
     "name": "stderr",
     "output_type": "stream",
     "text": [
      "\u001b[32m2023-04-24 00:35:57.379\u001b[0m | \u001b[1mINFO    \u001b[0m | \u001b[36m__main__\u001b[0m:\u001b[36m<module>\u001b[0m:\u001b[36m30\u001b[0m - \u001b[1mconnected: ('127.0.0.1', 56336)\u001b[0m\n",
      "\u001b[32m2023-04-24 00:36:06.662\u001b[0m | \u001b[1mINFO    \u001b[0m | \u001b[36m__main__\u001b[0m:\u001b[36m<module>\u001b[0m:\u001b[36m49\u001b[0m - \u001b[1mdisconnected from body for gradient calc: ('127.0.0.1', 56336)\u001b[0m\n"
     ]
    },
    {
     "name": "stdout",
     "output_type": "stream",
     "text": [
      "index value is  9\n",
      "Block 1 out -> [4, 8, 112, 112]\n",
      "Block 2 out -> [4, 16, 56, 56]\n",
      "Block 3 out -> [4, 32, 28, 28]\n",
      "Block 4 out -> [4, 64, 14, 14]\n"
     ]
    },
    {
     "name": "stderr",
     "output_type": "stream",
     "text": [
      "\u001b[32m2023-04-24 00:36:44.765\u001b[0m | \u001b[1mINFO    \u001b[0m | \u001b[36m__main__\u001b[0m:\u001b[36m<module>\u001b[0m:\u001b[36m30\u001b[0m - \u001b[1mconnected: ('127.0.0.1', 56373)\u001b[0m\n",
      "\u001b[32m2023-04-24 00:36:53.242\u001b[0m | \u001b[1mINFO    \u001b[0m | \u001b[36m__main__\u001b[0m:\u001b[36m<module>\u001b[0m:\u001b[36m49\u001b[0m - \u001b[1mdisconnected from body for gradient calc: ('127.0.0.1', 56373)\u001b[0m\n"
     ]
    },
    {
     "name": "stdout",
     "output_type": "stream",
     "text": [
      "index value is  10\n",
      "Block 1 out -> [4, 8, 112, 112]\n",
      "Block 2 out -> [4, 16, 56, 56]\n",
      "Block 3 out -> [4, 32, 28, 28]\n",
      "Block 4 out -> [4, 64, 14, 14]\n"
     ]
    },
    {
     "name": "stderr",
     "output_type": "stream",
     "text": [
      "\u001b[32m2023-04-24 00:37:36.102\u001b[0m | \u001b[1mINFO    \u001b[0m | \u001b[36m__main__\u001b[0m:\u001b[36m<module>\u001b[0m:\u001b[36m30\u001b[0m - \u001b[1mconnected: ('127.0.0.1', 56396)\u001b[0m\n",
      "\u001b[32m2023-04-24 00:37:44.551\u001b[0m | \u001b[1mINFO    \u001b[0m | \u001b[36m__main__\u001b[0m:\u001b[36m<module>\u001b[0m:\u001b[36m49\u001b[0m - \u001b[1mdisconnected from body for gradient calc: ('127.0.0.1', 56396)\u001b[0m\n"
     ]
    },
    {
     "name": "stdout",
     "output_type": "stream",
     "text": [
      "index value is  11\n",
      "Block 1 out -> [4, 8, 112, 112]\n",
      "Block 2 out -> [4, 16, 56, 56]\n",
      "Block 3 out -> [4, 32, 28, 28]\n",
      "Block 4 out -> [4, 64, 14, 14]\n"
     ]
    },
    {
     "name": "stderr",
     "output_type": "stream",
     "text": [
      "\u001b[32m2023-04-24 00:38:30.968\u001b[0m | \u001b[1mINFO    \u001b[0m | \u001b[36m__main__\u001b[0m:\u001b[36m<module>\u001b[0m:\u001b[36m30\u001b[0m - \u001b[1mconnected: ('127.0.0.1', 56423)\u001b[0m\n",
      "\u001b[32m2023-04-24 00:38:40.253\u001b[0m | \u001b[1mINFO    \u001b[0m | \u001b[36m__main__\u001b[0m:\u001b[36m<module>\u001b[0m:\u001b[36m49\u001b[0m - \u001b[1mdisconnected from body for gradient calc: ('127.0.0.1', 56423)\u001b[0m\n"
     ]
    },
    {
     "name": "stdout",
     "output_type": "stream",
     "text": [
      "index value is  0\n",
      "Block 1 out -> [4, 8, 112, 112]\n",
      "Block 2 out -> [4, 16, 56, 56]\n",
      "Block 3 out -> [4, 32, 28, 28]\n",
      "Block 4 out -> [4, 64, 14, 14]\n"
     ]
    },
    {
     "name": "stderr",
     "output_type": "stream",
     "text": [
      "\u001b[32m2023-04-24 00:39:18.042\u001b[0m | \u001b[1mINFO    \u001b[0m | \u001b[36m__main__\u001b[0m:\u001b[36m<module>\u001b[0m:\u001b[36m30\u001b[0m - \u001b[1mconnected: ('127.0.0.1', 56465)\u001b[0m\n",
      "\u001b[32m2023-04-24 00:39:26.754\u001b[0m | \u001b[1mINFO    \u001b[0m | \u001b[36m__main__\u001b[0m:\u001b[36m<module>\u001b[0m:\u001b[36m49\u001b[0m - \u001b[1mdisconnected from body for gradient calc: ('127.0.0.1', 56465)\u001b[0m\n"
     ]
    },
    {
     "name": "stdout",
     "output_type": "stream",
     "text": [
      "index value is  1\n",
      "Block 1 out -> [4, 8, 112, 112]\n",
      "Block 2 out -> [4, 16, 56, 56]\n",
      "Block 3 out -> [4, 32, 28, 28]\n",
      "Block 4 out -> [4, 64, 14, 14]\n"
     ]
    },
    {
     "name": "stderr",
     "output_type": "stream",
     "text": [
      "\u001b[32m2023-04-24 00:40:16.751\u001b[0m | \u001b[1mINFO    \u001b[0m | \u001b[36m__main__\u001b[0m:\u001b[36m<module>\u001b[0m:\u001b[36m30\u001b[0m - \u001b[1mconnected: ('127.0.0.1', 56501)\u001b[0m\n",
      "\u001b[32m2023-04-24 00:40:26.221\u001b[0m | \u001b[1mINFO    \u001b[0m | \u001b[36m__main__\u001b[0m:\u001b[36m<module>\u001b[0m:\u001b[36m49\u001b[0m - \u001b[1mdisconnected from body for gradient calc: ('127.0.0.1', 56501)\u001b[0m\n"
     ]
    },
    {
     "name": "stdout",
     "output_type": "stream",
     "text": [
      "index value is  2\n",
      "Block 1 out -> [4, 8, 112, 112]\n",
      "Block 2 out -> [4, 16, 56, 56]\n",
      "Block 3 out -> [4, 32, 28, 28]\n",
      "Block 4 out -> [4, 64, 14, 14]\n"
     ]
    },
    {
     "name": "stderr",
     "output_type": "stream",
     "text": [
      "\u001b[32m2023-04-24 00:41:09.452\u001b[0m | \u001b[1mINFO    \u001b[0m | \u001b[36m__main__\u001b[0m:\u001b[36m<module>\u001b[0m:\u001b[36m30\u001b[0m - \u001b[1mconnected: ('127.0.0.1', 56531)\u001b[0m\n",
      "\u001b[32m2023-04-24 00:41:17.698\u001b[0m | \u001b[1mINFO    \u001b[0m | \u001b[36m__main__\u001b[0m:\u001b[36m<module>\u001b[0m:\u001b[36m49\u001b[0m - \u001b[1mdisconnected from body for gradient calc: ('127.0.0.1', 56531)\u001b[0m\n"
     ]
    },
    {
     "name": "stdout",
     "output_type": "stream",
     "text": [
      "index value is  3\n",
      "Block 1 out -> [4, 8, 112, 112]\n",
      "Block 2 out -> [4, 16, 56, 56]\n",
      "Block 3 out -> [4, 32, 28, 28]\n",
      "Block 4 out -> [4, 64, 14, 14]\n"
     ]
    },
    {
     "name": "stderr",
     "output_type": "stream",
     "text": [
      "\u001b[32m2023-04-24 00:41:57.185\u001b[0m | \u001b[1mINFO    \u001b[0m | \u001b[36m__main__\u001b[0m:\u001b[36m<module>\u001b[0m:\u001b[36m30\u001b[0m - \u001b[1mconnected: ('127.0.0.1', 56564)\u001b[0m\n",
      "\u001b[32m2023-04-24 00:42:05.335\u001b[0m | \u001b[1mINFO    \u001b[0m | \u001b[36m__main__\u001b[0m:\u001b[36m<module>\u001b[0m:\u001b[36m49\u001b[0m - \u001b[1mdisconnected from body for gradient calc: ('127.0.0.1', 56564)\u001b[0m\n"
     ]
    },
    {
     "name": "stdout",
     "output_type": "stream",
     "text": [
      "index value is  4\n",
      "Block 1 out -> [4, 8, 112, 112]\n",
      "Block 2 out -> [4, 16, 56, 56]\n",
      "Block 3 out -> [4, 32, 28, 28]\n",
      "Block 4 out -> [4, 64, 14, 14]\n"
     ]
    },
    {
     "name": "stderr",
     "output_type": "stream",
     "text": [
      "\u001b[32m2023-04-24 00:42:45.594\u001b[0m | \u001b[1mINFO    \u001b[0m | \u001b[36m__main__\u001b[0m:\u001b[36m<module>\u001b[0m:\u001b[36m30\u001b[0m - \u001b[1mconnected: ('127.0.0.1', 56589)\u001b[0m\n",
      "\u001b[32m2023-04-24 00:42:52.847\u001b[0m | \u001b[1mINFO    \u001b[0m | \u001b[36m__main__\u001b[0m:\u001b[36m<module>\u001b[0m:\u001b[36m49\u001b[0m - \u001b[1mdisconnected from body for gradient calc: ('127.0.0.1', 56589)\u001b[0m\n"
     ]
    },
    {
     "name": "stdout",
     "output_type": "stream",
     "text": [
      "index value is  5\n",
      "Block 1 out -> [4, 8, 112, 112]\n",
      "Block 2 out -> [4, 16, 56, 56]\n",
      "Block 3 out -> [4, 32, 28, 28]\n",
      "Block 4 out -> [4, 64, 14, 14]\n"
     ]
    },
    {
     "name": "stderr",
     "output_type": "stream",
     "text": [
      "\u001b[32m2023-04-24 00:43:30.397\u001b[0m | \u001b[1mINFO    \u001b[0m | \u001b[36m__main__\u001b[0m:\u001b[36m<module>\u001b[0m:\u001b[36m30\u001b[0m - \u001b[1mconnected: ('127.0.0.1', 56608)\u001b[0m\n",
      "\u001b[32m2023-04-24 00:43:38.603\u001b[0m | \u001b[1mINFO    \u001b[0m | \u001b[36m__main__\u001b[0m:\u001b[36m<module>\u001b[0m:\u001b[36m49\u001b[0m - \u001b[1mdisconnected from body for gradient calc: ('127.0.0.1', 56608)\u001b[0m\n"
     ]
    },
    {
     "name": "stdout",
     "output_type": "stream",
     "text": [
      "index value is  6\n",
      "Block 1 out -> [4, 8, 112, 112]\n",
      "Block 2 out -> [4, 16, 56, 56]\n",
      "Block 3 out -> [4, 32, 28, 28]\n",
      "Block 4 out -> [4, 64, 14, 14]\n"
     ]
    },
    {
     "name": "stderr",
     "output_type": "stream",
     "text": [
      "\u001b[32m2023-04-24 00:44:12.842\u001b[0m | \u001b[1mINFO    \u001b[0m | \u001b[36m__main__\u001b[0m:\u001b[36m<module>\u001b[0m:\u001b[36m30\u001b[0m - \u001b[1mconnected: ('127.0.0.1', 56655)\u001b[0m\n",
      "\u001b[32m2023-04-24 00:44:21.804\u001b[0m | \u001b[1mINFO    \u001b[0m | \u001b[36m__main__\u001b[0m:\u001b[36m<module>\u001b[0m:\u001b[36m49\u001b[0m - \u001b[1mdisconnected from body for gradient calc: ('127.0.0.1', 56655)\u001b[0m\n"
     ]
    },
    {
     "name": "stdout",
     "output_type": "stream",
     "text": [
      "index value is  7\n",
      "Block 1 out -> [4, 8, 112, 112]\n",
      "Block 2 out -> [4, 16, 56, 56]\n",
      "Block 3 out -> [4, 32, 28, 28]\n",
      "Block 4 out -> [4, 64, 14, 14]\n"
     ]
    },
    {
     "name": "stderr",
     "output_type": "stream",
     "text": [
      "\u001b[32m2023-04-24 00:45:04.385\u001b[0m | \u001b[1mINFO    \u001b[0m | \u001b[36m__main__\u001b[0m:\u001b[36m<module>\u001b[0m:\u001b[36m30\u001b[0m - \u001b[1mconnected: ('127.0.0.1', 56684)\u001b[0m\n",
      "\u001b[32m2023-04-24 00:45:11.964\u001b[0m | \u001b[1mINFO    \u001b[0m | \u001b[36m__main__\u001b[0m:\u001b[36m<module>\u001b[0m:\u001b[36m49\u001b[0m - \u001b[1mdisconnected from body for gradient calc: ('127.0.0.1', 56684)\u001b[0m\n"
     ]
    },
    {
     "name": "stdout",
     "output_type": "stream",
     "text": [
      "index value is  8\n",
      "Block 1 out -> [4, 8, 112, 112]\n",
      "Block 2 out -> [4, 16, 56, 56]\n",
      "Block 3 out -> [4, 32, 28, 28]\n",
      "Block 4 out -> [4, 64, 14, 14]\n"
     ]
    },
    {
     "name": "stderr",
     "output_type": "stream",
     "text": [
      "\u001b[32m2023-04-24 00:45:49.582\u001b[0m | \u001b[1mINFO    \u001b[0m | \u001b[36m__main__\u001b[0m:\u001b[36m<module>\u001b[0m:\u001b[36m30\u001b[0m - \u001b[1mconnected: ('127.0.0.1', 56705)\u001b[0m\n",
      "\u001b[32m2023-04-24 00:45:57.855\u001b[0m | \u001b[1mINFO    \u001b[0m | \u001b[36m__main__\u001b[0m:\u001b[36m<module>\u001b[0m:\u001b[36m49\u001b[0m - \u001b[1mdisconnected from body for gradient calc: ('127.0.0.1', 56705)\u001b[0m\n"
     ]
    },
    {
     "name": "stdout",
     "output_type": "stream",
     "text": [
      "index value is  9\n",
      "Block 1 out -> [4, 8, 112, 112]\n",
      "Block 2 out -> [4, 16, 56, 56]\n",
      "Block 3 out -> [4, 32, 28, 28]\n",
      "Block 4 out -> [4, 64, 14, 14]\n"
     ]
    },
    {
     "name": "stderr",
     "output_type": "stream",
     "text": [
      "\u001b[32m2023-04-24 00:46:36.708\u001b[0m | \u001b[1mINFO    \u001b[0m | \u001b[36m__main__\u001b[0m:\u001b[36m<module>\u001b[0m:\u001b[36m30\u001b[0m - \u001b[1mconnected: ('127.0.0.1', 56734)\u001b[0m\n",
      "\u001b[32m2023-04-24 00:46:45.774\u001b[0m | \u001b[1mINFO    \u001b[0m | \u001b[36m__main__\u001b[0m:\u001b[36m<module>\u001b[0m:\u001b[36m49\u001b[0m - \u001b[1mdisconnected from body for gradient calc: ('127.0.0.1', 56734)\u001b[0m\n"
     ]
    },
    {
     "name": "stdout",
     "output_type": "stream",
     "text": [
      "index value is  10\n",
      "Block 1 out -> [4, 8, 112, 112]\n",
      "Block 2 out -> [4, 16, 56, 56]\n",
      "Block 3 out -> [4, 32, 28, 28]\n",
      "Block 4 out -> [4, 64, 14, 14]\n"
     ]
    },
    {
     "name": "stderr",
     "output_type": "stream",
     "text": [
      "\u001b[32m2023-04-24 00:47:24.818\u001b[0m | \u001b[1mINFO    \u001b[0m | \u001b[36m__main__\u001b[0m:\u001b[36m<module>\u001b[0m:\u001b[36m30\u001b[0m - \u001b[1mconnected: ('127.0.0.1', 56765)\u001b[0m\n",
      "\u001b[32m2023-04-24 00:47:33.752\u001b[0m | \u001b[1mINFO    \u001b[0m | \u001b[36m__main__\u001b[0m:\u001b[36m<module>\u001b[0m:\u001b[36m49\u001b[0m - \u001b[1mdisconnected from body for gradient calc: ('127.0.0.1', 56765)\u001b[0m\n"
     ]
    },
    {
     "name": "stdout",
     "output_type": "stream",
     "text": [
      "index value is  11\n",
      "Block 1 out -> [4, 8, 112, 112]\n",
      "Block 2 out -> [4, 16, 56, 56]\n",
      "Block 3 out -> [4, 32, 28, 28]\n",
      "Block 4 out -> [4, 64, 14, 14]\n"
     ]
    },
    {
     "name": "stderr",
     "output_type": "stream",
     "text": [
      "\u001b[32m2023-04-24 00:48:15.732\u001b[0m | \u001b[1mINFO    \u001b[0m | \u001b[36m__main__\u001b[0m:\u001b[36m<module>\u001b[0m:\u001b[36m30\u001b[0m - \u001b[1mconnected: ('127.0.0.1', 56790)\u001b[0m\n",
      "\u001b[32m2023-04-24 00:48:24.277\u001b[0m | \u001b[1mINFO    \u001b[0m | \u001b[36m__main__\u001b[0m:\u001b[36m<module>\u001b[0m:\u001b[36m49\u001b[0m - \u001b[1mdisconnected from body for gradient calc: ('127.0.0.1', 56790)\u001b[0m\n"
     ]
    },
    {
     "name": "stdout",
     "output_type": "stream",
     "text": [
      "index value is  0\n",
      "Block 1 out -> [4, 8, 112, 112]\n",
      "Block 2 out -> [4, 16, 56, 56]\n",
      "Block 3 out -> [4, 32, 28, 28]\n",
      "Block 4 out -> [4, 64, 14, 14]\n"
     ]
    },
    {
     "name": "stderr",
     "output_type": "stream",
     "text": [
      "\u001b[32m2023-04-24 00:49:01.931\u001b[0m | \u001b[1mINFO    \u001b[0m | \u001b[36m__main__\u001b[0m:\u001b[36m<module>\u001b[0m:\u001b[36m30\u001b[0m - \u001b[1mconnected: ('127.0.0.1', 56836)\u001b[0m\n",
      "\u001b[32m2023-04-24 00:49:07.364\u001b[0m | \u001b[1mINFO    \u001b[0m | \u001b[36m__main__\u001b[0m:\u001b[36m<module>\u001b[0m:\u001b[36m49\u001b[0m - \u001b[1mdisconnected from body for gradient calc: ('127.0.0.1', 56836)\u001b[0m\n"
     ]
    },
    {
     "name": "stdout",
     "output_type": "stream",
     "text": [
      "index value is  1\n",
      "Block 1 out -> [4, 8, 112, 112]\n",
      "Block 2 out -> [4, 16, 56, 56]\n",
      "Block 3 out -> [4, 32, 28, 28]\n",
      "Block 4 out -> [4, 64, 14, 14]\n"
     ]
    },
    {
     "name": "stderr",
     "output_type": "stream",
     "text": [
      "\u001b[32m2023-04-24 00:49:34.832\u001b[0m | \u001b[1mINFO    \u001b[0m | \u001b[36m__main__\u001b[0m:\u001b[36m<module>\u001b[0m:\u001b[36m30\u001b[0m - \u001b[1mconnected: ('127.0.0.1', 56919)\u001b[0m\n",
      "\u001b[32m2023-04-24 00:49:41.188\u001b[0m | \u001b[1mINFO    \u001b[0m | \u001b[36m__main__\u001b[0m:\u001b[36m<module>\u001b[0m:\u001b[36m49\u001b[0m - \u001b[1mdisconnected from body for gradient calc: ('127.0.0.1', 56919)\u001b[0m\n"
     ]
    },
    {
     "name": "stdout",
     "output_type": "stream",
     "text": [
      "index value is  2\n",
      "Block 1 out -> [4, 8, 112, 112]\n",
      "Block 2 out -> [4, 16, 56, 56]\n",
      "Block 3 out -> [4, 32, 28, 28]\n",
      "Block 4 out -> [4, 64, 14, 14]\n"
     ]
    },
    {
     "name": "stderr",
     "output_type": "stream",
     "text": [
      "\u001b[32m2023-04-24 00:50:09.458\u001b[0m | \u001b[1mINFO    \u001b[0m | \u001b[36m__main__\u001b[0m:\u001b[36m<module>\u001b[0m:\u001b[36m30\u001b[0m - \u001b[1mconnected: ('127.0.0.1', 56942)\u001b[0m\n",
      "\u001b[32m2023-04-24 00:50:14.338\u001b[0m | \u001b[1mINFO    \u001b[0m | \u001b[36m__main__\u001b[0m:\u001b[36m<module>\u001b[0m:\u001b[36m49\u001b[0m - \u001b[1mdisconnected from body for gradient calc: ('127.0.0.1', 56942)\u001b[0m\n"
     ]
    },
    {
     "name": "stdout",
     "output_type": "stream",
     "text": [
      "index value is  3\n",
      "Block 1 out -> [4, 8, 112, 112]\n",
      "Block 2 out -> [4, 16, 56, 56]\n",
      "Block 3 out -> [4, 32, 28, 28]\n",
      "Block 4 out -> [4, 64, 14, 14]\n"
     ]
    },
    {
     "name": "stderr",
     "output_type": "stream",
     "text": [
      "\u001b[32m2023-04-24 00:50:42.385\u001b[0m | \u001b[1mINFO    \u001b[0m | \u001b[36m__main__\u001b[0m:\u001b[36m<module>\u001b[0m:\u001b[36m30\u001b[0m - \u001b[1mconnected: ('127.0.0.1', 56973)\u001b[0m\n",
      "\u001b[32m2023-04-24 00:50:47.334\u001b[0m | \u001b[1mINFO    \u001b[0m | \u001b[36m__main__\u001b[0m:\u001b[36m<module>\u001b[0m:\u001b[36m49\u001b[0m - \u001b[1mdisconnected from body for gradient calc: ('127.0.0.1', 56973)\u001b[0m\n"
     ]
    },
    {
     "name": "stdout",
     "output_type": "stream",
     "text": [
      "index value is  4\n",
      "Block 1 out -> [4, 8, 112, 112]\n",
      "Block 2 out -> [4, 16, 56, 56]\n",
      "Block 3 out -> [4, 32, 28, 28]\n",
      "Block 4 out -> [4, 64, 14, 14]\n"
     ]
    },
    {
     "name": "stderr",
     "output_type": "stream",
     "text": [
      "\u001b[32m2023-04-24 00:51:19.715\u001b[0m | \u001b[1mINFO    \u001b[0m | \u001b[36m__main__\u001b[0m:\u001b[36m<module>\u001b[0m:\u001b[36m30\u001b[0m - \u001b[1mconnected: ('127.0.0.1', 56997)\u001b[0m\n",
      "\u001b[32m2023-04-24 00:51:26.517\u001b[0m | \u001b[1mINFO    \u001b[0m | \u001b[36m__main__\u001b[0m:\u001b[36m<module>\u001b[0m:\u001b[36m49\u001b[0m - \u001b[1mdisconnected from body for gradient calc: ('127.0.0.1', 56997)\u001b[0m\n"
     ]
    },
    {
     "name": "stdout",
     "output_type": "stream",
     "text": [
      "index value is  5\n",
      "Block 1 out -> [4, 8, 112, 112]\n",
      "Block 2 out -> [4, 16, 56, 56]\n",
      "Block 3 out -> [4, 32, 28, 28]\n",
      "Block 4 out -> [4, 64, 14, 14]\n"
     ]
    },
    {
     "name": "stderr",
     "output_type": "stream",
     "text": [
      "\u001b[32m2023-04-24 00:51:56.335\u001b[0m | \u001b[1mINFO    \u001b[0m | \u001b[36m__main__\u001b[0m:\u001b[36m<module>\u001b[0m:\u001b[36m30\u001b[0m - \u001b[1mconnected: ('127.0.0.1', 57082)\u001b[0m\n",
      "\u001b[32m2023-04-24 00:52:02.383\u001b[0m | \u001b[1mINFO    \u001b[0m | \u001b[36m__main__\u001b[0m:\u001b[36m<module>\u001b[0m:\u001b[36m49\u001b[0m - \u001b[1mdisconnected from body for gradient calc: ('127.0.0.1', 57082)\u001b[0m\n"
     ]
    },
    {
     "name": "stdout",
     "output_type": "stream",
     "text": [
      "index value is  6\n",
      "Block 1 out -> [4, 8, 112, 112]\n",
      "Block 2 out -> [4, 16, 56, 56]\n",
      "Block 3 out -> [4, 32, 28, 28]\n",
      "Block 4 out -> [4, 64, 14, 14]\n"
     ]
    },
    {
     "name": "stderr",
     "output_type": "stream",
     "text": [
      "\u001b[32m2023-04-24 00:52:34.696\u001b[0m | \u001b[1mINFO    \u001b[0m | \u001b[36m__main__\u001b[0m:\u001b[36m<module>\u001b[0m:\u001b[36m30\u001b[0m - \u001b[1mconnected: ('127.0.0.1', 57107)\u001b[0m\n",
      "\u001b[32m2023-04-24 00:52:40.778\u001b[0m | \u001b[1mINFO    \u001b[0m | \u001b[36m__main__\u001b[0m:\u001b[36m<module>\u001b[0m:\u001b[36m49\u001b[0m - \u001b[1mdisconnected from body for gradient calc: ('127.0.0.1', 57107)\u001b[0m\n"
     ]
    },
    {
     "name": "stdout",
     "output_type": "stream",
     "text": [
      "index value is  7\n",
      "Block 1 out -> [4, 8, 112, 112]\n",
      "Block 2 out -> [4, 16, 56, 56]\n",
      "Block 3 out -> [4, 32, 28, 28]\n",
      "Block 4 out -> [4, 64, 14, 14]\n"
     ]
    },
    {
     "name": "stderr",
     "output_type": "stream",
     "text": [
      "\u001b[32m2023-04-24 00:53:11.909\u001b[0m | \u001b[1mINFO    \u001b[0m | \u001b[36m__main__\u001b[0m:\u001b[36m<module>\u001b[0m:\u001b[36m30\u001b[0m - \u001b[1mconnected: ('127.0.0.1', 57133)\u001b[0m\n",
      "\u001b[32m2023-04-24 00:53:18.519\u001b[0m | \u001b[1mINFO    \u001b[0m | \u001b[36m__main__\u001b[0m:\u001b[36m<module>\u001b[0m:\u001b[36m49\u001b[0m - \u001b[1mdisconnected from body for gradient calc: ('127.0.0.1', 57133)\u001b[0m\n"
     ]
    },
    {
     "name": "stdout",
     "output_type": "stream",
     "text": [
      "index value is  8\n",
      "Block 1 out -> [4, 8, 112, 112]\n",
      "Block 2 out -> [4, 16, 56, 56]\n",
      "Block 3 out -> [4, 32, 28, 28]\n",
      "Block 4 out -> [4, 64, 14, 14]\n"
     ]
    },
    {
     "name": "stderr",
     "output_type": "stream",
     "text": [
      "\u001b[32m2023-04-24 00:53:51.855\u001b[0m | \u001b[1mINFO    \u001b[0m | \u001b[36m__main__\u001b[0m:\u001b[36m<module>\u001b[0m:\u001b[36m30\u001b[0m - \u001b[1mconnected: ('127.0.0.1', 57169)\u001b[0m\n",
      "\u001b[32m2023-04-24 00:53:59.681\u001b[0m | \u001b[1mINFO    \u001b[0m | \u001b[36m__main__\u001b[0m:\u001b[36m<module>\u001b[0m:\u001b[36m49\u001b[0m - \u001b[1mdisconnected from body for gradient calc: ('127.0.0.1', 57169)\u001b[0m\n"
     ]
    },
    {
     "name": "stdout",
     "output_type": "stream",
     "text": [
      "index value is  9\n",
      "Block 1 out -> [4, 8, 112, 112]\n",
      "Block 2 out -> [4, 16, 56, 56]\n",
      "Block 3 out -> [4, 32, 28, 28]\n",
      "Block 4 out -> [4, 64, 14, 14]\n"
     ]
    },
    {
     "name": "stderr",
     "output_type": "stream",
     "text": [
      "\u001b[32m2023-04-24 00:54:41.843\u001b[0m | \u001b[1mINFO    \u001b[0m | \u001b[36m__main__\u001b[0m:\u001b[36m<module>\u001b[0m:\u001b[36m30\u001b[0m - \u001b[1mconnected: ('127.0.0.1', 57271)\u001b[0m\n",
      "\u001b[32m2023-04-24 00:54:49.939\u001b[0m | \u001b[1mINFO    \u001b[0m | \u001b[36m__main__\u001b[0m:\u001b[36m<module>\u001b[0m:\u001b[36m49\u001b[0m - \u001b[1mdisconnected from body for gradient calc: ('127.0.0.1', 57271)\u001b[0m\n"
     ]
    },
    {
     "name": "stdout",
     "output_type": "stream",
     "text": [
      "index value is  10\n",
      "Block 1 out -> [4, 8, 112, 112]\n",
      "Block 2 out -> [4, 16, 56, 56]\n",
      "Block 3 out -> [4, 32, 28, 28]\n",
      "Block 4 out -> [4, 64, 14, 14]\n"
     ]
    },
    {
     "name": "stderr",
     "output_type": "stream",
     "text": [
      "\u001b[32m2023-04-24 00:55:21.584\u001b[0m | \u001b[1mINFO    \u001b[0m | \u001b[36m__main__\u001b[0m:\u001b[36m<module>\u001b[0m:\u001b[36m30\u001b[0m - \u001b[1mconnected: ('127.0.0.1', 57313)\u001b[0m\n",
      "\u001b[32m2023-04-24 00:55:28.489\u001b[0m | \u001b[1mINFO    \u001b[0m | \u001b[36m__main__\u001b[0m:\u001b[36m<module>\u001b[0m:\u001b[36m49\u001b[0m - \u001b[1mdisconnected from body for gradient calc: ('127.0.0.1', 57313)\u001b[0m\n"
     ]
    },
    {
     "name": "stdout",
     "output_type": "stream",
     "text": [
      "index value is  11\n",
      "Block 1 out -> [4, 8, 112, 112]\n",
      "Block 2 out -> [4, 16, 56, 56]\n",
      "Block 3 out -> [4, 32, 28, 28]\n",
      "Block 4 out -> [4, 64, 14, 14]\n"
     ]
    },
    {
     "name": "stderr",
     "output_type": "stream",
     "text": [
      "\u001b[32m2023-04-24 00:55:57.909\u001b[0m | \u001b[1mINFO    \u001b[0m | \u001b[36m__main__\u001b[0m:\u001b[36m<module>\u001b[0m:\u001b[36m30\u001b[0m - \u001b[1mconnected: ('127.0.0.1', 57332)\u001b[0m\n",
      "\u001b[32m2023-04-24 00:56:04.797\u001b[0m | \u001b[1mINFO    \u001b[0m | \u001b[36m__main__\u001b[0m:\u001b[36m<module>\u001b[0m:\u001b[36m49\u001b[0m - \u001b[1mdisconnected from body for gradient calc: ('127.0.0.1', 57332)\u001b[0m\n"
     ]
    },
    {
     "name": "stdout",
     "output_type": "stream",
     "text": [
      "index value is  0\n",
      "Block 1 out -> [4, 8, 112, 112]\n",
      "Block 2 out -> [4, 16, 56, 56]\n",
      "Block 3 out -> [4, 32, 28, 28]\n",
      "Block 4 out -> [4, 64, 14, 14]\n"
     ]
    },
    {
     "name": "stderr",
     "output_type": "stream",
     "text": [
      "\u001b[32m2023-04-24 00:56:43.083\u001b[0m | \u001b[1mINFO    \u001b[0m | \u001b[36m__main__\u001b[0m:\u001b[36m<module>\u001b[0m:\u001b[36m30\u001b[0m - \u001b[1mconnected: ('127.0.0.1', 57367)\u001b[0m\n",
      "\u001b[32m2023-04-24 00:56:50.767\u001b[0m | \u001b[1mINFO    \u001b[0m | \u001b[36m__main__\u001b[0m:\u001b[36m<module>\u001b[0m:\u001b[36m49\u001b[0m - \u001b[1mdisconnected from body for gradient calc: ('127.0.0.1', 57367)\u001b[0m\n"
     ]
    },
    {
     "name": "stdout",
     "output_type": "stream",
     "text": [
      "index value is  1\n",
      "Block 1 out -> [4, 8, 112, 112]\n",
      "Block 2 out -> [4, 16, 56, 56]\n",
      "Block 3 out -> [4, 32, 28, 28]\n",
      "Block 4 out -> [4, 64, 14, 14]\n"
     ]
    },
    {
     "name": "stderr",
     "output_type": "stream",
     "text": [
      "\u001b[32m2023-04-24 00:57:27.226\u001b[0m | \u001b[1mINFO    \u001b[0m | \u001b[36m__main__\u001b[0m:\u001b[36m<module>\u001b[0m:\u001b[36m30\u001b[0m - \u001b[1mconnected: ('127.0.0.1', 57420)\u001b[0m\n",
      "\u001b[32m2023-04-24 00:57:35.889\u001b[0m | \u001b[1mINFO    \u001b[0m | \u001b[36m__main__\u001b[0m:\u001b[36m<module>\u001b[0m:\u001b[36m49\u001b[0m - \u001b[1mdisconnected from body for gradient calc: ('127.0.0.1', 57420)\u001b[0m\n"
     ]
    },
    {
     "name": "stdout",
     "output_type": "stream",
     "text": [
      "index value is  2\n",
      "Block 1 out -> [4, 8, 112, 112]\n",
      "Block 2 out -> [4, 16, 56, 56]\n",
      "Block 3 out -> [4, 32, 28, 28]\n",
      "Block 4 out -> [4, 64, 14, 14]\n"
     ]
    },
    {
     "name": "stderr",
     "output_type": "stream",
     "text": [
      "\u001b[32m2023-04-24 00:58:19.128\u001b[0m | \u001b[1mINFO    \u001b[0m | \u001b[36m__main__\u001b[0m:\u001b[36m<module>\u001b[0m:\u001b[36m30\u001b[0m - \u001b[1mconnected: ('127.0.0.1', 57498)\u001b[0m\n",
      "\u001b[32m2023-04-24 00:58:27.048\u001b[0m | \u001b[1mINFO    \u001b[0m | \u001b[36m__main__\u001b[0m:\u001b[36m<module>\u001b[0m:\u001b[36m49\u001b[0m - \u001b[1mdisconnected from body for gradient calc: ('127.0.0.1', 57498)\u001b[0m\n"
     ]
    },
    {
     "name": "stdout",
     "output_type": "stream",
     "text": [
      "index value is  3\n",
      "Block 1 out -> [4, 8, 112, 112]\n",
      "Block 2 out -> [4, 16, 56, 56]\n",
      "Block 3 out -> [4, 32, 28, 28]\n",
      "Block 4 out -> [4, 64, 14, 14]\n"
     ]
    },
    {
     "name": "stderr",
     "output_type": "stream",
     "text": [
      "\u001b[32m2023-04-24 00:59:07.487\u001b[0m | \u001b[1mINFO    \u001b[0m | \u001b[36m__main__\u001b[0m:\u001b[36m<module>\u001b[0m:\u001b[36m30\u001b[0m - \u001b[1mconnected: ('127.0.0.1', 57552)\u001b[0m\n",
      "\u001b[32m2023-04-24 00:59:15.744\u001b[0m | \u001b[1mINFO    \u001b[0m | \u001b[36m__main__\u001b[0m:\u001b[36m<module>\u001b[0m:\u001b[36m49\u001b[0m - \u001b[1mdisconnected from body for gradient calc: ('127.0.0.1', 57552)\u001b[0m\n"
     ]
    },
    {
     "name": "stdout",
     "output_type": "stream",
     "text": [
      "index value is  4\n",
      "Block 1 out -> [4, 8, 112, 112]\n",
      "Block 2 out -> [4, 16, 56, 56]\n",
      "Block 3 out -> [4, 32, 28, 28]\n",
      "Block 4 out -> [4, 64, 14, 14]\n"
     ]
    },
    {
     "name": "stderr",
     "output_type": "stream",
     "text": [
      "\u001b[32m2023-04-24 01:00:02.138\u001b[0m | \u001b[1mINFO    \u001b[0m | \u001b[36m__main__\u001b[0m:\u001b[36m<module>\u001b[0m:\u001b[36m30\u001b[0m - \u001b[1mconnected: ('127.0.0.1', 57714)\u001b[0m\n",
      "\u001b[32m2023-04-24 01:00:11.403\u001b[0m | \u001b[1mINFO    \u001b[0m | \u001b[36m__main__\u001b[0m:\u001b[36m<module>\u001b[0m:\u001b[36m49\u001b[0m - \u001b[1mdisconnected from body for gradient calc: ('127.0.0.1', 57714)\u001b[0m\n"
     ]
    },
    {
     "name": "stdout",
     "output_type": "stream",
     "text": [
      "index value is  5\n",
      "Block 1 out -> [4, 8, 112, 112]\n",
      "Block 2 out -> [4, 16, 56, 56]\n",
      "Block 3 out -> [4, 32, 28, 28]\n",
      "Block 4 out -> [4, 64, 14, 14]\n"
     ]
    }
   ],
   "source": [
    "model_head.train()\n",
    "\n",
    "\n",
    "try:\n",
    "    for epoch in range(max_epoch):\n",
    "        for index, train_dict in enumerate(training_data):\n",
    "            print(\"index value is \", index)\n",
    "            X_train = train_dict[\"image\"]\n",
    "            y_train = train_dict[\"mask\"]\n",
    "            X_train = X_train.to(device)\n",
    "\n",
    "            layer_data = model_head(X_train)\n",
    "\n",
    "            # layer_data_np_list = [value.cpu().detach().numpy() for key, value in layer_data.items()]\n",
    "            \n",
    "            with h5py.File('params_and_grads/head_forward_pass.hdf5', 'w') as head_fwd:\n",
    "                for layer, data in layer_data.items():\n",
    "                    head_fwd.create_dataset(layer,  data=data.cpu().detach().numpy())\n",
    "                send_socket_info(5151, 'params_and_grads/head_forward_pass.hdf5')\n",
    "\n",
    "            with h5py.File('params_and_grads/train_values.hdf5', 'w') as train_label:\n",
    "                train_label.create_dataset(\"head_to_tail\", data=y_train)\n",
    "                send_socket_info(6161, 'params_and_grads/train_values.hdf5')\n",
    "\n",
    "            \n",
    "            try:\n",
    "                recv_body.listen()\n",
    "                conn, addr = recv_body.accept()\n",
    "            \n",
    "                logger.info(f\"connected: {addr}\")\n",
    "                \n",
    "                body_grad_file = conn.recv(1024)\n",
    "                \n",
    "                if len(body_grad_file) == 0:\n",
    "                    logger.error(\"Grad Head File not available\")\n",
    "                    break\n",
    "                \n",
    "                with h5py.File(body_grad_file, 'r') as body_bkp:\n",
    "                    # skip_1_grad = torch.tensor(body_bkp['skip_1_grad'][:])\n",
    "                    # skip_2_grad = torch.tensor(body_bkp['skip_2_grad'][:])\n",
    "                    # skip_3_grad = torch.tensor(body_bkp['skip_3_grad'][:])\n",
    "                    skip_4_grad = torch.tensor(body_bkp['skip_4_grad'][:])\n",
    "\n",
    "                    # layer_data[\"skip1\"].backward(skip_1_grad)\n",
    "                    # layer_data[\"skip2\"].backward(skip_2_grad)\n",
    "                    # layer_data[\"skip3\"].backward(skip_3_grad)\n",
    "                    layer_data[\"skip4\"].backward(skip_4_grad)\n",
    "                    \n",
    "                logger.info(f\"disconnected from body for gradient calc: {addr}\")\n",
    "            except ConnectionResetError:\n",
    "                pass\n",
    "\n",
    "\n",
    "except Exception as ex:\n",
    "    import traceback\n",
    "    print(\"+=\" * 25)\n",
    "    print(\"Error encountered as :\", ex)\n",
    "    print(\"+=\" * 25)\n",
    "    traceback.print_exc()\n",
    "\n",
    "finally:\n",
    "    pass"
   ]
  }
 ],
 "metadata": {
  "kernelspec": {
   "display_name": "mlenv",
   "language": "python",
   "name": "python3"
  },
  "language_info": {
   "codemirror_mode": {
    "name": "ipython",
    "version": 3
   },
   "file_extension": ".py",
   "mimetype": "text/x-python",
   "name": "python",
   "nbconvert_exporter": "python",
   "pygments_lexer": "ipython3",
   "version": "3.9.13"
  },
  "orig_nbformat": 4
 },
 "nbformat": 4,
 "nbformat_minor": 2
}
