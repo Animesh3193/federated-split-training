{
 "cells": [
  {
   "cell_type": "code",
   "execution_count": 1,
   "metadata": {},
   "outputs": [],
   "source": [
    "import os\n",
    "import sys\n",
    "import random\n",
    "import time\n",
    "import select\n",
    "from pathlib import Path\n",
    "\n",
    "import h5py\n",
    "import numpy as np\n",
    "from tqdm import tqdm\n",
    "\n",
    "\n",
    "import torch\n",
    "import torch.nn as nn\n",
    "import torch.nn.functional as F\n",
    "from torch.nn import BCELoss\n",
    "from monai.losses.dice import GeneralizedDiceLoss\n",
    "from torch.utils.data import DataLoader, TensorDataset\n",
    "from torch.utils.data.dataset import Dataset\n",
    "\n",
    "import socket\n",
    "from loguru import logger\n",
    "\n",
    "from model import dict_args, init_weights, FCT_Tail"
   ]
  },
  {
   "cell_type": "code",
   "execution_count": 2,
   "metadata": {},
   "outputs": [],
   "source": [
    "device = torch.device(\"cpu\")"
   ]
  },
  {
   "cell_type": "code",
   "execution_count": 3,
   "metadata": {},
   "outputs": [],
   "source": [
    "loss_fn = BCELoss()\n",
    "\n",
    "dic_loss_fn = GeneralizedDiceLoss(to_onehot_y=True, softmax=True)"
   ]
  },
  {
   "cell_type": "code",
   "execution_count": 4,
   "metadata": {},
   "outputs": [
    {
     "name": "stdout",
     "output_type": "stream",
     "text": [
      "Initialized ....\n"
     ]
    }
   ],
   "source": [
    "# =======================================================================\n",
    "#                                TAIL\n",
    "# =======================================================================\n",
    "\n",
    "model_tail = FCT_Tail()\n",
    "model_tail.apply(init_weights)\n",
    "\n",
    "optimizer_tail = torch.optim.AdamW(model_tail.parameters(), lr=dict_args['lr'],weight_decay=dict_args['decay'])\n",
    "\n",
    "scheduler_tail = torch.optim.lr_scheduler.ReduceLROnPlateau(\n",
    "            optimizer_tail,\n",
    "            mode='min',\n",
    "            factor=dict_args['lr_factor'],\n",
    "            verbose=True,\n",
    "            threshold=1e-6,\n",
    "            patience=10,\n",
    "            min_lr=dict_args['min_lr'])\n",
    "\n",
    "model_tail.to(device)\n",
    "\n",
    "print(\"Initialized ....\")"
   ]
  },
  {
   "cell_type": "code",
   "execution_count": 5,
   "metadata": {},
   "outputs": [],
   "source": [
    "def send_socket_info(port=6161, message_data=None):\n",
    "    import socket\n",
    "    with socket.socket(socket.AF_INET, socket.SOCK_STREAM) as s:\n",
    "        s.connect(('127.0.0.1', port))\n",
    "        if message_data is  None:\n",
    "            raise ValueError(f\"Message that is being sent to port {port} is empty\")\n",
    "        s.send(message_data.encode('UTF-8'))"
   ]
  },
  {
   "cell_type": "code",
   "execution_count": 6,
   "metadata": {},
   "outputs": [],
   "source": [
    "recv_head_y = socket.socket(socket.AF_INET, socket.SOCK_STREAM)\n",
    "recv_head_y.bind(('127.0.0.1', 6161))\n",
    "\n",
    "\n",
    "recv_body_f = socket.socket(socket.AF_INET, socket.SOCK_STREAM)\n",
    "recv_body_f.bind(('127.0.0.1', 7171))"
   ]
  },
  {
   "cell_type": "code",
   "execution_count": 7,
   "metadata": {},
   "outputs": [
    {
     "name": "stderr",
     "output_type": "stream",
     "text": [
      "\u001b[32m2023-04-23 23:51:07.930\u001b[0m | \u001b[1mINFO    \u001b[0m | \u001b[36m__main__\u001b[0m:\u001b[36m<module>\u001b[0m:\u001b[36m24\u001b[0m - \u001b[1m The read socket has total ready sockets of 0\u001b[0m\n",
      "\u001b[32m2023-04-23 23:51:07.932\u001b[0m | \u001b[34m\u001b[1mDEBUG   \u001b[0m | \u001b[36m__main__\u001b[0m:\u001b[36m<module>\u001b[0m:\u001b[36m30\u001b[0m - \u001b[34m\u001b[1mstarting at position 1\u001b[0m\n",
      "\u001b[32m2023-04-23 23:52:05.634\u001b[0m | \u001b[34m\u001b[1mDEBUG   \u001b[0m | \u001b[36m__main__\u001b[0m:\u001b[36m<module>\u001b[0m:\u001b[36m36\u001b[0m - \u001b[34m\u001b[1mSocket Y label is ready\u001b[0m\n",
      "\u001b[32m2023-04-23 23:52:05.638\u001b[0m | \u001b[1mINFO    \u001b[0m | \u001b[36m__main__\u001b[0m:\u001b[36m<module>\u001b[0m:\u001b[36m38\u001b[0m - \u001b[1mconnected tail to get data on label from head 6666: ('127.0.0.1', 53923)\u001b[0m\n",
      "\u001b[32m2023-04-23 23:52:05.647\u001b[0m | \u001b[1mINFO    \u001b[0m | \u001b[36m__main__\u001b[0m:\u001b[36m<module>\u001b[0m:\u001b[36m49\u001b[0m - \u001b[1mFetched the label data from head.\u001b[0m\n",
      "\u001b[32m2023-04-23 23:52:40.691\u001b[0m | \u001b[34m\u001b[1mDEBUG   \u001b[0m | \u001b[36m__main__\u001b[0m:\u001b[36m<module>\u001b[0m:\u001b[36m55\u001b[0m - \u001b[34m\u001b[1mSocket Body data is ready\u001b[0m\n",
      "\u001b[32m2023-04-23 23:52:40.725\u001b[0m | \u001b[1mINFO    \u001b[0m | \u001b[36m__main__\u001b[0m:\u001b[36m<module>\u001b[0m:\u001b[36m57\u001b[0m - \u001b[1mconnected tail to get data on layer data from body 7171: ('127.0.0.1', 53999)\u001b[0m\n",
      "\u001b[32m2023-04-23 23:52:40.753\u001b[0m | \u001b[1mINFO    \u001b[0m | \u001b[36m__main__\u001b[0m:\u001b[36m<module>\u001b[0m:\u001b[36m68\u001b[0m - \u001b[1mFetched the label data from head.\u001b[0m\n"
     ]
    },
    {
     "name": "stdout",
     "output_type": "stream",
     "text": [
      "DS 10 out -> [4, 1, 224, 224]\n"
     ]
    },
    {
     "name": "stderr",
     "output_type": "stream",
     "text": [
      "\u001b[32m2023-04-23 23:52:41.363\u001b[0m | \u001b[1mINFO    \u001b[0m | \u001b[36m__main__\u001b[0m:\u001b[36m<module>\u001b[0m:\u001b[36m92\u001b[0m - \u001b[1msent the backprop data from tail to body 8181 torch.Size([4, 8, 112, 112])\u001b[0m\n",
      "\u001b[32m2023-04-23 23:52:41.364\u001b[0m | \u001b[1mINFO    \u001b[0m | \u001b[36m__main__\u001b[0m:\u001b[36m<module>\u001b[0m:\u001b[36m24\u001b[0m - \u001b[1m The read socket has total ready sockets of 0\u001b[0m\n",
      "\u001b[32m2023-04-23 23:52:41.365\u001b[0m | \u001b[34m\u001b[1mDEBUG   \u001b[0m | \u001b[36m__main__\u001b[0m:\u001b[36m<module>\u001b[0m:\u001b[36m30\u001b[0m - \u001b[34m\u001b[1mstarting at position 1\u001b[0m\n",
      "\u001b[32m2023-04-23 23:53:17.275\u001b[0m | \u001b[34m\u001b[1mDEBUG   \u001b[0m | \u001b[36m__main__\u001b[0m:\u001b[36m<module>\u001b[0m:\u001b[36m36\u001b[0m - \u001b[34m\u001b[1mSocket Y label is ready\u001b[0m\n",
      "\u001b[32m2023-04-23 23:53:17.279\u001b[0m | \u001b[1mINFO    \u001b[0m | \u001b[36m__main__\u001b[0m:\u001b[36m<module>\u001b[0m:\u001b[36m38\u001b[0m - \u001b[1mconnected tail to get data on label from head 6666: ('127.0.0.1', 54034)\u001b[0m\n",
      "\u001b[32m2023-04-23 23:53:17.290\u001b[0m | \u001b[1mINFO    \u001b[0m | \u001b[36m__main__\u001b[0m:\u001b[36m<module>\u001b[0m:\u001b[36m49\u001b[0m - \u001b[1mFetched the label data from head.\u001b[0m\n",
      "\u001b[32m2023-04-23 23:53:27.010\u001b[0m | \u001b[34m\u001b[1mDEBUG   \u001b[0m | \u001b[36m__main__\u001b[0m:\u001b[36m<module>\u001b[0m:\u001b[36m55\u001b[0m - \u001b[34m\u001b[1mSocket Body data is ready\u001b[0m\n",
      "\u001b[32m2023-04-23 23:53:27.013\u001b[0m | \u001b[1mINFO    \u001b[0m | \u001b[36m__main__\u001b[0m:\u001b[36m<module>\u001b[0m:\u001b[36m57\u001b[0m - \u001b[1mconnected tail to get data on layer data from body 7171: ('127.0.0.1', 54044)\u001b[0m\n",
      "\u001b[32m2023-04-23 23:53:27.024\u001b[0m | \u001b[1mINFO    \u001b[0m | \u001b[36m__main__\u001b[0m:\u001b[36m<module>\u001b[0m:\u001b[36m68\u001b[0m - \u001b[1mFetched the label data from head.\u001b[0m\n",
      "\u001b[32m2023-04-23 23:53:27.362\u001b[0m | \u001b[1mINFO    \u001b[0m | \u001b[36m__main__\u001b[0m:\u001b[36m<module>\u001b[0m:\u001b[36m92\u001b[0m - \u001b[1msent the backprop data from tail to body 8181 torch.Size([4, 8, 112, 112])\u001b[0m\n"
     ]
    },
    {
     "name": "stdout",
     "output_type": "stream",
     "text": [
      "DS 10 out -> [4, 1, 224, 224]\n"
     ]
    },
    {
     "name": "stderr",
     "output_type": "stream",
     "text": [
      "\u001b[32m2023-04-23 23:53:27.364\u001b[0m | \u001b[1mINFO    \u001b[0m | \u001b[36m__main__\u001b[0m:\u001b[36m<module>\u001b[0m:\u001b[36m24\u001b[0m - \u001b[1m The read socket has total ready sockets of 0\u001b[0m\n",
      "\u001b[32m2023-04-23 23:53:27.366\u001b[0m | \u001b[34m\u001b[1mDEBUG   \u001b[0m | \u001b[36m__main__\u001b[0m:\u001b[36m<module>\u001b[0m:\u001b[36m30\u001b[0m - \u001b[34m\u001b[1mstarting at position 1\u001b[0m\n",
      "\u001b[32m2023-04-23 23:54:13.576\u001b[0m | \u001b[34m\u001b[1mDEBUG   \u001b[0m | \u001b[36m__main__\u001b[0m:\u001b[36m<module>\u001b[0m:\u001b[36m36\u001b[0m - \u001b[34m\u001b[1mSocket Y label is ready\u001b[0m\n",
      "\u001b[32m2023-04-23 23:54:13.583\u001b[0m | \u001b[1mINFO    \u001b[0m | \u001b[36m__main__\u001b[0m:\u001b[36m<module>\u001b[0m:\u001b[36m38\u001b[0m - \u001b[1mconnected tail to get data on label from head 6666: ('127.0.0.1', 54091)\u001b[0m\n",
      "\u001b[32m2023-04-23 23:54:13.594\u001b[0m | \u001b[1mINFO    \u001b[0m | \u001b[36m__main__\u001b[0m:\u001b[36m<module>\u001b[0m:\u001b[36m49\u001b[0m - \u001b[1mFetched the label data from head.\u001b[0m\n",
      "\u001b[32m2023-04-23 23:54:21.599\u001b[0m | \u001b[34m\u001b[1mDEBUG   \u001b[0m | \u001b[36m__main__\u001b[0m:\u001b[36m<module>\u001b[0m:\u001b[36m55\u001b[0m - \u001b[34m\u001b[1mSocket Body data is ready\u001b[0m\n",
      "\u001b[32m2023-04-23 23:54:21.601\u001b[0m | \u001b[1mINFO    \u001b[0m | \u001b[36m__main__\u001b[0m:\u001b[36m<module>\u001b[0m:\u001b[36m57\u001b[0m - \u001b[1mconnected tail to get data on layer data from body 7171: ('127.0.0.1', 54096)\u001b[0m\n",
      "\u001b[32m2023-04-23 23:54:21.606\u001b[0m | \u001b[1mINFO    \u001b[0m | \u001b[36m__main__\u001b[0m:\u001b[36m<module>\u001b[0m:\u001b[36m68\u001b[0m - \u001b[1mFetched the label data from head.\u001b[0m\n",
      "\u001b[32m2023-04-23 23:54:21.794\u001b[0m | \u001b[1mINFO    \u001b[0m | \u001b[36m__main__\u001b[0m:\u001b[36m<module>\u001b[0m:\u001b[36m92\u001b[0m - \u001b[1msent the backprop data from tail to body 8181 torch.Size([4, 8, 112, 112])\u001b[0m\n",
      "\u001b[32m2023-04-23 23:54:21.797\u001b[0m | \u001b[1mINFO    \u001b[0m | \u001b[36m__main__\u001b[0m:\u001b[36m<module>\u001b[0m:\u001b[36m24\u001b[0m - \u001b[1m The read socket has total ready sockets of 0\u001b[0m\n",
      "\u001b[32m2023-04-23 23:54:21.798\u001b[0m | \u001b[34m\u001b[1mDEBUG   \u001b[0m | \u001b[36m__main__\u001b[0m:\u001b[36m<module>\u001b[0m:\u001b[36m30\u001b[0m - \u001b[34m\u001b[1mstarting at position 1\u001b[0m\n"
     ]
    },
    {
     "name": "stdout",
     "output_type": "stream",
     "text": [
      "DS 10 out -> [4, 1, 224, 224]\n"
     ]
    },
    {
     "name": "stderr",
     "output_type": "stream",
     "text": [
      "\u001b[32m2023-04-23 23:54:58.304\u001b[0m | \u001b[34m\u001b[1mDEBUG   \u001b[0m | \u001b[36m__main__\u001b[0m:\u001b[36m<module>\u001b[0m:\u001b[36m36\u001b[0m - \u001b[34m\u001b[1mSocket Y label is ready\u001b[0m\n",
      "\u001b[32m2023-04-23 23:54:58.312\u001b[0m | \u001b[1mINFO    \u001b[0m | \u001b[36m__main__\u001b[0m:\u001b[36m<module>\u001b[0m:\u001b[36m38\u001b[0m - \u001b[1mconnected tail to get data on label from head 6666: ('127.0.0.1', 54119)\u001b[0m\n",
      "\u001b[32m2023-04-23 23:54:58.323\u001b[0m | \u001b[1mINFO    \u001b[0m | \u001b[36m__main__\u001b[0m:\u001b[36m<module>\u001b[0m:\u001b[36m49\u001b[0m - \u001b[1mFetched the label data from head.\u001b[0m\n",
      "\u001b[32m2023-04-23 23:55:06.571\u001b[0m | \u001b[34m\u001b[1mDEBUG   \u001b[0m | \u001b[36m__main__\u001b[0m:\u001b[36m<module>\u001b[0m:\u001b[36m55\u001b[0m - \u001b[34m\u001b[1mSocket Body data is ready\u001b[0m\n",
      "\u001b[32m2023-04-23 23:55:06.574\u001b[0m | \u001b[1mINFO    \u001b[0m | \u001b[36m__main__\u001b[0m:\u001b[36m<module>\u001b[0m:\u001b[36m57\u001b[0m - \u001b[1mconnected tail to get data on layer data from body 7171: ('127.0.0.1', 54126)\u001b[0m\n",
      "\u001b[32m2023-04-23 23:55:06.583\u001b[0m | \u001b[1mINFO    \u001b[0m | \u001b[36m__main__\u001b[0m:\u001b[36m<module>\u001b[0m:\u001b[36m68\u001b[0m - \u001b[1mFetched the label data from head.\u001b[0m\n",
      "\u001b[32m2023-04-23 23:55:06.762\u001b[0m | \u001b[1mINFO    \u001b[0m | \u001b[36m__main__\u001b[0m:\u001b[36m<module>\u001b[0m:\u001b[36m92\u001b[0m - \u001b[1msent the backprop data from tail to body 8181 torch.Size([4, 8, 112, 112])\u001b[0m\n",
      "\u001b[32m2023-04-23 23:55:06.765\u001b[0m | \u001b[1mINFO    \u001b[0m | \u001b[36m__main__\u001b[0m:\u001b[36m<module>\u001b[0m:\u001b[36m24\u001b[0m - \u001b[1m The read socket has total ready sockets of 0\u001b[0m\n",
      "\u001b[32m2023-04-23 23:55:06.767\u001b[0m | \u001b[34m\u001b[1mDEBUG   \u001b[0m | \u001b[36m__main__\u001b[0m:\u001b[36m<module>\u001b[0m:\u001b[36m30\u001b[0m - \u001b[34m\u001b[1mstarting at position 1\u001b[0m\n"
     ]
    },
    {
     "name": "stdout",
     "output_type": "stream",
     "text": [
      "DS 10 out -> [4, 1, 224, 224]\n"
     ]
    },
    {
     "name": "stderr",
     "output_type": "stream",
     "text": [
      "\u001b[32m2023-04-23 23:55:26.843\u001b[0m | \u001b[34m\u001b[1mDEBUG   \u001b[0m | \u001b[36m__main__\u001b[0m:\u001b[36m<module>\u001b[0m:\u001b[36m36\u001b[0m - \u001b[34m\u001b[1mSocket Y label is ready\u001b[0m\n",
      "\u001b[32m2023-04-23 23:55:26.847\u001b[0m | \u001b[1mINFO    \u001b[0m | \u001b[36m__main__\u001b[0m:\u001b[36m<module>\u001b[0m:\u001b[36m38\u001b[0m - \u001b[1mconnected tail to get data on label from head 6666: ('127.0.0.1', 54137)\u001b[0m\n",
      "\u001b[32m2023-04-23 23:55:26.854\u001b[0m | \u001b[1mINFO    \u001b[0m | \u001b[36m__main__\u001b[0m:\u001b[36m<module>\u001b[0m:\u001b[36m49\u001b[0m - \u001b[1mFetched the label data from head.\u001b[0m\n",
      "\u001b[32m2023-04-23 23:55:34.856\u001b[0m | \u001b[34m\u001b[1mDEBUG   \u001b[0m | \u001b[36m__main__\u001b[0m:\u001b[36m<module>\u001b[0m:\u001b[36m55\u001b[0m - \u001b[34m\u001b[1mSocket Body data is ready\u001b[0m\n",
      "\u001b[32m2023-04-23 23:55:34.861\u001b[0m | \u001b[1mINFO    \u001b[0m | \u001b[36m__main__\u001b[0m:\u001b[36m<module>\u001b[0m:\u001b[36m57\u001b[0m - \u001b[1mconnected tail to get data on layer data from body 7171: ('127.0.0.1', 54145)\u001b[0m\n",
      "\u001b[32m2023-04-23 23:55:34.879\u001b[0m | \u001b[1mINFO    \u001b[0m | \u001b[36m__main__\u001b[0m:\u001b[36m<module>\u001b[0m:\u001b[36m68\u001b[0m - \u001b[1mFetched the label data from head.\u001b[0m\n",
      "\u001b[32m2023-04-23 23:55:35.052\u001b[0m | \u001b[1mINFO    \u001b[0m | \u001b[36m__main__\u001b[0m:\u001b[36m<module>\u001b[0m:\u001b[36m92\u001b[0m - \u001b[1msent the backprop data from tail to body 8181 torch.Size([4, 8, 112, 112])\u001b[0m\n",
      "\u001b[32m2023-04-23 23:55:35.053\u001b[0m | \u001b[1mINFO    \u001b[0m | \u001b[36m__main__\u001b[0m:\u001b[36m<module>\u001b[0m:\u001b[36m24\u001b[0m - \u001b[1m The read socket has total ready sockets of 0\u001b[0m\n",
      "\u001b[32m2023-04-23 23:55:35.054\u001b[0m | \u001b[34m\u001b[1mDEBUG   \u001b[0m | \u001b[36m__main__\u001b[0m:\u001b[36m<module>\u001b[0m:\u001b[36m30\u001b[0m - \u001b[34m\u001b[1mstarting at position 1\u001b[0m\n"
     ]
    },
    {
     "name": "stdout",
     "output_type": "stream",
     "text": [
      "DS 10 out -> [4, 1, 224, 224]\n"
     ]
    },
    {
     "name": "stderr",
     "output_type": "stream",
     "text": [
      "\u001b[32m2023-04-23 23:55:53.110\u001b[0m | \u001b[34m\u001b[1mDEBUG   \u001b[0m | \u001b[36m__main__\u001b[0m:\u001b[36m<module>\u001b[0m:\u001b[36m36\u001b[0m - \u001b[34m\u001b[1mSocket Y label is ready\u001b[0m\n",
      "\u001b[32m2023-04-23 23:55:53.113\u001b[0m | \u001b[1mINFO    \u001b[0m | \u001b[36m__main__\u001b[0m:\u001b[36m<module>\u001b[0m:\u001b[36m38\u001b[0m - \u001b[1mconnected tail to get data on label from head 6666: ('127.0.0.1', 54154)\u001b[0m\n",
      "\u001b[32m2023-04-23 23:55:53.120\u001b[0m | \u001b[1mINFO    \u001b[0m | \u001b[36m__main__\u001b[0m:\u001b[36m<module>\u001b[0m:\u001b[36m49\u001b[0m - \u001b[1mFetched the label data from head.\u001b[0m\n",
      "\u001b[32m2023-04-23 23:56:01.132\u001b[0m | \u001b[34m\u001b[1mDEBUG   \u001b[0m | \u001b[36m__main__\u001b[0m:\u001b[36m<module>\u001b[0m:\u001b[36m55\u001b[0m - \u001b[34m\u001b[1mSocket Body data is ready\u001b[0m\n",
      "\u001b[32m2023-04-23 23:56:01.136\u001b[0m | \u001b[1mINFO    \u001b[0m | \u001b[36m__main__\u001b[0m:\u001b[36m<module>\u001b[0m:\u001b[36m57\u001b[0m - \u001b[1mconnected tail to get data on layer data from body 7171: ('127.0.0.1', 54157)\u001b[0m\n",
      "\u001b[32m2023-04-23 23:56:01.143\u001b[0m | \u001b[1mINFO    \u001b[0m | \u001b[36m__main__\u001b[0m:\u001b[36m<module>\u001b[0m:\u001b[36m68\u001b[0m - \u001b[1mFetched the label data from head.\u001b[0m\n",
      "\u001b[32m2023-04-23 23:56:01.422\u001b[0m | \u001b[1mINFO    \u001b[0m | \u001b[36m__main__\u001b[0m:\u001b[36m<module>\u001b[0m:\u001b[36m92\u001b[0m - \u001b[1msent the backprop data from tail to body 8181 torch.Size([4, 8, 112, 112])\u001b[0m\n",
      "\u001b[32m2023-04-23 23:56:01.425\u001b[0m | \u001b[1mINFO    \u001b[0m | \u001b[36m__main__\u001b[0m:\u001b[36m<module>\u001b[0m:\u001b[36m24\u001b[0m - \u001b[1m The read socket has total ready sockets of 0\u001b[0m\n"
     ]
    },
    {
     "name": "stdout",
     "output_type": "stream",
     "text": [
      "DS 10 out -> [4, 1, 224, 224]\n"
     ]
    },
    {
     "name": "stderr",
     "output_type": "stream",
     "text": [
      "\u001b[32m2023-04-23 23:56:01.427\u001b[0m | \u001b[34m\u001b[1mDEBUG   \u001b[0m | \u001b[36m__main__\u001b[0m:\u001b[36m<module>\u001b[0m:\u001b[36m30\u001b[0m - \u001b[34m\u001b[1mstarting at position 1\u001b[0m\n",
      "\u001b[32m2023-04-23 23:56:23.976\u001b[0m | \u001b[34m\u001b[1mDEBUG   \u001b[0m | \u001b[36m__main__\u001b[0m:\u001b[36m<module>\u001b[0m:\u001b[36m36\u001b[0m - \u001b[34m\u001b[1mSocket Y label is ready\u001b[0m\n",
      "\u001b[32m2023-04-23 23:56:23.979\u001b[0m | \u001b[1mINFO    \u001b[0m | \u001b[36m__main__\u001b[0m:\u001b[36m<module>\u001b[0m:\u001b[36m38\u001b[0m - \u001b[1mconnected tail to get data on label from head 6666: ('127.0.0.1', 54175)\u001b[0m\n",
      "\u001b[32m2023-04-23 23:56:23.987\u001b[0m | \u001b[1mINFO    \u001b[0m | \u001b[36m__main__\u001b[0m:\u001b[36m<module>\u001b[0m:\u001b[36m49\u001b[0m - \u001b[1mFetched the label data from head.\u001b[0m\n",
      "\u001b[32m2023-04-23 23:56:31.997\u001b[0m | \u001b[34m\u001b[1mDEBUG   \u001b[0m | \u001b[36m__main__\u001b[0m:\u001b[36m<module>\u001b[0m:\u001b[36m55\u001b[0m - \u001b[34m\u001b[1mSocket Body data is ready\u001b[0m\n",
      "\u001b[32m2023-04-23 23:56:32.001\u001b[0m | \u001b[1mINFO    \u001b[0m | \u001b[36m__main__\u001b[0m:\u001b[36m<module>\u001b[0m:\u001b[36m57\u001b[0m - \u001b[1mconnected tail to get data on layer data from body 7171: ('127.0.0.1', 54182)\u001b[0m\n",
      "\u001b[32m2023-04-23 23:56:32.009\u001b[0m | \u001b[1mINFO    \u001b[0m | \u001b[36m__main__\u001b[0m:\u001b[36m<module>\u001b[0m:\u001b[36m68\u001b[0m - \u001b[1mFetched the label data from head.\u001b[0m\n",
      "\u001b[32m2023-04-23 23:56:32.139\u001b[0m | \u001b[1mINFO    \u001b[0m | \u001b[36m__main__\u001b[0m:\u001b[36m<module>\u001b[0m:\u001b[36m92\u001b[0m - \u001b[1msent the backprop data from tail to body 8181 torch.Size([4, 8, 112, 112])\u001b[0m\n",
      "\u001b[32m2023-04-23 23:56:32.142\u001b[0m | \u001b[1mINFO    \u001b[0m | \u001b[36m__main__\u001b[0m:\u001b[36m<module>\u001b[0m:\u001b[36m24\u001b[0m - \u001b[1m The read socket has total ready sockets of 0\u001b[0m\n",
      "\u001b[32m2023-04-23 23:56:32.143\u001b[0m | \u001b[34m\u001b[1mDEBUG   \u001b[0m | \u001b[36m__main__\u001b[0m:\u001b[36m<module>\u001b[0m:\u001b[36m30\u001b[0m - \u001b[34m\u001b[1mstarting at position 1\u001b[0m\n"
     ]
    },
    {
     "name": "stdout",
     "output_type": "stream",
     "text": [
      "DS 10 out -> [4, 1, 224, 224]\n"
     ]
    },
    {
     "name": "stderr",
     "output_type": "stream",
     "text": [
      "\u001b[32m2023-04-23 23:56:50.850\u001b[0m | \u001b[34m\u001b[1mDEBUG   \u001b[0m | \u001b[36m__main__\u001b[0m:\u001b[36m<module>\u001b[0m:\u001b[36m36\u001b[0m - \u001b[34m\u001b[1mSocket Y label is ready\u001b[0m\n",
      "\u001b[32m2023-04-23 23:56:50.854\u001b[0m | \u001b[1mINFO    \u001b[0m | \u001b[36m__main__\u001b[0m:\u001b[36m<module>\u001b[0m:\u001b[36m38\u001b[0m - \u001b[1mconnected tail to get data on label from head 6666: ('127.0.0.1', 54191)\u001b[0m\n",
      "\u001b[32m2023-04-23 23:56:50.861\u001b[0m | \u001b[1mINFO    \u001b[0m | \u001b[36m__main__\u001b[0m:\u001b[36m<module>\u001b[0m:\u001b[36m49\u001b[0m - \u001b[1mFetched the label data from head.\u001b[0m\n",
      "\u001b[32m2023-04-23 23:56:58.868\u001b[0m | \u001b[34m\u001b[1mDEBUG   \u001b[0m | \u001b[36m__main__\u001b[0m:\u001b[36m<module>\u001b[0m:\u001b[36m55\u001b[0m - \u001b[34m\u001b[1mSocket Body data is ready\u001b[0m\n",
      "\u001b[32m2023-04-23 23:56:58.872\u001b[0m | \u001b[1mINFO    \u001b[0m | \u001b[36m__main__\u001b[0m:\u001b[36m<module>\u001b[0m:\u001b[36m57\u001b[0m - \u001b[1mconnected tail to get data on layer data from body 7171: ('127.0.0.1', 54194)\u001b[0m\n",
      "\u001b[32m2023-04-23 23:56:58.884\u001b[0m | \u001b[1mINFO    \u001b[0m | \u001b[36m__main__\u001b[0m:\u001b[36m<module>\u001b[0m:\u001b[36m68\u001b[0m - \u001b[1mFetched the label data from head.\u001b[0m\n",
      "\u001b[32m2023-04-23 23:56:59.027\u001b[0m | \u001b[1mINFO    \u001b[0m | \u001b[36m__main__\u001b[0m:\u001b[36m<module>\u001b[0m:\u001b[36m92\u001b[0m - \u001b[1msent the backprop data from tail to body 8181 torch.Size([4, 8, 112, 112])\u001b[0m\n",
      "\u001b[32m2023-04-23 23:56:59.029\u001b[0m | \u001b[1mINFO    \u001b[0m | \u001b[36m__main__\u001b[0m:\u001b[36m<module>\u001b[0m:\u001b[36m24\u001b[0m - \u001b[1m The read socket has total ready sockets of 0\u001b[0m\n",
      "\u001b[32m2023-04-23 23:56:59.030\u001b[0m | \u001b[34m\u001b[1mDEBUG   \u001b[0m | \u001b[36m__main__\u001b[0m:\u001b[36m<module>\u001b[0m:\u001b[36m30\u001b[0m - \u001b[34m\u001b[1mstarting at position 1\u001b[0m\n"
     ]
    },
    {
     "name": "stdout",
     "output_type": "stream",
     "text": [
      "DS 10 out -> [4, 1, 224, 224]\n"
     ]
    },
    {
     "name": "stderr",
     "output_type": "stream",
     "text": [
      "\u001b[32m2023-04-23 23:57:18.852\u001b[0m | \u001b[34m\u001b[1mDEBUG   \u001b[0m | \u001b[36m__main__\u001b[0m:\u001b[36m<module>\u001b[0m:\u001b[36m36\u001b[0m - \u001b[34m\u001b[1mSocket Y label is ready\u001b[0m\n",
      "\u001b[32m2023-04-23 23:57:18.856\u001b[0m | \u001b[1mINFO    \u001b[0m | \u001b[36m__main__\u001b[0m:\u001b[36m<module>\u001b[0m:\u001b[36m38\u001b[0m - \u001b[1mconnected tail to get data on label from head 6666: ('127.0.0.1', 54261)\u001b[0m\n",
      "\u001b[32m2023-04-23 23:57:18.872\u001b[0m | \u001b[1mINFO    \u001b[0m | \u001b[36m__main__\u001b[0m:\u001b[36m<module>\u001b[0m:\u001b[36m49\u001b[0m - \u001b[1mFetched the label data from head.\u001b[0m\n",
      "\u001b[32m2023-04-23 23:57:27.305\u001b[0m | \u001b[34m\u001b[1mDEBUG   \u001b[0m | \u001b[36m__main__\u001b[0m:\u001b[36m<module>\u001b[0m:\u001b[36m55\u001b[0m - \u001b[34m\u001b[1mSocket Body data is ready\u001b[0m\n",
      "\u001b[32m2023-04-23 23:57:27.310\u001b[0m | \u001b[1mINFO    \u001b[0m | \u001b[36m__main__\u001b[0m:\u001b[36m<module>\u001b[0m:\u001b[36m57\u001b[0m - \u001b[1mconnected tail to get data on layer data from body 7171: ('127.0.0.1', 54275)\u001b[0m\n",
      "\u001b[32m2023-04-23 23:57:27.316\u001b[0m | \u001b[1mINFO    \u001b[0m | \u001b[36m__main__\u001b[0m:\u001b[36m<module>\u001b[0m:\u001b[36m68\u001b[0m - \u001b[1mFetched the label data from head.\u001b[0m\n",
      "\u001b[32m2023-04-23 23:57:27.597\u001b[0m | \u001b[1mINFO    \u001b[0m | \u001b[36m__main__\u001b[0m:\u001b[36m<module>\u001b[0m:\u001b[36m92\u001b[0m - \u001b[1msent the backprop data from tail to body 8181 torch.Size([4, 8, 112, 112])\u001b[0m\n"
     ]
    },
    {
     "name": "stdout",
     "output_type": "stream",
     "text": [
      "DS 10 out -> [4, 1, 224, 224]\n"
     ]
    },
    {
     "name": "stderr",
     "output_type": "stream",
     "text": [
      "\u001b[32m2023-04-23 23:57:27.599\u001b[0m | \u001b[1mINFO    \u001b[0m | \u001b[36m__main__\u001b[0m:\u001b[36m<module>\u001b[0m:\u001b[36m24\u001b[0m - \u001b[1m The read socket has total ready sockets of 0\u001b[0m\n",
      "\u001b[32m2023-04-23 23:57:27.601\u001b[0m | \u001b[34m\u001b[1mDEBUG   \u001b[0m | \u001b[36m__main__\u001b[0m:\u001b[36m<module>\u001b[0m:\u001b[36m30\u001b[0m - \u001b[34m\u001b[1mstarting at position 1\u001b[0m\n",
      "\u001b[32m2023-04-23 23:57:47.283\u001b[0m | \u001b[34m\u001b[1mDEBUG   \u001b[0m | \u001b[36m__main__\u001b[0m:\u001b[36m<module>\u001b[0m:\u001b[36m36\u001b[0m - \u001b[34m\u001b[1mSocket Y label is ready\u001b[0m\n",
      "\u001b[32m2023-04-23 23:57:47.285\u001b[0m | \u001b[1mINFO    \u001b[0m | \u001b[36m__main__\u001b[0m:\u001b[36m<module>\u001b[0m:\u001b[36m38\u001b[0m - \u001b[1mconnected tail to get data on label from head 6666: ('127.0.0.1', 54300)\u001b[0m\n",
      "\u001b[32m2023-04-23 23:57:47.291\u001b[0m | \u001b[1mINFO    \u001b[0m | \u001b[36m__main__\u001b[0m:\u001b[36m<module>\u001b[0m:\u001b[36m49\u001b[0m - \u001b[1mFetched the label data from head.\u001b[0m\n",
      "\u001b[32m2023-04-23 23:57:55.320\u001b[0m | \u001b[34m\u001b[1mDEBUG   \u001b[0m | \u001b[36m__main__\u001b[0m:\u001b[36m<module>\u001b[0m:\u001b[36m55\u001b[0m - \u001b[34m\u001b[1mSocket Body data is ready\u001b[0m\n",
      "\u001b[32m2023-04-23 23:57:55.323\u001b[0m | \u001b[1mINFO    \u001b[0m | \u001b[36m__main__\u001b[0m:\u001b[36m<module>\u001b[0m:\u001b[36m57\u001b[0m - \u001b[1mconnected tail to get data on layer data from body 7171: ('127.0.0.1', 54301)\u001b[0m\n",
      "\u001b[32m2023-04-23 23:57:55.370\u001b[0m | \u001b[1mINFO    \u001b[0m | \u001b[36m__main__\u001b[0m:\u001b[36m<module>\u001b[0m:\u001b[36m68\u001b[0m - \u001b[1mFetched the label data from head.\u001b[0m\n",
      "\u001b[32m2023-04-23 23:57:55.596\u001b[0m | \u001b[1mINFO    \u001b[0m | \u001b[36m__main__\u001b[0m:\u001b[36m<module>\u001b[0m:\u001b[36m92\u001b[0m - \u001b[1msent the backprop data from tail to body 8181 torch.Size([4, 8, 112, 112])\u001b[0m\n",
      "\u001b[32m2023-04-23 23:57:55.598\u001b[0m | \u001b[1mINFO    \u001b[0m | \u001b[36m__main__\u001b[0m:\u001b[36m<module>\u001b[0m:\u001b[36m24\u001b[0m - \u001b[1m The read socket has total ready sockets of 0\u001b[0m\n",
      "\u001b[32m2023-04-23 23:57:55.600\u001b[0m | \u001b[34m\u001b[1mDEBUG   \u001b[0m | \u001b[36m__main__\u001b[0m:\u001b[36m<module>\u001b[0m:\u001b[36m30\u001b[0m - \u001b[34m\u001b[1mstarting at position 1\u001b[0m\n"
     ]
    },
    {
     "name": "stdout",
     "output_type": "stream",
     "text": [
      "DS 10 out -> [4, 1, 224, 224]\n"
     ]
    },
    {
     "name": "stderr",
     "output_type": "stream",
     "text": [
      "\u001b[32m2023-04-23 23:58:15.578\u001b[0m | \u001b[34m\u001b[1mDEBUG   \u001b[0m | \u001b[36m__main__\u001b[0m:\u001b[36m<module>\u001b[0m:\u001b[36m36\u001b[0m - \u001b[34m\u001b[1mSocket Y label is ready\u001b[0m\n",
      "\u001b[32m2023-04-23 23:58:15.582\u001b[0m | \u001b[1mINFO    \u001b[0m | \u001b[36m__main__\u001b[0m:\u001b[36m<module>\u001b[0m:\u001b[36m38\u001b[0m - \u001b[1mconnected tail to get data on label from head 6666: ('127.0.0.1', 54318)\u001b[0m\n",
      "\u001b[32m2023-04-23 23:58:15.588\u001b[0m | \u001b[1mINFO    \u001b[0m | \u001b[36m__main__\u001b[0m:\u001b[36m<module>\u001b[0m:\u001b[36m49\u001b[0m - \u001b[1mFetched the label data from head.\u001b[0m\n",
      "\u001b[32m2023-04-23 23:58:24.328\u001b[0m | \u001b[34m\u001b[1mDEBUG   \u001b[0m | \u001b[36m__main__\u001b[0m:\u001b[36m<module>\u001b[0m:\u001b[36m55\u001b[0m - \u001b[34m\u001b[1mSocket Body data is ready\u001b[0m\n",
      "\u001b[32m2023-04-23 23:58:24.332\u001b[0m | \u001b[1mINFO    \u001b[0m | \u001b[36m__main__\u001b[0m:\u001b[36m<module>\u001b[0m:\u001b[36m57\u001b[0m - \u001b[1mconnected tail to get data on layer data from body 7171: ('127.0.0.1', 54324)\u001b[0m\n",
      "\u001b[32m2023-04-23 23:58:24.340\u001b[0m | \u001b[1mINFO    \u001b[0m | \u001b[36m__main__\u001b[0m:\u001b[36m<module>\u001b[0m:\u001b[36m68\u001b[0m - \u001b[1mFetched the label data from head.\u001b[0m\n",
      "\u001b[32m2023-04-23 23:58:24.629\u001b[0m | \u001b[1mINFO    \u001b[0m | \u001b[36m__main__\u001b[0m:\u001b[36m<module>\u001b[0m:\u001b[36m92\u001b[0m - \u001b[1msent the backprop data from tail to body 8181 torch.Size([4, 8, 112, 112])\u001b[0m\n",
      "\u001b[32m2023-04-23 23:58:24.631\u001b[0m | \u001b[1mINFO    \u001b[0m | \u001b[36m__main__\u001b[0m:\u001b[36m<module>\u001b[0m:\u001b[36m24\u001b[0m - \u001b[1m The read socket has total ready sockets of 0\u001b[0m\n",
      "\u001b[32m2023-04-23 23:58:24.633\u001b[0m | \u001b[34m\u001b[1mDEBUG   \u001b[0m | \u001b[36m__main__\u001b[0m:\u001b[36m<module>\u001b[0m:\u001b[36m30\u001b[0m - \u001b[34m\u001b[1mstarting at position 1\u001b[0m\n"
     ]
    },
    {
     "name": "stdout",
     "output_type": "stream",
     "text": [
      "DS 10 out -> [4, 1, 224, 224]\n"
     ]
    },
    {
     "name": "stderr",
     "output_type": "stream",
     "text": [
      "\u001b[32m2023-04-23 23:58:50.094\u001b[0m | \u001b[34m\u001b[1mDEBUG   \u001b[0m | \u001b[36m__main__\u001b[0m:\u001b[36m<module>\u001b[0m:\u001b[36m36\u001b[0m - \u001b[34m\u001b[1mSocket Y label is ready\u001b[0m\n",
      "\u001b[32m2023-04-23 23:58:50.099\u001b[0m | \u001b[1mINFO    \u001b[0m | \u001b[36m__main__\u001b[0m:\u001b[36m<module>\u001b[0m:\u001b[36m38\u001b[0m - \u001b[1mconnected tail to get data on label from head 6666: ('127.0.0.1', 54368)\u001b[0m\n",
      "\u001b[32m2023-04-23 23:58:50.110\u001b[0m | \u001b[1mINFO    \u001b[0m | \u001b[36m__main__\u001b[0m:\u001b[36m<module>\u001b[0m:\u001b[36m49\u001b[0m - \u001b[1mFetched the label data from head.\u001b[0m\n",
      "\u001b[32m2023-04-23 23:58:58.125\u001b[0m | \u001b[34m\u001b[1mDEBUG   \u001b[0m | \u001b[36m__main__\u001b[0m:\u001b[36m<module>\u001b[0m:\u001b[36m55\u001b[0m - \u001b[34m\u001b[1mSocket Body data is ready\u001b[0m\n",
      "\u001b[32m2023-04-23 23:58:58.128\u001b[0m | \u001b[1mINFO    \u001b[0m | \u001b[36m__main__\u001b[0m:\u001b[36m<module>\u001b[0m:\u001b[36m57\u001b[0m - \u001b[1mconnected tail to get data on layer data from body 7171: ('127.0.0.1', 54373)\u001b[0m\n",
      "\u001b[32m2023-04-23 23:58:58.135\u001b[0m | \u001b[1mINFO    \u001b[0m | \u001b[36m__main__\u001b[0m:\u001b[36m<module>\u001b[0m:\u001b[36m68\u001b[0m - \u001b[1mFetched the label data from head.\u001b[0m\n",
      "\u001b[32m2023-04-23 23:58:58.350\u001b[0m | \u001b[1mINFO    \u001b[0m | \u001b[36m__main__\u001b[0m:\u001b[36m<module>\u001b[0m:\u001b[36m92\u001b[0m - \u001b[1msent the backprop data from tail to body 8181 torch.Size([4, 8, 112, 112])\u001b[0m\n",
      "\u001b[32m2023-04-23 23:58:58.352\u001b[0m | \u001b[1mINFO    \u001b[0m | \u001b[36m__main__\u001b[0m:\u001b[36m<module>\u001b[0m:\u001b[36m24\u001b[0m - \u001b[1m The read socket has total ready sockets of 0\u001b[0m\n",
      "\u001b[32m2023-04-23 23:58:58.353\u001b[0m | \u001b[34m\u001b[1mDEBUG   \u001b[0m | \u001b[36m__main__\u001b[0m:\u001b[36m<module>\u001b[0m:\u001b[36m30\u001b[0m - \u001b[34m\u001b[1mstarting at position 1\u001b[0m\n"
     ]
    },
    {
     "name": "stdout",
     "output_type": "stream",
     "text": [
      "DS 10 out -> [4, 1, 224, 224]\n"
     ]
    },
    {
     "name": "stderr",
     "output_type": "stream",
     "text": [
      "\u001b[32m2023-04-23 23:59:26.219\u001b[0m | \u001b[34m\u001b[1mDEBUG   \u001b[0m | \u001b[36m__main__\u001b[0m:\u001b[36m<module>\u001b[0m:\u001b[36m36\u001b[0m - \u001b[34m\u001b[1mSocket Y label is ready\u001b[0m\n",
      "\u001b[32m2023-04-23 23:59:26.224\u001b[0m | \u001b[1mINFO    \u001b[0m | \u001b[36m__main__\u001b[0m:\u001b[36m<module>\u001b[0m:\u001b[36m38\u001b[0m - \u001b[1mconnected tail to get data on label from head 6666: ('127.0.0.1', 54407)\u001b[0m\n",
      "\u001b[32m2023-04-23 23:59:26.232\u001b[0m | \u001b[1mINFO    \u001b[0m | \u001b[36m__main__\u001b[0m:\u001b[36m<module>\u001b[0m:\u001b[36m49\u001b[0m - \u001b[1mFetched the label data from head.\u001b[0m\n",
      "\u001b[32m2023-04-23 23:59:38.938\u001b[0m | \u001b[34m\u001b[1mDEBUG   \u001b[0m | \u001b[36m__main__\u001b[0m:\u001b[36m<module>\u001b[0m:\u001b[36m55\u001b[0m - \u001b[34m\u001b[1mSocket Body data is ready\u001b[0m\n",
      "\u001b[32m2023-04-23 23:59:38.943\u001b[0m | \u001b[1mINFO    \u001b[0m | \u001b[36m__main__\u001b[0m:\u001b[36m<module>\u001b[0m:\u001b[36m57\u001b[0m - \u001b[1mconnected tail to get data on layer data from body 7171: ('127.0.0.1', 54413)\u001b[0m\n",
      "\u001b[32m2023-04-23 23:59:38.955\u001b[0m | \u001b[1mINFO    \u001b[0m | \u001b[36m__main__\u001b[0m:\u001b[36m<module>\u001b[0m:\u001b[36m68\u001b[0m - \u001b[1mFetched the label data from head.\u001b[0m\n",
      "\u001b[32m2023-04-23 23:59:39.250\u001b[0m | \u001b[1mINFO    \u001b[0m | \u001b[36m__main__\u001b[0m:\u001b[36m<module>\u001b[0m:\u001b[36m92\u001b[0m - \u001b[1msent the backprop data from tail to body 8181 torch.Size([4, 8, 112, 112])\u001b[0m\n"
     ]
    },
    {
     "name": "stdout",
     "output_type": "stream",
     "text": [
      "DS 10 out -> [4, 1, 224, 224]\n"
     ]
    },
    {
     "name": "stderr",
     "output_type": "stream",
     "text": [
      "\u001b[32m2023-04-23 23:59:39.255\u001b[0m | \u001b[1mINFO    \u001b[0m | \u001b[36m__main__\u001b[0m:\u001b[36m<module>\u001b[0m:\u001b[36m24\u001b[0m - \u001b[1m The read socket has total ready sockets of 0\u001b[0m\n",
      "\u001b[32m2023-04-23 23:59:39.257\u001b[0m | \u001b[34m\u001b[1mDEBUG   \u001b[0m | \u001b[36m__main__\u001b[0m:\u001b[36m<module>\u001b[0m:\u001b[36m30\u001b[0m - \u001b[34m\u001b[1mstarting at position 1\u001b[0m\n",
      "\u001b[32m2023-04-24 00:00:23.059\u001b[0m | \u001b[34m\u001b[1mDEBUG   \u001b[0m | \u001b[36m__main__\u001b[0m:\u001b[36m<module>\u001b[0m:\u001b[36m36\u001b[0m - \u001b[34m\u001b[1mSocket Y label is ready\u001b[0m\n",
      "\u001b[32m2023-04-24 00:00:23.069\u001b[0m | \u001b[1mINFO    \u001b[0m | \u001b[36m__main__\u001b[0m:\u001b[36m<module>\u001b[0m:\u001b[36m38\u001b[0m - \u001b[1mconnected tail to get data on label from head 6666: ('127.0.0.1', 54467)\u001b[0m\n",
      "\u001b[32m2023-04-24 00:00:23.080\u001b[0m | \u001b[1mINFO    \u001b[0m | \u001b[36m__main__\u001b[0m:\u001b[36m<module>\u001b[0m:\u001b[36m49\u001b[0m - \u001b[1mFetched the label data from head.\u001b[0m\n",
      "\u001b[32m2023-04-24 00:00:36.414\u001b[0m | \u001b[34m\u001b[1mDEBUG   \u001b[0m | \u001b[36m__main__\u001b[0m:\u001b[36m<module>\u001b[0m:\u001b[36m55\u001b[0m - \u001b[34m\u001b[1mSocket Body data is ready\u001b[0m\n",
      "\u001b[32m2023-04-24 00:00:36.419\u001b[0m | \u001b[1mINFO    \u001b[0m | \u001b[36m__main__\u001b[0m:\u001b[36m<module>\u001b[0m:\u001b[36m57\u001b[0m - \u001b[1mconnected tail to get data on layer data from body 7171: ('127.0.0.1', 54479)\u001b[0m\n",
      "\u001b[32m2023-04-24 00:00:36.431\u001b[0m | \u001b[1mINFO    \u001b[0m | \u001b[36m__main__\u001b[0m:\u001b[36m<module>\u001b[0m:\u001b[36m68\u001b[0m - \u001b[1mFetched the label data from head.\u001b[0m\n"
     ]
    },
    {
     "name": "stdout",
     "output_type": "stream",
     "text": [
      "DS 10 out -> [4, 1, 224, 224]\n"
     ]
    },
    {
     "name": "stderr",
     "output_type": "stream",
     "text": [
      "\u001b[32m2023-04-24 00:00:36.861\u001b[0m | \u001b[1mINFO    \u001b[0m | \u001b[36m__main__\u001b[0m:\u001b[36m<module>\u001b[0m:\u001b[36m92\u001b[0m - \u001b[1msent the backprop data from tail to body 8181 torch.Size([4, 8, 112, 112])\u001b[0m\n",
      "\u001b[32m2023-04-24 00:00:36.864\u001b[0m | \u001b[1mINFO    \u001b[0m | \u001b[36m__main__\u001b[0m:\u001b[36m<module>\u001b[0m:\u001b[36m24\u001b[0m - \u001b[1m The read socket has total ready sockets of 0\u001b[0m\n",
      "\u001b[32m2023-04-24 00:00:36.865\u001b[0m | \u001b[34m\u001b[1mDEBUG   \u001b[0m | \u001b[36m__main__\u001b[0m:\u001b[36m<module>\u001b[0m:\u001b[36m30\u001b[0m - \u001b[34m\u001b[1mstarting at position 1\u001b[0m\n",
      "\u001b[32m2023-04-24 00:01:17.521\u001b[0m | \u001b[34m\u001b[1mDEBUG   \u001b[0m | \u001b[36m__main__\u001b[0m:\u001b[36m<module>\u001b[0m:\u001b[36m36\u001b[0m - \u001b[34m\u001b[1mSocket Y label is ready\u001b[0m\n",
      "\u001b[32m2023-04-24 00:01:17.530\u001b[0m | \u001b[1mINFO    \u001b[0m | \u001b[36m__main__\u001b[0m:\u001b[36m<module>\u001b[0m:\u001b[36m38\u001b[0m - \u001b[1mconnected tail to get data on label from head 6666: ('127.0.0.1', 54525)\u001b[0m\n",
      "\u001b[32m2023-04-24 00:01:17.544\u001b[0m | \u001b[1mINFO    \u001b[0m | \u001b[36m__main__\u001b[0m:\u001b[36m<module>\u001b[0m:\u001b[36m49\u001b[0m - \u001b[1mFetched the label data from head.\u001b[0m\n",
      "\u001b[32m2023-04-24 00:01:29.925\u001b[0m | \u001b[34m\u001b[1mDEBUG   \u001b[0m | \u001b[36m__main__\u001b[0m:\u001b[36m<module>\u001b[0m:\u001b[36m55\u001b[0m - \u001b[34m\u001b[1mSocket Body data is ready\u001b[0m\n",
      "\u001b[32m2023-04-24 00:01:29.930\u001b[0m | \u001b[1mINFO    \u001b[0m | \u001b[36m__main__\u001b[0m:\u001b[36m<module>\u001b[0m:\u001b[36m57\u001b[0m - \u001b[1mconnected tail to get data on layer data from body 7171: ('127.0.0.1', 54546)\u001b[0m\n",
      "\u001b[32m2023-04-24 00:01:29.940\u001b[0m | \u001b[1mINFO    \u001b[0m | \u001b[36m__main__\u001b[0m:\u001b[36m<module>\u001b[0m:\u001b[36m68\u001b[0m - \u001b[1mFetched the label data from head.\u001b[0m\n",
      "\u001b[32m2023-04-24 00:01:30.199\u001b[0m | \u001b[1mINFO    \u001b[0m | \u001b[36m__main__\u001b[0m:\u001b[36m<module>\u001b[0m:\u001b[36m92\u001b[0m - \u001b[1msent the backprop data from tail to body 8181 torch.Size([4, 8, 112, 112])\u001b[0m\n",
      "\u001b[32m2023-04-24 00:01:30.201\u001b[0m | \u001b[1mINFO    \u001b[0m | \u001b[36m__main__\u001b[0m:\u001b[36m<module>\u001b[0m:\u001b[36m24\u001b[0m - \u001b[1m The read socket has total ready sockets of 0\u001b[0m\n",
      "\u001b[32m2023-04-24 00:01:30.204\u001b[0m | \u001b[34m\u001b[1mDEBUG   \u001b[0m | \u001b[36m__main__\u001b[0m:\u001b[36m<module>\u001b[0m:\u001b[36m30\u001b[0m - \u001b[34m\u001b[1mstarting at position 1\u001b[0m\n"
     ]
    },
    {
     "name": "stdout",
     "output_type": "stream",
     "text": [
      "DS 10 out -> [4, 1, 224, 224]\n"
     ]
    },
    {
     "name": "stderr",
     "output_type": "stream",
     "text": [
      "\u001b[32m2023-04-24 00:01:56.308\u001b[0m | \u001b[34m\u001b[1mDEBUG   \u001b[0m | \u001b[36m__main__\u001b[0m:\u001b[36m<module>\u001b[0m:\u001b[36m36\u001b[0m - \u001b[34m\u001b[1mSocket Y label is ready\u001b[0m\n",
      "\u001b[32m2023-04-24 00:01:56.318\u001b[0m | \u001b[1mINFO    \u001b[0m | \u001b[36m__main__\u001b[0m:\u001b[36m<module>\u001b[0m:\u001b[36m38\u001b[0m - \u001b[1mconnected tail to get data on label from head 6666: ('127.0.0.1', 54564)\u001b[0m\n",
      "\u001b[32m2023-04-24 00:01:56.327\u001b[0m | \u001b[1mINFO    \u001b[0m | \u001b[36m__main__\u001b[0m:\u001b[36m<module>\u001b[0m:\u001b[36m49\u001b[0m - \u001b[1mFetched the label data from head.\u001b[0m\n",
      "\u001b[32m2023-04-24 00:02:04.341\u001b[0m | \u001b[34m\u001b[1mDEBUG   \u001b[0m | \u001b[36m__main__\u001b[0m:\u001b[36m<module>\u001b[0m:\u001b[36m55\u001b[0m - \u001b[34m\u001b[1mSocket Body data is ready\u001b[0m\n",
      "\u001b[32m2023-04-24 00:02:04.345\u001b[0m | \u001b[1mINFO    \u001b[0m | \u001b[36m__main__\u001b[0m:\u001b[36m<module>\u001b[0m:\u001b[36m57\u001b[0m - \u001b[1mconnected tail to get data on layer data from body 7171: ('127.0.0.1', 54565)\u001b[0m\n",
      "\u001b[32m2023-04-24 00:02:04.352\u001b[0m | \u001b[1mINFO    \u001b[0m | \u001b[36m__main__\u001b[0m:\u001b[36m<module>\u001b[0m:\u001b[36m68\u001b[0m - \u001b[1mFetched the label data from head.\u001b[0m\n",
      "\u001b[32m2023-04-24 00:02:04.511\u001b[0m | \u001b[1mINFO    \u001b[0m | \u001b[36m__main__\u001b[0m:\u001b[36m<module>\u001b[0m:\u001b[36m92\u001b[0m - \u001b[1msent the backprop data from tail to body 8181 torch.Size([4, 8, 112, 112])\u001b[0m\n",
      "\u001b[32m2023-04-24 00:02:04.514\u001b[0m | \u001b[1mINFO    \u001b[0m | \u001b[36m__main__\u001b[0m:\u001b[36m<module>\u001b[0m:\u001b[36m24\u001b[0m - \u001b[1m The read socket has total ready sockets of 0\u001b[0m\n",
      "\u001b[32m2023-04-24 00:02:04.515\u001b[0m | \u001b[34m\u001b[1mDEBUG   \u001b[0m | \u001b[36m__main__\u001b[0m:\u001b[36m<module>\u001b[0m:\u001b[36m30\u001b[0m - \u001b[34m\u001b[1mstarting at position 1\u001b[0m\n"
     ]
    },
    {
     "name": "stdout",
     "output_type": "stream",
     "text": [
      "DS 10 out -> [4, 1, 224, 224]\n"
     ]
    },
    {
     "name": "stderr",
     "output_type": "stream",
     "text": [
      "\u001b[32m2023-04-24 00:02:22.317\u001b[0m | \u001b[34m\u001b[1mDEBUG   \u001b[0m | \u001b[36m__main__\u001b[0m:\u001b[36m<module>\u001b[0m:\u001b[36m36\u001b[0m - \u001b[34m\u001b[1mSocket Y label is ready\u001b[0m\n",
      "\u001b[32m2023-04-24 00:02:22.320\u001b[0m | \u001b[1mINFO    \u001b[0m | \u001b[36m__main__\u001b[0m:\u001b[36m<module>\u001b[0m:\u001b[36m38\u001b[0m - \u001b[1mconnected tail to get data on label from head 6666: ('127.0.0.1', 54583)\u001b[0m\n",
      "\u001b[32m2023-04-24 00:02:22.325\u001b[0m | \u001b[1mINFO    \u001b[0m | \u001b[36m__main__\u001b[0m:\u001b[36m<module>\u001b[0m:\u001b[36m49\u001b[0m - \u001b[1mFetched the label data from head.\u001b[0m\n",
      "\u001b[32m2023-04-24 00:02:30.357\u001b[0m | \u001b[34m\u001b[1mDEBUG   \u001b[0m | \u001b[36m__main__\u001b[0m:\u001b[36m<module>\u001b[0m:\u001b[36m55\u001b[0m - \u001b[34m\u001b[1mSocket Body data is ready\u001b[0m\n",
      "\u001b[32m2023-04-24 00:02:30.363\u001b[0m | \u001b[1mINFO    \u001b[0m | \u001b[36m__main__\u001b[0m:\u001b[36m<module>\u001b[0m:\u001b[36m57\u001b[0m - \u001b[1mconnected tail to get data on layer data from body 7171: ('127.0.0.1', 54585)\u001b[0m\n",
      "\u001b[32m2023-04-24 00:02:30.378\u001b[0m | \u001b[1mINFO    \u001b[0m | \u001b[36m__main__\u001b[0m:\u001b[36m<module>\u001b[0m:\u001b[36m68\u001b[0m - \u001b[1mFetched the label data from head.\u001b[0m\n",
      "\u001b[32m2023-04-24 00:02:30.707\u001b[0m | \u001b[1mINFO    \u001b[0m | \u001b[36m__main__\u001b[0m:\u001b[36m<module>\u001b[0m:\u001b[36m92\u001b[0m - \u001b[1msent the backprop data from tail to body 8181 torch.Size([4, 8, 112, 112])\u001b[0m\n",
      "\u001b[32m2023-04-24 00:02:30.709\u001b[0m | \u001b[1mINFO    \u001b[0m | \u001b[36m__main__\u001b[0m:\u001b[36m<module>\u001b[0m:\u001b[36m24\u001b[0m - \u001b[1m The read socket has total ready sockets of 0\u001b[0m\n",
      "\u001b[32m2023-04-24 00:02:30.711\u001b[0m | \u001b[34m\u001b[1mDEBUG   \u001b[0m | \u001b[36m__main__\u001b[0m:\u001b[36m<module>\u001b[0m:\u001b[36m30\u001b[0m - \u001b[34m\u001b[1mstarting at position 1\u001b[0m\n"
     ]
    },
    {
     "name": "stdout",
     "output_type": "stream",
     "text": [
      "DS 10 out -> [4, 1, 224, 224]\n"
     ]
    },
    {
     "name": "stderr",
     "output_type": "stream",
     "text": [
      "\u001b[32m2023-04-24 00:03:12.488\u001b[0m | \u001b[34m\u001b[1mDEBUG   \u001b[0m | \u001b[36m__main__\u001b[0m:\u001b[36m<module>\u001b[0m:\u001b[36m36\u001b[0m - \u001b[34m\u001b[1mSocket Y label is ready\u001b[0m\n",
      "\u001b[32m2023-04-24 00:03:12.497\u001b[0m | \u001b[1mINFO    \u001b[0m | \u001b[36m__main__\u001b[0m:\u001b[36m<module>\u001b[0m:\u001b[36m38\u001b[0m - \u001b[1mconnected tail to get data on label from head 6666: ('127.0.0.1', 54612)\u001b[0m\n",
      "\u001b[32m2023-04-24 00:03:12.505\u001b[0m | \u001b[1mINFO    \u001b[0m | \u001b[36m__main__\u001b[0m:\u001b[36m<module>\u001b[0m:\u001b[36m49\u001b[0m - \u001b[1mFetched the label data from head.\u001b[0m\n",
      "\u001b[32m2023-04-24 00:03:24.728\u001b[0m | \u001b[34m\u001b[1mDEBUG   \u001b[0m | \u001b[36m__main__\u001b[0m:\u001b[36m<module>\u001b[0m:\u001b[36m55\u001b[0m - \u001b[34m\u001b[1mSocket Body data is ready\u001b[0m\n",
      "\u001b[32m2023-04-24 00:03:24.733\u001b[0m | \u001b[1mINFO    \u001b[0m | \u001b[36m__main__\u001b[0m:\u001b[36m<module>\u001b[0m:\u001b[36m57\u001b[0m - \u001b[1mconnected tail to get data on layer data from body 7171: ('127.0.0.1', 54619)\u001b[0m\n",
      "\u001b[32m2023-04-24 00:03:24.743\u001b[0m | \u001b[1mINFO    \u001b[0m | \u001b[36m__main__\u001b[0m:\u001b[36m<module>\u001b[0m:\u001b[36m68\u001b[0m - \u001b[1mFetched the label data from head.\u001b[0m\n",
      "\u001b[32m2023-04-24 00:03:25.026\u001b[0m | \u001b[1mINFO    \u001b[0m | \u001b[36m__main__\u001b[0m:\u001b[36m<module>\u001b[0m:\u001b[36m92\u001b[0m - \u001b[1msent the backprop data from tail to body 8181 torch.Size([4, 8, 112, 112])\u001b[0m\n",
      "\u001b[32m2023-04-24 00:03:25.028\u001b[0m | \u001b[1mINFO    \u001b[0m | \u001b[36m__main__\u001b[0m:\u001b[36m<module>\u001b[0m:\u001b[36m24\u001b[0m - \u001b[1m The read socket has total ready sockets of 0\u001b[0m\n",
      "\u001b[32m2023-04-24 00:03:25.032\u001b[0m | \u001b[34m\u001b[1mDEBUG   \u001b[0m | \u001b[36m__main__\u001b[0m:\u001b[36m<module>\u001b[0m:\u001b[36m30\u001b[0m - \u001b[34m\u001b[1mstarting at position 1\u001b[0m\n"
     ]
    },
    {
     "name": "stdout",
     "output_type": "stream",
     "text": [
      "DS 10 out -> [4, 1, 224, 224]\n"
     ]
    },
    {
     "name": "stderr",
     "output_type": "stream",
     "text": [
      "\u001b[32m2023-04-24 00:04:10.408\u001b[0m | \u001b[34m\u001b[1mDEBUG   \u001b[0m | \u001b[36m__main__\u001b[0m:\u001b[36m<module>\u001b[0m:\u001b[36m36\u001b[0m - \u001b[34m\u001b[1mSocket Y label is ready\u001b[0m\n",
      "\u001b[32m2023-04-24 00:04:10.421\u001b[0m | \u001b[1mINFO    \u001b[0m | \u001b[36m__main__\u001b[0m:\u001b[36m<module>\u001b[0m:\u001b[36m38\u001b[0m - \u001b[1mconnected tail to get data on label from head 6666: ('127.0.0.1', 54660)\u001b[0m\n",
      "\u001b[32m2023-04-24 00:04:10.441\u001b[0m | \u001b[1mINFO    \u001b[0m | \u001b[36m__main__\u001b[0m:\u001b[36m<module>\u001b[0m:\u001b[36m49\u001b[0m - \u001b[1mFetched the label data from head.\u001b[0m\n",
      "\u001b[32m2023-04-24 00:04:25.416\u001b[0m | \u001b[34m\u001b[1mDEBUG   \u001b[0m | \u001b[36m__main__\u001b[0m:\u001b[36m<module>\u001b[0m:\u001b[36m55\u001b[0m - \u001b[34m\u001b[1mSocket Body data is ready\u001b[0m\n",
      "\u001b[32m2023-04-24 00:04:25.422\u001b[0m | \u001b[1mINFO    \u001b[0m | \u001b[36m__main__\u001b[0m:\u001b[36m<module>\u001b[0m:\u001b[36m57\u001b[0m - \u001b[1mconnected tail to get data on layer data from body 7171: ('127.0.0.1', 54673)\u001b[0m\n",
      "\u001b[32m2023-04-24 00:04:25.432\u001b[0m | \u001b[1mINFO    \u001b[0m | \u001b[36m__main__\u001b[0m:\u001b[36m<module>\u001b[0m:\u001b[36m68\u001b[0m - \u001b[1mFetched the label data from head.\u001b[0m\n"
     ]
    },
    {
     "name": "stdout",
     "output_type": "stream",
     "text": [
      "DS 10 out -> [4, 1, 224, 224]\n"
     ]
    },
    {
     "name": "stderr",
     "output_type": "stream",
     "text": [
      "\u001b[32m2023-04-24 00:04:25.781\u001b[0m | \u001b[1mINFO    \u001b[0m | \u001b[36m__main__\u001b[0m:\u001b[36m<module>\u001b[0m:\u001b[36m92\u001b[0m - \u001b[1msent the backprop data from tail to body 8181 torch.Size([4, 8, 112, 112])\u001b[0m\n",
      "\u001b[32m2023-04-24 00:04:25.783\u001b[0m | \u001b[1mINFO    \u001b[0m | \u001b[36m__main__\u001b[0m:\u001b[36m<module>\u001b[0m:\u001b[36m24\u001b[0m - \u001b[1m The read socket has total ready sockets of 0\u001b[0m\n",
      "\u001b[32m2023-04-24 00:04:25.787\u001b[0m | \u001b[34m\u001b[1mDEBUG   \u001b[0m | \u001b[36m__main__\u001b[0m:\u001b[36m<module>\u001b[0m:\u001b[36m30\u001b[0m - \u001b[34m\u001b[1mstarting at position 1\u001b[0m\n",
      "\u001b[32m2023-04-24 00:05:20.112\u001b[0m | \u001b[34m\u001b[1mDEBUG   \u001b[0m | \u001b[36m__main__\u001b[0m:\u001b[36m<module>\u001b[0m:\u001b[36m36\u001b[0m - \u001b[34m\u001b[1mSocket Y label is ready\u001b[0m\n",
      "\u001b[32m2023-04-24 00:05:20.125\u001b[0m | \u001b[1mINFO    \u001b[0m | \u001b[36m__main__\u001b[0m:\u001b[36m<module>\u001b[0m:\u001b[36m38\u001b[0m - \u001b[1mconnected tail to get data on label from head 6666: ('127.0.0.1', 54705)\u001b[0m\n",
      "\u001b[32m2023-04-24 00:05:20.142\u001b[0m | \u001b[1mINFO    \u001b[0m | \u001b[36m__main__\u001b[0m:\u001b[36m<module>\u001b[0m:\u001b[36m49\u001b[0m - \u001b[1mFetched the label data from head.\u001b[0m\n",
      "\u001b[32m2023-04-24 00:05:34.216\u001b[0m | \u001b[34m\u001b[1mDEBUG   \u001b[0m | \u001b[36m__main__\u001b[0m:\u001b[36m<module>\u001b[0m:\u001b[36m55\u001b[0m - \u001b[34m\u001b[1mSocket Body data is ready\u001b[0m\n",
      "\u001b[32m2023-04-24 00:05:34.222\u001b[0m | \u001b[1mINFO    \u001b[0m | \u001b[36m__main__\u001b[0m:\u001b[36m<module>\u001b[0m:\u001b[36m57\u001b[0m - \u001b[1mconnected tail to get data on layer data from body 7171: ('127.0.0.1', 54711)\u001b[0m\n",
      "\u001b[32m2023-04-24 00:05:34.230\u001b[0m | \u001b[1mINFO    \u001b[0m | \u001b[36m__main__\u001b[0m:\u001b[36m<module>\u001b[0m:\u001b[36m68\u001b[0m - \u001b[1mFetched the label data from head.\u001b[0m\n"
     ]
    },
    {
     "name": "stdout",
     "output_type": "stream",
     "text": [
      "DS 10 out -> [4, 1, 224, 224]\n"
     ]
    },
    {
     "name": "stderr",
     "output_type": "stream",
     "text": [
      "\u001b[32m2023-04-24 00:05:34.597\u001b[0m | \u001b[1mINFO    \u001b[0m | \u001b[36m__main__\u001b[0m:\u001b[36m<module>\u001b[0m:\u001b[36m92\u001b[0m - \u001b[1msent the backprop data from tail to body 8181 torch.Size([4, 8, 112, 112])\u001b[0m\n",
      "\u001b[32m2023-04-24 00:05:34.599\u001b[0m | \u001b[1mINFO    \u001b[0m | \u001b[36m__main__\u001b[0m:\u001b[36m<module>\u001b[0m:\u001b[36m24\u001b[0m - \u001b[1m The read socket has total ready sockets of 0\u001b[0m\n",
      "\u001b[32m2023-04-24 00:05:34.602\u001b[0m | \u001b[34m\u001b[1mDEBUG   \u001b[0m | \u001b[36m__main__\u001b[0m:\u001b[36m<module>\u001b[0m:\u001b[36m30\u001b[0m - \u001b[34m\u001b[1mstarting at position 1\u001b[0m\n",
      "\u001b[32m2023-04-24 00:06:23.601\u001b[0m | \u001b[34m\u001b[1mDEBUG   \u001b[0m | \u001b[36m__main__\u001b[0m:\u001b[36m<module>\u001b[0m:\u001b[36m36\u001b[0m - \u001b[34m\u001b[1mSocket Y label is ready\u001b[0m\n",
      "\u001b[32m2023-04-24 00:06:23.611\u001b[0m | \u001b[1mINFO    \u001b[0m | \u001b[36m__main__\u001b[0m:\u001b[36m<module>\u001b[0m:\u001b[36m38\u001b[0m - \u001b[1mconnected tail to get data on label from head 6666: ('127.0.0.1', 54741)\u001b[0m\n",
      "\u001b[32m2023-04-24 00:06:23.627\u001b[0m | \u001b[1mINFO    \u001b[0m | \u001b[36m__main__\u001b[0m:\u001b[36m<module>\u001b[0m:\u001b[36m49\u001b[0m - \u001b[1mFetched the label data from head.\u001b[0m\n",
      "\u001b[32m2023-04-24 00:06:36.940\u001b[0m | \u001b[34m\u001b[1mDEBUG   \u001b[0m | \u001b[36m__main__\u001b[0m:\u001b[36m<module>\u001b[0m:\u001b[36m55\u001b[0m - \u001b[34m\u001b[1mSocket Body data is ready\u001b[0m\n",
      "\u001b[32m2023-04-24 00:06:36.946\u001b[0m | \u001b[1mINFO    \u001b[0m | \u001b[36m__main__\u001b[0m:\u001b[36m<module>\u001b[0m:\u001b[36m57\u001b[0m - \u001b[1mconnected tail to get data on layer data from body 7171: ('127.0.0.1', 54749)\u001b[0m\n",
      "\u001b[32m2023-04-24 00:06:36.955\u001b[0m | \u001b[1mINFO    \u001b[0m | \u001b[36m__main__\u001b[0m:\u001b[36m<module>\u001b[0m:\u001b[36m68\u001b[0m - \u001b[1mFetched the label data from head.\u001b[0m\n"
     ]
    },
    {
     "name": "stdout",
     "output_type": "stream",
     "text": [
      "DS 10 out -> [4, 1, 224, 224]\n"
     ]
    },
    {
     "name": "stderr",
     "output_type": "stream",
     "text": [
      "\u001b[32m2023-04-24 00:06:37.748\u001b[0m | \u001b[1mINFO    \u001b[0m | \u001b[36m__main__\u001b[0m:\u001b[36m<module>\u001b[0m:\u001b[36m92\u001b[0m - \u001b[1msent the backprop data from tail to body 8181 torch.Size([4, 8, 112, 112])\u001b[0m\n",
      "\u001b[32m2023-04-24 00:06:37.751\u001b[0m | \u001b[1mINFO    \u001b[0m | \u001b[36m__main__\u001b[0m:\u001b[36m<module>\u001b[0m:\u001b[36m24\u001b[0m - \u001b[1m The read socket has total ready sockets of 0\u001b[0m\n",
      "\u001b[32m2023-04-24 00:06:37.753\u001b[0m | \u001b[34m\u001b[1mDEBUG   \u001b[0m | \u001b[36m__main__\u001b[0m:\u001b[36m<module>\u001b[0m:\u001b[36m30\u001b[0m - \u001b[34m\u001b[1mstarting at position 1\u001b[0m\n",
      "\u001b[32m2023-04-24 00:07:22.835\u001b[0m | \u001b[34m\u001b[1mDEBUG   \u001b[0m | \u001b[36m__main__\u001b[0m:\u001b[36m<module>\u001b[0m:\u001b[36m36\u001b[0m - \u001b[34m\u001b[1mSocket Y label is ready\u001b[0m\n",
      "\u001b[32m2023-04-24 00:07:22.849\u001b[0m | \u001b[1mINFO    \u001b[0m | \u001b[36m__main__\u001b[0m:\u001b[36m<module>\u001b[0m:\u001b[36m38\u001b[0m - \u001b[1mconnected tail to get data on label from head 6666: ('127.0.0.1', 54789)\u001b[0m\n",
      "\u001b[32m2023-04-24 00:07:22.866\u001b[0m | \u001b[1mINFO    \u001b[0m | \u001b[36m__main__\u001b[0m:\u001b[36m<module>\u001b[0m:\u001b[36m49\u001b[0m - \u001b[1mFetched the label data from head.\u001b[0m\n",
      "\u001b[32m2023-04-24 00:07:36.663\u001b[0m | \u001b[34m\u001b[1mDEBUG   \u001b[0m | \u001b[36m__main__\u001b[0m:\u001b[36m<module>\u001b[0m:\u001b[36m55\u001b[0m - \u001b[34m\u001b[1mSocket Body data is ready\u001b[0m\n",
      "\u001b[32m2023-04-24 00:07:36.668\u001b[0m | \u001b[1mINFO    \u001b[0m | \u001b[36m__main__\u001b[0m:\u001b[36m<module>\u001b[0m:\u001b[36m57\u001b[0m - \u001b[1mconnected tail to get data on layer data from body 7171: ('127.0.0.1', 54799)\u001b[0m\n",
      "\u001b[32m2023-04-24 00:07:36.679\u001b[0m | \u001b[1mINFO    \u001b[0m | \u001b[36m__main__\u001b[0m:\u001b[36m<module>\u001b[0m:\u001b[36m68\u001b[0m - \u001b[1mFetched the label data from head.\u001b[0m\n"
     ]
    },
    {
     "name": "stdout",
     "output_type": "stream",
     "text": [
      "DS 10 out -> [4, 1, 224, 224]\n"
     ]
    },
    {
     "name": "stderr",
     "output_type": "stream",
     "text": [
      "\u001b[32m2023-04-24 00:07:37.044\u001b[0m | \u001b[1mINFO    \u001b[0m | \u001b[36m__main__\u001b[0m:\u001b[36m<module>\u001b[0m:\u001b[36m92\u001b[0m - \u001b[1msent the backprop data from tail to body 8181 torch.Size([4, 8, 112, 112])\u001b[0m\n",
      "\u001b[32m2023-04-24 00:07:37.046\u001b[0m | \u001b[1mINFO    \u001b[0m | \u001b[36m__main__\u001b[0m:\u001b[36m<module>\u001b[0m:\u001b[36m24\u001b[0m - \u001b[1m The read socket has total ready sockets of 0\u001b[0m\n",
      "\u001b[32m2023-04-24 00:07:37.048\u001b[0m | \u001b[34m\u001b[1mDEBUG   \u001b[0m | \u001b[36m__main__\u001b[0m:\u001b[36m<module>\u001b[0m:\u001b[36m30\u001b[0m - \u001b[34m\u001b[1mstarting at position 1\u001b[0m\n",
      "\u001b[32m2023-04-24 00:08:22.351\u001b[0m | \u001b[34m\u001b[1mDEBUG   \u001b[0m | \u001b[36m__main__\u001b[0m:\u001b[36m<module>\u001b[0m:\u001b[36m36\u001b[0m - \u001b[34m\u001b[1mSocket Y label is ready\u001b[0m\n",
      "\u001b[32m2023-04-24 00:08:22.362\u001b[0m | \u001b[1mINFO    \u001b[0m | \u001b[36m__main__\u001b[0m:\u001b[36m<module>\u001b[0m:\u001b[36m38\u001b[0m - \u001b[1mconnected tail to get data on label from head 6666: ('127.0.0.1', 54819)\u001b[0m\n",
      "\u001b[32m2023-04-24 00:08:22.379\u001b[0m | \u001b[1mINFO    \u001b[0m | \u001b[36m__main__\u001b[0m:\u001b[36m<module>\u001b[0m:\u001b[36m49\u001b[0m - \u001b[1mFetched the label data from head.\u001b[0m\n",
      "\u001b[32m2023-04-24 00:08:35.434\u001b[0m | \u001b[34m\u001b[1mDEBUG   \u001b[0m | \u001b[36m__main__\u001b[0m:\u001b[36m<module>\u001b[0m:\u001b[36m55\u001b[0m - \u001b[34m\u001b[1mSocket Body data is ready\u001b[0m\n",
      "\u001b[32m2023-04-24 00:08:35.439\u001b[0m | \u001b[1mINFO    \u001b[0m | \u001b[36m__main__\u001b[0m:\u001b[36m<module>\u001b[0m:\u001b[36m57\u001b[0m - \u001b[1mconnected tail to get data on layer data from body 7171: ('127.0.0.1', 54832)\u001b[0m\n",
      "\u001b[32m2023-04-24 00:08:35.456\u001b[0m | \u001b[1mINFO    \u001b[0m | \u001b[36m__main__\u001b[0m:\u001b[36m<module>\u001b[0m:\u001b[36m68\u001b[0m - \u001b[1mFetched the label data from head.\u001b[0m\n"
     ]
    },
    {
     "name": "stdout",
     "output_type": "stream",
     "text": [
      "DS 10 out -> [4, 1, 224, 224]\n"
     ]
    },
    {
     "name": "stderr",
     "output_type": "stream",
     "text": [
      "\u001b[32m2023-04-24 00:08:35.850\u001b[0m | \u001b[1mINFO    \u001b[0m | \u001b[36m__main__\u001b[0m:\u001b[36m<module>\u001b[0m:\u001b[36m92\u001b[0m - \u001b[1msent the backprop data from tail to body 8181 torch.Size([4, 8, 112, 112])\u001b[0m\n",
      "\u001b[32m2023-04-24 00:08:35.852\u001b[0m | \u001b[1mINFO    \u001b[0m | \u001b[36m__main__\u001b[0m:\u001b[36m<module>\u001b[0m:\u001b[36m24\u001b[0m - \u001b[1m The read socket has total ready sockets of 0\u001b[0m\n",
      "\u001b[32m2023-04-24 00:08:35.854\u001b[0m | \u001b[34m\u001b[1mDEBUG   \u001b[0m | \u001b[36m__main__\u001b[0m:\u001b[36m<module>\u001b[0m:\u001b[36m30\u001b[0m - \u001b[34m\u001b[1mstarting at position 1\u001b[0m\n",
      "\u001b[32m2023-04-24 00:09:07.919\u001b[0m | \u001b[34m\u001b[1mDEBUG   \u001b[0m | \u001b[36m__main__\u001b[0m:\u001b[36m<module>\u001b[0m:\u001b[36m36\u001b[0m - \u001b[34m\u001b[1mSocket Y label is ready\u001b[0m\n",
      "\u001b[32m2023-04-24 00:09:07.922\u001b[0m | \u001b[1mINFO    \u001b[0m | \u001b[36m__main__\u001b[0m:\u001b[36m<module>\u001b[0m:\u001b[36m38\u001b[0m - \u001b[1mconnected tail to get data on label from head 6666: ('127.0.0.1', 54855)\u001b[0m\n",
      "\u001b[32m2023-04-24 00:09:07.941\u001b[0m | \u001b[1mINFO    \u001b[0m | \u001b[36m__main__\u001b[0m:\u001b[36m<module>\u001b[0m:\u001b[36m49\u001b[0m - \u001b[1mFetched the label data from head.\u001b[0m\n",
      "\u001b[32m2023-04-24 00:09:16.147\u001b[0m | \u001b[34m\u001b[1mDEBUG   \u001b[0m | \u001b[36m__main__\u001b[0m:\u001b[36m<module>\u001b[0m:\u001b[36m55\u001b[0m - \u001b[34m\u001b[1mSocket Body data is ready\u001b[0m\n",
      "\u001b[32m2023-04-24 00:09:16.152\u001b[0m | \u001b[1mINFO    \u001b[0m | \u001b[36m__main__\u001b[0m:\u001b[36m<module>\u001b[0m:\u001b[36m57\u001b[0m - \u001b[1mconnected tail to get data on layer data from body 7171: ('127.0.0.1', 54863)\u001b[0m\n",
      "\u001b[32m2023-04-24 00:09:16.159\u001b[0m | \u001b[1mINFO    \u001b[0m | \u001b[36m__main__\u001b[0m:\u001b[36m<module>\u001b[0m:\u001b[36m68\u001b[0m - \u001b[1mFetched the label data from head.\u001b[0m\n",
      "\u001b[32m2023-04-24 00:09:16.347\u001b[0m | \u001b[1mINFO    \u001b[0m | \u001b[36m__main__\u001b[0m:\u001b[36m<module>\u001b[0m:\u001b[36m92\u001b[0m - \u001b[1msent the backprop data from tail to body 8181 torch.Size([4, 8, 112, 112])\u001b[0m\n",
      "\u001b[32m2023-04-24 00:09:16.350\u001b[0m | \u001b[1mINFO    \u001b[0m | \u001b[36m__main__\u001b[0m:\u001b[36m<module>\u001b[0m:\u001b[36m24\u001b[0m - \u001b[1m The read socket has total ready sockets of 0\u001b[0m\n",
      "\u001b[32m2023-04-24 00:09:16.351\u001b[0m | \u001b[34m\u001b[1mDEBUG   \u001b[0m | \u001b[36m__main__\u001b[0m:\u001b[36m<module>\u001b[0m:\u001b[36m30\u001b[0m - \u001b[34m\u001b[1mstarting at position 1\u001b[0m\n"
     ]
    },
    {
     "name": "stdout",
     "output_type": "stream",
     "text": [
      "DS 10 out -> [4, 1, 224, 224]\n"
     ]
    },
    {
     "name": "stderr",
     "output_type": "stream",
     "text": [
      "\u001b[32m2023-04-24 00:09:39.329\u001b[0m | \u001b[34m\u001b[1mDEBUG   \u001b[0m | \u001b[36m__main__\u001b[0m:\u001b[36m<module>\u001b[0m:\u001b[36m36\u001b[0m - \u001b[34m\u001b[1mSocket Y label is ready\u001b[0m\n",
      "\u001b[32m2023-04-24 00:09:39.334\u001b[0m | \u001b[1mINFO    \u001b[0m | \u001b[36m__main__\u001b[0m:\u001b[36m<module>\u001b[0m:\u001b[36m38\u001b[0m - \u001b[1mconnected tail to get data on label from head 6666: ('127.0.0.1', 54877)\u001b[0m\n",
      "\u001b[32m2023-04-24 00:09:39.346\u001b[0m | \u001b[1mINFO    \u001b[0m | \u001b[36m__main__\u001b[0m:\u001b[36m<module>\u001b[0m:\u001b[36m49\u001b[0m - \u001b[1mFetched the label data from head.\u001b[0m\n",
      "\u001b[32m2023-04-24 00:09:47.361\u001b[0m | \u001b[34m\u001b[1mDEBUG   \u001b[0m | \u001b[36m__main__\u001b[0m:\u001b[36m<module>\u001b[0m:\u001b[36m55\u001b[0m - \u001b[34m\u001b[1mSocket Body data is ready\u001b[0m\n",
      "\u001b[32m2023-04-24 00:09:47.371\u001b[0m | \u001b[1mINFO    \u001b[0m | \u001b[36m__main__\u001b[0m:\u001b[36m<module>\u001b[0m:\u001b[36m57\u001b[0m - \u001b[1mconnected tail to get data on layer data from body 7171: ('127.0.0.1', 54878)\u001b[0m\n",
      "\u001b[32m2023-04-24 00:09:47.377\u001b[0m | \u001b[1mINFO    \u001b[0m | \u001b[36m__main__\u001b[0m:\u001b[36m<module>\u001b[0m:\u001b[36m68\u001b[0m - \u001b[1mFetched the label data from head.\u001b[0m\n",
      "\u001b[32m2023-04-24 00:09:47.531\u001b[0m | \u001b[1mINFO    \u001b[0m | \u001b[36m__main__\u001b[0m:\u001b[36m<module>\u001b[0m:\u001b[36m92\u001b[0m - \u001b[1msent the backprop data from tail to body 8181 torch.Size([4, 8, 112, 112])\u001b[0m\n",
      "\u001b[32m2023-04-24 00:09:47.534\u001b[0m | \u001b[1mINFO    \u001b[0m | \u001b[36m__main__\u001b[0m:\u001b[36m<module>\u001b[0m:\u001b[36m24\u001b[0m - \u001b[1m The read socket has total ready sockets of 0\u001b[0m\n",
      "\u001b[32m2023-04-24 00:09:47.535\u001b[0m | \u001b[34m\u001b[1mDEBUG   \u001b[0m | \u001b[36m__main__\u001b[0m:\u001b[36m<module>\u001b[0m:\u001b[36m30\u001b[0m - \u001b[34m\u001b[1mstarting at position 1\u001b[0m\n"
     ]
    },
    {
     "name": "stdout",
     "output_type": "stream",
     "text": [
      "DS 10 out -> [4, 1, 224, 224]\n"
     ]
    },
    {
     "name": "stderr",
     "output_type": "stream",
     "text": [
      "\u001b[32m2023-04-24 00:10:06.993\u001b[0m | \u001b[34m\u001b[1mDEBUG   \u001b[0m | \u001b[36m__main__\u001b[0m:\u001b[36m<module>\u001b[0m:\u001b[36m36\u001b[0m - \u001b[34m\u001b[1mSocket Y label is ready\u001b[0m\n",
      "\u001b[32m2023-04-24 00:10:06.996\u001b[0m | \u001b[1mINFO    \u001b[0m | \u001b[36m__main__\u001b[0m:\u001b[36m<module>\u001b[0m:\u001b[36m38\u001b[0m - \u001b[1mconnected tail to get data on label from head 6666: ('127.0.0.1', 54896)\u001b[0m\n",
      "\u001b[32m2023-04-24 00:10:07.003\u001b[0m | \u001b[1mINFO    \u001b[0m | \u001b[36m__main__\u001b[0m:\u001b[36m<module>\u001b[0m:\u001b[36m49\u001b[0m - \u001b[1mFetched the label data from head.\u001b[0m\n",
      "\u001b[32m2023-04-24 00:10:15.016\u001b[0m | \u001b[34m\u001b[1mDEBUG   \u001b[0m | \u001b[36m__main__\u001b[0m:\u001b[36m<module>\u001b[0m:\u001b[36m55\u001b[0m - \u001b[34m\u001b[1mSocket Body data is ready\u001b[0m\n",
      "\u001b[32m2023-04-24 00:10:15.021\u001b[0m | \u001b[1mINFO    \u001b[0m | \u001b[36m__main__\u001b[0m:\u001b[36m<module>\u001b[0m:\u001b[36m57\u001b[0m - \u001b[1mconnected tail to get data on layer data from body 7171: ('127.0.0.1', 54898)\u001b[0m\n",
      "\u001b[32m2023-04-24 00:10:15.028\u001b[0m | \u001b[1mINFO    \u001b[0m | \u001b[36m__main__\u001b[0m:\u001b[36m<module>\u001b[0m:\u001b[36m68\u001b[0m - \u001b[1mFetched the label data from head.\u001b[0m\n",
      "\u001b[32m2023-04-24 00:10:15.160\u001b[0m | \u001b[1mINFO    \u001b[0m | \u001b[36m__main__\u001b[0m:\u001b[36m<module>\u001b[0m:\u001b[36m92\u001b[0m - \u001b[1msent the backprop data from tail to body 8181 torch.Size([4, 8, 112, 112])\u001b[0m\n",
      "\u001b[32m2023-04-24 00:10:15.161\u001b[0m | \u001b[1mINFO    \u001b[0m | \u001b[36m__main__\u001b[0m:\u001b[36m<module>\u001b[0m:\u001b[36m24\u001b[0m - \u001b[1m The read socket has total ready sockets of 0\u001b[0m\n",
      "\u001b[32m2023-04-24 00:10:15.162\u001b[0m | \u001b[34m\u001b[1mDEBUG   \u001b[0m | \u001b[36m__main__\u001b[0m:\u001b[36m<module>\u001b[0m:\u001b[36m30\u001b[0m - \u001b[34m\u001b[1mstarting at position 1\u001b[0m\n"
     ]
    },
    {
     "name": "stdout",
     "output_type": "stream",
     "text": [
      "DS 10 out -> [4, 1, 224, 224]\n"
     ]
    },
    {
     "name": "stderr",
     "output_type": "stream",
     "text": [
      "\u001b[32m2023-04-24 00:10:39.146\u001b[0m | \u001b[34m\u001b[1mDEBUG   \u001b[0m | \u001b[36m__main__\u001b[0m:\u001b[36m<module>\u001b[0m:\u001b[36m36\u001b[0m - \u001b[34m\u001b[1mSocket Y label is ready\u001b[0m\n",
      "\u001b[32m2023-04-24 00:10:39.148\u001b[0m | \u001b[1mINFO    \u001b[0m | \u001b[36m__main__\u001b[0m:\u001b[36m<module>\u001b[0m:\u001b[36m38\u001b[0m - \u001b[1mconnected tail to get data on label from head 6666: ('127.0.0.1', 54977)\u001b[0m\n",
      "\u001b[32m2023-04-24 00:10:39.156\u001b[0m | \u001b[1mINFO    \u001b[0m | \u001b[36m__main__\u001b[0m:\u001b[36m<module>\u001b[0m:\u001b[36m49\u001b[0m - \u001b[1mFetched the label data from head.\u001b[0m\n",
      "\u001b[32m2023-04-24 00:10:47.431\u001b[0m | \u001b[34m\u001b[1mDEBUG   \u001b[0m | \u001b[36m__main__\u001b[0m:\u001b[36m<module>\u001b[0m:\u001b[36m55\u001b[0m - \u001b[34m\u001b[1mSocket Body data is ready\u001b[0m\n",
      "\u001b[32m2023-04-24 00:10:47.434\u001b[0m | \u001b[1mINFO    \u001b[0m | \u001b[36m__main__\u001b[0m:\u001b[36m<module>\u001b[0m:\u001b[36m57\u001b[0m - \u001b[1mconnected tail to get data on layer data from body 7171: ('127.0.0.1', 54989)\u001b[0m\n",
      "\u001b[32m2023-04-24 00:10:47.438\u001b[0m | \u001b[1mINFO    \u001b[0m | \u001b[36m__main__\u001b[0m:\u001b[36m<module>\u001b[0m:\u001b[36m68\u001b[0m - \u001b[1mFetched the label data from head.\u001b[0m\n",
      "\u001b[32m2023-04-24 00:10:47.618\u001b[0m | \u001b[1mINFO    \u001b[0m | \u001b[36m__main__\u001b[0m:\u001b[36m<module>\u001b[0m:\u001b[36m92\u001b[0m - \u001b[1msent the backprop data from tail to body 8181 torch.Size([4, 8, 112, 112])\u001b[0m\n",
      "\u001b[32m2023-04-24 00:10:47.621\u001b[0m | \u001b[1mINFO    \u001b[0m | \u001b[36m__main__\u001b[0m:\u001b[36m<module>\u001b[0m:\u001b[36m24\u001b[0m - \u001b[1m The read socket has total ready sockets of 0\u001b[0m\n",
      "\u001b[32m2023-04-24 00:10:47.622\u001b[0m | \u001b[34m\u001b[1mDEBUG   \u001b[0m | \u001b[36m__main__\u001b[0m:\u001b[36m<module>\u001b[0m:\u001b[36m30\u001b[0m - \u001b[34m\u001b[1mstarting at position 1\u001b[0m\n"
     ]
    },
    {
     "name": "stdout",
     "output_type": "stream",
     "text": [
      "DS 10 out -> [4, 1, 224, 224]\n"
     ]
    },
    {
     "name": "stderr",
     "output_type": "stream",
     "text": [
      "\u001b[32m2023-04-24 00:11:17.144\u001b[0m | \u001b[34m\u001b[1mDEBUG   \u001b[0m | \u001b[36m__main__\u001b[0m:\u001b[36m<module>\u001b[0m:\u001b[36m36\u001b[0m - \u001b[34m\u001b[1mSocket Y label is ready\u001b[0m\n",
      "\u001b[32m2023-04-24 00:11:17.150\u001b[0m | \u001b[1mINFO    \u001b[0m | \u001b[36m__main__\u001b[0m:\u001b[36m<module>\u001b[0m:\u001b[36m38\u001b[0m - \u001b[1mconnected tail to get data on label from head 6666: ('127.0.0.1', 55018)\u001b[0m\n",
      "\u001b[32m2023-04-24 00:11:17.160\u001b[0m | \u001b[1mINFO    \u001b[0m | \u001b[36m__main__\u001b[0m:\u001b[36m<module>\u001b[0m:\u001b[36m49\u001b[0m - \u001b[1mFetched the label data from head.\u001b[0m\n",
      "\u001b[32m2023-04-24 00:11:25.170\u001b[0m | \u001b[34m\u001b[1mDEBUG   \u001b[0m | \u001b[36m__main__\u001b[0m:\u001b[36m<module>\u001b[0m:\u001b[36m55\u001b[0m - \u001b[34m\u001b[1mSocket Body data is ready\u001b[0m\n",
      "\u001b[32m2023-04-24 00:11:25.174\u001b[0m | \u001b[1mINFO    \u001b[0m | \u001b[36m__main__\u001b[0m:\u001b[36m<module>\u001b[0m:\u001b[36m57\u001b[0m - \u001b[1mconnected tail to get data on layer data from body 7171: ('127.0.0.1', 55025)\u001b[0m\n",
      "\u001b[32m2023-04-24 00:11:25.183\u001b[0m | \u001b[1mINFO    \u001b[0m | \u001b[36m__main__\u001b[0m:\u001b[36m<module>\u001b[0m:\u001b[36m68\u001b[0m - \u001b[1mFetched the label data from head.\u001b[0m\n",
      "\u001b[32m2023-04-24 00:11:25.330\u001b[0m | \u001b[1mINFO    \u001b[0m | \u001b[36m__main__\u001b[0m:\u001b[36m<module>\u001b[0m:\u001b[36m92\u001b[0m - \u001b[1msent the backprop data from tail to body 8181 torch.Size([4, 8, 112, 112])\u001b[0m\n",
      "\u001b[32m2023-04-24 00:11:25.331\u001b[0m | \u001b[1mINFO    \u001b[0m | \u001b[36m__main__\u001b[0m:\u001b[36m<module>\u001b[0m:\u001b[36m24\u001b[0m - \u001b[1m The read socket has total ready sockets of 0\u001b[0m\n",
      "\u001b[32m2023-04-24 00:11:25.332\u001b[0m | \u001b[34m\u001b[1mDEBUG   \u001b[0m | \u001b[36m__main__\u001b[0m:\u001b[36m<module>\u001b[0m:\u001b[36m30\u001b[0m - \u001b[34m\u001b[1mstarting at position 1\u001b[0m\n"
     ]
    },
    {
     "name": "stdout",
     "output_type": "stream",
     "text": [
      "DS 10 out -> [4, 1, 224, 224]\n"
     ]
    },
    {
     "name": "stderr",
     "output_type": "stream",
     "text": [
      "\u001b[32m2023-04-24 00:11:47.133\u001b[0m | \u001b[34m\u001b[1mDEBUG   \u001b[0m | \u001b[36m__main__\u001b[0m:\u001b[36m<module>\u001b[0m:\u001b[36m36\u001b[0m - \u001b[34m\u001b[1mSocket Y label is ready\u001b[0m\n",
      "\u001b[32m2023-04-24 00:11:47.137\u001b[0m | \u001b[1mINFO    \u001b[0m | \u001b[36m__main__\u001b[0m:\u001b[36m<module>\u001b[0m:\u001b[36m38\u001b[0m - \u001b[1mconnected tail to get data on label from head 6666: ('127.0.0.1', 55036)\u001b[0m\n",
      "\u001b[32m2023-04-24 00:11:47.152\u001b[0m | \u001b[1mINFO    \u001b[0m | \u001b[36m__main__\u001b[0m:\u001b[36m<module>\u001b[0m:\u001b[36m49\u001b[0m - \u001b[1mFetched the label data from head.\u001b[0m\n",
      "\u001b[32m2023-04-24 00:11:55.167\u001b[0m | \u001b[34m\u001b[1mDEBUG   \u001b[0m | \u001b[36m__main__\u001b[0m:\u001b[36m<module>\u001b[0m:\u001b[36m55\u001b[0m - \u001b[34m\u001b[1mSocket Body data is ready\u001b[0m\n",
      "\u001b[32m2023-04-24 00:11:55.170\u001b[0m | \u001b[1mINFO    \u001b[0m | \u001b[36m__main__\u001b[0m:\u001b[36m<module>\u001b[0m:\u001b[36m57\u001b[0m - \u001b[1mconnected tail to get data on layer data from body 7171: ('127.0.0.1', 55039)\u001b[0m\n",
      "\u001b[32m2023-04-24 00:11:55.177\u001b[0m | \u001b[1mINFO    \u001b[0m | \u001b[36m__main__\u001b[0m:\u001b[36m<module>\u001b[0m:\u001b[36m68\u001b[0m - \u001b[1mFetched the label data from head.\u001b[0m\n",
      "\u001b[32m2023-04-24 00:11:55.325\u001b[0m | \u001b[1mINFO    \u001b[0m | \u001b[36m__main__\u001b[0m:\u001b[36m<module>\u001b[0m:\u001b[36m92\u001b[0m - \u001b[1msent the backprop data from tail to body 8181 torch.Size([4, 8, 112, 112])\u001b[0m\n",
      "\u001b[32m2023-04-24 00:11:55.326\u001b[0m | \u001b[1mINFO    \u001b[0m | \u001b[36m__main__\u001b[0m:\u001b[36m<module>\u001b[0m:\u001b[36m24\u001b[0m - \u001b[1m The read socket has total ready sockets of 0\u001b[0m\n",
      "\u001b[32m2023-04-24 00:11:55.328\u001b[0m | \u001b[34m\u001b[1mDEBUG   \u001b[0m | \u001b[36m__main__\u001b[0m:\u001b[36m<module>\u001b[0m:\u001b[36m30\u001b[0m - \u001b[34m\u001b[1mstarting at position 1\u001b[0m\n"
     ]
    },
    {
     "name": "stdout",
     "output_type": "stream",
     "text": [
      "DS 10 out -> [4, 1, 224, 224]\n"
     ]
    },
    {
     "name": "stderr",
     "output_type": "stream",
     "text": [
      "\u001b[32m2023-04-24 00:12:10.582\u001b[0m | \u001b[34m\u001b[1mDEBUG   \u001b[0m | \u001b[36m__main__\u001b[0m:\u001b[36m<module>\u001b[0m:\u001b[36m36\u001b[0m - \u001b[34m\u001b[1mSocket Y label is ready\u001b[0m\n",
      "\u001b[32m2023-04-24 00:12:10.585\u001b[0m | \u001b[1mINFO    \u001b[0m | \u001b[36m__main__\u001b[0m:\u001b[36m<module>\u001b[0m:\u001b[36m38\u001b[0m - \u001b[1mconnected tail to get data on label from head 6666: ('127.0.0.1', 55048)\u001b[0m\n",
      "\u001b[32m2023-04-24 00:12:10.590\u001b[0m | \u001b[1mINFO    \u001b[0m | \u001b[36m__main__\u001b[0m:\u001b[36m<module>\u001b[0m:\u001b[36m49\u001b[0m - \u001b[1mFetched the label data from head.\u001b[0m\n",
      "\u001b[32m2023-04-24 00:12:18.599\u001b[0m | \u001b[34m\u001b[1mDEBUG   \u001b[0m | \u001b[36m__main__\u001b[0m:\u001b[36m<module>\u001b[0m:\u001b[36m55\u001b[0m - \u001b[34m\u001b[1mSocket Body data is ready\u001b[0m\n",
      "\u001b[32m2023-04-24 00:12:18.602\u001b[0m | \u001b[1mINFO    \u001b[0m | \u001b[36m__main__\u001b[0m:\u001b[36m<module>\u001b[0m:\u001b[36m57\u001b[0m - \u001b[1mconnected tail to get data on layer data from body 7171: ('127.0.0.1', 55054)\u001b[0m\n",
      "\u001b[32m2023-04-24 00:12:18.608\u001b[0m | \u001b[1mINFO    \u001b[0m | \u001b[36m__main__\u001b[0m:\u001b[36m<module>\u001b[0m:\u001b[36m68\u001b[0m - \u001b[1mFetched the label data from head.\u001b[0m\n",
      "\u001b[32m2023-04-24 00:12:18.736\u001b[0m | \u001b[1mINFO    \u001b[0m | \u001b[36m__main__\u001b[0m:\u001b[36m<module>\u001b[0m:\u001b[36m92\u001b[0m - \u001b[1msent the backprop data from tail to body 8181 torch.Size([4, 8, 112, 112])\u001b[0m\n",
      "\u001b[32m2023-04-24 00:12:18.738\u001b[0m | \u001b[1mINFO    \u001b[0m | \u001b[36m__main__\u001b[0m:\u001b[36m<module>\u001b[0m:\u001b[36m24\u001b[0m - \u001b[1m The read socket has total ready sockets of 0\u001b[0m\n",
      "\u001b[32m2023-04-24 00:12:18.741\u001b[0m | \u001b[34m\u001b[1mDEBUG   \u001b[0m | \u001b[36m__main__\u001b[0m:\u001b[36m<module>\u001b[0m:\u001b[36m30\u001b[0m - \u001b[34m\u001b[1mstarting at position 1\u001b[0m\n"
     ]
    },
    {
     "name": "stdout",
     "output_type": "stream",
     "text": [
      "DS 10 out -> [4, 1, 224, 224]\n"
     ]
    },
    {
     "name": "stderr",
     "output_type": "stream",
     "text": [
      "\u001b[32m2023-04-24 00:12:34.288\u001b[0m | \u001b[34m\u001b[1mDEBUG   \u001b[0m | \u001b[36m__main__\u001b[0m:\u001b[36m<module>\u001b[0m:\u001b[36m36\u001b[0m - \u001b[34m\u001b[1mSocket Y label is ready\u001b[0m\n",
      "\u001b[32m2023-04-24 00:12:34.291\u001b[0m | \u001b[1mINFO    \u001b[0m | \u001b[36m__main__\u001b[0m:\u001b[36m<module>\u001b[0m:\u001b[36m38\u001b[0m - \u001b[1mconnected tail to get data on label from head 6666: ('127.0.0.1', 55064)\u001b[0m\n",
      "\u001b[32m2023-04-24 00:12:34.295\u001b[0m | \u001b[1mINFO    \u001b[0m | \u001b[36m__main__\u001b[0m:\u001b[36m<module>\u001b[0m:\u001b[36m49\u001b[0m - \u001b[1mFetched the label data from head.\u001b[0m\n",
      "\u001b[32m2023-04-24 00:12:42.300\u001b[0m | \u001b[34m\u001b[1mDEBUG   \u001b[0m | \u001b[36m__main__\u001b[0m:\u001b[36m<module>\u001b[0m:\u001b[36m55\u001b[0m - \u001b[34m\u001b[1mSocket Body data is ready\u001b[0m\n",
      "\u001b[32m2023-04-24 00:12:42.303\u001b[0m | \u001b[1mINFO    \u001b[0m | \u001b[36m__main__\u001b[0m:\u001b[36m<module>\u001b[0m:\u001b[36m57\u001b[0m - \u001b[1mconnected tail to get data on layer data from body 7171: ('127.0.0.1', 55070)\u001b[0m\n",
      "\u001b[32m2023-04-24 00:12:42.309\u001b[0m | \u001b[1mINFO    \u001b[0m | \u001b[36m__main__\u001b[0m:\u001b[36m<module>\u001b[0m:\u001b[36m68\u001b[0m - \u001b[1mFetched the label data from head.\u001b[0m\n",
      "\u001b[32m2023-04-24 00:12:42.476\u001b[0m | \u001b[1mINFO    \u001b[0m | \u001b[36m__main__\u001b[0m:\u001b[36m<module>\u001b[0m:\u001b[36m92\u001b[0m - \u001b[1msent the backprop data from tail to body 8181 torch.Size([4, 8, 112, 112])\u001b[0m\n",
      "\u001b[32m2023-04-24 00:12:42.478\u001b[0m | \u001b[1mINFO    \u001b[0m | \u001b[36m__main__\u001b[0m:\u001b[36m<module>\u001b[0m:\u001b[36m24\u001b[0m - \u001b[1m The read socket has total ready sockets of 0\u001b[0m\n",
      "\u001b[32m2023-04-24 00:12:42.479\u001b[0m | \u001b[34m\u001b[1mDEBUG   \u001b[0m | \u001b[36m__main__\u001b[0m:\u001b[36m<module>\u001b[0m:\u001b[36m30\u001b[0m - \u001b[34m\u001b[1mstarting at position 1\u001b[0m\n"
     ]
    },
    {
     "name": "stdout",
     "output_type": "stream",
     "text": [
      "DS 10 out -> [4, 1, 224, 224]\n"
     ]
    },
    {
     "name": "stderr",
     "output_type": "stream",
     "text": [
      "\u001b[32m2023-04-24 00:12:57.574\u001b[0m | \u001b[34m\u001b[1mDEBUG   \u001b[0m | \u001b[36m__main__\u001b[0m:\u001b[36m<module>\u001b[0m:\u001b[36m36\u001b[0m - \u001b[34m\u001b[1mSocket Y label is ready\u001b[0m\n",
      "\u001b[32m2023-04-24 00:12:57.577\u001b[0m | \u001b[1mINFO    \u001b[0m | \u001b[36m__main__\u001b[0m:\u001b[36m<module>\u001b[0m:\u001b[36m38\u001b[0m - \u001b[1mconnected tail to get data on label from head 6666: ('127.0.0.1', 55081)\u001b[0m\n",
      "\u001b[32m2023-04-24 00:12:57.582\u001b[0m | \u001b[1mINFO    \u001b[0m | \u001b[36m__main__\u001b[0m:\u001b[36m<module>\u001b[0m:\u001b[36m49\u001b[0m - \u001b[1mFetched the label data from head.\u001b[0m\n",
      "\u001b[32m2023-04-24 00:13:05.586\u001b[0m | \u001b[34m\u001b[1mDEBUG   \u001b[0m | \u001b[36m__main__\u001b[0m:\u001b[36m<module>\u001b[0m:\u001b[36m55\u001b[0m - \u001b[34m\u001b[1mSocket Body data is ready\u001b[0m\n",
      "\u001b[32m2023-04-24 00:13:05.591\u001b[0m | \u001b[1mINFO    \u001b[0m | \u001b[36m__main__\u001b[0m:\u001b[36m<module>\u001b[0m:\u001b[36m57\u001b[0m - \u001b[1mconnected tail to get data on layer data from body 7171: ('127.0.0.1', 55086)\u001b[0m\n",
      "\u001b[32m2023-04-24 00:13:05.598\u001b[0m | \u001b[1mINFO    \u001b[0m | \u001b[36m__main__\u001b[0m:\u001b[36m<module>\u001b[0m:\u001b[36m68\u001b[0m - \u001b[1mFetched the label data from head.\u001b[0m\n",
      "\u001b[32m2023-04-24 00:13:05.742\u001b[0m | \u001b[1mINFO    \u001b[0m | \u001b[36m__main__\u001b[0m:\u001b[36m<module>\u001b[0m:\u001b[36m92\u001b[0m - \u001b[1msent the backprop data from tail to body 8181 torch.Size([4, 8, 112, 112])\u001b[0m\n",
      "\u001b[32m2023-04-24 00:13:05.744\u001b[0m | \u001b[1mINFO    \u001b[0m | \u001b[36m__main__\u001b[0m:\u001b[36m<module>\u001b[0m:\u001b[36m24\u001b[0m - \u001b[1m The read socket has total ready sockets of 0\u001b[0m\n",
      "\u001b[32m2023-04-24 00:13:05.745\u001b[0m | \u001b[34m\u001b[1mDEBUG   \u001b[0m | \u001b[36m__main__\u001b[0m:\u001b[36m<module>\u001b[0m:\u001b[36m30\u001b[0m - \u001b[34m\u001b[1mstarting at position 1\u001b[0m\n"
     ]
    },
    {
     "name": "stdout",
     "output_type": "stream",
     "text": [
      "DS 10 out -> [4, 1, 224, 224]\n"
     ]
    },
    {
     "name": "stderr",
     "output_type": "stream",
     "text": [
      "\u001b[32m2023-04-24 00:13:21.701\u001b[0m | \u001b[34m\u001b[1mDEBUG   \u001b[0m | \u001b[36m__main__\u001b[0m:\u001b[36m<module>\u001b[0m:\u001b[36m36\u001b[0m - \u001b[34m\u001b[1mSocket Y label is ready\u001b[0m\n",
      "\u001b[32m2023-04-24 00:13:21.704\u001b[0m | \u001b[1mINFO    \u001b[0m | \u001b[36m__main__\u001b[0m:\u001b[36m<module>\u001b[0m:\u001b[36m38\u001b[0m - \u001b[1mconnected tail to get data on label from head 6666: ('127.0.0.1', 55096)\u001b[0m\n",
      "\u001b[32m2023-04-24 00:13:21.709\u001b[0m | \u001b[1mINFO    \u001b[0m | \u001b[36m__main__\u001b[0m:\u001b[36m<module>\u001b[0m:\u001b[36m49\u001b[0m - \u001b[1mFetched the label data from head.\u001b[0m\n",
      "\u001b[32m2023-04-24 00:13:29.713\u001b[0m | \u001b[34m\u001b[1mDEBUG   \u001b[0m | \u001b[36m__main__\u001b[0m:\u001b[36m<module>\u001b[0m:\u001b[36m55\u001b[0m - \u001b[34m\u001b[1mSocket Body data is ready\u001b[0m\n",
      "\u001b[32m2023-04-24 00:13:29.716\u001b[0m | \u001b[1mINFO    \u001b[0m | \u001b[36m__main__\u001b[0m:\u001b[36m<module>\u001b[0m:\u001b[36m57\u001b[0m - \u001b[1mconnected tail to get data on layer data from body 7171: ('127.0.0.1', 55102)\u001b[0m\n",
      "\u001b[32m2023-04-24 00:13:29.725\u001b[0m | \u001b[1mINFO    \u001b[0m | \u001b[36m__main__\u001b[0m:\u001b[36m<module>\u001b[0m:\u001b[36m68\u001b[0m - \u001b[1mFetched the label data from head.\u001b[0m\n",
      "\u001b[32m2023-04-24 00:13:29.861\u001b[0m | \u001b[1mINFO    \u001b[0m | \u001b[36m__main__\u001b[0m:\u001b[36m<module>\u001b[0m:\u001b[36m92\u001b[0m - \u001b[1msent the backprop data from tail to body 8181 torch.Size([4, 8, 112, 112])\u001b[0m\n",
      "\u001b[32m2023-04-24 00:13:29.863\u001b[0m | \u001b[1mINFO    \u001b[0m | \u001b[36m__main__\u001b[0m:\u001b[36m<module>\u001b[0m:\u001b[36m24\u001b[0m - \u001b[1m The read socket has total ready sockets of 0\u001b[0m\n",
      "\u001b[32m2023-04-24 00:13:29.864\u001b[0m | \u001b[34m\u001b[1mDEBUG   \u001b[0m | \u001b[36m__main__\u001b[0m:\u001b[36m<module>\u001b[0m:\u001b[36m30\u001b[0m - \u001b[34m\u001b[1mstarting at position 1\u001b[0m\n"
     ]
    },
    {
     "name": "stdout",
     "output_type": "stream",
     "text": [
      "DS 10 out -> [4, 1, 224, 224]\n"
     ]
    },
    {
     "name": "stderr",
     "output_type": "stream",
     "text": [
      "\u001b[32m2023-04-24 00:13:46.980\u001b[0m | \u001b[34m\u001b[1mDEBUG   \u001b[0m | \u001b[36m__main__\u001b[0m:\u001b[36m<module>\u001b[0m:\u001b[36m36\u001b[0m - \u001b[34m\u001b[1mSocket Y label is ready\u001b[0m\n",
      "\u001b[32m2023-04-24 00:13:46.982\u001b[0m | \u001b[1mINFO    \u001b[0m | \u001b[36m__main__\u001b[0m:\u001b[36m<module>\u001b[0m:\u001b[36m38\u001b[0m - \u001b[1mconnected tail to get data on label from head 6666: ('127.0.0.1', 55131)\u001b[0m\n",
      "\u001b[32m2023-04-24 00:13:46.987\u001b[0m | \u001b[1mINFO    \u001b[0m | \u001b[36m__main__\u001b[0m:\u001b[36m<module>\u001b[0m:\u001b[36m49\u001b[0m - \u001b[1mFetched the label data from head.\u001b[0m\n",
      "\u001b[32m2023-04-24 00:13:55.004\u001b[0m | \u001b[34m\u001b[1mDEBUG   \u001b[0m | \u001b[36m__main__\u001b[0m:\u001b[36m<module>\u001b[0m:\u001b[36m55\u001b[0m - \u001b[34m\u001b[1mSocket Body data is ready\u001b[0m\n",
      "\u001b[32m2023-04-24 00:13:55.009\u001b[0m | \u001b[1mINFO    \u001b[0m | \u001b[36m__main__\u001b[0m:\u001b[36m<module>\u001b[0m:\u001b[36m57\u001b[0m - \u001b[1mconnected tail to get data on layer data from body 7171: ('127.0.0.1', 55133)\u001b[0m\n",
      "\u001b[32m2023-04-24 00:13:55.016\u001b[0m | \u001b[1mINFO    \u001b[0m | \u001b[36m__main__\u001b[0m:\u001b[36m<module>\u001b[0m:\u001b[36m68\u001b[0m - \u001b[1mFetched the label data from head.\u001b[0m\n",
      "\u001b[32m2023-04-24 00:13:55.130\u001b[0m | \u001b[1mINFO    \u001b[0m | \u001b[36m__main__\u001b[0m:\u001b[36m<module>\u001b[0m:\u001b[36m92\u001b[0m - \u001b[1msent the backprop data from tail to body 8181 torch.Size([4, 8, 112, 112])\u001b[0m\n",
      "\u001b[32m2023-04-24 00:13:55.132\u001b[0m | \u001b[1mINFO    \u001b[0m | \u001b[36m__main__\u001b[0m:\u001b[36m<module>\u001b[0m:\u001b[36m24\u001b[0m - \u001b[1m The read socket has total ready sockets of 0\u001b[0m\n",
      "\u001b[32m2023-04-24 00:13:55.133\u001b[0m | \u001b[34m\u001b[1mDEBUG   \u001b[0m | \u001b[36m__main__\u001b[0m:\u001b[36m<module>\u001b[0m:\u001b[36m30\u001b[0m - \u001b[34m\u001b[1mstarting at position 1\u001b[0m\n"
     ]
    },
    {
     "name": "stdout",
     "output_type": "stream",
     "text": [
      "DS 10 out -> [4, 1, 224, 224]\n"
     ]
    },
    {
     "name": "stderr",
     "output_type": "stream",
     "text": [
      "\u001b[32m2023-04-24 00:14:13.243\u001b[0m | \u001b[34m\u001b[1mDEBUG   \u001b[0m | \u001b[36m__main__\u001b[0m:\u001b[36m<module>\u001b[0m:\u001b[36m36\u001b[0m - \u001b[34m\u001b[1mSocket Y label is ready\u001b[0m\n",
      "\u001b[32m2023-04-24 00:14:13.246\u001b[0m | \u001b[1mINFO    \u001b[0m | \u001b[36m__main__\u001b[0m:\u001b[36m<module>\u001b[0m:\u001b[36m38\u001b[0m - \u001b[1mconnected tail to get data on label from head 6666: ('127.0.0.1', 55150)\u001b[0m\n",
      "\u001b[32m2023-04-24 00:14:13.250\u001b[0m | \u001b[1mINFO    \u001b[0m | \u001b[36m__main__\u001b[0m:\u001b[36m<module>\u001b[0m:\u001b[36m49\u001b[0m - \u001b[1mFetched the label data from head.\u001b[0m\n",
      "\u001b[32m2023-04-24 00:14:21.255\u001b[0m | \u001b[34m\u001b[1mDEBUG   \u001b[0m | \u001b[36m__main__\u001b[0m:\u001b[36m<module>\u001b[0m:\u001b[36m55\u001b[0m - \u001b[34m\u001b[1mSocket Body data is ready\u001b[0m\n",
      "\u001b[32m2023-04-24 00:14:21.258\u001b[0m | \u001b[1mINFO    \u001b[0m | \u001b[36m__main__\u001b[0m:\u001b[36m<module>\u001b[0m:\u001b[36m57\u001b[0m - \u001b[1mconnected tail to get data on layer data from body 7171: ('127.0.0.1', 55153)\u001b[0m\n",
      "\u001b[32m2023-04-24 00:14:21.264\u001b[0m | \u001b[1mINFO    \u001b[0m | \u001b[36m__main__\u001b[0m:\u001b[36m<module>\u001b[0m:\u001b[36m68\u001b[0m - \u001b[1mFetched the label data from head.\u001b[0m\n",
      "\u001b[32m2023-04-24 00:14:21.413\u001b[0m | \u001b[1mINFO    \u001b[0m | \u001b[36m__main__\u001b[0m:\u001b[36m<module>\u001b[0m:\u001b[36m92\u001b[0m - \u001b[1msent the backprop data from tail to body 8181 torch.Size([4, 8, 112, 112])\u001b[0m\n",
      "\u001b[32m2023-04-24 00:14:21.416\u001b[0m | \u001b[1mINFO    \u001b[0m | \u001b[36m__main__\u001b[0m:\u001b[36m<module>\u001b[0m:\u001b[36m24\u001b[0m - \u001b[1m The read socket has total ready sockets of 0\u001b[0m\n",
      "\u001b[32m2023-04-24 00:14:21.417\u001b[0m | \u001b[34m\u001b[1mDEBUG   \u001b[0m | \u001b[36m__main__\u001b[0m:\u001b[36m<module>\u001b[0m:\u001b[36m30\u001b[0m - \u001b[34m\u001b[1mstarting at position 1\u001b[0m\n"
     ]
    },
    {
     "name": "stdout",
     "output_type": "stream",
     "text": [
      "DS 10 out -> [4, 1, 224, 224]\n"
     ]
    },
    {
     "name": "stderr",
     "output_type": "stream",
     "text": [
      "\u001b[32m2023-04-24 00:14:36.191\u001b[0m | \u001b[34m\u001b[1mDEBUG   \u001b[0m | \u001b[36m__main__\u001b[0m:\u001b[36m<module>\u001b[0m:\u001b[36m36\u001b[0m - \u001b[34m\u001b[1mSocket Y label is ready\u001b[0m\n",
      "\u001b[32m2023-04-24 00:14:36.193\u001b[0m | \u001b[1mINFO    \u001b[0m | \u001b[36m__main__\u001b[0m:\u001b[36m<module>\u001b[0m:\u001b[36m38\u001b[0m - \u001b[1mconnected tail to get data on label from head 6666: ('127.0.0.1', 55172)\u001b[0m\n",
      "\u001b[32m2023-04-24 00:14:36.198\u001b[0m | \u001b[1mINFO    \u001b[0m | \u001b[36m__main__\u001b[0m:\u001b[36m<module>\u001b[0m:\u001b[36m49\u001b[0m - \u001b[1mFetched the label data from head.\u001b[0m\n",
      "\u001b[32m2023-04-24 00:14:44.206\u001b[0m | \u001b[34m\u001b[1mDEBUG   \u001b[0m | \u001b[36m__main__\u001b[0m:\u001b[36m<module>\u001b[0m:\u001b[36m55\u001b[0m - \u001b[34m\u001b[1mSocket Body data is ready\u001b[0m\n",
      "\u001b[32m2023-04-24 00:14:44.210\u001b[0m | \u001b[1mINFO    \u001b[0m | \u001b[36m__main__\u001b[0m:\u001b[36m<module>\u001b[0m:\u001b[36m57\u001b[0m - \u001b[1mconnected tail to get data on layer data from body 7171: ('127.0.0.1', 55179)\u001b[0m\n",
      "\u001b[32m2023-04-24 00:14:44.217\u001b[0m | \u001b[1mINFO    \u001b[0m | \u001b[36m__main__\u001b[0m:\u001b[36m<module>\u001b[0m:\u001b[36m68\u001b[0m - \u001b[1mFetched the label data from head.\u001b[0m\n",
      "\u001b[32m2023-04-24 00:14:44.326\u001b[0m | \u001b[1mINFO    \u001b[0m | \u001b[36m__main__\u001b[0m:\u001b[36m<module>\u001b[0m:\u001b[36m92\u001b[0m - \u001b[1msent the backprop data from tail to body 8181 torch.Size([4, 8, 112, 112])\u001b[0m\n",
      "\u001b[32m2023-04-24 00:14:44.328\u001b[0m | \u001b[1mINFO    \u001b[0m | \u001b[36m__main__\u001b[0m:\u001b[36m<module>\u001b[0m:\u001b[36m24\u001b[0m - \u001b[1m The read socket has total ready sockets of 0\u001b[0m\n",
      "\u001b[32m2023-04-24 00:14:44.330\u001b[0m | \u001b[34m\u001b[1mDEBUG   \u001b[0m | \u001b[36m__main__\u001b[0m:\u001b[36m<module>\u001b[0m:\u001b[36m30\u001b[0m - \u001b[34m\u001b[1mstarting at position 1\u001b[0m\n"
     ]
    },
    {
     "name": "stdout",
     "output_type": "stream",
     "text": [
      "DS 10 out -> [4, 1, 224, 224]\n"
     ]
    },
    {
     "name": "stderr",
     "output_type": "stream",
     "text": [
      "\u001b[32m2023-04-24 00:15:02.245\u001b[0m | \u001b[34m\u001b[1mDEBUG   \u001b[0m | \u001b[36m__main__\u001b[0m:\u001b[36m<module>\u001b[0m:\u001b[36m36\u001b[0m - \u001b[34m\u001b[1mSocket Y label is ready\u001b[0m\n",
      "\u001b[32m2023-04-24 00:15:02.249\u001b[0m | \u001b[1mINFO    \u001b[0m | \u001b[36m__main__\u001b[0m:\u001b[36m<module>\u001b[0m:\u001b[36m38\u001b[0m - \u001b[1mconnected tail to get data on label from head 6666: ('127.0.0.1', 55197)\u001b[0m\n",
      "\u001b[32m2023-04-24 00:15:02.253\u001b[0m | \u001b[1mINFO    \u001b[0m | \u001b[36m__main__\u001b[0m:\u001b[36m<module>\u001b[0m:\u001b[36m49\u001b[0m - \u001b[1mFetched the label data from head.\u001b[0m\n",
      "\u001b[32m2023-04-24 00:15:10.262\u001b[0m | \u001b[34m\u001b[1mDEBUG   \u001b[0m | \u001b[36m__main__\u001b[0m:\u001b[36m<module>\u001b[0m:\u001b[36m55\u001b[0m - \u001b[34m\u001b[1mSocket Body data is ready\u001b[0m\n",
      "\u001b[32m2023-04-24 00:15:10.265\u001b[0m | \u001b[1mINFO    \u001b[0m | \u001b[36m__main__\u001b[0m:\u001b[36m<module>\u001b[0m:\u001b[36m57\u001b[0m - \u001b[1mconnected tail to get data on layer data from body 7171: ('127.0.0.1', 55202)\u001b[0m\n",
      "\u001b[32m2023-04-24 00:15:10.273\u001b[0m | \u001b[1mINFO    \u001b[0m | \u001b[36m__main__\u001b[0m:\u001b[36m<module>\u001b[0m:\u001b[36m68\u001b[0m - \u001b[1mFetched the label data from head.\u001b[0m\n",
      "\u001b[32m2023-04-24 00:15:10.394\u001b[0m | \u001b[1mINFO    \u001b[0m | \u001b[36m__main__\u001b[0m:\u001b[36m<module>\u001b[0m:\u001b[36m92\u001b[0m - \u001b[1msent the backprop data from tail to body 8181 torch.Size([4, 8, 112, 112])\u001b[0m\n",
      "\u001b[32m2023-04-24 00:15:10.395\u001b[0m | \u001b[1mINFO    \u001b[0m | \u001b[36m__main__\u001b[0m:\u001b[36m<module>\u001b[0m:\u001b[36m24\u001b[0m - \u001b[1m The read socket has total ready sockets of 0\u001b[0m\n",
      "\u001b[32m2023-04-24 00:15:10.396\u001b[0m | \u001b[34m\u001b[1mDEBUG   \u001b[0m | \u001b[36m__main__\u001b[0m:\u001b[36m<module>\u001b[0m:\u001b[36m30\u001b[0m - \u001b[34m\u001b[1mstarting at position 1\u001b[0m\n"
     ]
    },
    {
     "name": "stdout",
     "output_type": "stream",
     "text": [
      "DS 10 out -> [4, 1, 224, 224]\n"
     ]
    },
    {
     "name": "stderr",
     "output_type": "stream",
     "text": [
      "\u001b[32m2023-04-24 00:15:30.323\u001b[0m | \u001b[34m\u001b[1mDEBUG   \u001b[0m | \u001b[36m__main__\u001b[0m:\u001b[36m<module>\u001b[0m:\u001b[36m36\u001b[0m - \u001b[34m\u001b[1mSocket Y label is ready\u001b[0m\n",
      "\u001b[32m2023-04-24 00:15:30.326\u001b[0m | \u001b[1mINFO    \u001b[0m | \u001b[36m__main__\u001b[0m:\u001b[36m<module>\u001b[0m:\u001b[36m38\u001b[0m - \u001b[1mconnected tail to get data on label from head 6666: ('127.0.0.1', 55290)\u001b[0m\n",
      "\u001b[32m2023-04-24 00:15:30.330\u001b[0m | \u001b[1mINFO    \u001b[0m | \u001b[36m__main__\u001b[0m:\u001b[36m<module>\u001b[0m:\u001b[36m49\u001b[0m - \u001b[1mFetched the label data from head.\u001b[0m\n",
      "\u001b[32m2023-04-24 00:15:38.341\u001b[0m | \u001b[34m\u001b[1mDEBUG   \u001b[0m | \u001b[36m__main__\u001b[0m:\u001b[36m<module>\u001b[0m:\u001b[36m55\u001b[0m - \u001b[34m\u001b[1mSocket Body data is ready\u001b[0m\n",
      "\u001b[32m2023-04-24 00:15:38.344\u001b[0m | \u001b[1mINFO    \u001b[0m | \u001b[36m__main__\u001b[0m:\u001b[36m<module>\u001b[0m:\u001b[36m57\u001b[0m - \u001b[1mconnected tail to get data on layer data from body 7171: ('127.0.0.1', 55291)\u001b[0m\n",
      "\u001b[32m2023-04-24 00:15:38.348\u001b[0m | \u001b[1mINFO    \u001b[0m | \u001b[36m__main__\u001b[0m:\u001b[36m<module>\u001b[0m:\u001b[36m68\u001b[0m - \u001b[1mFetched the label data from head.\u001b[0m\n",
      "\u001b[32m2023-04-24 00:15:38.473\u001b[0m | \u001b[1mINFO    \u001b[0m | \u001b[36m__main__\u001b[0m:\u001b[36m<module>\u001b[0m:\u001b[36m92\u001b[0m - \u001b[1msent the backprop data from tail to body 8181 torch.Size([4, 8, 112, 112])\u001b[0m\n",
      "\u001b[32m2023-04-24 00:15:38.474\u001b[0m | \u001b[1mINFO    \u001b[0m | \u001b[36m__main__\u001b[0m:\u001b[36m<module>\u001b[0m:\u001b[36m24\u001b[0m - \u001b[1m The read socket has total ready sockets of 0\u001b[0m\n",
      "\u001b[32m2023-04-24 00:15:38.476\u001b[0m | \u001b[34m\u001b[1mDEBUG   \u001b[0m | \u001b[36m__main__\u001b[0m:\u001b[36m<module>\u001b[0m:\u001b[36m30\u001b[0m - \u001b[34m\u001b[1mstarting at position 1\u001b[0m\n"
     ]
    },
    {
     "name": "stdout",
     "output_type": "stream",
     "text": [
      "DS 10 out -> [4, 1, 224, 224]\n"
     ]
    },
    {
     "name": "stderr",
     "output_type": "stream",
     "text": [
      "\u001b[32m2023-04-24 00:15:57.781\u001b[0m | \u001b[34m\u001b[1mDEBUG   \u001b[0m | \u001b[36m__main__\u001b[0m:\u001b[36m<module>\u001b[0m:\u001b[36m36\u001b[0m - \u001b[34m\u001b[1mSocket Y label is ready\u001b[0m\n",
      "\u001b[32m2023-04-24 00:15:57.783\u001b[0m | \u001b[1mINFO    \u001b[0m | \u001b[36m__main__\u001b[0m:\u001b[36m<module>\u001b[0m:\u001b[36m38\u001b[0m - \u001b[1mconnected tail to get data on label from head 6666: ('127.0.0.1', 55305)\u001b[0m\n",
      "\u001b[32m2023-04-24 00:15:57.789\u001b[0m | \u001b[1mINFO    \u001b[0m | \u001b[36m__main__\u001b[0m:\u001b[36m<module>\u001b[0m:\u001b[36m49\u001b[0m - \u001b[1mFetched the label data from head.\u001b[0m\n",
      "\u001b[32m2023-04-24 00:16:05.801\u001b[0m | \u001b[34m\u001b[1mDEBUG   \u001b[0m | \u001b[36m__main__\u001b[0m:\u001b[36m<module>\u001b[0m:\u001b[36m55\u001b[0m - \u001b[34m\u001b[1mSocket Body data is ready\u001b[0m\n",
      "\u001b[32m2023-04-24 00:16:05.805\u001b[0m | \u001b[1mINFO    \u001b[0m | \u001b[36m__main__\u001b[0m:\u001b[36m<module>\u001b[0m:\u001b[36m57\u001b[0m - \u001b[1mconnected tail to get data on layer data from body 7171: ('127.0.0.1', 55306)\u001b[0m\n",
      "\u001b[32m2023-04-24 00:16:05.814\u001b[0m | \u001b[1mINFO    \u001b[0m | \u001b[36m__main__\u001b[0m:\u001b[36m<module>\u001b[0m:\u001b[36m68\u001b[0m - \u001b[1mFetched the label data from head.\u001b[0m\n",
      "\u001b[32m2023-04-24 00:16:05.937\u001b[0m | \u001b[1mINFO    \u001b[0m | \u001b[36m__main__\u001b[0m:\u001b[36m<module>\u001b[0m:\u001b[36m92\u001b[0m - \u001b[1msent the backprop data from tail to body 8181 torch.Size([4, 8, 112, 112])\u001b[0m\n",
      "\u001b[32m2023-04-24 00:16:05.938\u001b[0m | \u001b[1mINFO    \u001b[0m | \u001b[36m__main__\u001b[0m:\u001b[36m<module>\u001b[0m:\u001b[36m24\u001b[0m - \u001b[1m The read socket has total ready sockets of 0\u001b[0m\n",
      "\u001b[32m2023-04-24 00:16:05.940\u001b[0m | \u001b[34m\u001b[1mDEBUG   \u001b[0m | \u001b[36m__main__\u001b[0m:\u001b[36m<module>\u001b[0m:\u001b[36m30\u001b[0m - \u001b[34m\u001b[1mstarting at position 1\u001b[0m\n"
     ]
    },
    {
     "name": "stdout",
     "output_type": "stream",
     "text": [
      "DS 10 out -> [4, 1, 224, 224]\n"
     ]
    },
    {
     "name": "stderr",
     "output_type": "stream",
     "text": [
      "\u001b[32m2023-04-24 00:16:21.553\u001b[0m | \u001b[34m\u001b[1mDEBUG   \u001b[0m | \u001b[36m__main__\u001b[0m:\u001b[36m<module>\u001b[0m:\u001b[36m36\u001b[0m - \u001b[34m\u001b[1mSocket Y label is ready\u001b[0m\n",
      "\u001b[32m2023-04-24 00:16:21.556\u001b[0m | \u001b[1mINFO    \u001b[0m | \u001b[36m__main__\u001b[0m:\u001b[36m<module>\u001b[0m:\u001b[36m38\u001b[0m - \u001b[1mconnected tail to get data on label from head 6666: ('127.0.0.1', 55326)\u001b[0m\n",
      "\u001b[32m2023-04-24 00:16:21.561\u001b[0m | \u001b[1mINFO    \u001b[0m | \u001b[36m__main__\u001b[0m:\u001b[36m<module>\u001b[0m:\u001b[36m49\u001b[0m - \u001b[1mFetched the label data from head.\u001b[0m\n",
      "\u001b[32m2023-04-24 00:16:29.574\u001b[0m | \u001b[34m\u001b[1mDEBUG   \u001b[0m | \u001b[36m__main__\u001b[0m:\u001b[36m<module>\u001b[0m:\u001b[36m55\u001b[0m - \u001b[34m\u001b[1mSocket Body data is ready\u001b[0m\n",
      "\u001b[32m2023-04-24 00:16:29.577\u001b[0m | \u001b[1mINFO    \u001b[0m | \u001b[36m__main__\u001b[0m:\u001b[36m<module>\u001b[0m:\u001b[36m57\u001b[0m - \u001b[1mconnected tail to get data on layer data from body 7171: ('127.0.0.1', 55330)\u001b[0m\n",
      "\u001b[32m2023-04-24 00:16:29.586\u001b[0m | \u001b[1mINFO    \u001b[0m | \u001b[36m__main__\u001b[0m:\u001b[36m<module>\u001b[0m:\u001b[36m68\u001b[0m - \u001b[1mFetched the label data from head.\u001b[0m\n",
      "\u001b[32m2023-04-24 00:16:29.696\u001b[0m | \u001b[1mINFO    \u001b[0m | \u001b[36m__main__\u001b[0m:\u001b[36m<module>\u001b[0m:\u001b[36m92\u001b[0m - \u001b[1msent the backprop data from tail to body 8181 torch.Size([4, 8, 112, 112])\u001b[0m\n",
      "\u001b[32m2023-04-24 00:16:29.698\u001b[0m | \u001b[1mINFO    \u001b[0m | \u001b[36m__main__\u001b[0m:\u001b[36m<module>\u001b[0m:\u001b[36m24\u001b[0m - \u001b[1m The read socket has total ready sockets of 0\u001b[0m\n",
      "\u001b[32m2023-04-24 00:16:29.699\u001b[0m | \u001b[34m\u001b[1mDEBUG   \u001b[0m | \u001b[36m__main__\u001b[0m:\u001b[36m<module>\u001b[0m:\u001b[36m30\u001b[0m - \u001b[34m\u001b[1mstarting at position 1\u001b[0m\n"
     ]
    },
    {
     "name": "stdout",
     "output_type": "stream",
     "text": [
      "DS 10 out -> [4, 1, 224, 224]\n"
     ]
    },
    {
     "name": "stderr",
     "output_type": "stream",
     "text": [
      "\u001b[32m2023-04-24 00:16:43.569\u001b[0m | \u001b[34m\u001b[1mDEBUG   \u001b[0m | \u001b[36m__main__\u001b[0m:\u001b[36m<module>\u001b[0m:\u001b[36m36\u001b[0m - \u001b[34m\u001b[1mSocket Y label is ready\u001b[0m\n",
      "\u001b[32m2023-04-24 00:16:43.571\u001b[0m | \u001b[1mINFO    \u001b[0m | \u001b[36m__main__\u001b[0m:\u001b[36m<module>\u001b[0m:\u001b[36m38\u001b[0m - \u001b[1mconnected tail to get data on label from head 6666: ('127.0.0.1', 55339)\u001b[0m\n",
      "\u001b[32m2023-04-24 00:16:43.577\u001b[0m | \u001b[1mINFO    \u001b[0m | \u001b[36m__main__\u001b[0m:\u001b[36m<module>\u001b[0m:\u001b[36m49\u001b[0m - \u001b[1mFetched the label data from head.\u001b[0m\n",
      "\u001b[32m2023-04-24 00:16:51.578\u001b[0m | \u001b[34m\u001b[1mDEBUG   \u001b[0m | \u001b[36m__main__\u001b[0m:\u001b[36m<module>\u001b[0m:\u001b[36m55\u001b[0m - \u001b[34m\u001b[1mSocket Body data is ready\u001b[0m\n",
      "\u001b[32m2023-04-24 00:16:51.582\u001b[0m | \u001b[1mINFO    \u001b[0m | \u001b[36m__main__\u001b[0m:\u001b[36m<module>\u001b[0m:\u001b[36m57\u001b[0m - \u001b[1mconnected tail to get data on layer data from body 7171: ('127.0.0.1', 55344)\u001b[0m\n",
      "\u001b[32m2023-04-24 00:16:51.588\u001b[0m | \u001b[1mINFO    \u001b[0m | \u001b[36m__main__\u001b[0m:\u001b[36m<module>\u001b[0m:\u001b[36m68\u001b[0m - \u001b[1mFetched the label data from head.\u001b[0m\n",
      "\u001b[32m2023-04-24 00:16:51.710\u001b[0m | \u001b[1mINFO    \u001b[0m | \u001b[36m__main__\u001b[0m:\u001b[36m<module>\u001b[0m:\u001b[36m92\u001b[0m - \u001b[1msent the backprop data from tail to body 8181 torch.Size([4, 8, 112, 112])\u001b[0m\n",
      "\u001b[32m2023-04-24 00:16:51.711\u001b[0m | \u001b[1mINFO    \u001b[0m | \u001b[36m__main__\u001b[0m:\u001b[36m<module>\u001b[0m:\u001b[36m24\u001b[0m - \u001b[1m The read socket has total ready sockets of 0\u001b[0m\n",
      "\u001b[32m2023-04-24 00:16:51.713\u001b[0m | \u001b[34m\u001b[1mDEBUG   \u001b[0m | \u001b[36m__main__\u001b[0m:\u001b[36m<module>\u001b[0m:\u001b[36m30\u001b[0m - \u001b[34m\u001b[1mstarting at position 1\u001b[0m\n"
     ]
    },
    {
     "name": "stdout",
     "output_type": "stream",
     "text": [
      "DS 10 out -> [4, 1, 224, 224]\n"
     ]
    },
    {
     "name": "stderr",
     "output_type": "stream",
     "text": [
      "\u001b[32m2023-04-24 00:17:07.544\u001b[0m | \u001b[34m\u001b[1mDEBUG   \u001b[0m | \u001b[36m__main__\u001b[0m:\u001b[36m<module>\u001b[0m:\u001b[36m36\u001b[0m - \u001b[34m\u001b[1mSocket Y label is ready\u001b[0m\n",
      "\u001b[32m2023-04-24 00:17:07.547\u001b[0m | \u001b[1mINFO    \u001b[0m | \u001b[36m__main__\u001b[0m:\u001b[36m<module>\u001b[0m:\u001b[36m38\u001b[0m - \u001b[1mconnected tail to get data on label from head 6666: ('127.0.0.1', 55349)\u001b[0m\n",
      "\u001b[32m2023-04-24 00:17:07.552\u001b[0m | \u001b[1mINFO    \u001b[0m | \u001b[36m__main__\u001b[0m:\u001b[36m<module>\u001b[0m:\u001b[36m49\u001b[0m - \u001b[1mFetched the label data from head.\u001b[0m\n",
      "\u001b[32m2023-04-24 00:17:15.563\u001b[0m | \u001b[34m\u001b[1mDEBUG   \u001b[0m | \u001b[36m__main__\u001b[0m:\u001b[36m<module>\u001b[0m:\u001b[36m55\u001b[0m - \u001b[34m\u001b[1mSocket Body data is ready\u001b[0m\n",
      "\u001b[32m2023-04-24 00:17:15.566\u001b[0m | \u001b[1mINFO    \u001b[0m | \u001b[36m__main__\u001b[0m:\u001b[36m<module>\u001b[0m:\u001b[36m57\u001b[0m - \u001b[1mconnected tail to get data on layer data from body 7171: ('127.0.0.1', 55364)\u001b[0m\n",
      "\u001b[32m2023-04-24 00:17:15.571\u001b[0m | \u001b[1mINFO    \u001b[0m | \u001b[36m__main__\u001b[0m:\u001b[36m<module>\u001b[0m:\u001b[36m68\u001b[0m - \u001b[1mFetched the label data from head.\u001b[0m\n",
      "\u001b[32m2023-04-24 00:17:15.693\u001b[0m | \u001b[1mINFO    \u001b[0m | \u001b[36m__main__\u001b[0m:\u001b[36m<module>\u001b[0m:\u001b[36m92\u001b[0m - \u001b[1msent the backprop data from tail to body 8181 torch.Size([4, 8, 112, 112])\u001b[0m\n",
      "\u001b[32m2023-04-24 00:17:15.694\u001b[0m | \u001b[1mINFO    \u001b[0m | \u001b[36m__main__\u001b[0m:\u001b[36m<module>\u001b[0m:\u001b[36m24\u001b[0m - \u001b[1m The read socket has total ready sockets of 0\u001b[0m\n",
      "\u001b[32m2023-04-24 00:17:15.696\u001b[0m | \u001b[34m\u001b[1mDEBUG   \u001b[0m | \u001b[36m__main__\u001b[0m:\u001b[36m<module>\u001b[0m:\u001b[36m30\u001b[0m - \u001b[34m\u001b[1mstarting at position 1\u001b[0m\n"
     ]
    },
    {
     "name": "stdout",
     "output_type": "stream",
     "text": [
      "DS 10 out -> [4, 1, 224, 224]\n"
     ]
    },
    {
     "name": "stderr",
     "output_type": "stream",
     "text": [
      "\u001b[32m2023-04-24 00:17:31.224\u001b[0m | \u001b[34m\u001b[1mDEBUG   \u001b[0m | \u001b[36m__main__\u001b[0m:\u001b[36m<module>\u001b[0m:\u001b[36m36\u001b[0m - \u001b[34m\u001b[1mSocket Y label is ready\u001b[0m\n",
      "\u001b[32m2023-04-24 00:17:31.227\u001b[0m | \u001b[1mINFO    \u001b[0m | \u001b[36m__main__\u001b[0m:\u001b[36m<module>\u001b[0m:\u001b[36m38\u001b[0m - \u001b[1mconnected tail to get data on label from head 6666: ('127.0.0.1', 55376)\u001b[0m\n",
      "\u001b[32m2023-04-24 00:17:31.232\u001b[0m | \u001b[1mINFO    \u001b[0m | \u001b[36m__main__\u001b[0m:\u001b[36m<module>\u001b[0m:\u001b[36m49\u001b[0m - \u001b[1mFetched the label data from head.\u001b[0m\n",
      "\u001b[32m2023-04-24 00:17:39.236\u001b[0m | \u001b[34m\u001b[1mDEBUG   \u001b[0m | \u001b[36m__main__\u001b[0m:\u001b[36m<module>\u001b[0m:\u001b[36m55\u001b[0m - \u001b[34m\u001b[1mSocket Body data is ready\u001b[0m\n",
      "\u001b[32m2023-04-24 00:17:39.238\u001b[0m | \u001b[1mINFO    \u001b[0m | \u001b[36m__main__\u001b[0m:\u001b[36m<module>\u001b[0m:\u001b[36m57\u001b[0m - \u001b[1mconnected tail to get data on layer data from body 7171: ('127.0.0.1', 55384)\u001b[0m\n",
      "\u001b[32m2023-04-24 00:17:39.245\u001b[0m | \u001b[1mINFO    \u001b[0m | \u001b[36m__main__\u001b[0m:\u001b[36m<module>\u001b[0m:\u001b[36m68\u001b[0m - \u001b[1mFetched the label data from head.\u001b[0m\n",
      "\u001b[32m2023-04-24 00:17:39.427\u001b[0m | \u001b[1mINFO    \u001b[0m | \u001b[36m__main__\u001b[0m:\u001b[36m<module>\u001b[0m:\u001b[36m92\u001b[0m - \u001b[1msent the backprop data from tail to body 8181 torch.Size([4, 8, 112, 112])\u001b[0m\n",
      "\u001b[32m2023-04-24 00:17:39.429\u001b[0m | \u001b[1mINFO    \u001b[0m | \u001b[36m__main__\u001b[0m:\u001b[36m<module>\u001b[0m:\u001b[36m24\u001b[0m - \u001b[1m The read socket has total ready sockets of 0\u001b[0m\n",
      "\u001b[32m2023-04-24 00:17:39.429\u001b[0m | \u001b[34m\u001b[1mDEBUG   \u001b[0m | \u001b[36m__main__\u001b[0m:\u001b[36m<module>\u001b[0m:\u001b[36m30\u001b[0m - \u001b[34m\u001b[1mstarting at position 1\u001b[0m\n"
     ]
    },
    {
     "name": "stdout",
     "output_type": "stream",
     "text": [
      "DS 10 out -> [4, 1, 224, 224]\n"
     ]
    },
    {
     "name": "stderr",
     "output_type": "stream",
     "text": [
      "\u001b[32m2023-04-24 00:17:58.115\u001b[0m | \u001b[34m\u001b[1mDEBUG   \u001b[0m | \u001b[36m__main__\u001b[0m:\u001b[36m<module>\u001b[0m:\u001b[36m36\u001b[0m - \u001b[34m\u001b[1mSocket Y label is ready\u001b[0m\n",
      "\u001b[32m2023-04-24 00:17:58.117\u001b[0m | \u001b[1mINFO    \u001b[0m | \u001b[36m__main__\u001b[0m:\u001b[36m<module>\u001b[0m:\u001b[36m38\u001b[0m - \u001b[1mconnected tail to get data on label from head 6666: ('127.0.0.1', 55394)\u001b[0m\n",
      "\u001b[32m2023-04-24 00:17:58.128\u001b[0m | \u001b[1mINFO    \u001b[0m | \u001b[36m__main__\u001b[0m:\u001b[36m<module>\u001b[0m:\u001b[36m49\u001b[0m - \u001b[1mFetched the label data from head.\u001b[0m\n",
      "\u001b[32m2023-04-24 00:18:06.140\u001b[0m | \u001b[34m\u001b[1mDEBUG   \u001b[0m | \u001b[36m__main__\u001b[0m:\u001b[36m<module>\u001b[0m:\u001b[36m55\u001b[0m - \u001b[34m\u001b[1mSocket Body data is ready\u001b[0m\n",
      "\u001b[32m2023-04-24 00:18:06.143\u001b[0m | \u001b[1mINFO    \u001b[0m | \u001b[36m__main__\u001b[0m:\u001b[36m<module>\u001b[0m:\u001b[36m57\u001b[0m - \u001b[1mconnected tail to get data on layer data from body 7171: ('127.0.0.1', 55397)\u001b[0m\n",
      "\u001b[32m2023-04-24 00:18:06.148\u001b[0m | \u001b[1mINFO    \u001b[0m | \u001b[36m__main__\u001b[0m:\u001b[36m<module>\u001b[0m:\u001b[36m68\u001b[0m - \u001b[1mFetched the label data from head.\u001b[0m\n",
      "\u001b[32m2023-04-24 00:18:06.272\u001b[0m | \u001b[1mINFO    \u001b[0m | \u001b[36m__main__\u001b[0m:\u001b[36m<module>\u001b[0m:\u001b[36m92\u001b[0m - \u001b[1msent the backprop data from tail to body 8181 torch.Size([4, 8, 112, 112])\u001b[0m\n",
      "\u001b[32m2023-04-24 00:18:06.273\u001b[0m | \u001b[1mINFO    \u001b[0m | \u001b[36m__main__\u001b[0m:\u001b[36m<module>\u001b[0m:\u001b[36m24\u001b[0m - \u001b[1m The read socket has total ready sockets of 0\u001b[0m\n",
      "\u001b[32m2023-04-24 00:18:06.274\u001b[0m | \u001b[34m\u001b[1mDEBUG   \u001b[0m | \u001b[36m__main__\u001b[0m:\u001b[36m<module>\u001b[0m:\u001b[36m30\u001b[0m - \u001b[34m\u001b[1mstarting at position 1\u001b[0m\n"
     ]
    },
    {
     "name": "stdout",
     "output_type": "stream",
     "text": [
      "DS 10 out -> [4, 1, 224, 224]\n"
     ]
    },
    {
     "name": "stderr",
     "output_type": "stream",
     "text": [
      "\u001b[32m2023-04-24 00:18:20.518\u001b[0m | \u001b[34m\u001b[1mDEBUG   \u001b[0m | \u001b[36m__main__\u001b[0m:\u001b[36m<module>\u001b[0m:\u001b[36m36\u001b[0m - \u001b[34m\u001b[1mSocket Y label is ready\u001b[0m\n",
      "\u001b[32m2023-04-24 00:18:20.521\u001b[0m | \u001b[1mINFO    \u001b[0m | \u001b[36m__main__\u001b[0m:\u001b[36m<module>\u001b[0m:\u001b[36m38\u001b[0m - \u001b[1mconnected tail to get data on label from head 6666: ('127.0.0.1', 55412)\u001b[0m\n",
      "\u001b[32m2023-04-24 00:18:20.525\u001b[0m | \u001b[1mINFO    \u001b[0m | \u001b[36m__main__\u001b[0m:\u001b[36m<module>\u001b[0m:\u001b[36m49\u001b[0m - \u001b[1mFetched the label data from head.\u001b[0m\n",
      "\u001b[32m2023-04-24 00:18:28.540\u001b[0m | \u001b[34m\u001b[1mDEBUG   \u001b[0m | \u001b[36m__main__\u001b[0m:\u001b[36m<module>\u001b[0m:\u001b[36m55\u001b[0m - \u001b[34m\u001b[1mSocket Body data is ready\u001b[0m\n",
      "\u001b[32m2023-04-24 00:18:28.545\u001b[0m | \u001b[1mINFO    \u001b[0m | \u001b[36m__main__\u001b[0m:\u001b[36m<module>\u001b[0m:\u001b[36m57\u001b[0m - \u001b[1mconnected tail to get data on layer data from body 7171: ('127.0.0.1', 55416)\u001b[0m\n",
      "\u001b[32m2023-04-24 00:18:28.550\u001b[0m | \u001b[1mINFO    \u001b[0m | \u001b[36m__main__\u001b[0m:\u001b[36m<module>\u001b[0m:\u001b[36m68\u001b[0m - \u001b[1mFetched the label data from head.\u001b[0m\n",
      "\u001b[32m2023-04-24 00:18:28.678\u001b[0m | \u001b[1mINFO    \u001b[0m | \u001b[36m__main__\u001b[0m:\u001b[36m<module>\u001b[0m:\u001b[36m92\u001b[0m - \u001b[1msent the backprop data from tail to body 8181 torch.Size([4, 8, 112, 112])\u001b[0m\n",
      "\u001b[32m2023-04-24 00:18:28.680\u001b[0m | \u001b[1mINFO    \u001b[0m | \u001b[36m__main__\u001b[0m:\u001b[36m<module>\u001b[0m:\u001b[36m24\u001b[0m - \u001b[1m The read socket has total ready sockets of 0\u001b[0m\n",
      "\u001b[32m2023-04-24 00:18:28.680\u001b[0m | \u001b[34m\u001b[1mDEBUG   \u001b[0m | \u001b[36m__main__\u001b[0m:\u001b[36m<module>\u001b[0m:\u001b[36m30\u001b[0m - \u001b[34m\u001b[1mstarting at position 1\u001b[0m\n"
     ]
    },
    {
     "name": "stdout",
     "output_type": "stream",
     "text": [
      "DS 10 out -> [4, 1, 224, 224]\n"
     ]
    },
    {
     "name": "stderr",
     "output_type": "stream",
     "text": [
      "\u001b[32m2023-04-24 00:18:42.762\u001b[0m | \u001b[34m\u001b[1mDEBUG   \u001b[0m | \u001b[36m__main__\u001b[0m:\u001b[36m<module>\u001b[0m:\u001b[36m36\u001b[0m - \u001b[34m\u001b[1mSocket Y label is ready\u001b[0m\n",
      "\u001b[32m2023-04-24 00:18:42.764\u001b[0m | \u001b[1mINFO    \u001b[0m | \u001b[36m__main__\u001b[0m:\u001b[36m<module>\u001b[0m:\u001b[36m38\u001b[0m - \u001b[1mconnected tail to get data on label from head 6666: ('127.0.0.1', 55439)\u001b[0m\n",
      "\u001b[32m2023-04-24 00:18:42.769\u001b[0m | \u001b[1mINFO    \u001b[0m | \u001b[36m__main__\u001b[0m:\u001b[36m<module>\u001b[0m:\u001b[36m49\u001b[0m - \u001b[1mFetched the label data from head.\u001b[0m\n",
      "\u001b[32m2023-04-24 00:18:50.771\u001b[0m | \u001b[34m\u001b[1mDEBUG   \u001b[0m | \u001b[36m__main__\u001b[0m:\u001b[36m<module>\u001b[0m:\u001b[36m55\u001b[0m - \u001b[34m\u001b[1mSocket Body data is ready\u001b[0m\n",
      "\u001b[32m2023-04-24 00:18:50.775\u001b[0m | \u001b[1mINFO    \u001b[0m | \u001b[36m__main__\u001b[0m:\u001b[36m<module>\u001b[0m:\u001b[36m57\u001b[0m - \u001b[1mconnected tail to get data on layer data from body 7171: ('127.0.0.1', 55443)\u001b[0m\n",
      "\u001b[32m2023-04-24 00:18:50.781\u001b[0m | \u001b[1mINFO    \u001b[0m | \u001b[36m__main__\u001b[0m:\u001b[36m<module>\u001b[0m:\u001b[36m68\u001b[0m - \u001b[1mFetched the label data from head.\u001b[0m\n",
      "\u001b[32m2023-04-24 00:18:50.900\u001b[0m | \u001b[1mINFO    \u001b[0m | \u001b[36m__main__\u001b[0m:\u001b[36m<module>\u001b[0m:\u001b[36m92\u001b[0m - \u001b[1msent the backprop data from tail to body 8181 torch.Size([4, 8, 112, 112])\u001b[0m\n",
      "\u001b[32m2023-04-24 00:18:50.902\u001b[0m | \u001b[1mINFO    \u001b[0m | \u001b[36m__main__\u001b[0m:\u001b[36m<module>\u001b[0m:\u001b[36m24\u001b[0m - \u001b[1m The read socket has total ready sockets of 0\u001b[0m\n",
      "\u001b[32m2023-04-24 00:18:50.903\u001b[0m | \u001b[34m\u001b[1mDEBUG   \u001b[0m | \u001b[36m__main__\u001b[0m:\u001b[36m<module>\u001b[0m:\u001b[36m30\u001b[0m - \u001b[34m\u001b[1mstarting at position 1\u001b[0m\n"
     ]
    },
    {
     "name": "stdout",
     "output_type": "stream",
     "text": [
      "DS 10 out -> [4, 1, 224, 224]\n"
     ]
    },
    {
     "name": "stderr",
     "output_type": "stream",
     "text": [
      "\u001b[32m2023-04-24 00:19:18.077\u001b[0m | \u001b[34m\u001b[1mDEBUG   \u001b[0m | \u001b[36m__main__\u001b[0m:\u001b[36m<module>\u001b[0m:\u001b[36m36\u001b[0m - \u001b[34m\u001b[1mSocket Y label is ready\u001b[0m\n",
      "\u001b[32m2023-04-24 00:19:18.081\u001b[0m | \u001b[1mINFO    \u001b[0m | \u001b[36m__main__\u001b[0m:\u001b[36m<module>\u001b[0m:\u001b[36m38\u001b[0m - \u001b[1mconnected tail to get data on label from head 6666: ('127.0.0.1', 55457)\u001b[0m\n",
      "\u001b[32m2023-04-24 00:19:18.090\u001b[0m | \u001b[1mINFO    \u001b[0m | \u001b[36m__main__\u001b[0m:\u001b[36m<module>\u001b[0m:\u001b[36m49\u001b[0m - \u001b[1mFetched the label data from head.\u001b[0m\n",
      "\u001b[32m2023-04-24 00:19:28.557\u001b[0m | \u001b[34m\u001b[1mDEBUG   \u001b[0m | \u001b[36m__main__\u001b[0m:\u001b[36m<module>\u001b[0m:\u001b[36m55\u001b[0m - \u001b[34m\u001b[1mSocket Body data is ready\u001b[0m\n",
      "\u001b[32m2023-04-24 00:19:28.560\u001b[0m | \u001b[1mINFO    \u001b[0m | \u001b[36m__main__\u001b[0m:\u001b[36m<module>\u001b[0m:\u001b[36m57\u001b[0m - \u001b[1mconnected tail to get data on layer data from body 7171: ('127.0.0.1', 55464)\u001b[0m\n",
      "\u001b[32m2023-04-24 00:19:28.570\u001b[0m | \u001b[1mINFO    \u001b[0m | \u001b[36m__main__\u001b[0m:\u001b[36m<module>\u001b[0m:\u001b[36m68\u001b[0m - \u001b[1mFetched the label data from head.\u001b[0m\n",
      "\u001b[32m2023-04-24 00:19:28.793\u001b[0m | \u001b[1mINFO    \u001b[0m | \u001b[36m__main__\u001b[0m:\u001b[36m<module>\u001b[0m:\u001b[36m92\u001b[0m - \u001b[1msent the backprop data from tail to body 8181 torch.Size([4, 8, 112, 112])\u001b[0m\n",
      "\u001b[32m2023-04-24 00:19:28.795\u001b[0m | \u001b[1mINFO    \u001b[0m | \u001b[36m__main__\u001b[0m:\u001b[36m<module>\u001b[0m:\u001b[36m24\u001b[0m - \u001b[1m The read socket has total ready sockets of 0\u001b[0m\n",
      "\u001b[32m2023-04-24 00:19:28.797\u001b[0m | \u001b[34m\u001b[1mDEBUG   \u001b[0m | \u001b[36m__main__\u001b[0m:\u001b[36m<module>\u001b[0m:\u001b[36m30\u001b[0m - \u001b[34m\u001b[1mstarting at position 1\u001b[0m\n"
     ]
    },
    {
     "name": "stdout",
     "output_type": "stream",
     "text": [
      "DS 10 out -> [4, 1, 224, 224]\n"
     ]
    },
    {
     "name": "stderr",
     "output_type": "stream",
     "text": [
      "\u001b[32m2023-04-24 00:19:53.204\u001b[0m | \u001b[34m\u001b[1mDEBUG   \u001b[0m | \u001b[36m__main__\u001b[0m:\u001b[36m<module>\u001b[0m:\u001b[36m36\u001b[0m - \u001b[34m\u001b[1mSocket Y label is ready\u001b[0m\n",
      "\u001b[32m2023-04-24 00:19:53.209\u001b[0m | \u001b[1mINFO    \u001b[0m | \u001b[36m__main__\u001b[0m:\u001b[36m<module>\u001b[0m:\u001b[36m38\u001b[0m - \u001b[1mconnected tail to get data on label from head 6666: ('127.0.0.1', 55475)\u001b[0m\n",
      "\u001b[32m2023-04-24 00:19:53.219\u001b[0m | \u001b[1mINFO    \u001b[0m | \u001b[36m__main__\u001b[0m:\u001b[36m<module>\u001b[0m:\u001b[36m49\u001b[0m - \u001b[1mFetched the label data from head.\u001b[0m\n",
      "\u001b[32m2023-04-24 00:20:03.050\u001b[0m | \u001b[34m\u001b[1mDEBUG   \u001b[0m | \u001b[36m__main__\u001b[0m:\u001b[36m<module>\u001b[0m:\u001b[36m55\u001b[0m - \u001b[34m\u001b[1mSocket Body data is ready\u001b[0m\n",
      "\u001b[32m2023-04-24 00:20:03.054\u001b[0m | \u001b[1mINFO    \u001b[0m | \u001b[36m__main__\u001b[0m:\u001b[36m<module>\u001b[0m:\u001b[36m57\u001b[0m - \u001b[1mconnected tail to get data on layer data from body 7171: ('127.0.0.1', 55483)\u001b[0m\n",
      "\u001b[32m2023-04-24 00:20:03.063\u001b[0m | \u001b[1mINFO    \u001b[0m | \u001b[36m__main__\u001b[0m:\u001b[36m<module>\u001b[0m:\u001b[36m68\u001b[0m - \u001b[1mFetched the label data from head.\u001b[0m\n",
      "\u001b[32m2023-04-24 00:20:03.288\u001b[0m | \u001b[1mINFO    \u001b[0m | \u001b[36m__main__\u001b[0m:\u001b[36m<module>\u001b[0m:\u001b[36m92\u001b[0m - \u001b[1msent the backprop data from tail to body 8181 torch.Size([4, 8, 112, 112])\u001b[0m\n",
      "\u001b[32m2023-04-24 00:20:03.292\u001b[0m | \u001b[1mINFO    \u001b[0m | \u001b[36m__main__\u001b[0m:\u001b[36m<module>\u001b[0m:\u001b[36m24\u001b[0m - \u001b[1m The read socket has total ready sockets of 0\u001b[0m\n",
      "\u001b[32m2023-04-24 00:20:03.294\u001b[0m | \u001b[34m\u001b[1mDEBUG   \u001b[0m | \u001b[36m__main__\u001b[0m:\u001b[36m<module>\u001b[0m:\u001b[36m30\u001b[0m - \u001b[34m\u001b[1mstarting at position 1\u001b[0m\n"
     ]
    },
    {
     "name": "stdout",
     "output_type": "stream",
     "text": [
      "DS 10 out -> [4, 1, 224, 224]\n"
     ]
    },
    {
     "name": "stderr",
     "output_type": "stream",
     "text": [
      "\u001b[32m2023-04-24 00:20:28.077\u001b[0m | \u001b[34m\u001b[1mDEBUG   \u001b[0m | \u001b[36m__main__\u001b[0m:\u001b[36m<module>\u001b[0m:\u001b[36m36\u001b[0m - \u001b[34m\u001b[1mSocket Y label is ready\u001b[0m\n",
      "\u001b[32m2023-04-24 00:20:28.088\u001b[0m | \u001b[1mINFO    \u001b[0m | \u001b[36m__main__\u001b[0m:\u001b[36m<module>\u001b[0m:\u001b[36m38\u001b[0m - \u001b[1mconnected tail to get data on label from head 6666: ('127.0.0.1', 55504)\u001b[0m\n",
      "\u001b[32m2023-04-24 00:20:28.094\u001b[0m | \u001b[1mINFO    \u001b[0m | \u001b[36m__main__\u001b[0m:\u001b[36m<module>\u001b[0m:\u001b[36m49\u001b[0m - \u001b[1mFetched the label data from head.\u001b[0m\n",
      "\u001b[32m2023-04-24 00:20:38.047\u001b[0m | \u001b[34m\u001b[1mDEBUG   \u001b[0m | \u001b[36m__main__\u001b[0m:\u001b[36m<module>\u001b[0m:\u001b[36m55\u001b[0m - \u001b[34m\u001b[1mSocket Body data is ready\u001b[0m\n",
      "\u001b[32m2023-04-24 00:20:38.050\u001b[0m | \u001b[1mINFO    \u001b[0m | \u001b[36m__main__\u001b[0m:\u001b[36m<module>\u001b[0m:\u001b[36m57\u001b[0m - \u001b[1mconnected tail to get data on layer data from body 7171: ('127.0.0.1', 55535)\u001b[0m\n",
      "\u001b[32m2023-04-24 00:20:38.056\u001b[0m | \u001b[1mINFO    \u001b[0m | \u001b[36m__main__\u001b[0m:\u001b[36m<module>\u001b[0m:\u001b[36m68\u001b[0m - \u001b[1mFetched the label data from head.\u001b[0m\n",
      "\u001b[32m2023-04-24 00:20:38.294\u001b[0m | \u001b[1mINFO    \u001b[0m | \u001b[36m__main__\u001b[0m:\u001b[36m<module>\u001b[0m:\u001b[36m92\u001b[0m - \u001b[1msent the backprop data from tail to body 8181 torch.Size([4, 8, 112, 112])\u001b[0m\n",
      "\u001b[32m2023-04-24 00:20:38.299\u001b[0m | \u001b[1mINFO    \u001b[0m | \u001b[36m__main__\u001b[0m:\u001b[36m<module>\u001b[0m:\u001b[36m24\u001b[0m - \u001b[1m The read socket has total ready sockets of 0\u001b[0m\n",
      "\u001b[32m2023-04-24 00:20:38.299\u001b[0m | \u001b[34m\u001b[1mDEBUG   \u001b[0m | \u001b[36m__main__\u001b[0m:\u001b[36m<module>\u001b[0m:\u001b[36m30\u001b[0m - \u001b[34m\u001b[1mstarting at position 1\u001b[0m\n"
     ]
    },
    {
     "name": "stdout",
     "output_type": "stream",
     "text": [
      "DS 10 out -> [4, 1, 224, 224]\n"
     ]
    },
    {
     "name": "stderr",
     "output_type": "stream",
     "text": [
      "\u001b[32m2023-04-24 00:21:13.122\u001b[0m | \u001b[34m\u001b[1mDEBUG   \u001b[0m | \u001b[36m__main__\u001b[0m:\u001b[36m<module>\u001b[0m:\u001b[36m36\u001b[0m - \u001b[34m\u001b[1mSocket Y label is ready\u001b[0m\n",
      "\u001b[32m2023-04-24 00:21:13.134\u001b[0m | \u001b[1mINFO    \u001b[0m | \u001b[36m__main__\u001b[0m:\u001b[36m<module>\u001b[0m:\u001b[36m38\u001b[0m - \u001b[1mconnected tail to get data on label from head 6666: ('127.0.0.1', 55563)\u001b[0m\n",
      "\u001b[32m2023-04-24 00:21:13.149\u001b[0m | \u001b[1mINFO    \u001b[0m | \u001b[36m__main__\u001b[0m:\u001b[36m<module>\u001b[0m:\u001b[36m49\u001b[0m - \u001b[1mFetched the label data from head.\u001b[0m\n",
      "\u001b[32m2023-04-24 00:21:23.578\u001b[0m | \u001b[34m\u001b[1mDEBUG   \u001b[0m | \u001b[36m__main__\u001b[0m:\u001b[36m<module>\u001b[0m:\u001b[36m55\u001b[0m - \u001b[34m\u001b[1mSocket Body data is ready\u001b[0m\n",
      "\u001b[32m2023-04-24 00:21:23.582\u001b[0m | \u001b[1mINFO    \u001b[0m | \u001b[36m__main__\u001b[0m:\u001b[36m<module>\u001b[0m:\u001b[36m57\u001b[0m - \u001b[1mconnected tail to get data on layer data from body 7171: ('127.0.0.1', 55577)\u001b[0m\n",
      "\u001b[32m2023-04-24 00:21:23.589\u001b[0m | \u001b[1mINFO    \u001b[0m | \u001b[36m__main__\u001b[0m:\u001b[36m<module>\u001b[0m:\u001b[36m68\u001b[0m - \u001b[1mFetched the label data from head.\u001b[0m\n",
      "\u001b[32m2023-04-24 00:21:23.830\u001b[0m | \u001b[1mINFO    \u001b[0m | \u001b[36m__main__\u001b[0m:\u001b[36m<module>\u001b[0m:\u001b[36m92\u001b[0m - \u001b[1msent the backprop data from tail to body 8181 torch.Size([4, 8, 112, 112])\u001b[0m\n",
      "\u001b[32m2023-04-24 00:21:23.832\u001b[0m | \u001b[1mINFO    \u001b[0m | \u001b[36m__main__\u001b[0m:\u001b[36m<module>\u001b[0m:\u001b[36m24\u001b[0m - \u001b[1m The read socket has total ready sockets of 0\u001b[0m\n",
      "\u001b[32m2023-04-24 00:21:23.834\u001b[0m | \u001b[34m\u001b[1mDEBUG   \u001b[0m | \u001b[36m__main__\u001b[0m:\u001b[36m<module>\u001b[0m:\u001b[36m30\u001b[0m - \u001b[34m\u001b[1mstarting at position 1\u001b[0m\n"
     ]
    },
    {
     "name": "stdout",
     "output_type": "stream",
     "text": [
      "DS 10 out -> [4, 1, 224, 224]\n"
     ]
    },
    {
     "name": "stderr",
     "output_type": "stream",
     "text": [
      "\u001b[32m2023-04-24 00:21:48.914\u001b[0m | \u001b[34m\u001b[1mDEBUG   \u001b[0m | \u001b[36m__main__\u001b[0m:\u001b[36m<module>\u001b[0m:\u001b[36m36\u001b[0m - \u001b[34m\u001b[1mSocket Y label is ready\u001b[0m\n",
      "\u001b[32m2023-04-24 00:21:48.919\u001b[0m | \u001b[1mINFO    \u001b[0m | \u001b[36m__main__\u001b[0m:\u001b[36m<module>\u001b[0m:\u001b[36m38\u001b[0m - \u001b[1mconnected tail to get data on label from head 6666: ('127.0.0.1', 55589)\u001b[0m\n",
      "\u001b[32m2023-04-24 00:21:48.927\u001b[0m | \u001b[1mINFO    \u001b[0m | \u001b[36m__main__\u001b[0m:\u001b[36m<module>\u001b[0m:\u001b[36m49\u001b[0m - \u001b[1mFetched the label data from head.\u001b[0m\n",
      "\u001b[32m2023-04-24 00:21:56.940\u001b[0m | \u001b[34m\u001b[1mDEBUG   \u001b[0m | \u001b[36m__main__\u001b[0m:\u001b[36m<module>\u001b[0m:\u001b[36m55\u001b[0m - \u001b[34m\u001b[1mSocket Body data is ready\u001b[0m\n",
      "\u001b[32m2023-04-24 00:21:56.942\u001b[0m | \u001b[1mINFO    \u001b[0m | \u001b[36m__main__\u001b[0m:\u001b[36m<module>\u001b[0m:\u001b[36m57\u001b[0m - \u001b[1mconnected tail to get data on layer data from body 7171: ('127.0.0.1', 55593)\u001b[0m\n",
      "\u001b[32m2023-04-24 00:21:56.955\u001b[0m | \u001b[1mINFO    \u001b[0m | \u001b[36m__main__\u001b[0m:\u001b[36m<module>\u001b[0m:\u001b[36m68\u001b[0m - \u001b[1mFetched the label data from head.\u001b[0m\n",
      "\u001b[32m2023-04-24 00:21:57.080\u001b[0m | \u001b[1mINFO    \u001b[0m | \u001b[36m__main__\u001b[0m:\u001b[36m<module>\u001b[0m:\u001b[36m92\u001b[0m - \u001b[1msent the backprop data from tail to body 8181 torch.Size([4, 8, 112, 112])\u001b[0m\n",
      "\u001b[32m2023-04-24 00:21:57.082\u001b[0m | \u001b[1mINFO    \u001b[0m | \u001b[36m__main__\u001b[0m:\u001b[36m<module>\u001b[0m:\u001b[36m24\u001b[0m - \u001b[1m The read socket has total ready sockets of 0\u001b[0m\n",
      "\u001b[32m2023-04-24 00:21:57.083\u001b[0m | \u001b[34m\u001b[1mDEBUG   \u001b[0m | \u001b[36m__main__\u001b[0m:\u001b[36m<module>\u001b[0m:\u001b[36m30\u001b[0m - \u001b[34m\u001b[1mstarting at position 1\u001b[0m\n"
     ]
    },
    {
     "name": "stdout",
     "output_type": "stream",
     "text": [
      "DS 10 out -> [4, 1, 224, 224]\n"
     ]
    },
    {
     "name": "stderr",
     "output_type": "stream",
     "text": [
      "\u001b[32m2023-04-24 00:22:24.542\u001b[0m | \u001b[34m\u001b[1mDEBUG   \u001b[0m | \u001b[36m__main__\u001b[0m:\u001b[36m<module>\u001b[0m:\u001b[36m36\u001b[0m - \u001b[34m\u001b[1mSocket Y label is ready\u001b[0m\n",
      "\u001b[32m2023-04-24 00:22:24.547\u001b[0m | \u001b[1mINFO    \u001b[0m | \u001b[36m__main__\u001b[0m:\u001b[36m<module>\u001b[0m:\u001b[36m38\u001b[0m - \u001b[1mconnected tail to get data on label from head 6666: ('127.0.0.1', 55614)\u001b[0m\n",
      "\u001b[32m2023-04-24 00:22:24.557\u001b[0m | \u001b[1mINFO    \u001b[0m | \u001b[36m__main__\u001b[0m:\u001b[36m<module>\u001b[0m:\u001b[36m49\u001b[0m - \u001b[1mFetched the label data from head.\u001b[0m\n",
      "\u001b[32m2023-04-24 00:22:35.235\u001b[0m | \u001b[34m\u001b[1mDEBUG   \u001b[0m | \u001b[36m__main__\u001b[0m:\u001b[36m<module>\u001b[0m:\u001b[36m55\u001b[0m - \u001b[34m\u001b[1mSocket Body data is ready\u001b[0m\n",
      "\u001b[32m2023-04-24 00:22:35.239\u001b[0m | \u001b[1mINFO    \u001b[0m | \u001b[36m__main__\u001b[0m:\u001b[36m<module>\u001b[0m:\u001b[36m57\u001b[0m - \u001b[1mconnected tail to get data on layer data from body 7171: ('127.0.0.1', 55615)\u001b[0m\n",
      "\u001b[32m2023-04-24 00:22:35.248\u001b[0m | \u001b[1mINFO    \u001b[0m | \u001b[36m__main__\u001b[0m:\u001b[36m<module>\u001b[0m:\u001b[36m68\u001b[0m - \u001b[1mFetched the label data from head.\u001b[0m\n"
     ]
    },
    {
     "name": "stdout",
     "output_type": "stream",
     "text": [
      "DS 10 out -> [4, 1, 224, 224]\n"
     ]
    },
    {
     "name": "stderr",
     "output_type": "stream",
     "text": [
      "\u001b[32m2023-04-24 00:22:35.596\u001b[0m | \u001b[1mINFO    \u001b[0m | \u001b[36m__main__\u001b[0m:\u001b[36m<module>\u001b[0m:\u001b[36m92\u001b[0m - \u001b[1msent the backprop data from tail to body 8181 torch.Size([4, 8, 112, 112])\u001b[0m\n",
      "\u001b[32m2023-04-24 00:22:35.602\u001b[0m | \u001b[1mINFO    \u001b[0m | \u001b[36m__main__\u001b[0m:\u001b[36m<module>\u001b[0m:\u001b[36m24\u001b[0m - \u001b[1m The read socket has total ready sockets of 0\u001b[0m\n",
      "\u001b[32m2023-04-24 00:22:35.606\u001b[0m | \u001b[34m\u001b[1mDEBUG   \u001b[0m | \u001b[36m__main__\u001b[0m:\u001b[36m<module>\u001b[0m:\u001b[36m30\u001b[0m - \u001b[34m\u001b[1mstarting at position 1\u001b[0m\n",
      "\u001b[32m2023-04-24 00:23:07.116\u001b[0m | \u001b[34m\u001b[1mDEBUG   \u001b[0m | \u001b[36m__main__\u001b[0m:\u001b[36m<module>\u001b[0m:\u001b[36m36\u001b[0m - \u001b[34m\u001b[1mSocket Y label is ready\u001b[0m\n",
      "\u001b[32m2023-04-24 00:23:07.119\u001b[0m | \u001b[1mINFO    \u001b[0m | \u001b[36m__main__\u001b[0m:\u001b[36m<module>\u001b[0m:\u001b[36m38\u001b[0m - \u001b[1mconnected tail to get data on label from head 6666: ('127.0.0.1', 55634)\u001b[0m\n",
      "\u001b[32m2023-04-24 00:23:07.127\u001b[0m | \u001b[1mINFO    \u001b[0m | \u001b[36m__main__\u001b[0m:\u001b[36m<module>\u001b[0m:\u001b[36m49\u001b[0m - \u001b[1mFetched the label data from head.\u001b[0m\n",
      "\u001b[32m2023-04-24 00:23:17.502\u001b[0m | \u001b[34m\u001b[1mDEBUG   \u001b[0m | \u001b[36m__main__\u001b[0m:\u001b[36m<module>\u001b[0m:\u001b[36m55\u001b[0m - \u001b[34m\u001b[1mSocket Body data is ready\u001b[0m\n",
      "\u001b[32m2023-04-24 00:23:17.506\u001b[0m | \u001b[1mINFO    \u001b[0m | \u001b[36m__main__\u001b[0m:\u001b[36m<module>\u001b[0m:\u001b[36m57\u001b[0m - \u001b[1mconnected tail to get data on layer data from body 7171: ('127.0.0.1', 55646)\u001b[0m\n",
      "\u001b[32m2023-04-24 00:23:17.517\u001b[0m | \u001b[1mINFO    \u001b[0m | \u001b[36m__main__\u001b[0m:\u001b[36m<module>\u001b[0m:\u001b[36m68\u001b[0m - \u001b[1mFetched the label data from head.\u001b[0m\n",
      "\u001b[32m2023-04-24 00:23:17.757\u001b[0m | \u001b[1mINFO    \u001b[0m | \u001b[36m__main__\u001b[0m:\u001b[36m<module>\u001b[0m:\u001b[36m92\u001b[0m - \u001b[1msent the backprop data from tail to body 8181 torch.Size([4, 8, 112, 112])\u001b[0m\n",
      "\u001b[32m2023-04-24 00:23:17.759\u001b[0m | \u001b[1mINFO    \u001b[0m | \u001b[36m__main__\u001b[0m:\u001b[36m<module>\u001b[0m:\u001b[36m24\u001b[0m - \u001b[1m The read socket has total ready sockets of 0\u001b[0m\n",
      "\u001b[32m2023-04-24 00:23:17.760\u001b[0m | \u001b[34m\u001b[1mDEBUG   \u001b[0m | \u001b[36m__main__\u001b[0m:\u001b[36m<module>\u001b[0m:\u001b[36m30\u001b[0m - \u001b[34m\u001b[1mstarting at position 1\u001b[0m\n"
     ]
    },
    {
     "name": "stdout",
     "output_type": "stream",
     "text": [
      "DS 10 out -> [4, 1, 224, 224]\n"
     ]
    },
    {
     "name": "stderr",
     "output_type": "stream",
     "text": [
      "\u001b[32m2023-04-24 00:23:50.595\u001b[0m | \u001b[34m\u001b[1mDEBUG   \u001b[0m | \u001b[36m__main__\u001b[0m:\u001b[36m<module>\u001b[0m:\u001b[36m36\u001b[0m - \u001b[34m\u001b[1mSocket Y label is ready\u001b[0m\n",
      "\u001b[32m2023-04-24 00:23:50.610\u001b[0m | \u001b[1mINFO    \u001b[0m | \u001b[36m__main__\u001b[0m:\u001b[36m<module>\u001b[0m:\u001b[36m38\u001b[0m - \u001b[1mconnected tail to get data on label from head 6666: ('127.0.0.1', 55678)\u001b[0m\n",
      "\u001b[32m2023-04-24 00:23:50.621\u001b[0m | \u001b[1mINFO    \u001b[0m | \u001b[36m__main__\u001b[0m:\u001b[36m<module>\u001b[0m:\u001b[36m49\u001b[0m - \u001b[1mFetched the label data from head.\u001b[0m\n",
      "\u001b[32m2023-04-24 00:24:01.252\u001b[0m | \u001b[34m\u001b[1mDEBUG   \u001b[0m | \u001b[36m__main__\u001b[0m:\u001b[36m<module>\u001b[0m:\u001b[36m55\u001b[0m - \u001b[34m\u001b[1mSocket Body data is ready\u001b[0m\n",
      "\u001b[32m2023-04-24 00:24:01.258\u001b[0m | \u001b[1mINFO    \u001b[0m | \u001b[36m__main__\u001b[0m:\u001b[36m<module>\u001b[0m:\u001b[36m57\u001b[0m - \u001b[1mconnected tail to get data on layer data from body 7171: ('127.0.0.1', 55681)\u001b[0m\n",
      "\u001b[32m2023-04-24 00:24:01.266\u001b[0m | \u001b[1mINFO    \u001b[0m | \u001b[36m__main__\u001b[0m:\u001b[36m<module>\u001b[0m:\u001b[36m68\u001b[0m - \u001b[1mFetched the label data from head.\u001b[0m\n",
      "\u001b[32m2023-04-24 00:24:01.512\u001b[0m | \u001b[1mINFO    \u001b[0m | \u001b[36m__main__\u001b[0m:\u001b[36m<module>\u001b[0m:\u001b[36m92\u001b[0m - \u001b[1msent the backprop data from tail to body 8181 torch.Size([4, 8, 112, 112])\u001b[0m\n",
      "\u001b[32m2023-04-24 00:24:01.515\u001b[0m | \u001b[1mINFO    \u001b[0m | \u001b[36m__main__\u001b[0m:\u001b[36m<module>\u001b[0m:\u001b[36m24\u001b[0m - \u001b[1m The read socket has total ready sockets of 0\u001b[0m\n",
      "\u001b[32m2023-04-24 00:24:01.517\u001b[0m | \u001b[34m\u001b[1mDEBUG   \u001b[0m | \u001b[36m__main__\u001b[0m:\u001b[36m<module>\u001b[0m:\u001b[36m30\u001b[0m - \u001b[34m\u001b[1mstarting at position 1\u001b[0m\n"
     ]
    },
    {
     "name": "stdout",
     "output_type": "stream",
     "text": [
      "DS 10 out -> [4, 1, 224, 224]\n"
     ]
    },
    {
     "name": "stderr",
     "output_type": "stream",
     "text": [
      "\u001b[32m2023-04-24 00:24:31.231\u001b[0m | \u001b[34m\u001b[1mDEBUG   \u001b[0m | \u001b[36m__main__\u001b[0m:\u001b[36m<module>\u001b[0m:\u001b[36m36\u001b[0m - \u001b[34m\u001b[1mSocket Y label is ready\u001b[0m\n",
      "\u001b[32m2023-04-24 00:24:31.235\u001b[0m | \u001b[1mINFO    \u001b[0m | \u001b[36m__main__\u001b[0m:\u001b[36m<module>\u001b[0m:\u001b[36m38\u001b[0m - \u001b[1mconnected tail to get data on label from head 6666: ('127.0.0.1', 55700)\u001b[0m\n",
      "\u001b[32m2023-04-24 00:24:31.244\u001b[0m | \u001b[1mINFO    \u001b[0m | \u001b[36m__main__\u001b[0m:\u001b[36m<module>\u001b[0m:\u001b[36m49\u001b[0m - \u001b[1mFetched the label data from head.\u001b[0m\n",
      "\u001b[32m2023-04-24 00:24:42.888\u001b[0m | \u001b[34m\u001b[1mDEBUG   \u001b[0m | \u001b[36m__main__\u001b[0m:\u001b[36m<module>\u001b[0m:\u001b[36m55\u001b[0m - \u001b[34m\u001b[1mSocket Body data is ready\u001b[0m\n",
      "\u001b[32m2023-04-24 00:24:42.891\u001b[0m | \u001b[1mINFO    \u001b[0m | \u001b[36m__main__\u001b[0m:\u001b[36m<module>\u001b[0m:\u001b[36m57\u001b[0m - \u001b[1mconnected tail to get data on layer data from body 7171: ('127.0.0.1', 55707)\u001b[0m\n",
      "\u001b[32m2023-04-24 00:24:42.904\u001b[0m | \u001b[1mINFO    \u001b[0m | \u001b[36m__main__\u001b[0m:\u001b[36m<module>\u001b[0m:\u001b[36m68\u001b[0m - \u001b[1mFetched the label data from head.\u001b[0m\n",
      "\u001b[32m2023-04-24 00:24:43.202\u001b[0m | \u001b[1mINFO    \u001b[0m | \u001b[36m__main__\u001b[0m:\u001b[36m<module>\u001b[0m:\u001b[36m92\u001b[0m - \u001b[1msent the backprop data from tail to body 8181 torch.Size([4, 8, 112, 112])\u001b[0m\n",
      "\u001b[32m2023-04-24 00:24:43.204\u001b[0m | \u001b[1mINFO    \u001b[0m | \u001b[36m__main__\u001b[0m:\u001b[36m<module>\u001b[0m:\u001b[36m24\u001b[0m - \u001b[1m The read socket has total ready sockets of 0\u001b[0m\n",
      "\u001b[32m2023-04-24 00:24:43.207\u001b[0m | \u001b[34m\u001b[1mDEBUG   \u001b[0m | \u001b[36m__main__\u001b[0m:\u001b[36m<module>\u001b[0m:\u001b[36m30\u001b[0m - \u001b[34m\u001b[1mstarting at position 1\u001b[0m\n"
     ]
    },
    {
     "name": "stdout",
     "output_type": "stream",
     "text": [
      "DS 10 out -> [4, 1, 224, 224]\n"
     ]
    },
    {
     "name": "stderr",
     "output_type": "stream",
     "text": [
      "\u001b[32m2023-04-24 00:25:15.545\u001b[0m | \u001b[34m\u001b[1mDEBUG   \u001b[0m | \u001b[36m__main__\u001b[0m:\u001b[36m<module>\u001b[0m:\u001b[36m36\u001b[0m - \u001b[34m\u001b[1mSocket Y label is ready\u001b[0m\n",
      "\u001b[32m2023-04-24 00:25:15.556\u001b[0m | \u001b[1mINFO    \u001b[0m | \u001b[36m__main__\u001b[0m:\u001b[36m<module>\u001b[0m:\u001b[36m38\u001b[0m - \u001b[1mconnected tail to get data on label from head 6666: ('127.0.0.1', 55725)\u001b[0m\n",
      "\u001b[32m2023-04-24 00:25:15.568\u001b[0m | \u001b[1mINFO    \u001b[0m | \u001b[36m__main__\u001b[0m:\u001b[36m<module>\u001b[0m:\u001b[36m49\u001b[0m - \u001b[1mFetched the label data from head.\u001b[0m\n",
      "\u001b[32m2023-04-24 00:25:26.060\u001b[0m | \u001b[34m\u001b[1mDEBUG   \u001b[0m | \u001b[36m__main__\u001b[0m:\u001b[36m<module>\u001b[0m:\u001b[36m55\u001b[0m - \u001b[34m\u001b[1mSocket Body data is ready\u001b[0m\n",
      "\u001b[32m2023-04-24 00:25:26.065\u001b[0m | \u001b[1mINFO    \u001b[0m | \u001b[36m__main__\u001b[0m:\u001b[36m<module>\u001b[0m:\u001b[36m57\u001b[0m - \u001b[1mconnected tail to get data on layer data from body 7171: ('127.0.0.1', 55732)\u001b[0m\n",
      "\u001b[32m2023-04-24 00:25:26.074\u001b[0m | \u001b[1mINFO    \u001b[0m | \u001b[36m__main__\u001b[0m:\u001b[36m<module>\u001b[0m:\u001b[36m68\u001b[0m - \u001b[1mFetched the label data from head.\u001b[0m\n",
      "\u001b[32m2023-04-24 00:25:26.322\u001b[0m | \u001b[1mINFO    \u001b[0m | \u001b[36m__main__\u001b[0m:\u001b[36m<module>\u001b[0m:\u001b[36m92\u001b[0m - \u001b[1msent the backprop data from tail to body 8181 torch.Size([4, 8, 112, 112])\u001b[0m\n",
      "\u001b[32m2023-04-24 00:25:26.325\u001b[0m | \u001b[1mINFO    \u001b[0m | \u001b[36m__main__\u001b[0m:\u001b[36m<module>\u001b[0m:\u001b[36m24\u001b[0m - \u001b[1m The read socket has total ready sockets of 0\u001b[0m\n",
      "\u001b[32m2023-04-24 00:25:26.327\u001b[0m | \u001b[34m\u001b[1mDEBUG   \u001b[0m | \u001b[36m__main__\u001b[0m:\u001b[36m<module>\u001b[0m:\u001b[36m30\u001b[0m - \u001b[34m\u001b[1mstarting at position 1\u001b[0m\n"
     ]
    },
    {
     "name": "stdout",
     "output_type": "stream",
     "text": [
      "DS 10 out -> [4, 1, 224, 224]\n"
     ]
    },
    {
     "name": "stderr",
     "output_type": "stream",
     "text": [
      "\u001b[32m2023-04-24 00:25:51.172\u001b[0m | \u001b[34m\u001b[1mDEBUG   \u001b[0m | \u001b[36m__main__\u001b[0m:\u001b[36m<module>\u001b[0m:\u001b[36m36\u001b[0m - \u001b[34m\u001b[1mSocket Y label is ready\u001b[0m\n",
      "\u001b[32m2023-04-24 00:25:51.176\u001b[0m | \u001b[1mINFO    \u001b[0m | \u001b[36m__main__\u001b[0m:\u001b[36m<module>\u001b[0m:\u001b[36m38\u001b[0m - \u001b[1mconnected tail to get data on label from head 6666: ('127.0.0.1', 55777)\u001b[0m\n",
      "\u001b[32m2023-04-24 00:25:51.184\u001b[0m | \u001b[1mINFO    \u001b[0m | \u001b[36m__main__\u001b[0m:\u001b[36m<module>\u001b[0m:\u001b[36m49\u001b[0m - \u001b[1mFetched the label data from head.\u001b[0m\n",
      "\u001b[32m2023-04-24 00:26:01.358\u001b[0m | \u001b[34m\u001b[1mDEBUG   \u001b[0m | \u001b[36m__main__\u001b[0m:\u001b[36m<module>\u001b[0m:\u001b[36m55\u001b[0m - \u001b[34m\u001b[1mSocket Body data is ready\u001b[0m\n",
      "\u001b[32m2023-04-24 00:26:01.363\u001b[0m | \u001b[1mINFO    \u001b[0m | \u001b[36m__main__\u001b[0m:\u001b[36m<module>\u001b[0m:\u001b[36m57\u001b[0m - \u001b[1mconnected tail to get data on layer data from body 7171: ('127.0.0.1', 55784)\u001b[0m\n",
      "\u001b[32m2023-04-24 00:26:01.372\u001b[0m | \u001b[1mINFO    \u001b[0m | \u001b[36m__main__\u001b[0m:\u001b[36m<module>\u001b[0m:\u001b[36m68\u001b[0m - \u001b[1mFetched the label data from head.\u001b[0m\n",
      "\u001b[32m2023-04-24 00:26:01.606\u001b[0m | \u001b[1mINFO    \u001b[0m | \u001b[36m__main__\u001b[0m:\u001b[36m<module>\u001b[0m:\u001b[36m92\u001b[0m - \u001b[1msent the backprop data from tail to body 8181 torch.Size([4, 8, 112, 112])\u001b[0m\n",
      "\u001b[32m2023-04-24 00:26:01.608\u001b[0m | \u001b[1mINFO    \u001b[0m | \u001b[36m__main__\u001b[0m:\u001b[36m<module>\u001b[0m:\u001b[36m24\u001b[0m - \u001b[1m The read socket has total ready sockets of 0\u001b[0m\n",
      "\u001b[32m2023-04-24 00:26:01.610\u001b[0m | \u001b[34m\u001b[1mDEBUG   \u001b[0m | \u001b[36m__main__\u001b[0m:\u001b[36m<module>\u001b[0m:\u001b[36m30\u001b[0m - \u001b[34m\u001b[1mstarting at position 1\u001b[0m\n"
     ]
    },
    {
     "name": "stdout",
     "output_type": "stream",
     "text": [
      "DS 10 out -> [4, 1, 224, 224]\n"
     ]
    },
    {
     "name": "stderr",
     "output_type": "stream",
     "text": [
      "\u001b[32m2023-04-24 00:26:37.779\u001b[0m | \u001b[34m\u001b[1mDEBUG   \u001b[0m | \u001b[36m__main__\u001b[0m:\u001b[36m<module>\u001b[0m:\u001b[36m36\u001b[0m - \u001b[34m\u001b[1mSocket Y label is ready\u001b[0m\n",
      "\u001b[32m2023-04-24 00:26:37.789\u001b[0m | \u001b[1mINFO    \u001b[0m | \u001b[36m__main__\u001b[0m:\u001b[36m<module>\u001b[0m:\u001b[36m38\u001b[0m - \u001b[1mconnected tail to get data on label from head 6666: ('127.0.0.1', 55809)\u001b[0m\n",
      "\u001b[32m2023-04-24 00:26:37.804\u001b[0m | \u001b[1mINFO    \u001b[0m | \u001b[36m__main__\u001b[0m:\u001b[36m<module>\u001b[0m:\u001b[36m49\u001b[0m - \u001b[1mFetched the label data from head.\u001b[0m\n",
      "\u001b[32m2023-04-24 00:26:50.046\u001b[0m | \u001b[34m\u001b[1mDEBUG   \u001b[0m | \u001b[36m__main__\u001b[0m:\u001b[36m<module>\u001b[0m:\u001b[36m55\u001b[0m - \u001b[34m\u001b[1mSocket Body data is ready\u001b[0m\n",
      "\u001b[32m2023-04-24 00:26:50.050\u001b[0m | \u001b[1mINFO    \u001b[0m | \u001b[36m__main__\u001b[0m:\u001b[36m<module>\u001b[0m:\u001b[36m57\u001b[0m - \u001b[1mconnected tail to get data on layer data from body 7171: ('127.0.0.1', 55817)\u001b[0m\n",
      "\u001b[32m2023-04-24 00:26:50.062\u001b[0m | \u001b[1mINFO    \u001b[0m | \u001b[36m__main__\u001b[0m:\u001b[36m<module>\u001b[0m:\u001b[36m68\u001b[0m - \u001b[1mFetched the label data from head.\u001b[0m\n",
      "\u001b[32m2023-04-24 00:26:50.376\u001b[0m | \u001b[1mINFO    \u001b[0m | \u001b[36m__main__\u001b[0m:\u001b[36m<module>\u001b[0m:\u001b[36m92\u001b[0m - \u001b[1msent the backprop data from tail to body 8181 torch.Size([4, 8, 112, 112])\u001b[0m\n"
     ]
    },
    {
     "name": "stdout",
     "output_type": "stream",
     "text": [
      "DS 10 out -> [4, 1, 224, 224]\n"
     ]
    },
    {
     "name": "stderr",
     "output_type": "stream",
     "text": [
      "\u001b[32m2023-04-24 00:26:50.382\u001b[0m | \u001b[1mINFO    \u001b[0m | \u001b[36m__main__\u001b[0m:\u001b[36m<module>\u001b[0m:\u001b[36m24\u001b[0m - \u001b[1m The read socket has total ready sockets of 0\u001b[0m\n",
      "\u001b[32m2023-04-24 00:26:50.386\u001b[0m | \u001b[34m\u001b[1mDEBUG   \u001b[0m | \u001b[36m__main__\u001b[0m:\u001b[36m<module>\u001b[0m:\u001b[36m30\u001b[0m - \u001b[34m\u001b[1mstarting at position 1\u001b[0m\n",
      "\u001b[32m2023-04-24 00:27:27.509\u001b[0m | \u001b[34m\u001b[1mDEBUG   \u001b[0m | \u001b[36m__main__\u001b[0m:\u001b[36m<module>\u001b[0m:\u001b[36m36\u001b[0m - \u001b[34m\u001b[1mSocket Y label is ready\u001b[0m\n",
      "\u001b[32m2023-04-24 00:27:27.519\u001b[0m | \u001b[1mINFO    \u001b[0m | \u001b[36m__main__\u001b[0m:\u001b[36m<module>\u001b[0m:\u001b[36m38\u001b[0m - \u001b[1mconnected tail to get data on label from head 6666: ('127.0.0.1', 55882)\u001b[0m\n",
      "\u001b[32m2023-04-24 00:27:27.534\u001b[0m | \u001b[1mINFO    \u001b[0m | \u001b[36m__main__\u001b[0m:\u001b[36m<module>\u001b[0m:\u001b[36m49\u001b[0m - \u001b[1mFetched the label data from head.\u001b[0m\n",
      "\u001b[32m2023-04-24 00:27:39.860\u001b[0m | \u001b[34m\u001b[1mDEBUG   \u001b[0m | \u001b[36m__main__\u001b[0m:\u001b[36m<module>\u001b[0m:\u001b[36m55\u001b[0m - \u001b[34m\u001b[1mSocket Body data is ready\u001b[0m\n",
      "\u001b[32m2023-04-24 00:27:39.865\u001b[0m | \u001b[1mINFO    \u001b[0m | \u001b[36m__main__\u001b[0m:\u001b[36m<module>\u001b[0m:\u001b[36m57\u001b[0m - \u001b[1mconnected tail to get data on layer data from body 7171: ('127.0.0.1', 55927)\u001b[0m\n",
      "\u001b[32m2023-04-24 00:27:39.874\u001b[0m | \u001b[1mINFO    \u001b[0m | \u001b[36m__main__\u001b[0m:\u001b[36m<module>\u001b[0m:\u001b[36m68\u001b[0m - \u001b[1mFetched the label data from head.\u001b[0m\n",
      "\u001b[32m2023-04-24 00:27:40.236\u001b[0m | \u001b[1mINFO    \u001b[0m | \u001b[36m__main__\u001b[0m:\u001b[36m<module>\u001b[0m:\u001b[36m92\u001b[0m - \u001b[1msent the backprop data from tail to body 8181 torch.Size([4, 8, 112, 112])\u001b[0m\n"
     ]
    },
    {
     "name": "stdout",
     "output_type": "stream",
     "text": [
      "DS 10 out -> [4, 1, 224, 224]\n"
     ]
    },
    {
     "name": "stderr",
     "output_type": "stream",
     "text": [
      "\u001b[32m2023-04-24 00:27:40.239\u001b[0m | \u001b[1mINFO    \u001b[0m | \u001b[36m__main__\u001b[0m:\u001b[36m<module>\u001b[0m:\u001b[36m24\u001b[0m - \u001b[1m The read socket has total ready sockets of 0\u001b[0m\n",
      "\u001b[32m2023-04-24 00:27:40.241\u001b[0m | \u001b[34m\u001b[1mDEBUG   \u001b[0m | \u001b[36m__main__\u001b[0m:\u001b[36m<module>\u001b[0m:\u001b[36m30\u001b[0m - \u001b[34m\u001b[1mstarting at position 1\u001b[0m\n",
      "\u001b[32m2023-04-24 00:28:17.496\u001b[0m | \u001b[34m\u001b[1mDEBUG   \u001b[0m | \u001b[36m__main__\u001b[0m:\u001b[36m<module>\u001b[0m:\u001b[36m36\u001b[0m - \u001b[34m\u001b[1mSocket Y label is ready\u001b[0m\n",
      "\u001b[32m2023-04-24 00:28:17.506\u001b[0m | \u001b[1mINFO    \u001b[0m | \u001b[36m__main__\u001b[0m:\u001b[36m<module>\u001b[0m:\u001b[36m38\u001b[0m - \u001b[1mconnected tail to get data on label from head 6666: ('127.0.0.1', 55956)\u001b[0m\n",
      "\u001b[32m2023-04-24 00:28:17.520\u001b[0m | \u001b[1mINFO    \u001b[0m | \u001b[36m__main__\u001b[0m:\u001b[36m<module>\u001b[0m:\u001b[36m49\u001b[0m - \u001b[1mFetched the label data from head.\u001b[0m\n",
      "\u001b[32m2023-04-24 00:28:28.815\u001b[0m | \u001b[34m\u001b[1mDEBUG   \u001b[0m | \u001b[36m__main__\u001b[0m:\u001b[36m<module>\u001b[0m:\u001b[36m55\u001b[0m - \u001b[34m\u001b[1mSocket Body data is ready\u001b[0m\n",
      "\u001b[32m2023-04-24 00:28:28.818\u001b[0m | \u001b[1mINFO    \u001b[0m | \u001b[36m__main__\u001b[0m:\u001b[36m<module>\u001b[0m:\u001b[36m57\u001b[0m - \u001b[1mconnected tail to get data on layer data from body 7171: ('127.0.0.1', 55964)\u001b[0m\n",
      "\u001b[32m2023-04-24 00:28:28.827\u001b[0m | \u001b[1mINFO    \u001b[0m | \u001b[36m__main__\u001b[0m:\u001b[36m<module>\u001b[0m:\u001b[36m68\u001b[0m - \u001b[1mFetched the label data from head.\u001b[0m\n",
      "\u001b[32m2023-04-24 00:28:29.122\u001b[0m | \u001b[1mINFO    \u001b[0m | \u001b[36m__main__\u001b[0m:\u001b[36m<module>\u001b[0m:\u001b[36m92\u001b[0m - \u001b[1msent the backprop data from tail to body 8181 torch.Size([4, 8, 112, 112])\u001b[0m\n",
      "\u001b[32m2023-04-24 00:28:29.124\u001b[0m | \u001b[1mINFO    \u001b[0m | \u001b[36m__main__\u001b[0m:\u001b[36m<module>\u001b[0m:\u001b[36m24\u001b[0m - \u001b[1m The read socket has total ready sockets of 0\u001b[0m\n"
     ]
    },
    {
     "name": "stdout",
     "output_type": "stream",
     "text": [
      "DS 10 out -> [4, 1, 224, 224]\n"
     ]
    },
    {
     "name": "stderr",
     "output_type": "stream",
     "text": [
      "\u001b[32m2023-04-24 00:28:29.127\u001b[0m | \u001b[34m\u001b[1mDEBUG   \u001b[0m | \u001b[36m__main__\u001b[0m:\u001b[36m<module>\u001b[0m:\u001b[36m30\u001b[0m - \u001b[34m\u001b[1mstarting at position 1\u001b[0m\n",
      "\u001b[32m2023-04-24 00:29:03.440\u001b[0m | \u001b[34m\u001b[1mDEBUG   \u001b[0m | \u001b[36m__main__\u001b[0m:\u001b[36m<module>\u001b[0m:\u001b[36m36\u001b[0m - \u001b[34m\u001b[1mSocket Y label is ready\u001b[0m\n",
      "\u001b[32m2023-04-24 00:29:03.449\u001b[0m | \u001b[1mINFO    \u001b[0m | \u001b[36m__main__\u001b[0m:\u001b[36m<module>\u001b[0m:\u001b[36m38\u001b[0m - \u001b[1mconnected tail to get data on label from head 6666: ('127.0.0.1', 55999)\u001b[0m\n",
      "\u001b[32m2023-04-24 00:29:03.465\u001b[0m | \u001b[1mINFO    \u001b[0m | \u001b[36m__main__\u001b[0m:\u001b[36m<module>\u001b[0m:\u001b[36m49\u001b[0m - \u001b[1mFetched the label data from head.\u001b[0m\n",
      "\u001b[32m2023-04-24 00:29:14.384\u001b[0m | \u001b[34m\u001b[1mDEBUG   \u001b[0m | \u001b[36m__main__\u001b[0m:\u001b[36m<module>\u001b[0m:\u001b[36m55\u001b[0m - \u001b[34m\u001b[1mSocket Body data is ready\u001b[0m\n",
      "\u001b[32m2023-04-24 00:29:14.388\u001b[0m | \u001b[1mINFO    \u001b[0m | \u001b[36m__main__\u001b[0m:\u001b[36m<module>\u001b[0m:\u001b[36m57\u001b[0m - \u001b[1mconnected tail to get data on layer data from body 7171: ('127.0.0.1', 56008)\u001b[0m\n",
      "\u001b[32m2023-04-24 00:29:14.397\u001b[0m | \u001b[1mINFO    \u001b[0m | \u001b[36m__main__\u001b[0m:\u001b[36m<module>\u001b[0m:\u001b[36m68\u001b[0m - \u001b[1mFetched the label data from head.\u001b[0m\n",
      "\u001b[32m2023-04-24 00:29:14.681\u001b[0m | \u001b[1mINFO    \u001b[0m | \u001b[36m__main__\u001b[0m:\u001b[36m<module>\u001b[0m:\u001b[36m92\u001b[0m - \u001b[1msent the backprop data from tail to body 8181 torch.Size([4, 8, 112, 112])\u001b[0m\n",
      "\u001b[32m2023-04-24 00:29:14.683\u001b[0m | \u001b[1mINFO    \u001b[0m | \u001b[36m__main__\u001b[0m:\u001b[36m<module>\u001b[0m:\u001b[36m24\u001b[0m - \u001b[1m The read socket has total ready sockets of 0\u001b[0m\n",
      "\u001b[32m2023-04-24 00:29:14.684\u001b[0m | \u001b[34m\u001b[1mDEBUG   \u001b[0m | \u001b[36m__main__\u001b[0m:\u001b[36m<module>\u001b[0m:\u001b[36m30\u001b[0m - \u001b[34m\u001b[1mstarting at position 1\u001b[0m\n"
     ]
    },
    {
     "name": "stdout",
     "output_type": "stream",
     "text": [
      "DS 10 out -> [4, 1, 224, 224]\n"
     ]
    },
    {
     "name": "stderr",
     "output_type": "stream",
     "text": [
      "\u001b[32m2023-04-24 00:29:51.838\u001b[0m | \u001b[34m\u001b[1mDEBUG   \u001b[0m | \u001b[36m__main__\u001b[0m:\u001b[36m<module>\u001b[0m:\u001b[36m36\u001b[0m - \u001b[34m\u001b[1mSocket Y label is ready\u001b[0m\n",
      "\u001b[32m2023-04-24 00:29:51.846\u001b[0m | \u001b[1mINFO    \u001b[0m | \u001b[36m__main__\u001b[0m:\u001b[36m<module>\u001b[0m:\u001b[36m38\u001b[0m - \u001b[1mconnected tail to get data on label from head 6666: ('127.0.0.1', 56031)\u001b[0m\n",
      "\u001b[32m2023-04-24 00:29:51.859\u001b[0m | \u001b[1mINFO    \u001b[0m | \u001b[36m__main__\u001b[0m:\u001b[36m<module>\u001b[0m:\u001b[36m49\u001b[0m - \u001b[1mFetched the label data from head.\u001b[0m\n",
      "\u001b[32m2023-04-24 00:30:02.707\u001b[0m | \u001b[34m\u001b[1mDEBUG   \u001b[0m | \u001b[36m__main__\u001b[0m:\u001b[36m<module>\u001b[0m:\u001b[36m55\u001b[0m - \u001b[34m\u001b[1mSocket Body data is ready\u001b[0m\n",
      "\u001b[32m2023-04-24 00:30:02.711\u001b[0m | \u001b[1mINFO    \u001b[0m | \u001b[36m__main__\u001b[0m:\u001b[36m<module>\u001b[0m:\u001b[36m57\u001b[0m - \u001b[1mconnected tail to get data on layer data from body 7171: ('127.0.0.1', 56032)\u001b[0m\n",
      "\u001b[32m2023-04-24 00:30:02.720\u001b[0m | \u001b[1mINFO    \u001b[0m | \u001b[36m__main__\u001b[0m:\u001b[36m<module>\u001b[0m:\u001b[36m68\u001b[0m - \u001b[1mFetched the label data from head.\u001b[0m\n",
      "\u001b[32m2023-04-24 00:30:02.961\u001b[0m | \u001b[1mINFO    \u001b[0m | \u001b[36m__main__\u001b[0m:\u001b[36m<module>\u001b[0m:\u001b[36m92\u001b[0m - \u001b[1msent the backprop data from tail to body 8181 torch.Size([4, 8, 112, 112])\u001b[0m\n",
      "\u001b[32m2023-04-24 00:30:02.965\u001b[0m | \u001b[1mINFO    \u001b[0m | \u001b[36m__main__\u001b[0m:\u001b[36m<module>\u001b[0m:\u001b[36m24\u001b[0m - \u001b[1m The read socket has total ready sockets of 0\u001b[0m\n",
      "\u001b[32m2023-04-24 00:30:02.967\u001b[0m | \u001b[34m\u001b[1mDEBUG   \u001b[0m | \u001b[36m__main__\u001b[0m:\u001b[36m<module>\u001b[0m:\u001b[36m30\u001b[0m - \u001b[34m\u001b[1mstarting at position 1\u001b[0m\n"
     ]
    },
    {
     "name": "stdout",
     "output_type": "stream",
     "text": [
      "DS 10 out -> [4, 1, 224, 224]\n"
     ]
    },
    {
     "name": "stderr",
     "output_type": "stream",
     "text": [
      "\u001b[32m2023-04-24 00:30:40.243\u001b[0m | \u001b[34m\u001b[1mDEBUG   \u001b[0m | \u001b[36m__main__\u001b[0m:\u001b[36m<module>\u001b[0m:\u001b[36m36\u001b[0m - \u001b[34m\u001b[1mSocket Y label is ready\u001b[0m\n",
      "\u001b[32m2023-04-24 00:30:40.254\u001b[0m | \u001b[1mINFO    \u001b[0m | \u001b[36m__main__\u001b[0m:\u001b[36m<module>\u001b[0m:\u001b[36m38\u001b[0m - \u001b[1mconnected tail to get data on label from head 6666: ('127.0.0.1', 56068)\u001b[0m\n",
      "\u001b[32m2023-04-24 00:30:40.267\u001b[0m | \u001b[1mINFO    \u001b[0m | \u001b[36m__main__\u001b[0m:\u001b[36m<module>\u001b[0m:\u001b[36m49\u001b[0m - \u001b[1mFetched the label data from head.\u001b[0m\n",
      "\u001b[32m2023-04-24 00:30:50.884\u001b[0m | \u001b[34m\u001b[1mDEBUG   \u001b[0m | \u001b[36m__main__\u001b[0m:\u001b[36m<module>\u001b[0m:\u001b[36m55\u001b[0m - \u001b[34m\u001b[1mSocket Body data is ready\u001b[0m\n",
      "\u001b[32m2023-04-24 00:30:50.889\u001b[0m | \u001b[1mINFO    \u001b[0m | \u001b[36m__main__\u001b[0m:\u001b[36m<module>\u001b[0m:\u001b[36m57\u001b[0m - \u001b[1mconnected tail to get data on layer data from body 7171: ('127.0.0.1', 56081)\u001b[0m\n",
      "\u001b[32m2023-04-24 00:30:50.899\u001b[0m | \u001b[1mINFO    \u001b[0m | \u001b[36m__main__\u001b[0m:\u001b[36m<module>\u001b[0m:\u001b[36m68\u001b[0m - \u001b[1mFetched the label data from head.\u001b[0m\n",
      "\u001b[32m2023-04-24 00:30:51.171\u001b[0m | \u001b[1mINFO    \u001b[0m | \u001b[36m__main__\u001b[0m:\u001b[36m<module>\u001b[0m:\u001b[36m92\u001b[0m - \u001b[1msent the backprop data from tail to body 8181 torch.Size([4, 8, 112, 112])\u001b[0m\n",
      "\u001b[32m2023-04-24 00:30:51.173\u001b[0m | \u001b[1mINFO    \u001b[0m | \u001b[36m__main__\u001b[0m:\u001b[36m<module>\u001b[0m:\u001b[36m24\u001b[0m - \u001b[1m The read socket has total ready sockets of 0\u001b[0m\n"
     ]
    },
    {
     "name": "stdout",
     "output_type": "stream",
     "text": [
      "DS 10 out -> [4, 1, 224, 224]\n"
     ]
    },
    {
     "name": "stderr",
     "output_type": "stream",
     "text": [
      "\u001b[32m2023-04-24 00:30:51.175\u001b[0m | \u001b[34m\u001b[1mDEBUG   \u001b[0m | \u001b[36m__main__\u001b[0m:\u001b[36m<module>\u001b[0m:\u001b[36m30\u001b[0m - \u001b[34m\u001b[1mstarting at position 1\u001b[0m\n",
      "\u001b[32m2023-04-24 00:31:22.166\u001b[0m | \u001b[34m\u001b[1mDEBUG   \u001b[0m | \u001b[36m__main__\u001b[0m:\u001b[36m<module>\u001b[0m:\u001b[36m36\u001b[0m - \u001b[34m\u001b[1mSocket Y label is ready\u001b[0m\n",
      "\u001b[32m2023-04-24 00:31:22.171\u001b[0m | \u001b[1mINFO    \u001b[0m | \u001b[36m__main__\u001b[0m:\u001b[36m<module>\u001b[0m:\u001b[36m38\u001b[0m - \u001b[1mconnected tail to get data on label from head 6666: ('127.0.0.1', 56106)\u001b[0m\n",
      "\u001b[32m2023-04-24 00:31:22.191\u001b[0m | \u001b[1mINFO    \u001b[0m | \u001b[36m__main__\u001b[0m:\u001b[36m<module>\u001b[0m:\u001b[36m49\u001b[0m - \u001b[1mFetched the label data from head.\u001b[0m\n",
      "\u001b[32m2023-04-24 00:31:33.003\u001b[0m | \u001b[34m\u001b[1mDEBUG   \u001b[0m | \u001b[36m__main__\u001b[0m:\u001b[36m<module>\u001b[0m:\u001b[36m55\u001b[0m - \u001b[34m\u001b[1mSocket Body data is ready\u001b[0m\n",
      "\u001b[32m2023-04-24 00:31:33.008\u001b[0m | \u001b[1mINFO    \u001b[0m | \u001b[36m__main__\u001b[0m:\u001b[36m<module>\u001b[0m:\u001b[36m57\u001b[0m - \u001b[1mconnected tail to get data on layer data from body 7171: ('127.0.0.1', 56117)\u001b[0m\n",
      "\u001b[32m2023-04-24 00:31:33.017\u001b[0m | \u001b[1mINFO    \u001b[0m | \u001b[36m__main__\u001b[0m:\u001b[36m<module>\u001b[0m:\u001b[36m68\u001b[0m - \u001b[1mFetched the label data from head.\u001b[0m\n",
      "\u001b[32m2023-04-24 00:31:33.302\u001b[0m | \u001b[1mINFO    \u001b[0m | \u001b[36m__main__\u001b[0m:\u001b[36m<module>\u001b[0m:\u001b[36m92\u001b[0m - \u001b[1msent the backprop data from tail to body 8181 torch.Size([4, 8, 112, 112])\u001b[0m\n",
      "\u001b[32m2023-04-24 00:31:33.305\u001b[0m | \u001b[1mINFO    \u001b[0m | \u001b[36m__main__\u001b[0m:\u001b[36m<module>\u001b[0m:\u001b[36m24\u001b[0m - \u001b[1m The read socket has total ready sockets of 0\u001b[0m\n",
      "\u001b[32m2023-04-24 00:31:33.308\u001b[0m | \u001b[34m\u001b[1mDEBUG   \u001b[0m | \u001b[36m__main__\u001b[0m:\u001b[36m<module>\u001b[0m:\u001b[36m30\u001b[0m - \u001b[34m\u001b[1mstarting at position 1\u001b[0m\n"
     ]
    },
    {
     "name": "stdout",
     "output_type": "stream",
     "text": [
      "DS 10 out -> [4, 1, 224, 224]\n"
     ]
    },
    {
     "name": "stderr",
     "output_type": "stream",
     "text": [
      "\u001b[32m2023-04-24 00:32:09.804\u001b[0m | \u001b[34m\u001b[1mDEBUG   \u001b[0m | \u001b[36m__main__\u001b[0m:\u001b[36m<module>\u001b[0m:\u001b[36m36\u001b[0m - \u001b[34m\u001b[1mSocket Y label is ready\u001b[0m\n",
      "\u001b[32m2023-04-24 00:32:09.816\u001b[0m | \u001b[1mINFO    \u001b[0m | \u001b[36m__main__\u001b[0m:\u001b[36m<module>\u001b[0m:\u001b[36m38\u001b[0m - \u001b[1mconnected tail to get data on label from head 6666: ('127.0.0.1', 56140)\u001b[0m\n",
      "\u001b[32m2023-04-24 00:32:09.828\u001b[0m | \u001b[1mINFO    \u001b[0m | \u001b[36m__main__\u001b[0m:\u001b[36m<module>\u001b[0m:\u001b[36m49\u001b[0m - \u001b[1mFetched the label data from head.\u001b[0m\n",
      "\u001b[32m2023-04-24 00:32:21.303\u001b[0m | \u001b[34m\u001b[1mDEBUG   \u001b[0m | \u001b[36m__main__\u001b[0m:\u001b[36m<module>\u001b[0m:\u001b[36m55\u001b[0m - \u001b[34m\u001b[1mSocket Body data is ready\u001b[0m\n",
      "\u001b[32m2023-04-24 00:32:21.308\u001b[0m | \u001b[1mINFO    \u001b[0m | \u001b[36m__main__\u001b[0m:\u001b[36m<module>\u001b[0m:\u001b[36m57\u001b[0m - \u001b[1mconnected tail to get data on layer data from body 7171: ('127.0.0.1', 56145)\u001b[0m\n",
      "\u001b[32m2023-04-24 00:32:21.315\u001b[0m | \u001b[1mINFO    \u001b[0m | \u001b[36m__main__\u001b[0m:\u001b[36m<module>\u001b[0m:\u001b[36m68\u001b[0m - \u001b[1mFetched the label data from head.\u001b[0m\n"
     ]
    },
    {
     "name": "stdout",
     "output_type": "stream",
     "text": [
      "DS 10 out -> [4, 1, 224, 224]\n"
     ]
    },
    {
     "name": "stderr",
     "output_type": "stream",
     "text": [
      "\u001b[32m2023-04-24 00:32:21.873\u001b[0m | \u001b[1mINFO    \u001b[0m | \u001b[36m__main__\u001b[0m:\u001b[36m<module>\u001b[0m:\u001b[36m92\u001b[0m - \u001b[1msent the backprop data from tail to body 8181 torch.Size([4, 8, 112, 112])\u001b[0m\n",
      "\u001b[32m2023-04-24 00:32:21.877\u001b[0m | \u001b[1mINFO    \u001b[0m | \u001b[36m__main__\u001b[0m:\u001b[36m<module>\u001b[0m:\u001b[36m24\u001b[0m - \u001b[1m The read socket has total ready sockets of 0\u001b[0m\n",
      "\u001b[32m2023-04-24 00:32:21.879\u001b[0m | \u001b[34m\u001b[1mDEBUG   \u001b[0m | \u001b[36m__main__\u001b[0m:\u001b[36m<module>\u001b[0m:\u001b[36m30\u001b[0m - \u001b[34m\u001b[1mstarting at position 1\u001b[0m\n",
      "\u001b[32m2023-04-24 00:32:57.041\u001b[0m | \u001b[34m\u001b[1mDEBUG   \u001b[0m | \u001b[36m__main__\u001b[0m:\u001b[36m<module>\u001b[0m:\u001b[36m36\u001b[0m - \u001b[34m\u001b[1mSocket Y label is ready\u001b[0m\n",
      "\u001b[32m2023-04-24 00:32:57.049\u001b[0m | \u001b[1mINFO    \u001b[0m | \u001b[36m__main__\u001b[0m:\u001b[36m<module>\u001b[0m:\u001b[36m38\u001b[0m - \u001b[1mconnected tail to get data on label from head 6666: ('127.0.0.1', 56172)\u001b[0m\n",
      "\u001b[32m2023-04-24 00:32:57.058\u001b[0m | \u001b[1mINFO    \u001b[0m | \u001b[36m__main__\u001b[0m:\u001b[36m<module>\u001b[0m:\u001b[36m49\u001b[0m - \u001b[1mFetched the label data from head.\u001b[0m\n",
      "\u001b[32m2023-04-24 00:33:08.006\u001b[0m | \u001b[34m\u001b[1mDEBUG   \u001b[0m | \u001b[36m__main__\u001b[0m:\u001b[36m<module>\u001b[0m:\u001b[36m55\u001b[0m - \u001b[34m\u001b[1mSocket Body data is ready\u001b[0m\n",
      "\u001b[32m2023-04-24 00:33:08.010\u001b[0m | \u001b[1mINFO    \u001b[0m | \u001b[36m__main__\u001b[0m:\u001b[36m<module>\u001b[0m:\u001b[36m57\u001b[0m - \u001b[1mconnected tail to get data on layer data from body 7171: ('127.0.0.1', 56175)\u001b[0m\n",
      "\u001b[32m2023-04-24 00:33:08.020\u001b[0m | \u001b[1mINFO    \u001b[0m | \u001b[36m__main__\u001b[0m:\u001b[36m<module>\u001b[0m:\u001b[36m68\u001b[0m - \u001b[1mFetched the label data from head.\u001b[0m\n",
      "\u001b[32m2023-04-24 00:33:08.297\u001b[0m | \u001b[1mINFO    \u001b[0m | \u001b[36m__main__\u001b[0m:\u001b[36m<module>\u001b[0m:\u001b[36m92\u001b[0m - \u001b[1msent the backprop data from tail to body 8181 torch.Size([4, 8, 112, 112])\u001b[0m\n",
      "\u001b[32m2023-04-24 00:33:08.298\u001b[0m | \u001b[1mINFO    \u001b[0m | \u001b[36m__main__\u001b[0m:\u001b[36m<module>\u001b[0m:\u001b[36m24\u001b[0m - \u001b[1m The read socket has total ready sockets of 0\u001b[0m\n",
      "\u001b[32m2023-04-24 00:33:08.300\u001b[0m | \u001b[34m\u001b[1mDEBUG   \u001b[0m | \u001b[36m__main__\u001b[0m:\u001b[36m<module>\u001b[0m:\u001b[36m30\u001b[0m - \u001b[34m\u001b[1mstarting at position 1\u001b[0m\n"
     ]
    },
    {
     "name": "stdout",
     "output_type": "stream",
     "text": [
      "DS 10 out -> [4, 1, 224, 224]\n"
     ]
    },
    {
     "name": "stderr",
     "output_type": "stream",
     "text": [
      "\u001b[32m2023-04-24 00:33:48.315\u001b[0m | \u001b[34m\u001b[1mDEBUG   \u001b[0m | \u001b[36m__main__\u001b[0m:\u001b[36m<module>\u001b[0m:\u001b[36m36\u001b[0m - \u001b[34m\u001b[1mSocket Y label is ready\u001b[0m\n",
      "\u001b[32m2023-04-24 00:33:48.323\u001b[0m | \u001b[1mINFO    \u001b[0m | \u001b[36m__main__\u001b[0m:\u001b[36m<module>\u001b[0m:\u001b[36m38\u001b[0m - \u001b[1mconnected tail to get data on label from head 6666: ('127.0.0.1', 56207)\u001b[0m\n",
      "\u001b[32m2023-04-24 00:33:48.336\u001b[0m | \u001b[1mINFO    \u001b[0m | \u001b[36m__main__\u001b[0m:\u001b[36m<module>\u001b[0m:\u001b[36m49\u001b[0m - \u001b[1mFetched the label data from head.\u001b[0m\n",
      "\u001b[32m2023-04-24 00:33:58.985\u001b[0m | \u001b[34m\u001b[1mDEBUG   \u001b[0m | \u001b[36m__main__\u001b[0m:\u001b[36m<module>\u001b[0m:\u001b[36m55\u001b[0m - \u001b[34m\u001b[1mSocket Body data is ready\u001b[0m\n",
      "\u001b[32m2023-04-24 00:33:58.989\u001b[0m | \u001b[1mINFO    \u001b[0m | \u001b[36m__main__\u001b[0m:\u001b[36m<module>\u001b[0m:\u001b[36m57\u001b[0m - \u001b[1mconnected tail to get data on layer data from body 7171: ('127.0.0.1', 56213)\u001b[0m\n",
      "\u001b[32m2023-04-24 00:33:58.999\u001b[0m | \u001b[1mINFO    \u001b[0m | \u001b[36m__main__\u001b[0m:\u001b[36m<module>\u001b[0m:\u001b[36m68\u001b[0m - \u001b[1mFetched the label data from head.\u001b[0m\n",
      "\u001b[32m2023-04-24 00:33:59.294\u001b[0m | \u001b[1mINFO    \u001b[0m | \u001b[36m__main__\u001b[0m:\u001b[36m<module>\u001b[0m:\u001b[36m92\u001b[0m - \u001b[1msent the backprop data from tail to body 8181 torch.Size([4, 8, 112, 112])\u001b[0m\n"
     ]
    },
    {
     "name": "stdout",
     "output_type": "stream",
     "text": [
      "DS 10 out -> [4, 1, 224, 224]\n"
     ]
    },
    {
     "name": "stderr",
     "output_type": "stream",
     "text": [
      "\u001b[32m2023-04-24 00:33:59.297\u001b[0m | \u001b[1mINFO    \u001b[0m | \u001b[36m__main__\u001b[0m:\u001b[36m<module>\u001b[0m:\u001b[36m24\u001b[0m - \u001b[1m The read socket has total ready sockets of 0\u001b[0m\n",
      "\u001b[32m2023-04-24 00:33:59.301\u001b[0m | \u001b[34m\u001b[1mDEBUG   \u001b[0m | \u001b[36m__main__\u001b[0m:\u001b[36m<module>\u001b[0m:\u001b[36m30\u001b[0m - \u001b[34m\u001b[1mstarting at position 1\u001b[0m\n",
      "\u001b[32m2023-04-24 00:34:33.275\u001b[0m | \u001b[34m\u001b[1mDEBUG   \u001b[0m | \u001b[36m__main__\u001b[0m:\u001b[36m<module>\u001b[0m:\u001b[36m36\u001b[0m - \u001b[34m\u001b[1mSocket Y label is ready\u001b[0m\n",
      "\u001b[32m2023-04-24 00:34:33.279\u001b[0m | \u001b[1mINFO    \u001b[0m | \u001b[36m__main__\u001b[0m:\u001b[36m<module>\u001b[0m:\u001b[36m38\u001b[0m - \u001b[1mconnected tail to get data on label from head 6666: ('127.0.0.1', 56237)\u001b[0m\n",
      "\u001b[32m2023-04-24 00:34:33.289\u001b[0m | \u001b[1mINFO    \u001b[0m | \u001b[36m__main__\u001b[0m:\u001b[36m<module>\u001b[0m:\u001b[36m49\u001b[0m - \u001b[1mFetched the label data from head.\u001b[0m\n",
      "\u001b[32m2023-04-24 00:34:44.184\u001b[0m | \u001b[34m\u001b[1mDEBUG   \u001b[0m | \u001b[36m__main__\u001b[0m:\u001b[36m<module>\u001b[0m:\u001b[36m55\u001b[0m - \u001b[34m\u001b[1mSocket Body data is ready\u001b[0m\n",
      "\u001b[32m2023-04-24 00:34:44.188\u001b[0m | \u001b[1mINFO    \u001b[0m | \u001b[36m__main__\u001b[0m:\u001b[36m<module>\u001b[0m:\u001b[36m57\u001b[0m - \u001b[1mconnected tail to get data on layer data from body 7171: ('127.0.0.1', 56245)\u001b[0m\n",
      "\u001b[32m2023-04-24 00:34:44.207\u001b[0m | \u001b[1mINFO    \u001b[0m | \u001b[36m__main__\u001b[0m:\u001b[36m<module>\u001b[0m:\u001b[36m68\u001b[0m - \u001b[1mFetched the label data from head.\u001b[0m\n",
      "\u001b[32m2023-04-24 00:34:44.557\u001b[0m | \u001b[1mINFO    \u001b[0m | \u001b[36m__main__\u001b[0m:\u001b[36m<module>\u001b[0m:\u001b[36m92\u001b[0m - \u001b[1msent the backprop data from tail to body 8181 torch.Size([4, 8, 112, 112])\u001b[0m\n"
     ]
    },
    {
     "name": "stdout",
     "output_type": "stream",
     "text": [
      "DS 10 out -> [4, 1, 224, 224]\n"
     ]
    },
    {
     "name": "stderr",
     "output_type": "stream",
     "text": [
      "\u001b[32m2023-04-24 00:34:44.560\u001b[0m | \u001b[1mINFO    \u001b[0m | \u001b[36m__main__\u001b[0m:\u001b[36m<module>\u001b[0m:\u001b[36m24\u001b[0m - \u001b[1m The read socket has total ready sockets of 0\u001b[0m\n",
      "\u001b[32m2023-04-24 00:34:44.563\u001b[0m | \u001b[34m\u001b[1mDEBUG   \u001b[0m | \u001b[36m__main__\u001b[0m:\u001b[36m<module>\u001b[0m:\u001b[36m30\u001b[0m - \u001b[34m\u001b[1mstarting at position 1\u001b[0m\n",
      "\u001b[32m2023-04-24 00:35:28.837\u001b[0m | \u001b[34m\u001b[1mDEBUG   \u001b[0m | \u001b[36m__main__\u001b[0m:\u001b[36m<module>\u001b[0m:\u001b[36m36\u001b[0m - \u001b[34m\u001b[1mSocket Y label is ready\u001b[0m\n",
      "\u001b[32m2023-04-24 00:35:28.846\u001b[0m | \u001b[1mINFO    \u001b[0m | \u001b[36m__main__\u001b[0m:\u001b[36m<module>\u001b[0m:\u001b[36m38\u001b[0m - \u001b[1mconnected tail to get data on label from head 6666: ('127.0.0.1', 56268)\u001b[0m\n",
      "\u001b[32m2023-04-24 00:35:28.865\u001b[0m | \u001b[1mINFO    \u001b[0m | \u001b[36m__main__\u001b[0m:\u001b[36m<module>\u001b[0m:\u001b[36m49\u001b[0m - \u001b[1mFetched the label data from head.\u001b[0m\n",
      "\u001b[32m2023-04-24 00:35:39.537\u001b[0m | \u001b[34m\u001b[1mDEBUG   \u001b[0m | \u001b[36m__main__\u001b[0m:\u001b[36m<module>\u001b[0m:\u001b[36m55\u001b[0m - \u001b[34m\u001b[1mSocket Body data is ready\u001b[0m\n",
      "\u001b[32m2023-04-24 00:35:39.540\u001b[0m | \u001b[1mINFO    \u001b[0m | \u001b[36m__main__\u001b[0m:\u001b[36m<module>\u001b[0m:\u001b[36m57\u001b[0m - \u001b[1mconnected tail to get data on layer data from body 7171: ('127.0.0.1', 56274)\u001b[0m\n",
      "\u001b[32m2023-04-24 00:35:39.550\u001b[0m | \u001b[1mINFO    \u001b[0m | \u001b[36m__main__\u001b[0m:\u001b[36m<module>\u001b[0m:\u001b[36m68\u001b[0m - \u001b[1mFetched the label data from head.\u001b[0m\n",
      "\u001b[32m2023-04-24 00:35:39.792\u001b[0m | \u001b[1mINFO    \u001b[0m | \u001b[36m__main__\u001b[0m:\u001b[36m<module>\u001b[0m:\u001b[36m92\u001b[0m - \u001b[1msent the backprop data from tail to body 8181 torch.Size([4, 8, 112, 112])\u001b[0m\n",
      "\u001b[32m2023-04-24 00:35:39.796\u001b[0m | \u001b[1mINFO    \u001b[0m | \u001b[36m__main__\u001b[0m:\u001b[36m<module>\u001b[0m:\u001b[36m24\u001b[0m - \u001b[1m The read socket has total ready sockets of 0\u001b[0m\n",
      "\u001b[32m2023-04-24 00:35:39.797\u001b[0m | \u001b[34m\u001b[1mDEBUG   \u001b[0m | \u001b[36m__main__\u001b[0m:\u001b[36m<module>\u001b[0m:\u001b[36m30\u001b[0m - \u001b[34m\u001b[1mstarting at position 1\u001b[0m\n"
     ]
    },
    {
     "name": "stdout",
     "output_type": "stream",
     "text": [
      "DS 10 out -> [4, 1, 224, 224]\n"
     ]
    },
    {
     "name": "stderr",
     "output_type": "stream",
     "text": [
      "\u001b[32m2023-04-24 00:36:19.086\u001b[0m | \u001b[34m\u001b[1mDEBUG   \u001b[0m | \u001b[36m__main__\u001b[0m:\u001b[36m<module>\u001b[0m:\u001b[36m36\u001b[0m - \u001b[34m\u001b[1mSocket Y label is ready\u001b[0m\n",
      "\u001b[32m2023-04-24 00:36:19.097\u001b[0m | \u001b[1mINFO    \u001b[0m | \u001b[36m__main__\u001b[0m:\u001b[36m<module>\u001b[0m:\u001b[36m38\u001b[0m - \u001b[1mconnected tail to get data on label from head 6666: ('127.0.0.1', 56358)\u001b[0m\n",
      "\u001b[32m2023-04-24 00:36:19.111\u001b[0m | \u001b[1mINFO    \u001b[0m | \u001b[36m__main__\u001b[0m:\u001b[36m<module>\u001b[0m:\u001b[36m49\u001b[0m - \u001b[1mFetched the label data from head.\u001b[0m\n",
      "\u001b[32m2023-04-24 00:36:30.065\u001b[0m | \u001b[34m\u001b[1mDEBUG   \u001b[0m | \u001b[36m__main__\u001b[0m:\u001b[36m<module>\u001b[0m:\u001b[36m55\u001b[0m - \u001b[34m\u001b[1mSocket Body data is ready\u001b[0m\n",
      "\u001b[32m2023-04-24 00:36:30.069\u001b[0m | \u001b[1mINFO    \u001b[0m | \u001b[36m__main__\u001b[0m:\u001b[36m<module>\u001b[0m:\u001b[36m57\u001b[0m - \u001b[1mconnected tail to get data on layer data from body 7171: ('127.0.0.1', 56360)\u001b[0m\n",
      "\u001b[32m2023-04-24 00:36:30.080\u001b[0m | \u001b[1mINFO    \u001b[0m | \u001b[36m__main__\u001b[0m:\u001b[36m<module>\u001b[0m:\u001b[36m68\u001b[0m - \u001b[1mFetched the label data from head.\u001b[0m\n",
      "\u001b[32m2023-04-24 00:36:30.368\u001b[0m | \u001b[1mINFO    \u001b[0m | \u001b[36m__main__\u001b[0m:\u001b[36m<module>\u001b[0m:\u001b[36m92\u001b[0m - \u001b[1msent the backprop data from tail to body 8181 torch.Size([4, 8, 112, 112])\u001b[0m\n",
      "\u001b[32m2023-04-24 00:36:30.370\u001b[0m | \u001b[1mINFO    \u001b[0m | \u001b[36m__main__\u001b[0m:\u001b[36m<module>\u001b[0m:\u001b[36m24\u001b[0m - \u001b[1m The read socket has total ready sockets of 0\u001b[0m\n",
      "\u001b[32m2023-04-24 00:36:30.373\u001b[0m | \u001b[34m\u001b[1mDEBUG   \u001b[0m | \u001b[36m__main__\u001b[0m:\u001b[36m<module>\u001b[0m:\u001b[36m30\u001b[0m - \u001b[34m\u001b[1mstarting at position 1\u001b[0m\n"
     ]
    },
    {
     "name": "stdout",
     "output_type": "stream",
     "text": [
      "DS 10 out -> [4, 1, 224, 224]\n"
     ]
    },
    {
     "name": "stderr",
     "output_type": "stream",
     "text": [
      "\u001b[32m2023-04-24 00:37:05.856\u001b[0m | \u001b[34m\u001b[1mDEBUG   \u001b[0m | \u001b[36m__main__\u001b[0m:\u001b[36m<module>\u001b[0m:\u001b[36m36\u001b[0m - \u001b[34m\u001b[1mSocket Y label is ready\u001b[0m\n",
      "\u001b[32m2023-04-24 00:37:05.865\u001b[0m | \u001b[1mINFO    \u001b[0m | \u001b[36m__main__\u001b[0m:\u001b[36m<module>\u001b[0m:\u001b[36m38\u001b[0m - \u001b[1mconnected tail to get data on label from head 6666: ('127.0.0.1', 56380)\u001b[0m\n",
      "\u001b[32m2023-04-24 00:37:05.879\u001b[0m | \u001b[1mINFO    \u001b[0m | \u001b[36m__main__\u001b[0m:\u001b[36m<module>\u001b[0m:\u001b[36m49\u001b[0m - \u001b[1mFetched the label data from head.\u001b[0m\n",
      "\u001b[32m2023-04-24 00:37:16.842\u001b[0m | \u001b[34m\u001b[1mDEBUG   \u001b[0m | \u001b[36m__main__\u001b[0m:\u001b[36m<module>\u001b[0m:\u001b[36m55\u001b[0m - \u001b[34m\u001b[1mSocket Body data is ready\u001b[0m\n",
      "\u001b[32m2023-04-24 00:37:16.847\u001b[0m | \u001b[1mINFO    \u001b[0m | \u001b[36m__main__\u001b[0m:\u001b[36m<module>\u001b[0m:\u001b[36m57\u001b[0m - \u001b[1mconnected tail to get data on layer data from body 7171: ('127.0.0.1', 56386)\u001b[0m\n",
      "\u001b[32m2023-04-24 00:37:16.863\u001b[0m | \u001b[1mINFO    \u001b[0m | \u001b[36m__main__\u001b[0m:\u001b[36m<module>\u001b[0m:\u001b[36m68\u001b[0m - \u001b[1mFetched the label data from head.\u001b[0m\n",
      "\u001b[32m2023-04-24 00:37:17.142\u001b[0m | \u001b[1mINFO    \u001b[0m | \u001b[36m__main__\u001b[0m:\u001b[36m<module>\u001b[0m:\u001b[36m92\u001b[0m - \u001b[1msent the backprop data from tail to body 8181 torch.Size([4, 8, 112, 112])\u001b[0m\n",
      "\u001b[32m2023-04-24 00:37:17.145\u001b[0m | \u001b[1mINFO    \u001b[0m | \u001b[36m__main__\u001b[0m:\u001b[36m<module>\u001b[0m:\u001b[36m24\u001b[0m - \u001b[1m The read socket has total ready sockets of 0\u001b[0m\n",
      "\u001b[32m2023-04-24 00:37:17.146\u001b[0m | \u001b[34m\u001b[1mDEBUG   \u001b[0m | \u001b[36m__main__\u001b[0m:\u001b[36m<module>\u001b[0m:\u001b[36m30\u001b[0m - \u001b[34m\u001b[1mstarting at position 1\u001b[0m\n"
     ]
    },
    {
     "name": "stdout",
     "output_type": "stream",
     "text": [
      "DS 10 out -> [4, 1, 224, 224]\n"
     ]
    },
    {
     "name": "stderr",
     "output_type": "stream",
     "text": [
      "\u001b[32m2023-04-24 00:37:56.902\u001b[0m | \u001b[34m\u001b[1mDEBUG   \u001b[0m | \u001b[36m__main__\u001b[0m:\u001b[36m<module>\u001b[0m:\u001b[36m36\u001b[0m - \u001b[34m\u001b[1mSocket Y label is ready\u001b[0m\n",
      "\u001b[32m2023-04-24 00:37:56.912\u001b[0m | \u001b[1mINFO    \u001b[0m | \u001b[36m__main__\u001b[0m:\u001b[36m<module>\u001b[0m:\u001b[36m38\u001b[0m - \u001b[1mconnected tail to get data on label from head 6666: ('127.0.0.1', 56401)\u001b[0m\n",
      "\u001b[32m2023-04-24 00:37:56.924\u001b[0m | \u001b[1mINFO    \u001b[0m | \u001b[36m__main__\u001b[0m:\u001b[36m<module>\u001b[0m:\u001b[36m49\u001b[0m - \u001b[1mFetched the label data from head.\u001b[0m\n",
      "\u001b[32m2023-04-24 00:38:07.118\u001b[0m | \u001b[34m\u001b[1mDEBUG   \u001b[0m | \u001b[36m__main__\u001b[0m:\u001b[36m<module>\u001b[0m:\u001b[36m55\u001b[0m - \u001b[34m\u001b[1mSocket Body data is ready\u001b[0m\n",
      "\u001b[32m2023-04-24 00:38:07.122\u001b[0m | \u001b[1mINFO    \u001b[0m | \u001b[36m__main__\u001b[0m:\u001b[36m<module>\u001b[0m:\u001b[36m57\u001b[0m - \u001b[1mconnected tail to get data on layer data from body 7171: ('127.0.0.1', 56410)\u001b[0m\n",
      "\u001b[32m2023-04-24 00:38:07.131\u001b[0m | \u001b[1mINFO    \u001b[0m | \u001b[36m__main__\u001b[0m:\u001b[36m<module>\u001b[0m:\u001b[36m68\u001b[0m - \u001b[1mFetched the label data from head.\u001b[0m\n",
      "\u001b[32m2023-04-24 00:38:07.388\u001b[0m | \u001b[1mINFO    \u001b[0m | \u001b[36m__main__\u001b[0m:\u001b[36m<module>\u001b[0m:\u001b[36m92\u001b[0m - \u001b[1msent the backprop data from tail to body 8181 torch.Size([4, 8, 112, 112])\u001b[0m\n",
      "\u001b[32m2023-04-24 00:38:07.390\u001b[0m | \u001b[1mINFO    \u001b[0m | \u001b[36m__main__\u001b[0m:\u001b[36m<module>\u001b[0m:\u001b[36m24\u001b[0m - \u001b[1m The read socket has total ready sockets of 0\u001b[0m\n",
      "\u001b[32m2023-04-24 00:38:07.392\u001b[0m | \u001b[34m\u001b[1mDEBUG   \u001b[0m | \u001b[36m__main__\u001b[0m:\u001b[36m<module>\u001b[0m:\u001b[36m30\u001b[0m - \u001b[34m\u001b[1mstarting at position 1\u001b[0m\n"
     ]
    },
    {
     "name": "stdout",
     "output_type": "stream",
     "text": [
      "DS 10 out -> [4, 1, 224, 224]\n"
     ]
    },
    {
     "name": "stderr",
     "output_type": "stream",
     "text": [
      "\u001b[32m2023-04-24 00:38:52.895\u001b[0m | \u001b[34m\u001b[1mDEBUG   \u001b[0m | \u001b[36m__main__\u001b[0m:\u001b[36m<module>\u001b[0m:\u001b[36m36\u001b[0m - \u001b[34m\u001b[1mSocket Y label is ready\u001b[0m\n",
      "\u001b[32m2023-04-24 00:38:52.906\u001b[0m | \u001b[1mINFO    \u001b[0m | \u001b[36m__main__\u001b[0m:\u001b[36m<module>\u001b[0m:\u001b[36m38\u001b[0m - \u001b[1mconnected tail to get data on label from head 6666: ('127.0.0.1', 56442)\u001b[0m\n",
      "\u001b[32m2023-04-24 00:38:52.919\u001b[0m | \u001b[1mINFO    \u001b[0m | \u001b[36m__main__\u001b[0m:\u001b[36m<module>\u001b[0m:\u001b[36m49\u001b[0m - \u001b[1mFetched the label data from head.\u001b[0m\n",
      "\u001b[32m2023-04-24 00:39:03.549\u001b[0m | \u001b[34m\u001b[1mDEBUG   \u001b[0m | \u001b[36m__main__\u001b[0m:\u001b[36m<module>\u001b[0m:\u001b[36m55\u001b[0m - \u001b[34m\u001b[1mSocket Body data is ready\u001b[0m\n",
      "\u001b[32m2023-04-24 00:39:03.553\u001b[0m | \u001b[1mINFO    \u001b[0m | \u001b[36m__main__\u001b[0m:\u001b[36m<module>\u001b[0m:\u001b[36m57\u001b[0m - \u001b[1mconnected tail to get data on layer data from body 7171: ('127.0.0.1', 56451)\u001b[0m\n",
      "\u001b[32m2023-04-24 00:39:03.563\u001b[0m | \u001b[1mINFO    \u001b[0m | \u001b[36m__main__\u001b[0m:\u001b[36m<module>\u001b[0m:\u001b[36m68\u001b[0m - \u001b[1mFetched the label data from head.\u001b[0m\n",
      "\u001b[32m2023-04-24 00:39:03.824\u001b[0m | \u001b[1mINFO    \u001b[0m | \u001b[36m__main__\u001b[0m:\u001b[36m<module>\u001b[0m:\u001b[36m92\u001b[0m - \u001b[1msent the backprop data from tail to body 8181 torch.Size([4, 8, 112, 112])\u001b[0m\n",
      "\u001b[32m2023-04-24 00:39:03.827\u001b[0m | \u001b[1mINFO    \u001b[0m | \u001b[36m__main__\u001b[0m:\u001b[36m<module>\u001b[0m:\u001b[36m24\u001b[0m - \u001b[1m The read socket has total ready sockets of 0\u001b[0m\n",
      "\u001b[32m2023-04-24 00:39:03.830\u001b[0m | \u001b[34m\u001b[1mDEBUG   \u001b[0m | \u001b[36m__main__\u001b[0m:\u001b[36m<module>\u001b[0m:\u001b[36m30\u001b[0m - \u001b[34m\u001b[1mstarting at position 1\u001b[0m\n"
     ]
    },
    {
     "name": "stdout",
     "output_type": "stream",
     "text": [
      "DS 10 out -> [4, 1, 224, 224]\n"
     ]
    },
    {
     "name": "stderr",
     "output_type": "stream",
     "text": [
      "\u001b[32m2023-04-24 00:39:39.353\u001b[0m | \u001b[34m\u001b[1mDEBUG   \u001b[0m | \u001b[36m__main__\u001b[0m:\u001b[36m<module>\u001b[0m:\u001b[36m36\u001b[0m - \u001b[34m\u001b[1mSocket Y label is ready\u001b[0m\n",
      "\u001b[32m2023-04-24 00:39:39.358\u001b[0m | \u001b[1mINFO    \u001b[0m | \u001b[36m__main__\u001b[0m:\u001b[36m<module>\u001b[0m:\u001b[36m38\u001b[0m - \u001b[1mconnected tail to get data on label from head 6666: ('127.0.0.1', 56480)\u001b[0m\n",
      "\u001b[32m2023-04-24 00:39:39.367\u001b[0m | \u001b[1mINFO    \u001b[0m | \u001b[36m__main__\u001b[0m:\u001b[36m<module>\u001b[0m:\u001b[36m49\u001b[0m - \u001b[1mFetched the label data from head.\u001b[0m\n",
      "\u001b[32m2023-04-24 00:39:49.446\u001b[0m | \u001b[34m\u001b[1mDEBUG   \u001b[0m | \u001b[36m__main__\u001b[0m:\u001b[36m<module>\u001b[0m:\u001b[36m55\u001b[0m - \u001b[34m\u001b[1mSocket Body data is ready\u001b[0m\n",
      "\u001b[32m2023-04-24 00:39:49.452\u001b[0m | \u001b[1mINFO    \u001b[0m | \u001b[36m__main__\u001b[0m:\u001b[36m<module>\u001b[0m:\u001b[36m57\u001b[0m - \u001b[1mconnected tail to get data on layer data from body 7171: ('127.0.0.1', 56485)\u001b[0m\n",
      "\u001b[32m2023-04-24 00:39:49.461\u001b[0m | \u001b[1mINFO    \u001b[0m | \u001b[36m__main__\u001b[0m:\u001b[36m<module>\u001b[0m:\u001b[36m68\u001b[0m - \u001b[1mFetched the label data from head.\u001b[0m\n",
      "\u001b[32m2023-04-24 00:39:49.694\u001b[0m | \u001b[1mINFO    \u001b[0m | \u001b[36m__main__\u001b[0m:\u001b[36m<module>\u001b[0m:\u001b[36m92\u001b[0m - \u001b[1msent the backprop data from tail to body 8181 torch.Size([4, 8, 112, 112])\u001b[0m\n",
      "\u001b[32m2023-04-24 00:39:49.696\u001b[0m | \u001b[1mINFO    \u001b[0m | \u001b[36m__main__\u001b[0m:\u001b[36m<module>\u001b[0m:\u001b[36m24\u001b[0m - \u001b[1m The read socket has total ready sockets of 0\u001b[0m\n",
      "\u001b[32m2023-04-24 00:39:49.698\u001b[0m | \u001b[34m\u001b[1mDEBUG   \u001b[0m | \u001b[36m__main__\u001b[0m:\u001b[36m<module>\u001b[0m:\u001b[36m30\u001b[0m - \u001b[34m\u001b[1mstarting at position 1\u001b[0m\n"
     ]
    },
    {
     "name": "stdout",
     "output_type": "stream",
     "text": [
      "DS 10 out -> [4, 1, 224, 224]\n"
     ]
    },
    {
     "name": "stderr",
     "output_type": "stream",
     "text": [
      "\u001b[32m2023-04-24 00:40:39.196\u001b[0m | \u001b[34m\u001b[1mDEBUG   \u001b[0m | \u001b[36m__main__\u001b[0m:\u001b[36m<module>\u001b[0m:\u001b[36m36\u001b[0m - \u001b[34m\u001b[1mSocket Y label is ready\u001b[0m\n",
      "\u001b[32m2023-04-24 00:40:39.208\u001b[0m | \u001b[1mINFO    \u001b[0m | \u001b[36m__main__\u001b[0m:\u001b[36m<module>\u001b[0m:\u001b[36m38\u001b[0m - \u001b[1mconnected tail to get data on label from head 6666: ('127.0.0.1', 56513)\u001b[0m\n",
      "\u001b[32m2023-04-24 00:40:39.223\u001b[0m | \u001b[1mINFO    \u001b[0m | \u001b[36m__main__\u001b[0m:\u001b[36m<module>\u001b[0m:\u001b[36m49\u001b[0m - \u001b[1mFetched the label data from head.\u001b[0m\n",
      "\u001b[32m2023-04-24 00:40:50.434\u001b[0m | \u001b[34m\u001b[1mDEBUG   \u001b[0m | \u001b[36m__main__\u001b[0m:\u001b[36m<module>\u001b[0m:\u001b[36m55\u001b[0m - \u001b[34m\u001b[1mSocket Body data is ready\u001b[0m\n",
      "\u001b[32m2023-04-24 00:40:50.437\u001b[0m | \u001b[1mINFO    \u001b[0m | \u001b[36m__main__\u001b[0m:\u001b[36m<module>\u001b[0m:\u001b[36m57\u001b[0m - \u001b[1mconnected tail to get data on layer data from body 7171: ('127.0.0.1', 56526)\u001b[0m\n",
      "\u001b[32m2023-04-24 00:40:50.445\u001b[0m | \u001b[1mINFO    \u001b[0m | \u001b[36m__main__\u001b[0m:\u001b[36m<module>\u001b[0m:\u001b[36m68\u001b[0m - \u001b[1mFetched the label data from head.\u001b[0m\n",
      "\u001b[32m2023-04-24 00:40:50.696\u001b[0m | \u001b[1mINFO    \u001b[0m | \u001b[36m__main__\u001b[0m:\u001b[36m<module>\u001b[0m:\u001b[36m92\u001b[0m - \u001b[1msent the backprop data from tail to body 8181 torch.Size([4, 8, 112, 112])\u001b[0m\n",
      "\u001b[32m2023-04-24 00:40:50.698\u001b[0m | \u001b[1mINFO    \u001b[0m | \u001b[36m__main__\u001b[0m:\u001b[36m<module>\u001b[0m:\u001b[36m24\u001b[0m - \u001b[1m The read socket has total ready sockets of 0\u001b[0m\n",
      "\u001b[32m2023-04-24 00:40:50.701\u001b[0m | \u001b[34m\u001b[1mDEBUG   \u001b[0m | \u001b[36m__main__\u001b[0m:\u001b[36m<module>\u001b[0m:\u001b[36m30\u001b[0m - \u001b[34m\u001b[1mstarting at position 1\u001b[0m\n"
     ]
    },
    {
     "name": "stdout",
     "output_type": "stream",
     "text": [
      "DS 10 out -> [4, 1, 224, 224]\n"
     ]
    },
    {
     "name": "stderr",
     "output_type": "stream",
     "text": [
      "\u001b[32m2023-04-24 00:41:29.629\u001b[0m | \u001b[34m\u001b[1mDEBUG   \u001b[0m | \u001b[36m__main__\u001b[0m:\u001b[36m<module>\u001b[0m:\u001b[36m36\u001b[0m - \u001b[34m\u001b[1mSocket Y label is ready\u001b[0m\n",
      "\u001b[32m2023-04-24 00:41:29.639\u001b[0m | \u001b[1mINFO    \u001b[0m | \u001b[36m__main__\u001b[0m:\u001b[36m<module>\u001b[0m:\u001b[36m38\u001b[0m - \u001b[1mconnected tail to get data on label from head 6666: ('127.0.0.1', 56551)\u001b[0m\n",
      "\u001b[32m2023-04-24 00:41:29.653\u001b[0m | \u001b[1mINFO    \u001b[0m | \u001b[36m__main__\u001b[0m:\u001b[36m<module>\u001b[0m:\u001b[36m49\u001b[0m - \u001b[1mFetched the label data from head.\u001b[0m\n",
      "\u001b[32m2023-04-24 00:41:39.202\u001b[0m | \u001b[34m\u001b[1mDEBUG   \u001b[0m | \u001b[36m__main__\u001b[0m:\u001b[36m<module>\u001b[0m:\u001b[36m55\u001b[0m - \u001b[34m\u001b[1mSocket Body data is ready\u001b[0m\n",
      "\u001b[32m2023-04-24 00:41:39.206\u001b[0m | \u001b[1mINFO    \u001b[0m | \u001b[36m__main__\u001b[0m:\u001b[36m<module>\u001b[0m:\u001b[36m57\u001b[0m - \u001b[1mconnected tail to get data on layer data from body 7171: ('127.0.0.1', 56555)\u001b[0m\n",
      "\u001b[32m2023-04-24 00:41:39.218\u001b[0m | \u001b[1mINFO    \u001b[0m | \u001b[36m__main__\u001b[0m:\u001b[36m<module>\u001b[0m:\u001b[36m68\u001b[0m - \u001b[1mFetched the label data from head.\u001b[0m\n",
      "\u001b[32m2023-04-24 00:41:39.455\u001b[0m | \u001b[1mINFO    \u001b[0m | \u001b[36m__main__\u001b[0m:\u001b[36m<module>\u001b[0m:\u001b[36m92\u001b[0m - \u001b[1msent the backprop data from tail to body 8181 torch.Size([4, 8, 112, 112])\u001b[0m\n",
      "\u001b[32m2023-04-24 00:41:39.458\u001b[0m | \u001b[1mINFO    \u001b[0m | \u001b[36m__main__\u001b[0m:\u001b[36m<module>\u001b[0m:\u001b[36m24\u001b[0m - \u001b[1m The read socket has total ready sockets of 0\u001b[0m\n",
      "\u001b[32m2023-04-24 00:41:39.461\u001b[0m | \u001b[34m\u001b[1mDEBUG   \u001b[0m | \u001b[36m__main__\u001b[0m:\u001b[36m<module>\u001b[0m:\u001b[36m30\u001b[0m - \u001b[34m\u001b[1mstarting at position 1\u001b[0m\n"
     ]
    },
    {
     "name": "stdout",
     "output_type": "stream",
     "text": [
      "DS 10 out -> [4, 1, 224, 224]\n"
     ]
    },
    {
     "name": "stderr",
     "output_type": "stream",
     "text": [
      "\u001b[32m2023-04-24 00:42:18.270\u001b[0m | \u001b[34m\u001b[1mDEBUG   \u001b[0m | \u001b[36m__main__\u001b[0m:\u001b[36m<module>\u001b[0m:\u001b[36m36\u001b[0m - \u001b[34m\u001b[1mSocket Y label is ready\u001b[0m\n",
      "\u001b[32m2023-04-24 00:42:18.282\u001b[0m | \u001b[1mINFO    \u001b[0m | \u001b[36m__main__\u001b[0m:\u001b[36m<module>\u001b[0m:\u001b[36m38\u001b[0m - \u001b[1mconnected tail to get data on label from head 6666: ('127.0.0.1', 56576)\u001b[0m\n",
      "\u001b[32m2023-04-24 00:42:18.296\u001b[0m | \u001b[1mINFO    \u001b[0m | \u001b[36m__main__\u001b[0m:\u001b[36m<module>\u001b[0m:\u001b[36m49\u001b[0m - \u001b[1mFetched the label data from head.\u001b[0m\n",
      "\u001b[32m2023-04-24 00:42:28.868\u001b[0m | \u001b[34m\u001b[1mDEBUG   \u001b[0m | \u001b[36m__main__\u001b[0m:\u001b[36m<module>\u001b[0m:\u001b[36m55\u001b[0m - \u001b[34m\u001b[1mSocket Body data is ready\u001b[0m\n",
      "\u001b[32m2023-04-24 00:42:28.871\u001b[0m | \u001b[1mINFO    \u001b[0m | \u001b[36m__main__\u001b[0m:\u001b[36m<module>\u001b[0m:\u001b[36m57\u001b[0m - \u001b[1mconnected tail to get data on layer data from body 7171: ('127.0.0.1', 56578)\u001b[0m\n",
      "\u001b[32m2023-04-24 00:42:28.879\u001b[0m | \u001b[1mINFO    \u001b[0m | \u001b[36m__main__\u001b[0m:\u001b[36m<module>\u001b[0m:\u001b[36m68\u001b[0m - \u001b[1mFetched the label data from head.\u001b[0m\n",
      "\u001b[32m2023-04-24 00:42:29.118\u001b[0m | \u001b[1mINFO    \u001b[0m | \u001b[36m__main__\u001b[0m:\u001b[36m<module>\u001b[0m:\u001b[36m92\u001b[0m - \u001b[1msent the backprop data from tail to body 8181 torch.Size([4, 8, 112, 112])\u001b[0m\n",
      "\u001b[32m2023-04-24 00:42:29.121\u001b[0m | \u001b[1mINFO    \u001b[0m | \u001b[36m__main__\u001b[0m:\u001b[36m<module>\u001b[0m:\u001b[36m24\u001b[0m - \u001b[1m The read socket has total ready sockets of 0\u001b[0m\n",
      "\u001b[32m2023-04-24 00:42:29.122\u001b[0m | \u001b[34m\u001b[1mDEBUG   \u001b[0m | \u001b[36m__main__\u001b[0m:\u001b[36m<module>\u001b[0m:\u001b[36m30\u001b[0m - \u001b[34m\u001b[1mstarting at position 1\u001b[0m\n"
     ]
    },
    {
     "name": "stdout",
     "output_type": "stream",
     "text": [
      "DS 10 out -> [4, 1, 224, 224]\n"
     ]
    },
    {
     "name": "stderr",
     "output_type": "stream",
     "text": [
      "\u001b[32m2023-04-24 00:43:05.035\u001b[0m | \u001b[34m\u001b[1mDEBUG   \u001b[0m | \u001b[36m__main__\u001b[0m:\u001b[36m<module>\u001b[0m:\u001b[36m36\u001b[0m - \u001b[34m\u001b[1mSocket Y label is ready\u001b[0m\n",
      "\u001b[32m2023-04-24 00:43:05.046\u001b[0m | \u001b[1mINFO    \u001b[0m | \u001b[36m__main__\u001b[0m:\u001b[36m<module>\u001b[0m:\u001b[36m38\u001b[0m - \u001b[1mconnected tail to get data on label from head 6666: ('127.0.0.1', 56596)\u001b[0m\n",
      "\u001b[32m2023-04-24 00:43:05.054\u001b[0m | \u001b[1mINFO    \u001b[0m | \u001b[36m__main__\u001b[0m:\u001b[36m<module>\u001b[0m:\u001b[36m49\u001b[0m - \u001b[1mFetched the label data from head.\u001b[0m\n",
      "\u001b[32m2023-04-24 00:43:14.546\u001b[0m | \u001b[34m\u001b[1mDEBUG   \u001b[0m | \u001b[36m__main__\u001b[0m:\u001b[36m<module>\u001b[0m:\u001b[36m55\u001b[0m - \u001b[34m\u001b[1mSocket Body data is ready\u001b[0m\n",
      "\u001b[32m2023-04-24 00:43:14.550\u001b[0m | \u001b[1mINFO    \u001b[0m | \u001b[36m__main__\u001b[0m:\u001b[36m<module>\u001b[0m:\u001b[36m57\u001b[0m - \u001b[1mconnected tail to get data on layer data from body 7171: ('127.0.0.1', 56602)\u001b[0m\n",
      "\u001b[32m2023-04-24 00:43:14.559\u001b[0m | \u001b[1mINFO    \u001b[0m | \u001b[36m__main__\u001b[0m:\u001b[36m<module>\u001b[0m:\u001b[36m68\u001b[0m - \u001b[1mFetched the label data from head.\u001b[0m\n",
      "\u001b[32m2023-04-24 00:43:14.839\u001b[0m | \u001b[1mINFO    \u001b[0m | \u001b[36m__main__\u001b[0m:\u001b[36m<module>\u001b[0m:\u001b[36m92\u001b[0m - \u001b[1msent the backprop data from tail to body 8181 torch.Size([4, 8, 112, 112])\u001b[0m\n",
      "\u001b[32m2023-04-24 00:43:14.842\u001b[0m | \u001b[1mINFO    \u001b[0m | \u001b[36m__main__\u001b[0m:\u001b[36m<module>\u001b[0m:\u001b[36m24\u001b[0m - \u001b[1m The read socket has total ready sockets of 0\u001b[0m\n",
      "\u001b[32m2023-04-24 00:43:14.844\u001b[0m | \u001b[34m\u001b[1mDEBUG   \u001b[0m | \u001b[36m__main__\u001b[0m:\u001b[36m<module>\u001b[0m:\u001b[36m30\u001b[0m - \u001b[34m\u001b[1mstarting at position 1\u001b[0m\n"
     ]
    },
    {
     "name": "stdout",
     "output_type": "stream",
     "text": [
      "DS 10 out -> [4, 1, 224, 224]\n"
     ]
    },
    {
     "name": "stderr",
     "output_type": "stream",
     "text": [
      "\u001b[32m2023-04-24 00:43:51.330\u001b[0m | \u001b[34m\u001b[1mDEBUG   \u001b[0m | \u001b[36m__main__\u001b[0m:\u001b[36m<module>\u001b[0m:\u001b[36m36\u001b[0m - \u001b[34m\u001b[1mSocket Y label is ready\u001b[0m\n",
      "\u001b[32m2023-04-24 00:43:51.340\u001b[0m | \u001b[1mINFO    \u001b[0m | \u001b[36m__main__\u001b[0m:\u001b[36m<module>\u001b[0m:\u001b[36m38\u001b[0m - \u001b[1mconnected tail to get data on label from head 6666: ('127.0.0.1', 56626)\u001b[0m\n",
      "\u001b[32m2023-04-24 00:43:51.351\u001b[0m | \u001b[1mINFO    \u001b[0m | \u001b[36m__main__\u001b[0m:\u001b[36m<module>\u001b[0m:\u001b[36m49\u001b[0m - \u001b[1mFetched the label data from head.\u001b[0m\n",
      "\u001b[32m2023-04-24 00:44:02.775\u001b[0m | \u001b[34m\u001b[1mDEBUG   \u001b[0m | \u001b[36m__main__\u001b[0m:\u001b[36m<module>\u001b[0m:\u001b[36m55\u001b[0m - \u001b[34m\u001b[1mSocket Body data is ready\u001b[0m\n",
      "\u001b[32m2023-04-24 00:44:02.781\u001b[0m | \u001b[1mINFO    \u001b[0m | \u001b[36m__main__\u001b[0m:\u001b[36m<module>\u001b[0m:\u001b[36m57\u001b[0m - \u001b[1mconnected tail to get data on layer data from body 7171: ('127.0.0.1', 56648)\u001b[0m\n",
      "\u001b[32m2023-04-24 00:44:02.789\u001b[0m | \u001b[1mINFO    \u001b[0m | \u001b[36m__main__\u001b[0m:\u001b[36m<module>\u001b[0m:\u001b[36m68\u001b[0m - \u001b[1mFetched the label data from head.\u001b[0m\n",
      "\u001b[32m2023-04-24 00:44:03.076\u001b[0m | \u001b[1mINFO    \u001b[0m | \u001b[36m__main__\u001b[0m:\u001b[36m<module>\u001b[0m:\u001b[36m92\u001b[0m - \u001b[1msent the backprop data from tail to body 8181 torch.Size([4, 8, 112, 112])\u001b[0m\n",
      "\u001b[32m2023-04-24 00:44:03.077\u001b[0m | \u001b[1mINFO    \u001b[0m | \u001b[36m__main__\u001b[0m:\u001b[36m<module>\u001b[0m:\u001b[36m24\u001b[0m - \u001b[1m The read socket has total ready sockets of 0\u001b[0m\n",
      "\u001b[32m2023-04-24 00:44:03.079\u001b[0m | \u001b[34m\u001b[1mDEBUG   \u001b[0m | \u001b[36m__main__\u001b[0m:\u001b[36m<module>\u001b[0m:\u001b[36m30\u001b[0m - \u001b[34m\u001b[1mstarting at position 1\u001b[0m\n"
     ]
    },
    {
     "name": "stdout",
     "output_type": "stream",
     "text": [
      "DS 10 out -> [4, 1, 224, 224]\n"
     ]
    },
    {
     "name": "stderr",
     "output_type": "stream",
     "text": [
      "\u001b[32m2023-04-24 00:44:34.995\u001b[0m | \u001b[34m\u001b[1mDEBUG   \u001b[0m | \u001b[36m__main__\u001b[0m:\u001b[36m<module>\u001b[0m:\u001b[36m36\u001b[0m - \u001b[34m\u001b[1mSocket Y label is ready\u001b[0m\n",
      "\u001b[32m2023-04-24 00:44:35.001\u001b[0m | \u001b[1mINFO    \u001b[0m | \u001b[36m__main__\u001b[0m:\u001b[36m<module>\u001b[0m:\u001b[36m38\u001b[0m - \u001b[1mconnected tail to get data on label from head 6666: ('127.0.0.1', 56670)\u001b[0m\n",
      "\u001b[32m2023-04-24 00:44:35.011\u001b[0m | \u001b[1mINFO    \u001b[0m | \u001b[36m__main__\u001b[0m:\u001b[36m<module>\u001b[0m:\u001b[36m49\u001b[0m - \u001b[1mFetched the label data from head.\u001b[0m\n",
      "\u001b[32m2023-04-24 00:44:45.415\u001b[0m | \u001b[34m\u001b[1mDEBUG   \u001b[0m | \u001b[36m__main__\u001b[0m:\u001b[36m<module>\u001b[0m:\u001b[36m55\u001b[0m - \u001b[34m\u001b[1mSocket Body data is ready\u001b[0m\n",
      "\u001b[32m2023-04-24 00:44:45.418\u001b[0m | \u001b[1mINFO    \u001b[0m | \u001b[36m__main__\u001b[0m:\u001b[36m<module>\u001b[0m:\u001b[36m57\u001b[0m - \u001b[1mconnected tail to get data on layer data from body 7171: ('127.0.0.1', 56673)\u001b[0m\n",
      "\u001b[32m2023-04-24 00:44:45.428\u001b[0m | \u001b[1mINFO    \u001b[0m | \u001b[36m__main__\u001b[0m:\u001b[36m<module>\u001b[0m:\u001b[36m68\u001b[0m - \u001b[1mFetched the label data from head.\u001b[0m\n",
      "\u001b[32m2023-04-24 00:44:45.647\u001b[0m | \u001b[1mINFO    \u001b[0m | \u001b[36m__main__\u001b[0m:\u001b[36m<module>\u001b[0m:\u001b[36m92\u001b[0m - \u001b[1msent the backprop data from tail to body 8181 torch.Size([4, 8, 112, 112])\u001b[0m\n",
      "\u001b[32m2023-04-24 00:44:45.650\u001b[0m | \u001b[1mINFO    \u001b[0m | \u001b[36m__main__\u001b[0m:\u001b[36m<module>\u001b[0m:\u001b[36m24\u001b[0m - \u001b[1m The read socket has total ready sockets of 0\u001b[0m\n",
      "\u001b[32m2023-04-24 00:44:45.652\u001b[0m | \u001b[34m\u001b[1mDEBUG   \u001b[0m | \u001b[36m__main__\u001b[0m:\u001b[36m<module>\u001b[0m:\u001b[36m30\u001b[0m - \u001b[34m\u001b[1mstarting at position 1\u001b[0m\n"
     ]
    },
    {
     "name": "stdout",
     "output_type": "stream",
     "text": [
      "DS 10 out -> [4, 1, 224, 224]\n"
     ]
    },
    {
     "name": "stderr",
     "output_type": "stream",
     "text": [
      "\u001b[32m2023-04-24 00:45:23.992\u001b[0m | \u001b[34m\u001b[1mDEBUG   \u001b[0m | \u001b[36m__main__\u001b[0m:\u001b[36m<module>\u001b[0m:\u001b[36m36\u001b[0m - \u001b[34m\u001b[1mSocket Y label is ready\u001b[0m\n",
      "\u001b[32m2023-04-24 00:45:24.000\u001b[0m | \u001b[1mINFO    \u001b[0m | \u001b[36m__main__\u001b[0m:\u001b[36m<module>\u001b[0m:\u001b[36m38\u001b[0m - \u001b[1mconnected tail to get data on label from head 6666: ('127.0.0.1', 56693)\u001b[0m\n",
      "\u001b[32m2023-04-24 00:45:24.024\u001b[0m | \u001b[1mINFO    \u001b[0m | \u001b[36m__main__\u001b[0m:\u001b[36m<module>\u001b[0m:\u001b[36m49\u001b[0m - \u001b[1mFetched the label data from head.\u001b[0m\n",
      "\u001b[32m2023-04-24 00:45:33.924\u001b[0m | \u001b[34m\u001b[1mDEBUG   \u001b[0m | \u001b[36m__main__\u001b[0m:\u001b[36m<module>\u001b[0m:\u001b[36m55\u001b[0m - \u001b[34m\u001b[1mSocket Body data is ready\u001b[0m\n",
      "\u001b[32m2023-04-24 00:45:33.928\u001b[0m | \u001b[1mINFO    \u001b[0m | \u001b[36m__main__\u001b[0m:\u001b[36m<module>\u001b[0m:\u001b[36m57\u001b[0m - \u001b[1mconnected tail to get data on layer data from body 7171: ('127.0.0.1', 56698)\u001b[0m\n",
      "\u001b[32m2023-04-24 00:45:33.938\u001b[0m | \u001b[1mINFO    \u001b[0m | \u001b[36m__main__\u001b[0m:\u001b[36m<module>\u001b[0m:\u001b[36m68\u001b[0m - \u001b[1mFetched the label data from head.\u001b[0m\n",
      "\u001b[32m2023-04-24 00:45:34.177\u001b[0m | \u001b[1mINFO    \u001b[0m | \u001b[36m__main__\u001b[0m:\u001b[36m<module>\u001b[0m:\u001b[36m92\u001b[0m - \u001b[1msent the backprop data from tail to body 8181 torch.Size([4, 8, 112, 112])\u001b[0m\n",
      "\u001b[32m2023-04-24 00:45:34.179\u001b[0m | \u001b[1mINFO    \u001b[0m | \u001b[36m__main__\u001b[0m:\u001b[36m<module>\u001b[0m:\u001b[36m24\u001b[0m - \u001b[1m The read socket has total ready sockets of 0\u001b[0m\n",
      "\u001b[32m2023-04-24 00:45:34.181\u001b[0m | \u001b[34m\u001b[1mDEBUG   \u001b[0m | \u001b[36m__main__\u001b[0m:\u001b[36m<module>\u001b[0m:\u001b[36m30\u001b[0m - \u001b[34m\u001b[1mstarting at position 1\u001b[0m\n"
     ]
    },
    {
     "name": "stdout",
     "output_type": "stream",
     "text": [
      "DS 10 out -> [4, 1, 224, 224]\n"
     ]
    },
    {
     "name": "stderr",
     "output_type": "stream",
     "text": [
      "\u001b[32m2023-04-24 00:46:09.660\u001b[0m | \u001b[34m\u001b[1mDEBUG   \u001b[0m | \u001b[36m__main__\u001b[0m:\u001b[36m<module>\u001b[0m:\u001b[36m36\u001b[0m - \u001b[34m\u001b[1mSocket Y label is ready\u001b[0m\n",
      "\u001b[32m2023-04-24 00:46:09.668\u001b[0m | \u001b[1mINFO    \u001b[0m | \u001b[36m__main__\u001b[0m:\u001b[36m<module>\u001b[0m:\u001b[36m38\u001b[0m - \u001b[1mconnected tail to get data on label from head 6666: ('127.0.0.1', 56715)\u001b[0m\n",
      "\u001b[32m2023-04-24 00:46:09.681\u001b[0m | \u001b[1mINFO    \u001b[0m | \u001b[36m__main__\u001b[0m:\u001b[36m<module>\u001b[0m:\u001b[36m49\u001b[0m - \u001b[1mFetched the label data from head.\u001b[0m\n",
      "\u001b[32m2023-04-24 00:46:19.180\u001b[0m | \u001b[34m\u001b[1mDEBUG   \u001b[0m | \u001b[36m__main__\u001b[0m:\u001b[36m<module>\u001b[0m:\u001b[36m55\u001b[0m - \u001b[34m\u001b[1mSocket Body data is ready\u001b[0m\n",
      "\u001b[32m2023-04-24 00:46:19.184\u001b[0m | \u001b[1mINFO    \u001b[0m | \u001b[36m__main__\u001b[0m:\u001b[36m<module>\u001b[0m:\u001b[36m57\u001b[0m - \u001b[1mconnected tail to get data on layer data from body 7171: ('127.0.0.1', 56721)\u001b[0m\n",
      "\u001b[32m2023-04-24 00:46:19.194\u001b[0m | \u001b[1mINFO    \u001b[0m | \u001b[36m__main__\u001b[0m:\u001b[36m<module>\u001b[0m:\u001b[36m68\u001b[0m - \u001b[1mFetched the label data from head.\u001b[0m\n"
     ]
    },
    {
     "name": "stdout",
     "output_type": "stream",
     "text": [
      "DS 10 out -> [4, 1, 224, 224]\n"
     ]
    },
    {
     "name": "stderr",
     "output_type": "stream",
     "text": [
      "\u001b[32m2023-04-24 00:46:19.509\u001b[0m | \u001b[1mINFO    \u001b[0m | \u001b[36m__main__\u001b[0m:\u001b[36m<module>\u001b[0m:\u001b[36m92\u001b[0m - \u001b[1msent the backprop data from tail to body 8181 torch.Size([4, 8, 112, 112])\u001b[0m\n",
      "\u001b[32m2023-04-24 00:46:19.511\u001b[0m | \u001b[1mINFO    \u001b[0m | \u001b[36m__main__\u001b[0m:\u001b[36m<module>\u001b[0m:\u001b[36m24\u001b[0m - \u001b[1m The read socket has total ready sockets of 0\u001b[0m\n",
      "\u001b[32m2023-04-24 00:46:19.513\u001b[0m | \u001b[34m\u001b[1mDEBUG   \u001b[0m | \u001b[36m__main__\u001b[0m:\u001b[36m<module>\u001b[0m:\u001b[36m30\u001b[0m - \u001b[34m\u001b[1mstarting at position 1\u001b[0m\n",
      "\u001b[32m2023-04-24 00:46:59.361\u001b[0m | \u001b[34m\u001b[1mDEBUG   \u001b[0m | \u001b[36m__main__\u001b[0m:\u001b[36m<module>\u001b[0m:\u001b[36m36\u001b[0m - \u001b[34m\u001b[1mSocket Y label is ready\u001b[0m\n",
      "\u001b[32m2023-04-24 00:46:59.371\u001b[0m | \u001b[1mINFO    \u001b[0m | \u001b[36m__main__\u001b[0m:\u001b[36m<module>\u001b[0m:\u001b[36m38\u001b[0m - \u001b[1mconnected tail to get data on label from head 6666: ('127.0.0.1', 56750)\u001b[0m\n",
      "\u001b[32m2023-04-24 00:46:59.389\u001b[0m | \u001b[1mINFO    \u001b[0m | \u001b[36m__main__\u001b[0m:\u001b[36m<module>\u001b[0m:\u001b[36m49\u001b[0m - \u001b[1mFetched the label data from head.\u001b[0m\n",
      "\u001b[32m2023-04-24 00:47:09.848\u001b[0m | \u001b[34m\u001b[1mDEBUG   \u001b[0m | \u001b[36m__main__\u001b[0m:\u001b[36m<module>\u001b[0m:\u001b[36m55\u001b[0m - \u001b[34m\u001b[1mSocket Body data is ready\u001b[0m\n",
      "\u001b[32m2023-04-24 00:47:09.852\u001b[0m | \u001b[1mINFO    \u001b[0m | \u001b[36m__main__\u001b[0m:\u001b[36m<module>\u001b[0m:\u001b[36m57\u001b[0m - \u001b[1mconnected tail to get data on layer data from body 7171: ('127.0.0.1', 56752)\u001b[0m\n",
      "\u001b[32m2023-04-24 00:47:09.862\u001b[0m | \u001b[1mINFO    \u001b[0m | \u001b[36m__main__\u001b[0m:\u001b[36m<module>\u001b[0m:\u001b[36m68\u001b[0m - \u001b[1mFetched the label data from head.\u001b[0m\n",
      "\u001b[32m2023-04-24 00:47:10.115\u001b[0m | \u001b[1mINFO    \u001b[0m | \u001b[36m__main__\u001b[0m:\u001b[36m<module>\u001b[0m:\u001b[36m92\u001b[0m - \u001b[1msent the backprop data from tail to body 8181 torch.Size([4, 8, 112, 112])\u001b[0m\n",
      "\u001b[32m2023-04-24 00:47:10.117\u001b[0m | \u001b[1mINFO    \u001b[0m | \u001b[36m__main__\u001b[0m:\u001b[36m<module>\u001b[0m:\u001b[36m24\u001b[0m - \u001b[1m The read socket has total ready sockets of 0\u001b[0m\n",
      "\u001b[32m2023-04-24 00:47:10.119\u001b[0m | \u001b[34m\u001b[1mDEBUG   \u001b[0m | \u001b[36m__main__\u001b[0m:\u001b[36m<module>\u001b[0m:\u001b[36m30\u001b[0m - \u001b[34m\u001b[1mstarting at position 1\u001b[0m\n"
     ]
    },
    {
     "name": "stdout",
     "output_type": "stream",
     "text": [
      "DS 10 out -> [4, 1, 224, 224]\n"
     ]
    },
    {
     "name": "stderr",
     "output_type": "stream",
     "text": [
      "\u001b[32m2023-04-24 00:47:45.775\u001b[0m | \u001b[34m\u001b[1mDEBUG   \u001b[0m | \u001b[36m__main__\u001b[0m:\u001b[36m<module>\u001b[0m:\u001b[36m36\u001b[0m - \u001b[34m\u001b[1mSocket Y label is ready\u001b[0m\n",
      "\u001b[32m2023-04-24 00:47:45.788\u001b[0m | \u001b[1mINFO    \u001b[0m | \u001b[36m__main__\u001b[0m:\u001b[36m<module>\u001b[0m:\u001b[36m38\u001b[0m - \u001b[1mconnected tail to get data on label from head 6666: ('127.0.0.1', 56775)\u001b[0m\n",
      "\u001b[32m2023-04-24 00:47:45.802\u001b[0m | \u001b[1mINFO    \u001b[0m | \u001b[36m__main__\u001b[0m:\u001b[36m<module>\u001b[0m:\u001b[36m49\u001b[0m - \u001b[1mFetched the label data from head.\u001b[0m\n",
      "\u001b[32m2023-04-24 00:47:55.649\u001b[0m | \u001b[34m\u001b[1mDEBUG   \u001b[0m | \u001b[36m__main__\u001b[0m:\u001b[36m<module>\u001b[0m:\u001b[36m55\u001b[0m - \u001b[34m\u001b[1mSocket Body data is ready\u001b[0m\n",
      "\u001b[32m2023-04-24 00:47:55.654\u001b[0m | \u001b[1mINFO    \u001b[0m | \u001b[36m__main__\u001b[0m:\u001b[36m<module>\u001b[0m:\u001b[36m57\u001b[0m - \u001b[1mconnected tail to get data on layer data from body 7171: ('127.0.0.1', 56780)\u001b[0m\n",
      "\u001b[32m2023-04-24 00:47:55.664\u001b[0m | \u001b[1mINFO    \u001b[0m | \u001b[36m__main__\u001b[0m:\u001b[36m<module>\u001b[0m:\u001b[36m68\u001b[0m - \u001b[1mFetched the label data from head.\u001b[0m\n",
      "\u001b[32m2023-04-24 00:47:55.923\u001b[0m | \u001b[1mINFO    \u001b[0m | \u001b[36m__main__\u001b[0m:\u001b[36m<module>\u001b[0m:\u001b[36m92\u001b[0m - \u001b[1msent the backprop data from tail to body 8181 torch.Size([4, 8, 112, 112])\u001b[0m\n",
      "\u001b[32m2023-04-24 00:47:55.927\u001b[0m | \u001b[1mINFO    \u001b[0m | \u001b[36m__main__\u001b[0m:\u001b[36m<module>\u001b[0m:\u001b[36m24\u001b[0m - \u001b[1m The read socket has total ready sockets of 0\u001b[0m\n",
      "\u001b[32m2023-04-24 00:47:55.930\u001b[0m | \u001b[34m\u001b[1mDEBUG   \u001b[0m | \u001b[36m__main__\u001b[0m:\u001b[36m<module>\u001b[0m:\u001b[36m30\u001b[0m - \u001b[34m\u001b[1mstarting at position 1\u001b[0m\n"
     ]
    },
    {
     "name": "stdout",
     "output_type": "stream",
     "text": [
      "DS 10 out -> [4, 1, 224, 224]\n"
     ]
    },
    {
     "name": "stderr",
     "output_type": "stream",
     "text": [
      "\u001b[32m2023-04-24 00:48:36.615\u001b[0m | \u001b[34m\u001b[1mDEBUG   \u001b[0m | \u001b[36m__main__\u001b[0m:\u001b[36m<module>\u001b[0m:\u001b[36m36\u001b[0m - \u001b[34m\u001b[1mSocket Y label is ready\u001b[0m\n",
      "\u001b[32m2023-04-24 00:48:36.628\u001b[0m | \u001b[1mINFO    \u001b[0m | \u001b[36m__main__\u001b[0m:\u001b[36m<module>\u001b[0m:\u001b[36m38\u001b[0m - \u001b[1mconnected tail to get data on label from head 6666: ('127.0.0.1', 56805)\u001b[0m\n",
      "\u001b[32m2023-04-24 00:48:36.639\u001b[0m | \u001b[1mINFO    \u001b[0m | \u001b[36m__main__\u001b[0m:\u001b[36m<module>\u001b[0m:\u001b[36m49\u001b[0m - \u001b[1mFetched the label data from head.\u001b[0m\n",
      "\u001b[32m2023-04-24 00:48:46.372\u001b[0m | \u001b[34m\u001b[1mDEBUG   \u001b[0m | \u001b[36m__main__\u001b[0m:\u001b[36m<module>\u001b[0m:\u001b[36m55\u001b[0m - \u001b[34m\u001b[1mSocket Body data is ready\u001b[0m\n",
      "\u001b[32m2023-04-24 00:48:46.374\u001b[0m | \u001b[1mINFO    \u001b[0m | \u001b[36m__main__\u001b[0m:\u001b[36m<module>\u001b[0m:\u001b[36m57\u001b[0m - \u001b[1mconnected tail to get data on layer data from body 7171: ('127.0.0.1', 56819)\u001b[0m\n",
      "\u001b[32m2023-04-24 00:48:46.380\u001b[0m | \u001b[1mINFO    \u001b[0m | \u001b[36m__main__\u001b[0m:\u001b[36m<module>\u001b[0m:\u001b[36m68\u001b[0m - \u001b[1mFetched the label data from head.\u001b[0m\n",
      "\u001b[32m2023-04-24 00:48:46.559\u001b[0m | \u001b[1mINFO    \u001b[0m | \u001b[36m__main__\u001b[0m:\u001b[36m<module>\u001b[0m:\u001b[36m92\u001b[0m - \u001b[1msent the backprop data from tail to body 8181 torch.Size([4, 8, 112, 112])\u001b[0m\n",
      "\u001b[32m2023-04-24 00:48:46.561\u001b[0m | \u001b[1mINFO    \u001b[0m | \u001b[36m__main__\u001b[0m:\u001b[36m<module>\u001b[0m:\u001b[36m24\u001b[0m - \u001b[1m The read socket has total ready sockets of 0\u001b[0m\n",
      "\u001b[32m2023-04-24 00:48:46.562\u001b[0m | \u001b[34m\u001b[1mDEBUG   \u001b[0m | \u001b[36m__main__\u001b[0m:\u001b[36m<module>\u001b[0m:\u001b[36m30\u001b[0m - \u001b[34m\u001b[1mstarting at position 1\u001b[0m\n"
     ]
    },
    {
     "name": "stdout",
     "output_type": "stream",
     "text": [
      "DS 10 out -> [4, 1, 224, 224]\n"
     ]
    },
    {
     "name": "stderr",
     "output_type": "stream",
     "text": [
      "\u001b[32m2023-04-24 00:49:14.959\u001b[0m | \u001b[34m\u001b[1mDEBUG   \u001b[0m | \u001b[36m__main__\u001b[0m:\u001b[36m<module>\u001b[0m:\u001b[36m36\u001b[0m - \u001b[34m\u001b[1mSocket Y label is ready\u001b[0m\n",
      "\u001b[32m2023-04-24 00:49:14.965\u001b[0m | \u001b[1mINFO    \u001b[0m | \u001b[36m__main__\u001b[0m:\u001b[36m<module>\u001b[0m:\u001b[36m38\u001b[0m - \u001b[1mconnected tail to get data on label from head 6666: ('127.0.0.1', 56846)\u001b[0m\n",
      "\u001b[32m2023-04-24 00:49:14.974\u001b[0m | \u001b[1mINFO    \u001b[0m | \u001b[36m__main__\u001b[0m:\u001b[36m<module>\u001b[0m:\u001b[36m49\u001b[0m - \u001b[1mFetched the label data from head.\u001b[0m\n",
      "\u001b[32m2023-04-24 00:49:22.982\u001b[0m | \u001b[34m\u001b[1mDEBUG   \u001b[0m | \u001b[36m__main__\u001b[0m:\u001b[36m<module>\u001b[0m:\u001b[36m55\u001b[0m - \u001b[34m\u001b[1mSocket Body data is ready\u001b[0m\n",
      "\u001b[32m2023-04-24 00:49:22.984\u001b[0m | \u001b[1mINFO    \u001b[0m | \u001b[36m__main__\u001b[0m:\u001b[36m<module>\u001b[0m:\u001b[36m57\u001b[0m - \u001b[1mconnected tail to get data on layer data from body 7171: ('127.0.0.1', 56853)\u001b[0m\n",
      "\u001b[32m2023-04-24 00:49:22.989\u001b[0m | \u001b[1mINFO    \u001b[0m | \u001b[36m__main__\u001b[0m:\u001b[36m<module>\u001b[0m:\u001b[36m68\u001b[0m - \u001b[1mFetched the label data from head.\u001b[0m\n",
      "\u001b[32m2023-04-24 00:49:23.236\u001b[0m | \u001b[1mINFO    \u001b[0m | \u001b[36m__main__\u001b[0m:\u001b[36m<module>\u001b[0m:\u001b[36m92\u001b[0m - \u001b[1msent the backprop data from tail to body 8181 torch.Size([4, 8, 112, 112])\u001b[0m\n",
      "\u001b[32m2023-04-24 00:49:23.239\u001b[0m | \u001b[1mINFO    \u001b[0m | \u001b[36m__main__\u001b[0m:\u001b[36m<module>\u001b[0m:\u001b[36m24\u001b[0m - \u001b[1m The read socket has total ready sockets of 0\u001b[0m\n",
      "\u001b[32m2023-04-24 00:49:23.240\u001b[0m | \u001b[34m\u001b[1mDEBUG   \u001b[0m | \u001b[36m__main__\u001b[0m:\u001b[36m<module>\u001b[0m:\u001b[36m30\u001b[0m - \u001b[34m\u001b[1mstarting at position 1\u001b[0m\n"
     ]
    },
    {
     "name": "stdout",
     "output_type": "stream",
     "text": [
      "DS 10 out -> [4, 1, 224, 224]\n"
     ]
    },
    {
     "name": "stderr",
     "output_type": "stream",
     "text": [
      "\u001b[32m2023-04-24 00:49:48.824\u001b[0m | \u001b[34m\u001b[1mDEBUG   \u001b[0m | \u001b[36m__main__\u001b[0m:\u001b[36m<module>\u001b[0m:\u001b[36m36\u001b[0m - \u001b[34m\u001b[1mSocket Y label is ready\u001b[0m\n",
      "\u001b[32m2023-04-24 00:49:48.830\u001b[0m | \u001b[1mINFO    \u001b[0m | \u001b[36m__main__\u001b[0m:\u001b[36m<module>\u001b[0m:\u001b[36m38\u001b[0m - \u001b[1mconnected tail to get data on label from head 6666: ('127.0.0.1', 56930)\u001b[0m\n",
      "\u001b[32m2023-04-24 00:49:48.840\u001b[0m | \u001b[1mINFO    \u001b[0m | \u001b[36m__main__\u001b[0m:\u001b[36m<module>\u001b[0m:\u001b[36m49\u001b[0m - \u001b[1mFetched the label data from head.\u001b[0m\n",
      "\u001b[32m2023-04-24 00:49:56.851\u001b[0m | \u001b[34m\u001b[1mDEBUG   \u001b[0m | \u001b[36m__main__\u001b[0m:\u001b[36m<module>\u001b[0m:\u001b[36m55\u001b[0m - \u001b[34m\u001b[1mSocket Body data is ready\u001b[0m\n",
      "\u001b[32m2023-04-24 00:49:56.854\u001b[0m | \u001b[1mINFO    \u001b[0m | \u001b[36m__main__\u001b[0m:\u001b[36m<module>\u001b[0m:\u001b[36m57\u001b[0m - \u001b[1mconnected tail to get data on layer data from body 7171: ('127.0.0.1', 56931)\u001b[0m\n",
      "\u001b[32m2023-04-24 00:49:56.860\u001b[0m | \u001b[1mINFO    \u001b[0m | \u001b[36m__main__\u001b[0m:\u001b[36m<module>\u001b[0m:\u001b[36m68\u001b[0m - \u001b[1mFetched the label data from head.\u001b[0m\n",
      "\u001b[32m2023-04-24 00:49:56.982\u001b[0m | \u001b[1mINFO    \u001b[0m | \u001b[36m__main__\u001b[0m:\u001b[36m<module>\u001b[0m:\u001b[36m92\u001b[0m - \u001b[1msent the backprop data from tail to body 8181 torch.Size([4, 8, 112, 112])\u001b[0m\n",
      "\u001b[32m2023-04-24 00:49:56.983\u001b[0m | \u001b[1mINFO    \u001b[0m | \u001b[36m__main__\u001b[0m:\u001b[36m<module>\u001b[0m:\u001b[36m24\u001b[0m - \u001b[1m The read socket has total ready sockets of 0\u001b[0m\n",
      "\u001b[32m2023-04-24 00:49:56.984\u001b[0m | \u001b[34m\u001b[1mDEBUG   \u001b[0m | \u001b[36m__main__\u001b[0m:\u001b[36m<module>\u001b[0m:\u001b[36m30\u001b[0m - \u001b[34m\u001b[1mstarting at position 1\u001b[0m\n"
     ]
    },
    {
     "name": "stdout",
     "output_type": "stream",
     "text": [
      "DS 10 out -> [4, 1, 224, 224]\n"
     ]
    },
    {
     "name": "stderr",
     "output_type": "stream",
     "text": [
      "\u001b[32m2023-04-24 00:50:21.178\u001b[0m | \u001b[34m\u001b[1mDEBUG   \u001b[0m | \u001b[36m__main__\u001b[0m:\u001b[36m<module>\u001b[0m:\u001b[36m36\u001b[0m - \u001b[34m\u001b[1mSocket Y label is ready\u001b[0m\n",
      "\u001b[32m2023-04-24 00:50:21.183\u001b[0m | \u001b[1mINFO    \u001b[0m | \u001b[36m__main__\u001b[0m:\u001b[36m<module>\u001b[0m:\u001b[36m38\u001b[0m - \u001b[1mconnected tail to get data on label from head 6666: ('127.0.0.1', 56949)\u001b[0m\n",
      "\u001b[32m2023-04-24 00:50:21.191\u001b[0m | \u001b[1mINFO    \u001b[0m | \u001b[36m__main__\u001b[0m:\u001b[36m<module>\u001b[0m:\u001b[36m49\u001b[0m - \u001b[1mFetched the label data from head.\u001b[0m\n",
      "\u001b[32m2023-04-24 00:50:29.198\u001b[0m | \u001b[34m\u001b[1mDEBUG   \u001b[0m | \u001b[36m__main__\u001b[0m:\u001b[36m<module>\u001b[0m:\u001b[36m55\u001b[0m - \u001b[34m\u001b[1mSocket Body data is ready\u001b[0m\n",
      "\u001b[32m2023-04-24 00:50:29.201\u001b[0m | \u001b[1mINFO    \u001b[0m | \u001b[36m__main__\u001b[0m:\u001b[36m<module>\u001b[0m:\u001b[36m57\u001b[0m - \u001b[1mconnected tail to get data on layer data from body 7171: ('127.0.0.1', 56951)\u001b[0m\n",
      "\u001b[32m2023-04-24 00:50:29.219\u001b[0m | \u001b[1mINFO    \u001b[0m | \u001b[36m__main__\u001b[0m:\u001b[36m<module>\u001b[0m:\u001b[36m68\u001b[0m - \u001b[1mFetched the label data from head.\u001b[0m\n",
      "\u001b[32m2023-04-24 00:50:29.352\u001b[0m | \u001b[1mINFO    \u001b[0m | \u001b[36m__main__\u001b[0m:\u001b[36m<module>\u001b[0m:\u001b[36m92\u001b[0m - \u001b[1msent the backprop data from tail to body 8181 torch.Size([4, 8, 112, 112])\u001b[0m\n",
      "\u001b[32m2023-04-24 00:50:29.353\u001b[0m | \u001b[1mINFO    \u001b[0m | \u001b[36m__main__\u001b[0m:\u001b[36m<module>\u001b[0m:\u001b[36m24\u001b[0m - \u001b[1m The read socket has total ready sockets of 0\u001b[0m\n",
      "\u001b[32m2023-04-24 00:50:29.354\u001b[0m | \u001b[34m\u001b[1mDEBUG   \u001b[0m | \u001b[36m__main__\u001b[0m:\u001b[36m<module>\u001b[0m:\u001b[36m30\u001b[0m - \u001b[34m\u001b[1mstarting at position 1\u001b[0m\n"
     ]
    },
    {
     "name": "stdout",
     "output_type": "stream",
     "text": [
      "DS 10 out -> [4, 1, 224, 224]\n"
     ]
    },
    {
     "name": "stderr",
     "output_type": "stream",
     "text": [
      "\u001b[32m2023-04-24 00:50:53.898\u001b[0m | \u001b[34m\u001b[1mDEBUG   \u001b[0m | \u001b[36m__main__\u001b[0m:\u001b[36m<module>\u001b[0m:\u001b[36m36\u001b[0m - \u001b[34m\u001b[1mSocket Y label is ready\u001b[0m\n",
      "\u001b[32m2023-04-24 00:50:53.905\u001b[0m | \u001b[1mINFO    \u001b[0m | \u001b[36m__main__\u001b[0m:\u001b[36m<module>\u001b[0m:\u001b[36m38\u001b[0m - \u001b[1mconnected tail to get data on label from head 6666: ('127.0.0.1', 56978)\u001b[0m\n",
      "\u001b[32m2023-04-24 00:50:53.914\u001b[0m | \u001b[1mINFO    \u001b[0m | \u001b[36m__main__\u001b[0m:\u001b[36m<module>\u001b[0m:\u001b[36m49\u001b[0m - \u001b[1mFetched the label data from head.\u001b[0m\n",
      "\u001b[32m2023-04-24 00:51:01.927\u001b[0m | \u001b[34m\u001b[1mDEBUG   \u001b[0m | \u001b[36m__main__\u001b[0m:\u001b[36m<module>\u001b[0m:\u001b[36m55\u001b[0m - \u001b[34m\u001b[1mSocket Body data is ready\u001b[0m\n",
      "\u001b[32m2023-04-24 00:51:01.930\u001b[0m | \u001b[1mINFO    \u001b[0m | \u001b[36m__main__\u001b[0m:\u001b[36m<module>\u001b[0m:\u001b[36m57\u001b[0m - \u001b[1mconnected tail to get data on layer data from body 7171: ('127.0.0.1', 56979)\u001b[0m\n",
      "\u001b[32m2023-04-24 00:51:01.937\u001b[0m | \u001b[1mINFO    \u001b[0m | \u001b[36m__main__\u001b[0m:\u001b[36m<module>\u001b[0m:\u001b[36m68\u001b[0m - \u001b[1mFetched the label data from head.\u001b[0m\n",
      "\u001b[32m2023-04-24 00:51:02.084\u001b[0m | \u001b[1mINFO    \u001b[0m | \u001b[36m__main__\u001b[0m:\u001b[36m<module>\u001b[0m:\u001b[36m92\u001b[0m - \u001b[1msent the backprop data from tail to body 8181 torch.Size([4, 8, 112, 112])\u001b[0m\n",
      "\u001b[32m2023-04-24 00:51:02.086\u001b[0m | \u001b[1mINFO    \u001b[0m | \u001b[36m__main__\u001b[0m:\u001b[36m<module>\u001b[0m:\u001b[36m24\u001b[0m - \u001b[1m The read socket has total ready sockets of 0\u001b[0m\n",
      "\u001b[32m2023-04-24 00:51:02.087\u001b[0m | \u001b[34m\u001b[1mDEBUG   \u001b[0m | \u001b[36m__main__\u001b[0m:\u001b[36m<module>\u001b[0m:\u001b[36m30\u001b[0m - \u001b[34m\u001b[1mstarting at position 1\u001b[0m\n"
     ]
    },
    {
     "name": "stdout",
     "output_type": "stream",
     "text": [
      "DS 10 out -> [4, 1, 224, 224]\n"
     ]
    },
    {
     "name": "stderr",
     "output_type": "stream",
     "text": [
      "\u001b[32m2023-04-24 00:51:34.659\u001b[0m | \u001b[34m\u001b[1mDEBUG   \u001b[0m | \u001b[36m__main__\u001b[0m:\u001b[36m<module>\u001b[0m:\u001b[36m36\u001b[0m - \u001b[34m\u001b[1mSocket Y label is ready\u001b[0m\n",
      "\u001b[32m2023-04-24 00:51:34.664\u001b[0m | \u001b[1mINFO    \u001b[0m | \u001b[36m__main__\u001b[0m:\u001b[36m<module>\u001b[0m:\u001b[36m38\u001b[0m - \u001b[1mconnected tail to get data on label from head 6666: ('127.0.0.1', 57064)\u001b[0m\n",
      "\u001b[32m2023-04-24 00:51:34.672\u001b[0m | \u001b[1mINFO    \u001b[0m | \u001b[36m__main__\u001b[0m:\u001b[36m<module>\u001b[0m:\u001b[36m49\u001b[0m - \u001b[1mFetched the label data from head.\u001b[0m\n",
      "\u001b[32m2023-04-24 00:51:42.688\u001b[0m | \u001b[34m\u001b[1mDEBUG   \u001b[0m | \u001b[36m__main__\u001b[0m:\u001b[36m<module>\u001b[0m:\u001b[36m55\u001b[0m - \u001b[34m\u001b[1mSocket Body data is ready\u001b[0m\n",
      "\u001b[32m2023-04-24 00:51:42.690\u001b[0m | \u001b[1mINFO    \u001b[0m | \u001b[36m__main__\u001b[0m:\u001b[36m<module>\u001b[0m:\u001b[36m57\u001b[0m - \u001b[1mconnected tail to get data on layer data from body 7171: ('127.0.0.1', 57073)\u001b[0m\n",
      "\u001b[32m2023-04-24 00:51:42.694\u001b[0m | \u001b[1mINFO    \u001b[0m | \u001b[36m__main__\u001b[0m:\u001b[36m<module>\u001b[0m:\u001b[36m68\u001b[0m - \u001b[1mFetched the label data from head.\u001b[0m\n",
      "\u001b[32m2023-04-24 00:51:42.936\u001b[0m | \u001b[1mINFO    \u001b[0m | \u001b[36m__main__\u001b[0m:\u001b[36m<module>\u001b[0m:\u001b[36m92\u001b[0m - \u001b[1msent the backprop data from tail to body 8181 torch.Size([4, 8, 112, 112])\u001b[0m\n"
     ]
    },
    {
     "name": "stdout",
     "output_type": "stream",
     "text": [
      "DS 10 out -> [4, 1, 224, 224]\n"
     ]
    },
    {
     "name": "stderr",
     "output_type": "stream",
     "text": [
      "\u001b[32m2023-04-24 00:51:42.940\u001b[0m | \u001b[1mINFO    \u001b[0m | \u001b[36m__main__\u001b[0m:\u001b[36m<module>\u001b[0m:\u001b[36m24\u001b[0m - \u001b[1m The read socket has total ready sockets of 0\u001b[0m\n",
      "\u001b[32m2023-04-24 00:51:42.942\u001b[0m | \u001b[34m\u001b[1mDEBUG   \u001b[0m | \u001b[36m__main__\u001b[0m:\u001b[36m<module>\u001b[0m:\u001b[36m30\u001b[0m - \u001b[34m\u001b[1mstarting at position 1\u001b[0m\n",
      "\u001b[32m2023-04-24 00:52:10.269\u001b[0m | \u001b[34m\u001b[1mDEBUG   \u001b[0m | \u001b[36m__main__\u001b[0m:\u001b[36m<module>\u001b[0m:\u001b[36m36\u001b[0m - \u001b[34m\u001b[1mSocket Y label is ready\u001b[0m\n",
      "\u001b[32m2023-04-24 00:52:10.274\u001b[0m | \u001b[1mINFO    \u001b[0m | \u001b[36m__main__\u001b[0m:\u001b[36m<module>\u001b[0m:\u001b[36m38\u001b[0m - \u001b[1mconnected tail to get data on label from head 6666: ('127.0.0.1', 57094)\u001b[0m\n",
      "\u001b[32m2023-04-24 00:52:10.280\u001b[0m | \u001b[1mINFO    \u001b[0m | \u001b[36m__main__\u001b[0m:\u001b[36m<module>\u001b[0m:\u001b[36m49\u001b[0m - \u001b[1mFetched the label data from head.\u001b[0m\n",
      "\u001b[32m2023-04-24 00:52:18.286\u001b[0m | \u001b[34m\u001b[1mDEBUG   \u001b[0m | \u001b[36m__main__\u001b[0m:\u001b[36m<module>\u001b[0m:\u001b[36m55\u001b[0m - \u001b[34m\u001b[1mSocket Body data is ready\u001b[0m\n",
      "\u001b[32m2023-04-24 00:52:18.289\u001b[0m | \u001b[1mINFO    \u001b[0m | \u001b[36m__main__\u001b[0m:\u001b[36m<module>\u001b[0m:\u001b[36m57\u001b[0m - \u001b[1mconnected tail to get data on layer data from body 7171: ('127.0.0.1', 57095)\u001b[0m\n",
      "\u001b[32m2023-04-24 00:52:18.299\u001b[0m | \u001b[1mINFO    \u001b[0m | \u001b[36m__main__\u001b[0m:\u001b[36m<module>\u001b[0m:\u001b[36m68\u001b[0m - \u001b[1mFetched the label data from head.\u001b[0m\n",
      "\u001b[32m2023-04-24 00:52:18.571\u001b[0m | \u001b[1mINFO    \u001b[0m | \u001b[36m__main__\u001b[0m:\u001b[36m<module>\u001b[0m:\u001b[36m92\u001b[0m - \u001b[1msent the backprop data from tail to body 8181 torch.Size([4, 8, 112, 112])\u001b[0m\n"
     ]
    },
    {
     "name": "stdout",
     "output_type": "stream",
     "text": [
      "DS 10 out -> [4, 1, 224, 224]\n"
     ]
    },
    {
     "name": "stderr",
     "output_type": "stream",
     "text": [
      "\u001b[32m2023-04-24 00:52:18.573\u001b[0m | \u001b[1mINFO    \u001b[0m | \u001b[36m__main__\u001b[0m:\u001b[36m<module>\u001b[0m:\u001b[36m24\u001b[0m - \u001b[1m The read socket has total ready sockets of 0\u001b[0m\n",
      "\u001b[32m2023-04-24 00:52:18.574\u001b[0m | \u001b[34m\u001b[1mDEBUG   \u001b[0m | \u001b[36m__main__\u001b[0m:\u001b[36m<module>\u001b[0m:\u001b[36m30\u001b[0m - \u001b[34m\u001b[1mstarting at position 1\u001b[0m\n",
      "\u001b[32m2023-04-24 00:52:50.108\u001b[0m | \u001b[34m\u001b[1mDEBUG   \u001b[0m | \u001b[36m__main__\u001b[0m:\u001b[36m<module>\u001b[0m:\u001b[36m36\u001b[0m - \u001b[34m\u001b[1mSocket Y label is ready\u001b[0m\n",
      "\u001b[32m2023-04-24 00:52:50.115\u001b[0m | \u001b[1mINFO    \u001b[0m | \u001b[36m__main__\u001b[0m:\u001b[36m<module>\u001b[0m:\u001b[36m38\u001b[0m - \u001b[1mconnected tail to get data on label from head 6666: ('127.0.0.1', 57110)\u001b[0m\n",
      "\u001b[32m2023-04-24 00:52:50.124\u001b[0m | \u001b[1mINFO    \u001b[0m | \u001b[36m__main__\u001b[0m:\u001b[36m<module>\u001b[0m:\u001b[36m49\u001b[0m - \u001b[1mFetched the label data from head.\u001b[0m\n",
      "\u001b[32m2023-04-24 00:52:58.139\u001b[0m | \u001b[34m\u001b[1mDEBUG   \u001b[0m | \u001b[36m__main__\u001b[0m:\u001b[36m<module>\u001b[0m:\u001b[36m55\u001b[0m - \u001b[34m\u001b[1mSocket Body data is ready\u001b[0m\n",
      "\u001b[32m2023-04-24 00:52:58.146\u001b[0m | \u001b[1mINFO    \u001b[0m | \u001b[36m__main__\u001b[0m:\u001b[36m<module>\u001b[0m:\u001b[36m57\u001b[0m - \u001b[1mconnected tail to get data on layer data from body 7171: ('127.0.0.1', 57116)\u001b[0m\n",
      "\u001b[32m2023-04-24 00:52:58.154\u001b[0m | \u001b[1mINFO    \u001b[0m | \u001b[36m__main__\u001b[0m:\u001b[36m<module>\u001b[0m:\u001b[36m68\u001b[0m - \u001b[1mFetched the label data from head.\u001b[0m\n",
      "\u001b[32m2023-04-24 00:52:58.410\u001b[0m | \u001b[1mINFO    \u001b[0m | \u001b[36m__main__\u001b[0m:\u001b[36m<module>\u001b[0m:\u001b[36m92\u001b[0m - \u001b[1msent the backprop data from tail to body 8181 torch.Size([4, 8, 112, 112])\u001b[0m\n",
      "\u001b[32m2023-04-24 00:52:58.412\u001b[0m | \u001b[1mINFO    \u001b[0m | \u001b[36m__main__\u001b[0m:\u001b[36m<module>\u001b[0m:\u001b[36m24\u001b[0m - \u001b[1m The read socket has total ready sockets of 0\u001b[0m\n",
      "\u001b[32m2023-04-24 00:52:58.413\u001b[0m | \u001b[34m\u001b[1mDEBUG   \u001b[0m | \u001b[36m__main__\u001b[0m:\u001b[36m<module>\u001b[0m:\u001b[36m30\u001b[0m - \u001b[34m\u001b[1mstarting at position 1\u001b[0m\n"
     ]
    },
    {
     "name": "stdout",
     "output_type": "stream",
     "text": [
      "DS 10 out -> [4, 1, 224, 224]\n"
     ]
    },
    {
     "name": "stderr",
     "output_type": "stream",
     "text": [
      "\u001b[32m2023-04-24 00:53:26.994\u001b[0m | \u001b[34m\u001b[1mDEBUG   \u001b[0m | \u001b[36m__main__\u001b[0m:\u001b[36m<module>\u001b[0m:\u001b[36m36\u001b[0m - \u001b[34m\u001b[1mSocket Y label is ready\u001b[0m\n",
      "\u001b[32m2023-04-24 00:53:27.000\u001b[0m | \u001b[1mINFO    \u001b[0m | \u001b[36m__main__\u001b[0m:\u001b[36m<module>\u001b[0m:\u001b[36m38\u001b[0m - \u001b[1mconnected tail to get data on label from head 6666: ('127.0.0.1', 57143)\u001b[0m\n",
      "\u001b[32m2023-04-24 00:53:27.007\u001b[0m | \u001b[1mINFO    \u001b[0m | \u001b[36m__main__\u001b[0m:\u001b[36m<module>\u001b[0m:\u001b[36m49\u001b[0m - \u001b[1mFetched the label data from head.\u001b[0m\n",
      "\u001b[32m2023-04-24 00:53:35.009\u001b[0m | \u001b[34m\u001b[1mDEBUG   \u001b[0m | \u001b[36m__main__\u001b[0m:\u001b[36m<module>\u001b[0m:\u001b[36m55\u001b[0m - \u001b[34m\u001b[1mSocket Body data is ready\u001b[0m\n",
      "\u001b[32m2023-04-24 00:53:35.011\u001b[0m | \u001b[1mINFO    \u001b[0m | \u001b[36m__main__\u001b[0m:\u001b[36m<module>\u001b[0m:\u001b[36m57\u001b[0m - \u001b[1mconnected tail to get data on layer data from body 7171: ('127.0.0.1', 57152)\u001b[0m\n",
      "\u001b[32m2023-04-24 00:53:35.017\u001b[0m | \u001b[1mINFO    \u001b[0m | \u001b[36m__main__\u001b[0m:\u001b[36m<module>\u001b[0m:\u001b[36m68\u001b[0m - \u001b[1mFetched the label data from head.\u001b[0m\n",
      "\u001b[32m2023-04-24 00:53:35.174\u001b[0m | \u001b[1mINFO    \u001b[0m | \u001b[36m__main__\u001b[0m:\u001b[36m<module>\u001b[0m:\u001b[36m92\u001b[0m - \u001b[1msent the backprop data from tail to body 8181 torch.Size([4, 8, 112, 112])\u001b[0m\n",
      "\u001b[32m2023-04-24 00:53:35.175\u001b[0m | \u001b[1mINFO    \u001b[0m | \u001b[36m__main__\u001b[0m:\u001b[36m<module>\u001b[0m:\u001b[36m24\u001b[0m - \u001b[1m The read socket has total ready sockets of 0\u001b[0m\n",
      "\u001b[32m2023-04-24 00:53:35.176\u001b[0m | \u001b[34m\u001b[1mDEBUG   \u001b[0m | \u001b[36m__main__\u001b[0m:\u001b[36m<module>\u001b[0m:\u001b[36m30\u001b[0m - \u001b[34m\u001b[1mstarting at position 1\u001b[0m\n"
     ]
    },
    {
     "name": "stdout",
     "output_type": "stream",
     "text": [
      "DS 10 out -> [4, 1, 224, 224]\n"
     ]
    },
    {
     "name": "stderr",
     "output_type": "stream",
     "text": [
      "\u001b[32m2023-04-24 00:54:08.829\u001b[0m | \u001b[34m\u001b[1mDEBUG   \u001b[0m | \u001b[36m__main__\u001b[0m:\u001b[36m<module>\u001b[0m:\u001b[36m36\u001b[0m - \u001b[34m\u001b[1mSocket Y label is ready\u001b[0m\n",
      "\u001b[32m2023-04-24 00:54:08.840\u001b[0m | \u001b[1mINFO    \u001b[0m | \u001b[36m__main__\u001b[0m:\u001b[36m<module>\u001b[0m:\u001b[36m38\u001b[0m - \u001b[1mconnected tail to get data on label from head 6666: ('127.0.0.1', 57179)\u001b[0m\n",
      "\u001b[32m2023-04-24 00:54:08.850\u001b[0m | \u001b[1mINFO    \u001b[0m | \u001b[36m__main__\u001b[0m:\u001b[36m<module>\u001b[0m:\u001b[36m49\u001b[0m - \u001b[1mFetched the label data from head.\u001b[0m\n",
      "\u001b[32m2023-04-24 00:54:17.417\u001b[0m | \u001b[34m\u001b[1mDEBUG   \u001b[0m | \u001b[36m__main__\u001b[0m:\u001b[36m<module>\u001b[0m:\u001b[36m55\u001b[0m - \u001b[34m\u001b[1mSocket Body data is ready\u001b[0m\n",
      "\u001b[32m2023-04-24 00:54:17.421\u001b[0m | \u001b[1mINFO    \u001b[0m | \u001b[36m__main__\u001b[0m:\u001b[36m<module>\u001b[0m:\u001b[36m57\u001b[0m - \u001b[1mconnected tail to get data on layer data from body 7171: ('127.0.0.1', 57227)\u001b[0m\n",
      "\u001b[32m2023-04-24 00:54:17.428\u001b[0m | \u001b[1mINFO    \u001b[0m | \u001b[36m__main__\u001b[0m:\u001b[36m<module>\u001b[0m:\u001b[36m68\u001b[0m - \u001b[1mFetched the label data from head.\u001b[0m\n"
     ]
    },
    {
     "name": "stdout",
     "output_type": "stream",
     "text": [
      "DS 10 out -> [4, 1, 224, 224]\n"
     ]
    },
    {
     "name": "stderr",
     "output_type": "stream",
     "text": [
      "\u001b[32m2023-04-24 00:54:17.778\u001b[0m | \u001b[1mINFO    \u001b[0m | \u001b[36m__main__\u001b[0m:\u001b[36m<module>\u001b[0m:\u001b[36m92\u001b[0m - \u001b[1msent the backprop data from tail to body 8181 torch.Size([4, 8, 112, 112])\u001b[0m\n",
      "\u001b[32m2023-04-24 00:54:17.782\u001b[0m | \u001b[1mINFO    \u001b[0m | \u001b[36m__main__\u001b[0m:\u001b[36m<module>\u001b[0m:\u001b[36m24\u001b[0m - \u001b[1m The read socket has total ready sockets of 0\u001b[0m\n",
      "\u001b[32m2023-04-24 00:54:17.785\u001b[0m | \u001b[34m\u001b[1mDEBUG   \u001b[0m | \u001b[36m__main__\u001b[0m:\u001b[36m<module>\u001b[0m:\u001b[36m30\u001b[0m - \u001b[34m\u001b[1mstarting at position 1\u001b[0m\n",
      "\u001b[32m2023-04-24 00:54:59.273\u001b[0m | \u001b[34m\u001b[1mDEBUG   \u001b[0m | \u001b[36m__main__\u001b[0m:\u001b[36m<module>\u001b[0m:\u001b[36m36\u001b[0m - \u001b[34m\u001b[1mSocket Y label is ready\u001b[0m\n",
      "\u001b[32m2023-04-24 00:54:59.281\u001b[0m | \u001b[1mINFO    \u001b[0m | \u001b[36m__main__\u001b[0m:\u001b[36m<module>\u001b[0m:\u001b[36m38\u001b[0m - \u001b[1mconnected tail to get data on label from head 6666: ('127.0.0.1', 57296)\u001b[0m\n",
      "\u001b[32m2023-04-24 00:54:59.291\u001b[0m | \u001b[1mINFO    \u001b[0m | \u001b[36m__main__\u001b[0m:\u001b[36m<module>\u001b[0m:\u001b[36m49\u001b[0m - \u001b[1mFetched the label data from head.\u001b[0m\n",
      "\u001b[32m2023-04-24 00:55:07.334\u001b[0m | \u001b[34m\u001b[1mDEBUG   \u001b[0m | \u001b[36m__main__\u001b[0m:\u001b[36m<module>\u001b[0m:\u001b[36m55\u001b[0m - \u001b[34m\u001b[1mSocket Body data is ready\u001b[0m\n",
      "\u001b[32m2023-04-24 00:55:07.338\u001b[0m | \u001b[1mINFO    \u001b[0m | \u001b[36m__main__\u001b[0m:\u001b[36m<module>\u001b[0m:\u001b[36m57\u001b[0m - \u001b[1mconnected tail to get data on layer data from body 7171: ('127.0.0.1', 57299)\u001b[0m\n",
      "\u001b[32m2023-04-24 00:55:07.345\u001b[0m | \u001b[1mINFO    \u001b[0m | \u001b[36m__main__\u001b[0m:\u001b[36m<module>\u001b[0m:\u001b[36m68\u001b[0m - \u001b[1mFetched the label data from head.\u001b[0m\n",
      "\u001b[32m2023-04-24 00:55:07.525\u001b[0m | \u001b[1mINFO    \u001b[0m | \u001b[36m__main__\u001b[0m:\u001b[36m<module>\u001b[0m:\u001b[36m92\u001b[0m - \u001b[1msent the backprop data from tail to body 8181 torch.Size([4, 8, 112, 112])\u001b[0m\n",
      "\u001b[32m2023-04-24 00:55:07.527\u001b[0m | \u001b[1mINFO    \u001b[0m | \u001b[36m__main__\u001b[0m:\u001b[36m<module>\u001b[0m:\u001b[36m24\u001b[0m - \u001b[1m The read socket has total ready sockets of 0\u001b[0m\n",
      "\u001b[32m2023-04-24 00:55:07.528\u001b[0m | \u001b[34m\u001b[1mDEBUG   \u001b[0m | \u001b[36m__main__\u001b[0m:\u001b[36m<module>\u001b[0m:\u001b[36m30\u001b[0m - \u001b[34m\u001b[1mstarting at position 1\u001b[0m\n"
     ]
    },
    {
     "name": "stdout",
     "output_type": "stream",
     "text": [
      "DS 10 out -> [4, 1, 224, 224]\n"
     ]
    },
    {
     "name": "stderr",
     "output_type": "stream",
     "text": [
      "\u001b[32m2023-04-24 00:55:37.689\u001b[0m | \u001b[34m\u001b[1mDEBUG   \u001b[0m | \u001b[36m__main__\u001b[0m:\u001b[36m<module>\u001b[0m:\u001b[36m36\u001b[0m - \u001b[34m\u001b[1mSocket Y label is ready\u001b[0m\n",
      "\u001b[32m2023-04-24 00:55:37.697\u001b[0m | \u001b[1mINFO    \u001b[0m | \u001b[36m__main__\u001b[0m:\u001b[36m<module>\u001b[0m:\u001b[36m38\u001b[0m - \u001b[1mconnected tail to get data on label from head 6666: ('127.0.0.1', 57320)\u001b[0m\n",
      "\u001b[32m2023-04-24 00:55:37.706\u001b[0m | \u001b[1mINFO    \u001b[0m | \u001b[36m__main__\u001b[0m:\u001b[36m<module>\u001b[0m:\u001b[36m49\u001b[0m - \u001b[1mFetched the label data from head.\u001b[0m\n",
      "\u001b[32m2023-04-24 00:55:45.720\u001b[0m | \u001b[34m\u001b[1mDEBUG   \u001b[0m | \u001b[36m__main__\u001b[0m:\u001b[36m<module>\u001b[0m:\u001b[36m55\u001b[0m - \u001b[34m\u001b[1mSocket Body data is ready\u001b[0m\n",
      "\u001b[32m2023-04-24 00:55:45.722\u001b[0m | \u001b[1mINFO    \u001b[0m | \u001b[36m__main__\u001b[0m:\u001b[36m<module>\u001b[0m:\u001b[36m57\u001b[0m - \u001b[1mconnected tail to get data on layer data from body 7171: ('127.0.0.1', 57324)\u001b[0m\n",
      "\u001b[32m2023-04-24 00:55:45.727\u001b[0m | \u001b[1mINFO    \u001b[0m | \u001b[36m__main__\u001b[0m:\u001b[36m<module>\u001b[0m:\u001b[36m68\u001b[0m - \u001b[1mFetched the label data from head.\u001b[0m\n",
      "\u001b[32m2023-04-24 00:55:45.883\u001b[0m | \u001b[1mINFO    \u001b[0m | \u001b[36m__main__\u001b[0m:\u001b[36m<module>\u001b[0m:\u001b[36m92\u001b[0m - \u001b[1msent the backprop data from tail to body 8181 torch.Size([4, 8, 112, 112])\u001b[0m\n",
      "\u001b[32m2023-04-24 00:55:45.884\u001b[0m | \u001b[1mINFO    \u001b[0m | \u001b[36m__main__\u001b[0m:\u001b[36m<module>\u001b[0m:\u001b[36m24\u001b[0m - \u001b[1m The read socket has total ready sockets of 0\u001b[0m\n",
      "\u001b[32m2023-04-24 00:55:45.886\u001b[0m | \u001b[34m\u001b[1mDEBUG   \u001b[0m | \u001b[36m__main__\u001b[0m:\u001b[36m<module>\u001b[0m:\u001b[36m30\u001b[0m - \u001b[34m\u001b[1mstarting at position 1\u001b[0m\n"
     ]
    },
    {
     "name": "stdout",
     "output_type": "stream",
     "text": [
      "DS 10 out -> [4, 1, 224, 224]\n"
     ]
    },
    {
     "name": "stderr",
     "output_type": "stream",
     "text": [
      "\u001b[32m2023-04-24 00:56:13.183\u001b[0m | \u001b[34m\u001b[1mDEBUG   \u001b[0m | \u001b[36m__main__\u001b[0m:\u001b[36m<module>\u001b[0m:\u001b[36m36\u001b[0m - \u001b[34m\u001b[1mSocket Y label is ready\u001b[0m\n",
      "\u001b[32m2023-04-24 00:56:13.190\u001b[0m | \u001b[1mINFO    \u001b[0m | \u001b[36m__main__\u001b[0m:\u001b[36m<module>\u001b[0m:\u001b[36m38\u001b[0m - \u001b[1mconnected tail to get data on label from head 6666: ('127.0.0.1', 57344)\u001b[0m\n",
      "\u001b[32m2023-04-24 00:56:13.198\u001b[0m | \u001b[1mINFO    \u001b[0m | \u001b[36m__main__\u001b[0m:\u001b[36m<module>\u001b[0m:\u001b[36m49\u001b[0m - \u001b[1mFetched the label data from head.\u001b[0m\n",
      "\u001b[32m2023-04-24 00:56:22.679\u001b[0m | \u001b[34m\u001b[1mDEBUG   \u001b[0m | \u001b[36m__main__\u001b[0m:\u001b[36m<module>\u001b[0m:\u001b[36m55\u001b[0m - \u001b[34m\u001b[1mSocket Body data is ready\u001b[0m\n",
      "\u001b[32m2023-04-24 00:56:22.684\u001b[0m | \u001b[1mINFO    \u001b[0m | \u001b[36m__main__\u001b[0m:\u001b[36m<module>\u001b[0m:\u001b[36m57\u001b[0m - \u001b[1mconnected tail to get data on layer data from body 7171: ('127.0.0.1', 57350)\u001b[0m\n",
      "\u001b[32m2023-04-24 00:56:22.694\u001b[0m | \u001b[1mINFO    \u001b[0m | \u001b[36m__main__\u001b[0m:\u001b[36m<module>\u001b[0m:\u001b[36m68\u001b[0m - \u001b[1mFetched the label data from head.\u001b[0m\n",
      "\u001b[32m2023-04-24 00:56:23.081\u001b[0m | \u001b[1mINFO    \u001b[0m | \u001b[36m__main__\u001b[0m:\u001b[36m<module>\u001b[0m:\u001b[36m92\u001b[0m - \u001b[1msent the backprop data from tail to body 8181 torch.Size([4, 8, 112, 112])\u001b[0m\n",
      "\u001b[32m2023-04-24 00:56:23.081\u001b[0m | \u001b[1mINFO    \u001b[0m | \u001b[36m__main__\u001b[0m:\u001b[36m<module>\u001b[0m:\u001b[36m24\u001b[0m - \u001b[1m The read socket has total ready sockets of 0\u001b[0m\n",
      "\u001b[32m2023-04-24 00:56:23.081\u001b[0m | \u001b[34m\u001b[1mDEBUG   \u001b[0m | \u001b[36m__main__\u001b[0m:\u001b[36m<module>\u001b[0m:\u001b[36m30\u001b[0m - \u001b[34m\u001b[1mstarting at position 1\u001b[0m\n"
     ]
    },
    {
     "name": "stdout",
     "output_type": "stream",
     "text": [
      "DS 10 out -> [4, 1, 224, 224]\n"
     ]
    },
    {
     "name": "stderr",
     "output_type": "stream",
     "text": [
      "\u001b[32m2023-04-24 00:57:03.354\u001b[0m | \u001b[34m\u001b[1mDEBUG   \u001b[0m | \u001b[36m__main__\u001b[0m:\u001b[36m<module>\u001b[0m:\u001b[36m36\u001b[0m - \u001b[34m\u001b[1mSocket Y label is ready\u001b[0m\n",
      "\u001b[32m2023-04-24 00:57:03.369\u001b[0m | \u001b[1mINFO    \u001b[0m | \u001b[36m__main__\u001b[0m:\u001b[36m<module>\u001b[0m:\u001b[36m38\u001b[0m - \u001b[1mconnected tail to get data on label from head 6666: ('127.0.0.1', 57380)\u001b[0m\n",
      "\u001b[32m2023-04-24 00:57:03.384\u001b[0m | \u001b[1mINFO    \u001b[0m | \u001b[36m__main__\u001b[0m:\u001b[36m<module>\u001b[0m:\u001b[36m49\u001b[0m - \u001b[1mFetched the label data from head.\u001b[0m\n",
      "\u001b[32m2023-04-24 00:57:13.037\u001b[0m | \u001b[34m\u001b[1mDEBUG   \u001b[0m | \u001b[36m__main__\u001b[0m:\u001b[36m<module>\u001b[0m:\u001b[36m55\u001b[0m - \u001b[34m\u001b[1mSocket Body data is ready\u001b[0m\n",
      "\u001b[32m2023-04-24 00:57:13.037\u001b[0m | \u001b[1mINFO    \u001b[0m | \u001b[36m__main__\u001b[0m:\u001b[36m<module>\u001b[0m:\u001b[36m57\u001b[0m - \u001b[1mconnected tail to get data on layer data from body 7171: ('127.0.0.1', 57388)\u001b[0m\n",
      "\u001b[32m2023-04-24 00:57:13.053\u001b[0m | \u001b[1mINFO    \u001b[0m | \u001b[36m__main__\u001b[0m:\u001b[36m<module>\u001b[0m:\u001b[36m68\u001b[0m - \u001b[1mFetched the label data from head.\u001b[0m\n"
     ]
    },
    {
     "name": "stdout",
     "output_type": "stream",
     "text": [
      "DS 10 out -> [4, 1, 224, 224]\n"
     ]
    },
    {
     "name": "stderr",
     "output_type": "stream",
     "text": [
      "\u001b[32m2023-04-24 00:57:13.450\u001b[0m | \u001b[1mINFO    \u001b[0m | \u001b[36m__main__\u001b[0m:\u001b[36m<module>\u001b[0m:\u001b[36m92\u001b[0m - \u001b[1msent the backprop data from tail to body 8181 torch.Size([4, 8, 112, 112])\u001b[0m\n",
      "\u001b[32m2023-04-24 00:57:13.458\u001b[0m | \u001b[1mINFO    \u001b[0m | \u001b[36m__main__\u001b[0m:\u001b[36m<module>\u001b[0m:\u001b[36m24\u001b[0m - \u001b[1m The read socket has total ready sockets of 0\u001b[0m\n",
      "\u001b[32m2023-04-24 00:57:13.460\u001b[0m | \u001b[34m\u001b[1mDEBUG   \u001b[0m | \u001b[36m__main__\u001b[0m:\u001b[36m<module>\u001b[0m:\u001b[36m30\u001b[0m - \u001b[34m\u001b[1mstarting at position 1\u001b[0m\n",
      "\u001b[32m2023-04-24 00:57:48.266\u001b[0m | \u001b[34m\u001b[1mDEBUG   \u001b[0m | \u001b[36m__main__\u001b[0m:\u001b[36m<module>\u001b[0m:\u001b[36m36\u001b[0m - \u001b[34m\u001b[1mSocket Y label is ready\u001b[0m\n",
      "\u001b[32m2023-04-24 00:57:48.270\u001b[0m | \u001b[1mINFO    \u001b[0m | \u001b[36m__main__\u001b[0m:\u001b[36m<module>\u001b[0m:\u001b[36m38\u001b[0m - \u001b[1mconnected tail to get data on label from head 6666: ('127.0.0.1', 57454)\u001b[0m\n",
      "\u001b[32m2023-04-24 00:57:48.411\u001b[0m | \u001b[1mINFO    \u001b[0m | \u001b[36m__main__\u001b[0m:\u001b[36m<module>\u001b[0m:\u001b[36m49\u001b[0m - \u001b[1mFetched the label data from head.\u001b[0m\n",
      "\u001b[32m2023-04-24 00:57:58.492\u001b[0m | \u001b[34m\u001b[1mDEBUG   \u001b[0m | \u001b[36m__main__\u001b[0m:\u001b[36m<module>\u001b[0m:\u001b[36m55\u001b[0m - \u001b[34m\u001b[1mSocket Body data is ready\u001b[0m\n",
      "\u001b[32m2023-04-24 00:57:58.507\u001b[0m | \u001b[1mINFO    \u001b[0m | \u001b[36m__main__\u001b[0m:\u001b[36m<module>\u001b[0m:\u001b[36m57\u001b[0m - \u001b[1mconnected tail to get data on layer data from body 7171: ('127.0.0.1', 57479)\u001b[0m\n",
      "\u001b[32m2023-04-24 00:57:58.507\u001b[0m | \u001b[1mINFO    \u001b[0m | \u001b[36m__main__\u001b[0m:\u001b[36m<module>\u001b[0m:\u001b[36m68\u001b[0m - \u001b[1mFetched the label data from head.\u001b[0m\n",
      "\u001b[32m2023-04-24 00:57:58.748\u001b[0m | \u001b[1mINFO    \u001b[0m | \u001b[36m__main__\u001b[0m:\u001b[36m<module>\u001b[0m:\u001b[36m92\u001b[0m - \u001b[1msent the backprop data from tail to body 8181 torch.Size([4, 8, 112, 112])\u001b[0m\n",
      "\u001b[32m2023-04-24 00:57:58.752\u001b[0m | \u001b[1mINFO    \u001b[0m | \u001b[36m__main__\u001b[0m:\u001b[36m<module>\u001b[0m:\u001b[36m24\u001b[0m - \u001b[1m The read socket has total ready sockets of 0\u001b[0m\n",
      "\u001b[32m2023-04-24 00:57:58.754\u001b[0m | \u001b[34m\u001b[1mDEBUG   \u001b[0m | \u001b[36m__main__\u001b[0m:\u001b[36m<module>\u001b[0m:\u001b[36m30\u001b[0m - \u001b[34m\u001b[1mstarting at position 1\u001b[0m\n"
     ]
    },
    {
     "name": "stdout",
     "output_type": "stream",
     "text": [
      "DS 10 out -> [4, 1, 224, 224]\n"
     ]
    },
    {
     "name": "stderr",
     "output_type": "stream",
     "text": [
      "\u001b[32m2023-04-24 00:58:39.155\u001b[0m | \u001b[34m\u001b[1mDEBUG   \u001b[0m | \u001b[36m__main__\u001b[0m:\u001b[36m<module>\u001b[0m:\u001b[36m36\u001b[0m - \u001b[34m\u001b[1mSocket Y label is ready\u001b[0m\n",
      "\u001b[32m2023-04-24 00:58:39.166\u001b[0m | \u001b[1mINFO    \u001b[0m | \u001b[36m__main__\u001b[0m:\u001b[36m<module>\u001b[0m:\u001b[36m38\u001b[0m - \u001b[1mconnected tail to get data on label from head 6666: ('127.0.0.1', 57525)\u001b[0m\n",
      "\u001b[32m2023-04-24 00:58:39.180\u001b[0m | \u001b[1mINFO    \u001b[0m | \u001b[36m__main__\u001b[0m:\u001b[36m<module>\u001b[0m:\u001b[36m49\u001b[0m - \u001b[1mFetched the label data from head.\u001b[0m\n",
      "\u001b[32m2023-04-24 00:58:49.827\u001b[0m | \u001b[34m\u001b[1mDEBUG   \u001b[0m | \u001b[36m__main__\u001b[0m:\u001b[36m<module>\u001b[0m:\u001b[36m55\u001b[0m - \u001b[34m\u001b[1mSocket Body data is ready\u001b[0m\n",
      "\u001b[32m2023-04-24 00:58:49.827\u001b[0m | \u001b[1mINFO    \u001b[0m | \u001b[36m__main__\u001b[0m:\u001b[36m<module>\u001b[0m:\u001b[36m57\u001b[0m - \u001b[1mconnected tail to get data on layer data from body 7171: ('127.0.0.1', 57538)\u001b[0m\n",
      "\u001b[32m2023-04-24 00:58:49.841\u001b[0m | \u001b[1mINFO    \u001b[0m | \u001b[36m__main__\u001b[0m:\u001b[36m<module>\u001b[0m:\u001b[36m68\u001b[0m - \u001b[1mFetched the label data from head.\u001b[0m\n",
      "\u001b[32m2023-04-24 00:58:50.051\u001b[0m | \u001b[1mINFO    \u001b[0m | \u001b[36m__main__\u001b[0m:\u001b[36m<module>\u001b[0m:\u001b[36m92\u001b[0m - \u001b[1msent the backprop data from tail to body 8181 torch.Size([4, 8, 112, 112])\u001b[0m\n",
      "\u001b[32m2023-04-24 00:58:50.057\u001b[0m | \u001b[1mINFO    \u001b[0m | \u001b[36m__main__\u001b[0m:\u001b[36m<module>\u001b[0m:\u001b[36m24\u001b[0m - \u001b[1m The read socket has total ready sockets of 0\u001b[0m\n",
      "\u001b[32m2023-04-24 00:58:50.057\u001b[0m | \u001b[34m\u001b[1mDEBUG   \u001b[0m | \u001b[36m__main__\u001b[0m:\u001b[36m<module>\u001b[0m:\u001b[36m30\u001b[0m - \u001b[34m\u001b[1mstarting at position 1\u001b[0m\n"
     ]
    },
    {
     "name": "stdout",
     "output_type": "stream",
     "text": [
      "DS 10 out -> [4, 1, 224, 224]\n"
     ]
    },
    {
     "name": "stderr",
     "output_type": "stream",
     "text": [
      "\u001b[32m2023-04-24 00:59:29.132\u001b[0m | \u001b[34m\u001b[1mDEBUG   \u001b[0m | \u001b[36m__main__\u001b[0m:\u001b[36m<module>\u001b[0m:\u001b[36m36\u001b[0m - \u001b[34m\u001b[1mSocket Y label is ready\u001b[0m\n",
      "\u001b[32m2023-04-24 00:59:29.145\u001b[0m | \u001b[1mINFO    \u001b[0m | \u001b[36m__main__\u001b[0m:\u001b[36m<module>\u001b[0m:\u001b[36m38\u001b[0m - \u001b[1mconnected tail to get data on label from head 6666: ('127.0.0.1', 57677)\u001b[0m\n",
      "\u001b[32m2023-04-24 00:59:29.159\u001b[0m | \u001b[1mINFO    \u001b[0m | \u001b[36m__main__\u001b[0m:\u001b[36m<module>\u001b[0m:\u001b[36m49\u001b[0m - \u001b[1mFetched the label data from head.\u001b[0m\n",
      "\u001b[32m2023-04-24 00:59:38.934\u001b[0m | \u001b[34m\u001b[1mDEBUG   \u001b[0m | \u001b[36m__main__\u001b[0m:\u001b[36m<module>\u001b[0m:\u001b[36m55\u001b[0m - \u001b[34m\u001b[1mSocket Body data is ready\u001b[0m\n",
      "\u001b[32m2023-04-24 00:59:38.943\u001b[0m | \u001b[1mINFO    \u001b[0m | \u001b[36m__main__\u001b[0m:\u001b[36m<module>\u001b[0m:\u001b[36m57\u001b[0m - \u001b[1mconnected tail to get data on layer data from body 7171: ('127.0.0.1', 57686)\u001b[0m\n",
      "\u001b[32m2023-04-24 00:59:38.952\u001b[0m | \u001b[1mINFO    \u001b[0m | \u001b[36m__main__\u001b[0m:\u001b[36m<module>\u001b[0m:\u001b[36m68\u001b[0m - \u001b[1mFetched the label data from head.\u001b[0m\n",
      "\u001b[32m2023-04-24 00:59:39.201\u001b[0m | \u001b[1mINFO    \u001b[0m | \u001b[36m__main__\u001b[0m:\u001b[36m<module>\u001b[0m:\u001b[36m92\u001b[0m - \u001b[1msent the backprop data from tail to body 8181 torch.Size([4, 8, 112, 112])\u001b[0m\n",
      "\u001b[32m2023-04-24 00:59:39.203\u001b[0m | \u001b[1mINFO    \u001b[0m | \u001b[36m__main__\u001b[0m:\u001b[36m<module>\u001b[0m:\u001b[36m24\u001b[0m - \u001b[1m The read socket has total ready sockets of 0\u001b[0m\n",
      "\u001b[32m2023-04-24 00:59:39.203\u001b[0m | \u001b[34m\u001b[1mDEBUG   \u001b[0m | \u001b[36m__main__\u001b[0m:\u001b[36m<module>\u001b[0m:\u001b[36m30\u001b[0m - \u001b[34m\u001b[1mstarting at position 1\u001b[0m\n"
     ]
    },
    {
     "name": "stdout",
     "output_type": "stream",
     "text": [
      "DS 10 out -> [4, 1, 224, 224]\n"
     ]
    },
    {
     "name": "stderr",
     "output_type": "stream",
     "text": [
      "\u001b[32m2023-04-24 01:00:24.398\u001b[0m | \u001b[34m\u001b[1mDEBUG   \u001b[0m | \u001b[36m__main__\u001b[0m:\u001b[36m<module>\u001b[0m:\u001b[36m36\u001b[0m - \u001b[34m\u001b[1mSocket Y label is ready\u001b[0m\n",
      "\u001b[32m2023-04-24 01:00:24.413\u001b[0m | \u001b[1mINFO    \u001b[0m | \u001b[36m__main__\u001b[0m:\u001b[36m<module>\u001b[0m:\u001b[36m38\u001b[0m - \u001b[1mconnected tail to get data on label from head 6666: ('127.0.0.1', 57759)\u001b[0m\n",
      "\u001b[32m2023-04-24 01:00:24.448\u001b[0m | \u001b[1mINFO    \u001b[0m | \u001b[36m__main__\u001b[0m:\u001b[36m<module>\u001b[0m:\u001b[36m49\u001b[0m - \u001b[1mFetched the label data from head.\u001b[0m\n"
     ]
    }
   ],
   "source": [
    "# Forward propagation in Tail model\n",
    "\n",
    "model_tail.train()\n",
    "\n",
    "\n",
    "model_tail.train()\n",
    "train_loss_list = []\n",
    "grads_dict = {}\n",
    "abs_grads_dict = {}\n",
    "\n",
    "\n",
    "try:\n",
    "    while True:\n",
    "        \n",
    "        # wait until either socket is ready to read\n",
    "        recv_head_y.listen()\n",
    "        recv_body_f.listen()\n",
    "\n",
    "        sockets = [recv_head_y, recv_body_f]\n",
    "\n",
    "        read_sockets = []\n",
    "        sockets_ready = 0\n",
    "        \n",
    "        logger.info(f\" The read socket has total ready sockets of {len(read_sockets)}\")\n",
    "\n",
    "        label_data = None\n",
    "        layer_data = None\n",
    "        try:\n",
    "            while (label_data is None and layer_data is None):\n",
    "                logger.debug(f\"starting at position {sockets_ready+1}\")\n",
    "                \n",
    "\n",
    "                read_socket_head, _, _ = select.select([recv_head_y], [], [])\n",
    "\n",
    "                if read_socket_head:\n",
    "                    logger.debug(\"Socket Y label is ready\")\n",
    "                    conn, addr = recv_head_y.accept()\n",
    "                    logger.info(f\"connected tail to get data on label from head 6666: {addr}\")\n",
    "\n",
    "                    label_data_file = conn.recv(1024)\n",
    "\n",
    "                    if len(label_data_file) == 0:\n",
    "                        logger.error(\"Label data not available\")\n",
    "                        break\n",
    "\n",
    "                    with h5py.File(label_data_file, 'r') as head_label:\n",
    "                        label_data = torch.tensor(head_label['head_to_tail'][:]).to(device)\n",
    "                    \n",
    "                    logger.info(\"Fetched the label data from head.\")\n",
    "\n",
    "                time.sleep(8)\n",
    "                read_socket_body, _, _ = select.select([recv_body_f], [], [])\n",
    "\n",
    "                if read_socket_body:\n",
    "                    logger.debug(\"Socket Body data is ready\")\n",
    "                    conn, addr = recv_body_f.accept()\n",
    "                    logger.info(f\"connected tail to get data on layer data from body 7171: {addr}\")\n",
    "\n",
    "                    body_data_file = conn.recv(1024)\n",
    "\n",
    "                    if len(body_data_file) == 0:\n",
    "                        logger.error(\"Layer data not available\")\n",
    "                        break\n",
    "\n",
    "                    with h5py.File(body_data_file, 'r') as body_fwd:\n",
    "                        layer_data = torch.tensor(body_fwd['skip9'][:], requires_grad=True).to(device)\n",
    "                    \n",
    "                    logger.info(\"Fetched the label data from head.\")\n",
    "                \n",
    "                sockets_ready += 1\n",
    "                \n",
    "            \n",
    "                \n",
    "            optimizer_tail.zero_grad()\n",
    "                                                                                                                                    \n",
    "            tl_output_data = model_tail(# skip_7, skip_8, \n",
    "                layer_data\n",
    "                )\n",
    "            \n",
    "            loss = loss_fn(tl_output_data, label_data)\n",
    "            train_loss_list.append(loss)\n",
    "            loss.backward()\n",
    "            optimizer_tail.step()\n",
    "\n",
    "            skip_9_grad = layer_data.grad\n",
    "\n",
    "            with h5py.File('params_and_grads/tail_back_prop.hdf5', 'w') as tail_bkp:\n",
    "                tail_bkp.create_dataset(\"skip_9_grad\",  data=skip_9_grad.cpu().detach().numpy())\n",
    "\n",
    "                send_socket_info(8181, 'params_and_grads/tail_back_prop.hdf5')\n",
    "\n",
    "            logger.info(f\"sent the backprop data from tail to body 8181 {skip_9_grad.shape}\")\n",
    "        except ConnectionResetError:\n",
    "            logger.error(f\"Connection error issue\")\n",
    "\n",
    "except Exception as ex:\n",
    "    import traceback\n",
    "    print(\"+=\" * 25)\n",
    "    print(\"Error encountered as :\", ex)\n",
    "    print(\"+=\" * 25)\n",
    "    traceback.print_exc()\n",
    "\n",
    "finally:\n",
    "    pass\n"
   ]
  }
 ],
 "metadata": {
  "kernelspec": {
   "display_name": "base",
   "language": "python",
   "name": "python3"
  },
  "language_info": {
   "codemirror_mode": {
    "name": "ipython",
    "version": 3
   },
   "file_extension": ".py",
   "mimetype": "text/x-python",
   "name": "python",
   "nbconvert_exporter": "python",
   "pygments_lexer": "ipython3",
   "version": "3.9.13"
  },
  "orig_nbformat": 4
 },
 "nbformat": 4,
 "nbformat_minor": 2
}
