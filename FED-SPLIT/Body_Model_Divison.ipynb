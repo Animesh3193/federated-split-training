{
 "cells": [
  {
   "cell_type": "code",
   "execution_count": 1,
   "metadata": {},
   "outputs": [],
   "source": [
    "\n",
    "import time\n",
    "from pathlib import Path\n",
    "\n",
    "import h5py\n",
    "import numpy as np\n",
    "from tqdm import tqdm\n",
    "\n",
    "\n",
    "import torch\n",
    "import torch.nn as nn\n",
    "import torch.nn.functional as F\n",
    "from torch.utils.data import DataLoader, TensorDataset\n",
    "from torch.utils.data.dataset import Dataset\n",
    "\n",
    "import socket\n",
    "import select\n",
    "from loguru import logger\n",
    "\n",
    "from model import Block_encoder_bottleneck, Block_decoder, dict_args, init_weights, FCT_Body"
   ]
  },
  {
   "cell_type": "code",
   "execution_count": 2,
   "metadata": {},
   "outputs": [],
   "source": [
    "# device = torch.device(\"cuda:0\")\n",
    "device = torch.device(\"cpu\")"
   ]
  },
  {
   "cell_type": "code",
   "execution_count": 3,
   "metadata": {},
   "outputs": [
    {
     "data": {
      "text/plain": [
       "FCT_Body(\n",
       "  (block_5): Block_encoder_bottleneck(\n",
       "    (layernorm): LayerNorm((64,), eps=1e-05, elementwise_affine=True)\n",
       "    (conv1): Conv2d(64, 128, kernel_size=(3, 3), stride=(1, 1), padding=same)\n",
       "    (conv2): Conv2d(128, 128, kernel_size=(3, 3), stride=(1, 1), padding=same)\n",
       "    (trans): Transformer(\n",
       "      (attention_output): Attention(\n",
       "        (conv_q): Conv2d(128, 128, kernel_size=(3, 3), stride=(1, 1), padding=same, groups=128)\n",
       "        (layernorm_q): LayerNorm((128,), eps=1e-05, elementwise_affine=True)\n",
       "        (conv_k): Conv2d(128, 128, kernel_size=(3, 3), stride=(1, 1), padding=(1, 1), groups=128)\n",
       "        (layernorm_k): LayerNorm((128,), eps=1e-05, elementwise_affine=True)\n",
       "        (conv_v): Conv2d(128, 128, kernel_size=(3, 3), stride=(1, 1), padding=(1, 1), groups=128)\n",
       "        (layernorm_v): LayerNorm((128,), eps=1e-05, elementwise_affine=True)\n",
       "        (attention): MultiheadAttention(\n",
       "          (out_proj): NonDynamicallyQuantizableLinear(in_features=128, out_features=128, bias=True)\n",
       "        )\n",
       "      )\n",
       "      (conv1): Conv2d(128, 128, kernel_size=(3, 3), stride=(1, 1), padding=same)\n",
       "      (layernorm): LayerNorm((128,), eps=1e-05, elementwise_affine=True)\n",
       "      (wide_focus): Wide_Focus(\n",
       "        (conv1): Conv2d(128, 128, kernel_size=(3, 3), stride=(1, 1), padding=same)\n",
       "        (conv2): Conv2d(128, 128, kernel_size=(3, 3), stride=(1, 1), padding=same, dilation=(2, 2))\n",
       "        (conv3): Conv2d(128, 128, kernel_size=(3, 3), stride=(1, 1), padding=same, dilation=(3, 3))\n",
       "        (conv4): Conv2d(128, 128, kernel_size=(3, 3), stride=(1, 1), padding=same)\n",
       "      )\n",
       "    )\n",
       "  )\n",
       "  (block_6): Block_decoder(\n",
       "    (layernorm): LayerNorm((128,), eps=1e-05, elementwise_affine=True)\n",
       "    (upsample): Upsample(scale_factor=2.0, mode='nearest')\n",
       "    (conv1): Conv2d(128, 64, kernel_size=(3, 3), stride=(1, 1), padding=same)\n",
       "    (conv2): Conv2d(128, 64, kernel_size=(3, 3), stride=(1, 1), padding=same)\n",
       "    (conv3): Conv2d(64, 64, kernel_size=(3, 3), stride=(1, 1), padding=same)\n",
       "    (trans): Transformer(\n",
       "      (attention_output): Attention(\n",
       "        (conv_q): Conv2d(64, 64, kernel_size=(3, 3), stride=(1, 1), padding=same, groups=64)\n",
       "        (layernorm_q): LayerNorm((64,), eps=1e-05, elementwise_affine=True)\n",
       "        (conv_k): Conv2d(64, 64, kernel_size=(3, 3), stride=(1, 1), padding=(1, 1), groups=64)\n",
       "        (layernorm_k): LayerNorm((64,), eps=1e-05, elementwise_affine=True)\n",
       "        (conv_v): Conv2d(64, 64, kernel_size=(3, 3), stride=(1, 1), padding=(1, 1), groups=64)\n",
       "        (layernorm_v): LayerNorm((64,), eps=1e-05, elementwise_affine=True)\n",
       "        (attention): MultiheadAttention(\n",
       "          (out_proj): NonDynamicallyQuantizableLinear(in_features=64, out_features=64, bias=True)\n",
       "        )\n",
       "      )\n",
       "      (conv1): Conv2d(64, 64, kernel_size=(3, 3), stride=(1, 1), padding=same)\n",
       "      (layernorm): LayerNorm((64,), eps=1e-05, elementwise_affine=True)\n",
       "      (wide_focus): Wide_Focus(\n",
       "        (conv1): Conv2d(64, 64, kernel_size=(3, 3), stride=(1, 1), padding=same)\n",
       "        (conv2): Conv2d(64, 64, kernel_size=(3, 3), stride=(1, 1), padding=same, dilation=(2, 2))\n",
       "        (conv3): Conv2d(64, 64, kernel_size=(3, 3), stride=(1, 1), padding=same, dilation=(3, 3))\n",
       "        (conv4): Conv2d(64, 64, kernel_size=(3, 3), stride=(1, 1), padding=same)\n",
       "      )\n",
       "    )\n",
       "  )\n",
       "  (block_7): Block_decoder(\n",
       "    (layernorm): LayerNorm((64,), eps=1e-05, elementwise_affine=True)\n",
       "    (upsample): Upsample(scale_factor=2.0, mode='nearest')\n",
       "    (conv1): Conv2d(64, 32, kernel_size=(3, 3), stride=(1, 1), padding=same)\n",
       "    (conv2): Conv2d(64, 32, kernel_size=(3, 3), stride=(1, 1), padding=same)\n",
       "    (conv3): Conv2d(32, 32, kernel_size=(3, 3), stride=(1, 1), padding=same)\n",
       "    (trans): Transformer(\n",
       "      (attention_output): Attention(\n",
       "        (conv_q): Conv2d(32, 32, kernel_size=(3, 3), stride=(1, 1), padding=same, groups=32)\n",
       "        (layernorm_q): LayerNorm((32,), eps=1e-05, elementwise_affine=True)\n",
       "        (conv_k): Conv2d(32, 32, kernel_size=(3, 3), stride=(1, 1), padding=(1, 1), groups=32)\n",
       "        (layernorm_k): LayerNorm((32,), eps=1e-05, elementwise_affine=True)\n",
       "        (conv_v): Conv2d(32, 32, kernel_size=(3, 3), stride=(1, 1), padding=(1, 1), groups=32)\n",
       "        (layernorm_v): LayerNorm((32,), eps=1e-05, elementwise_affine=True)\n",
       "        (attention): MultiheadAttention(\n",
       "          (out_proj): NonDynamicallyQuantizableLinear(in_features=32, out_features=32, bias=True)\n",
       "        )\n",
       "      )\n",
       "      (conv1): Conv2d(32, 32, kernel_size=(3, 3), stride=(1, 1), padding=same)\n",
       "      (layernorm): LayerNorm((32,), eps=1e-05, elementwise_affine=True)\n",
       "      (wide_focus): Wide_Focus(\n",
       "        (conv1): Conv2d(32, 32, kernel_size=(3, 3), stride=(1, 1), padding=same)\n",
       "        (conv2): Conv2d(32, 32, kernel_size=(3, 3), stride=(1, 1), padding=same, dilation=(2, 2))\n",
       "        (conv3): Conv2d(32, 32, kernel_size=(3, 3), stride=(1, 1), padding=same, dilation=(3, 3))\n",
       "        (conv4): Conv2d(32, 32, kernel_size=(3, 3), stride=(1, 1), padding=same)\n",
       "      )\n",
       "    )\n",
       "  )\n",
       "  (block_8): Block_decoder(\n",
       "    (layernorm): LayerNorm((32,), eps=1e-05, elementwise_affine=True)\n",
       "    (upsample): Upsample(scale_factor=2.0, mode='nearest')\n",
       "    (conv1): Conv2d(32, 16, kernel_size=(3, 3), stride=(1, 1), padding=same)\n",
       "    (conv2): Conv2d(32, 16, kernel_size=(3, 3), stride=(1, 1), padding=same)\n",
       "    (conv3): Conv2d(16, 16, kernel_size=(3, 3), stride=(1, 1), padding=same)\n",
       "    (trans): Transformer(\n",
       "      (attention_output): Attention(\n",
       "        (conv_q): Conv2d(16, 16, kernel_size=(3, 3), stride=(1, 1), padding=same, groups=16)\n",
       "        (layernorm_q): LayerNorm((16,), eps=1e-05, elementwise_affine=True)\n",
       "        (conv_k): Conv2d(16, 16, kernel_size=(3, 3), stride=(1, 1), padding=(1, 1), groups=16)\n",
       "        (layernorm_k): LayerNorm((16,), eps=1e-05, elementwise_affine=True)\n",
       "        (conv_v): Conv2d(16, 16, kernel_size=(3, 3), stride=(1, 1), padding=(1, 1), groups=16)\n",
       "        (layernorm_v): LayerNorm((16,), eps=1e-05, elementwise_affine=True)\n",
       "        (attention): MultiheadAttention(\n",
       "          (out_proj): NonDynamicallyQuantizableLinear(in_features=16, out_features=16, bias=True)\n",
       "        )\n",
       "      )\n",
       "      (conv1): Conv2d(16, 16, kernel_size=(3, 3), stride=(1, 1), padding=same)\n",
       "      (layernorm): LayerNorm((16,), eps=1e-05, elementwise_affine=True)\n",
       "      (wide_focus): Wide_Focus(\n",
       "        (conv1): Conv2d(16, 16, kernel_size=(3, 3), stride=(1, 1), padding=same)\n",
       "        (conv2): Conv2d(16, 16, kernel_size=(3, 3), stride=(1, 1), padding=same, dilation=(2, 2))\n",
       "        (conv3): Conv2d(16, 16, kernel_size=(3, 3), stride=(1, 1), padding=same, dilation=(3, 3))\n",
       "        (conv4): Conv2d(16, 16, kernel_size=(3, 3), stride=(1, 1), padding=same)\n",
       "      )\n",
       "    )\n",
       "  )\n",
       "  (block_9): Block_decoder(\n",
       "    (layernorm): LayerNorm((16,), eps=1e-05, elementwise_affine=True)\n",
       "    (upsample): Upsample(scale_factor=2.0, mode='nearest')\n",
       "    (conv1): Conv2d(16, 8, kernel_size=(3, 3), stride=(1, 1), padding=same)\n",
       "    (conv2): Conv2d(16, 8, kernel_size=(3, 3), stride=(1, 1), padding=same)\n",
       "    (conv3): Conv2d(8, 8, kernel_size=(3, 3), stride=(1, 1), padding=same)\n",
       "    (trans): Transformer(\n",
       "      (attention_output): Attention(\n",
       "        (conv_q): Conv2d(8, 8, kernel_size=(3, 3), stride=(1, 1), padding=same, groups=8)\n",
       "        (layernorm_q): LayerNorm((8,), eps=1e-05, elementwise_affine=True)\n",
       "        (conv_k): Conv2d(8, 8, kernel_size=(3, 3), stride=(1, 1), padding=(1, 1), groups=8)\n",
       "        (layernorm_k): LayerNorm((8,), eps=1e-05, elementwise_affine=True)\n",
       "        (conv_v): Conv2d(8, 8, kernel_size=(3, 3), stride=(1, 1), padding=(1, 1), groups=8)\n",
       "        (layernorm_v): LayerNorm((8,), eps=1e-05, elementwise_affine=True)\n",
       "        (attention): MultiheadAttention(\n",
       "          (out_proj): NonDynamicallyQuantizableLinear(in_features=8, out_features=8, bias=True)\n",
       "        )\n",
       "      )\n",
       "      (conv1): Conv2d(8, 8, kernel_size=(3, 3), stride=(1, 1), padding=same)\n",
       "      (layernorm): LayerNorm((8,), eps=1e-05, elementwise_affine=True)\n",
       "      (wide_focus): Wide_Focus(\n",
       "        (conv1): Conv2d(8, 8, kernel_size=(3, 3), stride=(1, 1), padding=same)\n",
       "        (conv2): Conv2d(8, 8, kernel_size=(3, 3), stride=(1, 1), padding=same, dilation=(2, 2))\n",
       "        (conv3): Conv2d(8, 8, kernel_size=(3, 3), stride=(1, 1), padding=same, dilation=(3, 3))\n",
       "        (conv4): Conv2d(8, 8, kernel_size=(3, 3), stride=(1, 1), padding=same)\n",
       "      )\n",
       "    )\n",
       "  )\n",
       ")"
      ]
     },
     "execution_count": 3,
     "metadata": {},
     "output_type": "execute_result"
    }
   ],
   "source": [
    "# =======================================================================\n",
    "#                                BODY\n",
    "# =======================================================================\n",
    "\n",
    "model_body = FCT_Body()\n",
    "model_body.apply(init_weights)\n",
    "\n",
    "# optimizer_body = torch.optim.AdamW(model_body.parameters(), lr=dict_args['lr'],weight_decay=dict_args['decay'])\n",
    "\n",
    "# scheduler_body = torch.optim.lr_scheduler.ReduceLROnPlateau(\n",
    "#             optimizer_body,\n",
    "#             mode='min',\n",
    "#             factor=dict_args['lr_factor'],\n",
    "#             verbose=True,\n",
    "#             threshold=1e-6,\n",
    "#             patience=10,\n",
    "#             min_lr=dict_args['min_lr'])\n",
    "\n",
    "model_body.to(device)"
   ]
  },
  {
   "cell_type": "code",
   "execution_count": 4,
   "metadata": {},
   "outputs": [],
   "source": [
    "def send_socket_info(port=6161, message_data=None):\n",
    "    import socket\n",
    "    with socket.socket(socket.AF_INET, socket.SOCK_STREAM) as s:\n",
    "        s.connect(('127.0.0.1', port))\n",
    "        if message_data is  None:\n",
    "            raise ValueError(f\"Message that is being sent to port {port} is empty\")\n",
    "        s.send(message_data.encode('UTF-8'))"
   ]
  },
  {
   "cell_type": "code",
   "execution_count": 5,
   "metadata": {},
   "outputs": [],
   "source": [
    "recv_head = socket.socket(socket.AF_INET, socket.SOCK_STREAM)\n",
    "recv_head.bind(('127.0.0.1', 5151))\n",
    "\n",
    "\n",
    "recv_tail = socket.socket(socket.AF_INET, socket.SOCK_STREAM)\n",
    "recv_tail.bind(('127.0.0.1', 8181))\n"
   ]
  },
  {
   "cell_type": "code",
   "execution_count": 6,
   "metadata": {},
   "outputs": [
    {
     "name": "stderr",
     "output_type": "stream",
     "text": [
      "\u001b[32m2023-04-23 23:52:05.623\u001b[0m | \u001b[1mINFO    \u001b[0m | \u001b[36m__main__\u001b[0m:\u001b[36m<module>\u001b[0m:\u001b[36m24\u001b[0m - \u001b[1mconnected body to get data from head 5151: ('127.0.0.1', 53922)\u001b[0m\n"
     ]
    },
    {
     "name": "stdout",
     "output_type": "stream",
     "text": [
      "Block 5 out -> [4, 128, 7, 7]\n",
      "Block 6 out -> [4, 64, 14, 14]\n",
      "Block 7 out -> [4, 32, 28, 28]\n",
      "Block 8 out -> [4, 16, 56, 56]\n"
     ]
    },
    {
     "name": "stderr",
     "output_type": "stream",
     "text": [
      "\u001b[32m2023-04-23 23:52:40.577\u001b[0m | \u001b[1mINFO    \u001b[0m | \u001b[36m__main__\u001b[0m:\u001b[36m<module>\u001b[0m:\u001b[36m40\u001b[0m - \u001b[1mdisconnected body to get data from head 5151: ('127.0.0.1', 53922)\u001b[0m\n",
      "\u001b[32m2023-04-23 23:52:40.688\u001b[0m | \u001b[1mINFO    \u001b[0m | \u001b[36m__main__\u001b[0m:\u001b[36m<module>\u001b[0m:\u001b[36m48\u001b[0m - \u001b[1msent the data from head to tail 7171 bd_layer_data\u001b[0m\n"
     ]
    },
    {
     "name": "stdout",
     "output_type": "stream",
     "text": [
      "Block 9 out -> [4, 8, 112, 112]\n"
     ]
    },
    {
     "name": "stderr",
     "output_type": "stream",
     "text": [
      "\u001b[32m2023-04-23 23:52:41.363\u001b[0m | \u001b[1mINFO    \u001b[0m | \u001b[36m__main__\u001b[0m:\u001b[36m<module>\u001b[0m:\u001b[36m52\u001b[0m - \u001b[1mconnected body to get data from tail 8181: ('127.0.0.1', 54000)\u001b[0m\n",
      "\u001b[32m2023-04-23 23:52:53.821\u001b[0m | \u001b[1mINFO    \u001b[0m | \u001b[36m__main__\u001b[0m:\u001b[36m<module>\u001b[0m:\u001b[36m69\u001b[0m - \u001b[1mdisconnected body to get data from tail 8181: ('127.0.0.1', 54000)\u001b[0m\n",
      "\u001b[32m2023-04-23 23:52:53.876\u001b[0m | \u001b[1mINFO    \u001b[0m | \u001b[36m__main__\u001b[0m:\u001b[36m<module>\u001b[0m:\u001b[36m79\u001b[0m - \u001b[1msent the backprop data from body to head 9999 skip 1/2/3/4 grad\u001b[0m\n",
      "\u001b[32m2023-04-23 23:53:17.264\u001b[0m | \u001b[1mINFO    \u001b[0m | \u001b[36m__main__\u001b[0m:\u001b[36m<module>\u001b[0m:\u001b[36m24\u001b[0m - \u001b[1mconnected body to get data from head 5151: ('127.0.0.1', 54033)\u001b[0m\n"
     ]
    },
    {
     "name": "stdout",
     "output_type": "stream",
     "text": [
      "Block 5 out -> [4, 128, 7, 7]\n",
      "Block 6 out -> [4, 64, 14, 14]\n",
      "Block 7 out -> [4, 32, 28, 28]\n",
      "Block 8 out -> [4, 16, 56, 56]\n"
     ]
    },
    {
     "name": "stderr",
     "output_type": "stream",
     "text": [
      "\u001b[32m2023-04-23 23:53:26.985\u001b[0m | \u001b[1mINFO    \u001b[0m | \u001b[36m__main__\u001b[0m:\u001b[36m<module>\u001b[0m:\u001b[36m40\u001b[0m - \u001b[1mdisconnected body to get data from head 5151: ('127.0.0.1', 54033)\u001b[0m\n",
      "\u001b[32m2023-04-23 23:53:27.010\u001b[0m | \u001b[1mINFO    \u001b[0m | \u001b[36m__main__\u001b[0m:\u001b[36m<module>\u001b[0m:\u001b[36m48\u001b[0m - \u001b[1msent the data from head to tail 7171 bd_layer_data\u001b[0m\n"
     ]
    },
    {
     "name": "stdout",
     "output_type": "stream",
     "text": [
      "Block 9 out -> [4, 8, 112, 112]\n"
     ]
    },
    {
     "name": "stderr",
     "output_type": "stream",
     "text": [
      "\u001b[32m2023-04-23 23:53:27.345\u001b[0m | \u001b[1mINFO    \u001b[0m | \u001b[36m__main__\u001b[0m:\u001b[36m<module>\u001b[0m:\u001b[36m52\u001b[0m - \u001b[1mconnected body to get data from tail 8181: ('127.0.0.1', 54045)\u001b[0m\n",
      "\u001b[32m2023-04-23 23:53:55.582\u001b[0m | \u001b[1mINFO    \u001b[0m | \u001b[36m__main__\u001b[0m:\u001b[36m<module>\u001b[0m:\u001b[36m69\u001b[0m - \u001b[1mdisconnected body to get data from tail 8181: ('127.0.0.1', 54045)\u001b[0m\n",
      "\u001b[32m2023-04-23 23:53:55.676\u001b[0m | \u001b[1mINFO    \u001b[0m | \u001b[36m__main__\u001b[0m:\u001b[36m<module>\u001b[0m:\u001b[36m79\u001b[0m - \u001b[1msent the backprop data from body to head 9999 skip 1/2/3/4 grad\u001b[0m\n",
      "\u001b[32m2023-04-23 23:54:13.564\u001b[0m | \u001b[1mINFO    \u001b[0m | \u001b[36m__main__\u001b[0m:\u001b[36m<module>\u001b[0m:\u001b[36m24\u001b[0m - \u001b[1mconnected body to get data from head 5151: ('127.0.0.1', 54090)\u001b[0m\n"
     ]
    },
    {
     "name": "stdout",
     "output_type": "stream",
     "text": [
      "Block 5 out -> [4, 128, 7, 7]\n",
      "Block 6 out -> [4, 64, 14, 14]\n",
      "Block 7 out -> [4, 32, 28, 28]\n",
      "Block 8 out -> [4, 16, 56, 56]\n"
     ]
    },
    {
     "name": "stderr",
     "output_type": "stream",
     "text": [
      "\u001b[32m2023-04-23 23:54:21.506\u001b[0m | \u001b[1mINFO    \u001b[0m | \u001b[36m__main__\u001b[0m:\u001b[36m<module>\u001b[0m:\u001b[36m40\u001b[0m - \u001b[1mdisconnected body to get data from head 5151: ('127.0.0.1', 54090)\u001b[0m\n",
      "\u001b[32m2023-04-23 23:54:21.528\u001b[0m | \u001b[1mINFO    \u001b[0m | \u001b[36m__main__\u001b[0m:\u001b[36m<module>\u001b[0m:\u001b[36m48\u001b[0m - \u001b[1msent the data from head to tail 7171 bd_layer_data\u001b[0m\n"
     ]
    },
    {
     "name": "stdout",
     "output_type": "stream",
     "text": [
      "Block 9 out -> [4, 8, 112, 112]\n"
     ]
    },
    {
     "name": "stderr",
     "output_type": "stream",
     "text": [
      "\u001b[32m2023-04-23 23:54:21.786\u001b[0m | \u001b[1mINFO    \u001b[0m | \u001b[36m__main__\u001b[0m:\u001b[36m<module>\u001b[0m:\u001b[36m52\u001b[0m - \u001b[1mconnected body to get data from tail 8181: ('127.0.0.1', 54097)\u001b[0m\n",
      "\u001b[32m2023-04-23 23:54:42.969\u001b[0m | \u001b[1mINFO    \u001b[0m | \u001b[36m__main__\u001b[0m:\u001b[36m<module>\u001b[0m:\u001b[36m69\u001b[0m - \u001b[1mdisconnected body to get data from tail 8181: ('127.0.0.1', 54097)\u001b[0m\n",
      "\u001b[32m2023-04-23 23:54:43.106\u001b[0m | \u001b[1mINFO    \u001b[0m | \u001b[36m__main__\u001b[0m:\u001b[36m<module>\u001b[0m:\u001b[36m79\u001b[0m - \u001b[1msent the backprop data from body to head 9999 skip 1/2/3/4 grad\u001b[0m\n",
      "\u001b[32m2023-04-23 23:54:58.289\u001b[0m | \u001b[1mINFO    \u001b[0m | \u001b[36m__main__\u001b[0m:\u001b[36m<module>\u001b[0m:\u001b[36m24\u001b[0m - \u001b[1mconnected body to get data from head 5151: ('127.0.0.1', 54118)\u001b[0m\n"
     ]
    },
    {
     "name": "stdout",
     "output_type": "stream",
     "text": [
      "Block 5 out -> [4, 128, 7, 7]\n",
      "Block 6 out -> [4, 64, 14, 14]\n",
      "Block 7 out -> [4, 32, 28, 28]\n",
      "Block 8 out -> [4, 16, 56, 56]\n"
     ]
    },
    {
     "name": "stderr",
     "output_type": "stream",
     "text": [
      "\u001b[32m2023-04-23 23:55:06.551\u001b[0m | \u001b[1mINFO    \u001b[0m | \u001b[36m__main__\u001b[0m:\u001b[36m<module>\u001b[0m:\u001b[36m40\u001b[0m - \u001b[1mdisconnected body to get data from head 5151: ('127.0.0.1', 54118)\u001b[0m\n",
      "\u001b[32m2023-04-23 23:55:06.571\u001b[0m | \u001b[1mINFO    \u001b[0m | \u001b[36m__main__\u001b[0m:\u001b[36m<module>\u001b[0m:\u001b[36m48\u001b[0m - \u001b[1msent the data from head to tail 7171 bd_layer_data\u001b[0m\n",
      "\u001b[32m2023-04-23 23:55:06.753\u001b[0m | \u001b[1mINFO    \u001b[0m | \u001b[36m__main__\u001b[0m:\u001b[36m<module>\u001b[0m:\u001b[36m52\u001b[0m - \u001b[1mconnected body to get data from tail 8181: ('127.0.0.1', 54127)\u001b[0m\n"
     ]
    },
    {
     "name": "stdout",
     "output_type": "stream",
     "text": [
      "Block 9 out -> [4, 8, 112, 112]\n"
     ]
    },
    {
     "name": "stderr",
     "output_type": "stream",
     "text": [
      "\u001b[32m2023-04-23 23:55:13.001\u001b[0m | \u001b[1mINFO    \u001b[0m | \u001b[36m__main__\u001b[0m:\u001b[36m<module>\u001b[0m:\u001b[36m69\u001b[0m - \u001b[1mdisconnected body to get data from tail 8181: ('127.0.0.1', 54127)\u001b[0m\n",
      "\u001b[32m2023-04-23 23:55:13.033\u001b[0m | \u001b[1mINFO    \u001b[0m | \u001b[36m__main__\u001b[0m:\u001b[36m<module>\u001b[0m:\u001b[36m79\u001b[0m - \u001b[1msent the backprop data from body to head 9999 skip 1/2/3/4 grad\u001b[0m\n",
      "\u001b[32m2023-04-23 23:55:26.825\u001b[0m | \u001b[1mINFO    \u001b[0m | \u001b[36m__main__\u001b[0m:\u001b[36m<module>\u001b[0m:\u001b[36m24\u001b[0m - \u001b[1mconnected body to get data from head 5151: ('127.0.0.1', 54136)\u001b[0m\n"
     ]
    },
    {
     "name": "stdout",
     "output_type": "stream",
     "text": [
      "Block 5 out -> [4, 128, 7, 7]\n",
      "Block 6 out -> [4, 64, 14, 14]\n",
      "Block 7 out -> [4, 32, 28, 28]\n",
      "Block 8 out -> [4, 16, 56, 56]\n"
     ]
    },
    {
     "name": "stderr",
     "output_type": "stream",
     "text": [
      "\u001b[32m2023-04-23 23:55:34.335\u001b[0m | \u001b[1mINFO    \u001b[0m | \u001b[36m__main__\u001b[0m:\u001b[36m<module>\u001b[0m:\u001b[36m40\u001b[0m - \u001b[1mdisconnected body to get data from head 5151: ('127.0.0.1', 54136)\u001b[0m\n",
      "\u001b[32m2023-04-23 23:55:34.351\u001b[0m | \u001b[1mINFO    \u001b[0m | \u001b[36m__main__\u001b[0m:\u001b[36m<module>\u001b[0m:\u001b[36m48\u001b[0m - \u001b[1msent the data from head to tail 7171 bd_layer_data\u001b[0m\n"
     ]
    },
    {
     "name": "stdout",
     "output_type": "stream",
     "text": [
      "Block 9 out -> [4, 8, 112, 112]\n"
     ]
    },
    {
     "name": "stderr",
     "output_type": "stream",
     "text": [
      "\u001b[32m2023-04-23 23:55:35.048\u001b[0m | \u001b[1mINFO    \u001b[0m | \u001b[36m__main__\u001b[0m:\u001b[36m<module>\u001b[0m:\u001b[36m52\u001b[0m - \u001b[1mconnected body to get data from tail 8181: ('127.0.0.1', 54146)\u001b[0m\n",
      "\u001b[32m2023-04-23 23:55:40.080\u001b[0m | \u001b[1mINFO    \u001b[0m | \u001b[36m__main__\u001b[0m:\u001b[36m<module>\u001b[0m:\u001b[36m69\u001b[0m - \u001b[1mdisconnected body to get data from tail 8181: ('127.0.0.1', 54146)\u001b[0m\n",
      "\u001b[32m2023-04-23 23:55:40.109\u001b[0m | \u001b[1mINFO    \u001b[0m | \u001b[36m__main__\u001b[0m:\u001b[36m<module>\u001b[0m:\u001b[36m79\u001b[0m - \u001b[1msent the backprop data from body to head 9999 skip 1/2/3/4 grad\u001b[0m\n",
      "\u001b[32m2023-04-23 23:55:53.099\u001b[0m | \u001b[1mINFO    \u001b[0m | \u001b[36m__main__\u001b[0m:\u001b[36m<module>\u001b[0m:\u001b[36m24\u001b[0m - \u001b[1mconnected body to get data from head 5151: ('127.0.0.1', 54153)\u001b[0m\n"
     ]
    },
    {
     "name": "stdout",
     "output_type": "stream",
     "text": [
      "Block 5 out -> [4, 128, 7, 7]\n",
      "Block 6 out -> [4, 64, 14, 14]\n",
      "Block 7 out -> [4, 32, 28, 28]\n",
      "Block 8 out -> [4, 16, 56, 56]\n"
     ]
    },
    {
     "name": "stderr",
     "output_type": "stream",
     "text": [
      "\u001b[32m2023-04-23 23:56:00.169\u001b[0m | \u001b[1mINFO    \u001b[0m | \u001b[36m__main__\u001b[0m:\u001b[36m<module>\u001b[0m:\u001b[36m40\u001b[0m - \u001b[1mdisconnected body to get data from head 5151: ('127.0.0.1', 54153)\u001b[0m\n",
      "\u001b[32m2023-04-23 23:56:00.189\u001b[0m | \u001b[1mINFO    \u001b[0m | \u001b[36m__main__\u001b[0m:\u001b[36m<module>\u001b[0m:\u001b[36m48\u001b[0m - \u001b[1msent the data from head to tail 7171 bd_layer_data\u001b[0m\n"
     ]
    },
    {
     "name": "stdout",
     "output_type": "stream",
     "text": [
      "Block 9 out -> [4, 8, 112, 112]\n"
     ]
    },
    {
     "name": "stderr",
     "output_type": "stream",
     "text": [
      "\u001b[32m2023-04-23 23:56:01.408\u001b[0m | \u001b[1mINFO    \u001b[0m | \u001b[36m__main__\u001b[0m:\u001b[36m<module>\u001b[0m:\u001b[36m52\u001b[0m - \u001b[1mconnected body to get data from tail 8181: ('127.0.0.1', 54158)\u001b[0m\n",
      "\u001b[32m2023-04-23 23:56:09.257\u001b[0m | \u001b[1mINFO    \u001b[0m | \u001b[36m__main__\u001b[0m:\u001b[36m<module>\u001b[0m:\u001b[36m69\u001b[0m - \u001b[1mdisconnected body to get data from tail 8181: ('127.0.0.1', 54158)\u001b[0m\n",
      "\u001b[32m2023-04-23 23:56:09.278\u001b[0m | \u001b[1mINFO    \u001b[0m | \u001b[36m__main__\u001b[0m:\u001b[36m<module>\u001b[0m:\u001b[36m79\u001b[0m - \u001b[1msent the backprop data from body to head 9999 skip 1/2/3/4 grad\u001b[0m\n",
      "\u001b[32m2023-04-23 23:56:23.968\u001b[0m | \u001b[1mINFO    \u001b[0m | \u001b[36m__main__\u001b[0m:\u001b[36m<module>\u001b[0m:\u001b[36m24\u001b[0m - \u001b[1mconnected body to get data from head 5151: ('127.0.0.1', 54174)\u001b[0m\n"
     ]
    },
    {
     "name": "stdout",
     "output_type": "stream",
     "text": [
      "Block 5 out -> [4, 128, 7, 7]\n",
      "Block 6 out -> [4, 64, 14, 14]\n",
      "Block 7 out -> [4, 32, 28, 28]\n",
      "Block 8 out -> [4, 16, 56, 56]\n"
     ]
    },
    {
     "name": "stderr",
     "output_type": "stream",
     "text": [
      "\u001b[32m2023-04-23 23:56:31.428\u001b[0m | \u001b[1mINFO    \u001b[0m | \u001b[36m__main__\u001b[0m:\u001b[36m<module>\u001b[0m:\u001b[36m40\u001b[0m - \u001b[1mdisconnected body to get data from head 5151: ('127.0.0.1', 54174)\u001b[0m\n",
      "\u001b[32m2023-04-23 23:56:31.448\u001b[0m | \u001b[1mINFO    \u001b[0m | \u001b[36m__main__\u001b[0m:\u001b[36m<module>\u001b[0m:\u001b[36m48\u001b[0m - \u001b[1msent the data from head to tail 7171 bd_layer_data\u001b[0m\n"
     ]
    },
    {
     "name": "stdout",
     "output_type": "stream",
     "text": [
      "Block 9 out -> [4, 8, 112, 112]\n"
     ]
    },
    {
     "name": "stderr",
     "output_type": "stream",
     "text": [
      "\u001b[32m2023-04-23 23:56:32.133\u001b[0m | \u001b[1mINFO    \u001b[0m | \u001b[36m__main__\u001b[0m:\u001b[36m<module>\u001b[0m:\u001b[36m52\u001b[0m - \u001b[1mconnected body to get data from tail 8181: ('127.0.0.1', 54183)\u001b[0m\n",
      "\u001b[32m2023-04-23 23:56:37.477\u001b[0m | \u001b[1mINFO    \u001b[0m | \u001b[36m__main__\u001b[0m:\u001b[36m<module>\u001b[0m:\u001b[36m69\u001b[0m - \u001b[1mdisconnected body to get data from tail 8181: ('127.0.0.1', 54183)\u001b[0m\n",
      "\u001b[32m2023-04-23 23:56:37.491\u001b[0m | \u001b[1mINFO    \u001b[0m | \u001b[36m__main__\u001b[0m:\u001b[36m<module>\u001b[0m:\u001b[36m79\u001b[0m - \u001b[1msent the backprop data from body to head 9999 skip 1/2/3/4 grad\u001b[0m\n",
      "\u001b[32m2023-04-23 23:56:50.841\u001b[0m | \u001b[1mINFO    \u001b[0m | \u001b[36m__main__\u001b[0m:\u001b[36m<module>\u001b[0m:\u001b[36m24\u001b[0m - \u001b[1mconnected body to get data from head 5151: ('127.0.0.1', 54190)\u001b[0m\n"
     ]
    },
    {
     "name": "stdout",
     "output_type": "stream",
     "text": [
      "Block 5 out -> [4, 128, 7, 7]\n",
      "Block 6 out -> [4, 64, 14, 14]\n",
      "Block 7 out -> [4, 32, 28, 28]\n",
      "Block 8 out -> [4, 16, 56, 56]\n"
     ]
    },
    {
     "name": "stderr",
     "output_type": "stream",
     "text": [
      "\u001b[32m2023-04-23 23:56:57.951\u001b[0m | \u001b[1mINFO    \u001b[0m | \u001b[36m__main__\u001b[0m:\u001b[36m<module>\u001b[0m:\u001b[36m40\u001b[0m - \u001b[1mdisconnected body to get data from head 5151: ('127.0.0.1', 54190)\u001b[0m\n",
      "\u001b[32m2023-04-23 23:56:57.973\u001b[0m | \u001b[1mINFO    \u001b[0m | \u001b[36m__main__\u001b[0m:\u001b[36m<module>\u001b[0m:\u001b[36m48\u001b[0m - \u001b[1msent the data from head to tail 7171 bd_layer_data\u001b[0m\n"
     ]
    },
    {
     "name": "stdout",
     "output_type": "stream",
     "text": [
      "Block 9 out -> [4, 8, 112, 112]\n"
     ]
    },
    {
     "name": "stderr",
     "output_type": "stream",
     "text": [
      "\u001b[32m2023-04-23 23:56:59.024\u001b[0m | \u001b[1mINFO    \u001b[0m | \u001b[36m__main__\u001b[0m:\u001b[36m<module>\u001b[0m:\u001b[36m52\u001b[0m - \u001b[1mconnected body to get data from tail 8181: ('127.0.0.1', 54195)\u001b[0m\n",
      "\u001b[32m2023-04-23 23:57:04.323\u001b[0m | \u001b[1mINFO    \u001b[0m | \u001b[36m__main__\u001b[0m:\u001b[36m<module>\u001b[0m:\u001b[36m69\u001b[0m - \u001b[1mdisconnected body to get data from tail 8181: ('127.0.0.1', 54195)\u001b[0m\n",
      "\u001b[32m2023-04-23 23:57:04.344\u001b[0m | \u001b[1mINFO    \u001b[0m | \u001b[36m__main__\u001b[0m:\u001b[36m<module>\u001b[0m:\u001b[36m79\u001b[0m - \u001b[1msent the backprop data from body to head 9999 skip 1/2/3/4 grad\u001b[0m\n",
      "\u001b[32m2023-04-23 23:57:18.843\u001b[0m | \u001b[1mINFO    \u001b[0m | \u001b[36m__main__\u001b[0m:\u001b[36m<module>\u001b[0m:\u001b[36m24\u001b[0m - \u001b[1mconnected body to get data from head 5151: ('127.0.0.1', 54259)\u001b[0m\n"
     ]
    },
    {
     "name": "stdout",
     "output_type": "stream",
     "text": [
      "Block 5 out -> [4, 128, 7, 7]\n",
      "Block 6 out -> [4, 64, 14, 14]\n",
      "Block 7 out -> [4, 32, 28, 28]\n",
      "Block 8 out -> [4, 16, 56, 56]\n"
     ]
    },
    {
     "name": "stderr",
     "output_type": "stream",
     "text": [
      "\u001b[32m2023-04-23 23:57:27.279\u001b[0m | \u001b[1mINFO    \u001b[0m | \u001b[36m__main__\u001b[0m:\u001b[36m<module>\u001b[0m:\u001b[36m40\u001b[0m - \u001b[1mdisconnected body to get data from head 5151: ('127.0.0.1', 54259)\u001b[0m\n",
      "\u001b[32m2023-04-23 23:57:27.306\u001b[0m | \u001b[1mINFO    \u001b[0m | \u001b[36m__main__\u001b[0m:\u001b[36m<module>\u001b[0m:\u001b[36m48\u001b[0m - \u001b[1msent the data from head to tail 7171 bd_layer_data\u001b[0m\n"
     ]
    },
    {
     "name": "stdout",
     "output_type": "stream",
     "text": [
      "Block 9 out -> [4, 8, 112, 112]\n"
     ]
    },
    {
     "name": "stderr",
     "output_type": "stream",
     "text": [
      "\u001b[32m2023-04-23 23:57:27.588\u001b[0m | \u001b[1mINFO    \u001b[0m | \u001b[36m__main__\u001b[0m:\u001b[36m<module>\u001b[0m:\u001b[36m52\u001b[0m - \u001b[1mconnected body to get data from tail 8181: ('127.0.0.1', 54276)\u001b[0m\n",
      "\u001b[32m2023-04-23 23:57:34.296\u001b[0m | \u001b[1mINFO    \u001b[0m | \u001b[36m__main__\u001b[0m:\u001b[36m<module>\u001b[0m:\u001b[36m69\u001b[0m - \u001b[1mdisconnected body to get data from tail 8181: ('127.0.0.1', 54276)\u001b[0m\n",
      "\u001b[32m2023-04-23 23:57:34.308\u001b[0m | \u001b[1mINFO    \u001b[0m | \u001b[36m__main__\u001b[0m:\u001b[36m<module>\u001b[0m:\u001b[36m79\u001b[0m - \u001b[1msent the backprop data from body to head 9999 skip 1/2/3/4 grad\u001b[0m\n",
      "\u001b[32m2023-04-23 23:57:47.274\u001b[0m | \u001b[1mINFO    \u001b[0m | \u001b[36m__main__\u001b[0m:\u001b[36m<module>\u001b[0m:\u001b[36m24\u001b[0m - \u001b[1mconnected body to get data from head 5151: ('127.0.0.1', 54299)\u001b[0m\n"
     ]
    },
    {
     "name": "stdout",
     "output_type": "stream",
     "text": [
      "Block 5 out -> [4, 128, 7, 7]\n",
      "Block 6 out -> [4, 64, 14, 14]\n",
      "Block 7 out -> [4, 32, 28, 28]\n",
      "Block 8 out -> [4, 16, 56, 56]\n"
     ]
    },
    {
     "name": "stderr",
     "output_type": "stream",
     "text": [
      "\u001b[32m2023-04-23 23:57:54.532\u001b[0m | \u001b[1mINFO    \u001b[0m | \u001b[36m__main__\u001b[0m:\u001b[36m<module>\u001b[0m:\u001b[36m40\u001b[0m - \u001b[1mdisconnected body to get data from head 5151: ('127.0.0.1', 54299)\u001b[0m\n",
      "\u001b[32m2023-04-23 23:57:54.548\u001b[0m | \u001b[1mINFO    \u001b[0m | \u001b[36m__main__\u001b[0m:\u001b[36m<module>\u001b[0m:\u001b[36m48\u001b[0m - \u001b[1msent the data from head to tail 7171 bd_layer_data\u001b[0m\n"
     ]
    },
    {
     "name": "stdout",
     "output_type": "stream",
     "text": [
      "Block 9 out -> [4, 8, 112, 112]\n"
     ]
    },
    {
     "name": "stderr",
     "output_type": "stream",
     "text": [
      "\u001b[32m2023-04-23 23:57:55.588\u001b[0m | \u001b[1mINFO    \u001b[0m | \u001b[36m__main__\u001b[0m:\u001b[36m<module>\u001b[0m:\u001b[36m52\u001b[0m - \u001b[1mconnected body to get data from tail 8181: ('127.0.0.1', 54304)\u001b[0m\n",
      "\u001b[32m2023-04-23 23:58:02.129\u001b[0m | \u001b[1mINFO    \u001b[0m | \u001b[36m__main__\u001b[0m:\u001b[36m<module>\u001b[0m:\u001b[36m69\u001b[0m - \u001b[1mdisconnected body to get data from tail 8181: ('127.0.0.1', 54304)\u001b[0m\n",
      "\u001b[32m2023-04-23 23:58:02.147\u001b[0m | \u001b[1mINFO    \u001b[0m | \u001b[36m__main__\u001b[0m:\u001b[36m<module>\u001b[0m:\u001b[36m79\u001b[0m - \u001b[1msent the backprop data from body to head 9999 skip 1/2/3/4 grad\u001b[0m\n",
      "\u001b[32m2023-04-23 23:58:15.569\u001b[0m | \u001b[1mINFO    \u001b[0m | \u001b[36m__main__\u001b[0m:\u001b[36m<module>\u001b[0m:\u001b[36m24\u001b[0m - \u001b[1mconnected body to get data from head 5151: ('127.0.0.1', 54317)\u001b[0m\n"
     ]
    },
    {
     "name": "stdout",
     "output_type": "stream",
     "text": [
      "Block 5 out -> [4, 128, 7, 7]\n",
      "Block 6 out -> [4, 64, 14, 14]\n",
      "Block 7 out -> [4, 32, 28, 28]\n",
      "Block 8 out -> [4, 16, 56, 56]\n"
     ]
    },
    {
     "name": "stderr",
     "output_type": "stream",
     "text": [
      "\u001b[32m2023-04-23 23:58:24.303\u001b[0m | \u001b[1mINFO    \u001b[0m | \u001b[36m__main__\u001b[0m:\u001b[36m<module>\u001b[0m:\u001b[36m40\u001b[0m - \u001b[1mdisconnected body to get data from head 5151: ('127.0.0.1', 54317)\u001b[0m\n",
      "\u001b[32m2023-04-23 23:58:24.329\u001b[0m | \u001b[1mINFO    \u001b[0m | \u001b[36m__main__\u001b[0m:\u001b[36m<module>\u001b[0m:\u001b[36m48\u001b[0m - \u001b[1msent the data from head to tail 7171 bd_layer_data\u001b[0m\n"
     ]
    },
    {
     "name": "stdout",
     "output_type": "stream",
     "text": [
      "Block 9 out -> [4, 8, 112, 112]\n"
     ]
    },
    {
     "name": "stderr",
     "output_type": "stream",
     "text": [
      "\u001b[32m2023-04-23 23:58:24.621\u001b[0m | \u001b[1mINFO    \u001b[0m | \u001b[36m__main__\u001b[0m:\u001b[36m<module>\u001b[0m:\u001b[36m52\u001b[0m - \u001b[1mconnected body to get data from tail 8181: ('127.0.0.1', 54325)\u001b[0m\n",
      "\u001b[32m2023-04-23 23:58:34.128\u001b[0m | \u001b[1mINFO    \u001b[0m | \u001b[36m__main__\u001b[0m:\u001b[36m<module>\u001b[0m:\u001b[36m69\u001b[0m - \u001b[1mdisconnected body to get data from tail 8181: ('127.0.0.1', 54325)\u001b[0m\n",
      "\u001b[32m2023-04-23 23:58:34.152\u001b[0m | \u001b[1mINFO    \u001b[0m | \u001b[36m__main__\u001b[0m:\u001b[36m<module>\u001b[0m:\u001b[36m79\u001b[0m - \u001b[1msent the backprop data from body to head 9999 skip 1/2/3/4 grad\u001b[0m\n",
      "\u001b[32m2023-04-23 23:58:50.088\u001b[0m | \u001b[1mINFO    \u001b[0m | \u001b[36m__main__\u001b[0m:\u001b[36m<module>\u001b[0m:\u001b[36m24\u001b[0m - \u001b[1mconnected body to get data from head 5151: ('127.0.0.1', 54367)\u001b[0m\n"
     ]
    },
    {
     "name": "stdout",
     "output_type": "stream",
     "text": [
      "Block 5 out -> [4, 128, 7, 7]\n",
      "Block 6 out -> [4, 64, 14, 14]\n",
      "Block 7 out -> [4, 32, 28, 28]\n",
      "Block 8 out -> [4, 16, 56, 56]\n"
     ]
    },
    {
     "name": "stderr",
     "output_type": "stream",
     "text": [
      "\u001b[32m2023-04-23 23:58:58.070\u001b[0m | \u001b[1mINFO    \u001b[0m | \u001b[36m__main__\u001b[0m:\u001b[36m<module>\u001b[0m:\u001b[36m40\u001b[0m - \u001b[1mdisconnected body to get data from head 5151: ('127.0.0.1', 54367)\u001b[0m\n",
      "\u001b[32m2023-04-23 23:58:58.088\u001b[0m | \u001b[1mINFO    \u001b[0m | \u001b[36m__main__\u001b[0m:\u001b[36m<module>\u001b[0m:\u001b[36m48\u001b[0m - \u001b[1msent the data from head to tail 7171 bd_layer_data\u001b[0m\n"
     ]
    },
    {
     "name": "stdout",
     "output_type": "stream",
     "text": [
      "Block 9 out -> [4, 8, 112, 112]\n"
     ]
    },
    {
     "name": "stderr",
     "output_type": "stream",
     "text": [
      "\u001b[32m2023-04-23 23:58:58.344\u001b[0m | \u001b[1mINFO    \u001b[0m | \u001b[36m__main__\u001b[0m:\u001b[36m<module>\u001b[0m:\u001b[36m52\u001b[0m - \u001b[1mconnected body to get data from tail 8181: ('127.0.0.1', 54374)\u001b[0m\n",
      "\u001b[32m2023-04-23 23:59:04.769\u001b[0m | \u001b[1mINFO    \u001b[0m | \u001b[36m__main__\u001b[0m:\u001b[36m<module>\u001b[0m:\u001b[36m69\u001b[0m - \u001b[1mdisconnected body to get data from tail 8181: ('127.0.0.1', 54374)\u001b[0m\n",
      "\u001b[32m2023-04-23 23:59:04.783\u001b[0m | \u001b[1mINFO    \u001b[0m | \u001b[36m__main__\u001b[0m:\u001b[36m<module>\u001b[0m:\u001b[36m79\u001b[0m - \u001b[1msent the backprop data from body to head 9999 skip 1/2/3/4 grad\u001b[0m\n",
      "\u001b[32m2023-04-23 23:59:26.204\u001b[0m | \u001b[1mINFO    \u001b[0m | \u001b[36m__main__\u001b[0m:\u001b[36m<module>\u001b[0m:\u001b[36m24\u001b[0m - \u001b[1mconnected body to get data from head 5151: ('127.0.0.1', 54406)\u001b[0m\n"
     ]
    },
    {
     "name": "stdout",
     "output_type": "stream",
     "text": [
      "Block 5 out -> [4, 128, 7, 7]\n",
      "Block 6 out -> [4, 64, 14, 14]\n",
      "Block 7 out -> [4, 32, 28, 28]\n",
      "Block 8 out -> [4, 16, 56, 56]\n"
     ]
    },
    {
     "name": "stderr",
     "output_type": "stream",
     "text": [
      "\u001b[32m2023-04-23 23:59:38.897\u001b[0m | \u001b[1mINFO    \u001b[0m | \u001b[36m__main__\u001b[0m:\u001b[36m<module>\u001b[0m:\u001b[36m40\u001b[0m - \u001b[1mdisconnected body to get data from head 5151: ('127.0.0.1', 54406)\u001b[0m\n",
      "\u001b[32m2023-04-23 23:59:38.938\u001b[0m | \u001b[1mINFO    \u001b[0m | \u001b[36m__main__\u001b[0m:\u001b[36m<module>\u001b[0m:\u001b[36m48\u001b[0m - \u001b[1msent the data from head to tail 7171 bd_layer_data\u001b[0m\n"
     ]
    },
    {
     "name": "stdout",
     "output_type": "stream",
     "text": [
      "Block 9 out -> [4, 8, 112, 112]\n"
     ]
    },
    {
     "name": "stderr",
     "output_type": "stream",
     "text": [
      "\u001b[32m2023-04-23 23:59:39.243\u001b[0m | \u001b[1mINFO    \u001b[0m | \u001b[36m__main__\u001b[0m:\u001b[36m<module>\u001b[0m:\u001b[36m52\u001b[0m - \u001b[1mconnected body to get data from tail 8181: ('127.0.0.1', 54414)\u001b[0m\n",
      "\u001b[32m2023-04-23 23:59:57.065\u001b[0m | \u001b[1mINFO    \u001b[0m | \u001b[36m__main__\u001b[0m:\u001b[36m<module>\u001b[0m:\u001b[36m69\u001b[0m - \u001b[1mdisconnected body to get data from tail 8181: ('127.0.0.1', 54414)\u001b[0m\n",
      "\u001b[32m2023-04-23 23:59:57.183\u001b[0m | \u001b[1mINFO    \u001b[0m | \u001b[36m__main__\u001b[0m:\u001b[36m<module>\u001b[0m:\u001b[36m79\u001b[0m - \u001b[1msent the backprop data from body to head 9999 skip 1/2/3/4 grad\u001b[0m\n",
      "\u001b[32m2023-04-24 00:00:23.052\u001b[0m | \u001b[1mINFO    \u001b[0m | \u001b[36m__main__\u001b[0m:\u001b[36m<module>\u001b[0m:\u001b[36m24\u001b[0m - \u001b[1mconnected body to get data from head 5151: ('127.0.0.1', 54466)\u001b[0m\n"
     ]
    },
    {
     "name": "stdout",
     "output_type": "stream",
     "text": [
      "Block 5 out -> [4, 128, 7, 7]\n",
      "Block 6 out -> [4, 64, 14, 14]\n",
      "Block 7 out -> [4, 32, 28, 28]\n",
      "Block 8 out -> [4, 16, 56, 56]\n"
     ]
    },
    {
     "name": "stderr",
     "output_type": "stream",
     "text": [
      "\u001b[32m2023-04-24 00:00:36.386\u001b[0m | \u001b[1mINFO    \u001b[0m | \u001b[36m__main__\u001b[0m:\u001b[36m<module>\u001b[0m:\u001b[36m40\u001b[0m - \u001b[1mdisconnected body to get data from head 5151: ('127.0.0.1', 54466)\u001b[0m\n",
      "\u001b[32m2023-04-24 00:00:36.414\u001b[0m | \u001b[1mINFO    \u001b[0m | \u001b[36m__main__\u001b[0m:\u001b[36m<module>\u001b[0m:\u001b[36m48\u001b[0m - \u001b[1msent the data from head to tail 7171 bd_layer_data\u001b[0m\n"
     ]
    },
    {
     "name": "stdout",
     "output_type": "stream",
     "text": [
      "Block 9 out -> [4, 8, 112, 112]\n"
     ]
    },
    {
     "name": "stderr",
     "output_type": "stream",
     "text": [
      "\u001b[32m2023-04-24 00:00:36.849\u001b[0m | \u001b[1mINFO    \u001b[0m | \u001b[36m__main__\u001b[0m:\u001b[36m<module>\u001b[0m:\u001b[36m52\u001b[0m - \u001b[1mconnected body to get data from tail 8181: ('127.0.0.1', 54488)\u001b[0m\n",
      "\u001b[32m2023-04-24 00:00:57.450\u001b[0m | \u001b[1mINFO    \u001b[0m | \u001b[36m__main__\u001b[0m:\u001b[36m<module>\u001b[0m:\u001b[36m69\u001b[0m - \u001b[1mdisconnected body to get data from tail 8181: ('127.0.0.1', 54488)\u001b[0m\n",
      "\u001b[32m2023-04-24 00:00:57.555\u001b[0m | \u001b[1mINFO    \u001b[0m | \u001b[36m__main__\u001b[0m:\u001b[36m<module>\u001b[0m:\u001b[36m79\u001b[0m - \u001b[1msent the backprop data from body to head 9999 skip 1/2/3/4 grad\u001b[0m\n",
      "\u001b[32m2023-04-24 00:01:17.511\u001b[0m | \u001b[1mINFO    \u001b[0m | \u001b[36m__main__\u001b[0m:\u001b[36m<module>\u001b[0m:\u001b[36m24\u001b[0m - \u001b[1mconnected body to get data from head 5151: ('127.0.0.1', 54524)\u001b[0m\n"
     ]
    },
    {
     "name": "stdout",
     "output_type": "stream",
     "text": [
      "Block 5 out -> [4, 128, 7, 7]\n",
      "Block 6 out -> [4, 64, 14, 14]\n",
      "Block 7 out -> [4, 32, 28, 28]\n",
      "Block 8 out -> [4, 16, 56, 56]\n"
     ]
    },
    {
     "name": "stderr",
     "output_type": "stream",
     "text": [
      "\u001b[32m2023-04-24 00:01:29.902\u001b[0m | \u001b[1mINFO    \u001b[0m | \u001b[36m__main__\u001b[0m:\u001b[36m<module>\u001b[0m:\u001b[36m40\u001b[0m - \u001b[1mdisconnected body to get data from head 5151: ('127.0.0.1', 54524)\u001b[0m\n",
      "\u001b[32m2023-04-24 00:01:29.925\u001b[0m | \u001b[1mINFO    \u001b[0m | \u001b[36m__main__\u001b[0m:\u001b[36m<module>\u001b[0m:\u001b[36m48\u001b[0m - \u001b[1msent the data from head to tail 7171 bd_layer_data\u001b[0m\n"
     ]
    },
    {
     "name": "stdout",
     "output_type": "stream",
     "text": [
      "Block 9 out -> [4, 8, 112, 112]\n"
     ]
    },
    {
     "name": "stderr",
     "output_type": "stream",
     "text": [
      "\u001b[32m2023-04-24 00:01:30.183\u001b[0m | \u001b[1mINFO    \u001b[0m | \u001b[36m__main__\u001b[0m:\u001b[36m<module>\u001b[0m:\u001b[36m52\u001b[0m - \u001b[1mconnected body to get data from tail 8181: ('127.0.0.1', 54547)\u001b[0m\n",
      "\u001b[32m2023-04-24 00:01:41.552\u001b[0m | \u001b[1mINFO    \u001b[0m | \u001b[36m__main__\u001b[0m:\u001b[36m<module>\u001b[0m:\u001b[36m69\u001b[0m - \u001b[1mdisconnected body to get data from tail 8181: ('127.0.0.1', 54547)\u001b[0m\n",
      "\u001b[32m2023-04-24 00:01:41.660\u001b[0m | \u001b[1mINFO    \u001b[0m | \u001b[36m__main__\u001b[0m:\u001b[36m<module>\u001b[0m:\u001b[36m79\u001b[0m - \u001b[1msent the backprop data from body to head 9999 skip 1/2/3/4 grad\u001b[0m\n",
      "\u001b[32m2023-04-24 00:01:56.300\u001b[0m | \u001b[1mINFO    \u001b[0m | \u001b[36m__main__\u001b[0m:\u001b[36m<module>\u001b[0m:\u001b[36m24\u001b[0m - \u001b[1mconnected body to get data from head 5151: ('127.0.0.1', 54563)\u001b[0m\n"
     ]
    },
    {
     "name": "stdout",
     "output_type": "stream",
     "text": [
      "Block 5 out -> [4, 128, 7, 7]\n",
      "Block 6 out -> [4, 64, 14, 14]\n",
      "Block 7 out -> [4, 32, 28, 28]\n",
      "Block 8 out -> [4, 16, 56, 56]\n"
     ]
    },
    {
     "name": "stderr",
     "output_type": "stream",
     "text": [
      "\u001b[32m2023-04-24 00:02:03.622\u001b[0m | \u001b[1mINFO    \u001b[0m | \u001b[36m__main__\u001b[0m:\u001b[36m<module>\u001b[0m:\u001b[36m40\u001b[0m - \u001b[1mdisconnected body to get data from head 5151: ('127.0.0.1', 54563)\u001b[0m\n",
      "\u001b[32m2023-04-24 00:02:03.699\u001b[0m | \u001b[1mINFO    \u001b[0m | \u001b[36m__main__\u001b[0m:\u001b[36m<module>\u001b[0m:\u001b[36m48\u001b[0m - \u001b[1msent the data from head to tail 7171 bd_layer_data\u001b[0m\n"
     ]
    },
    {
     "name": "stdout",
     "output_type": "stream",
     "text": [
      "Block 9 out -> [4, 8, 112, 112]\n"
     ]
    },
    {
     "name": "stderr",
     "output_type": "stream",
     "text": [
      "\u001b[32m2023-04-24 00:02:04.502\u001b[0m | \u001b[1mINFO    \u001b[0m | \u001b[36m__main__\u001b[0m:\u001b[36m<module>\u001b[0m:\u001b[36m52\u001b[0m - \u001b[1mconnected body to get data from tail 8181: ('127.0.0.1', 54566)\u001b[0m\n",
      "\u001b[32m2023-04-24 00:02:09.578\u001b[0m | \u001b[1mINFO    \u001b[0m | \u001b[36m__main__\u001b[0m:\u001b[36m<module>\u001b[0m:\u001b[36m69\u001b[0m - \u001b[1mdisconnected body to get data from tail 8181: ('127.0.0.1', 54566)\u001b[0m\n",
      "\u001b[32m2023-04-24 00:02:09.593\u001b[0m | \u001b[1mINFO    \u001b[0m | \u001b[36m__main__\u001b[0m:\u001b[36m<module>\u001b[0m:\u001b[36m79\u001b[0m - \u001b[1msent the backprop data from body to head 9999 skip 1/2/3/4 grad\u001b[0m\n",
      "\u001b[32m2023-04-24 00:02:22.307\u001b[0m | \u001b[1mINFO    \u001b[0m | \u001b[36m__main__\u001b[0m:\u001b[36m<module>\u001b[0m:\u001b[36m24\u001b[0m - \u001b[1mconnected body to get data from head 5151: ('127.0.0.1', 54582)\u001b[0m\n"
     ]
    },
    {
     "name": "stdout",
     "output_type": "stream",
     "text": [
      "Block 5 out -> [4, 128, 7, 7]\n",
      "Block 6 out -> [4, 64, 14, 14]\n",
      "Block 7 out -> [4, 32, 28, 28]\n",
      "Block 8 out -> [4, 16, 56, 56]\n"
     ]
    },
    {
     "name": "stderr",
     "output_type": "stream",
     "text": [
      "\u001b[32m2023-04-24 00:02:30.228\u001b[0m | \u001b[1mINFO    \u001b[0m | \u001b[36m__main__\u001b[0m:\u001b[36m<module>\u001b[0m:\u001b[36m40\u001b[0m - \u001b[1mdisconnected body to get data from head 5151: ('127.0.0.1', 54582)\u001b[0m\n",
      "\u001b[32m2023-04-24 00:02:30.243\u001b[0m | \u001b[1mINFO    \u001b[0m | \u001b[36m__main__\u001b[0m:\u001b[36m<module>\u001b[0m:\u001b[36m48\u001b[0m - \u001b[1msent the data from head to tail 7171 bd_layer_data\u001b[0m\n"
     ]
    },
    {
     "name": "stdout",
     "output_type": "stream",
     "text": [
      "Block 9 out -> [4, 8, 112, 112]\n"
     ]
    },
    {
     "name": "stderr",
     "output_type": "stream",
     "text": [
      "\u001b[32m2023-04-24 00:02:30.703\u001b[0m | \u001b[1mINFO    \u001b[0m | \u001b[36m__main__\u001b[0m:\u001b[36m<module>\u001b[0m:\u001b[36m52\u001b[0m - \u001b[1mconnected body to get data from tail 8181: ('127.0.0.1', 54586)\u001b[0m\n",
      "\u001b[32m2023-04-24 00:02:48.493\u001b[0m | \u001b[1mINFO    \u001b[0m | \u001b[36m__main__\u001b[0m:\u001b[36m<module>\u001b[0m:\u001b[36m69\u001b[0m - \u001b[1mdisconnected body to get data from tail 8181: ('127.0.0.1', 54586)\u001b[0m\n",
      "\u001b[32m2023-04-24 00:02:48.573\u001b[0m | \u001b[1mINFO    \u001b[0m | \u001b[36m__main__\u001b[0m:\u001b[36m<module>\u001b[0m:\u001b[36m79\u001b[0m - \u001b[1msent the backprop data from body to head 9999 skip 1/2/3/4 grad\u001b[0m\n",
      "\u001b[32m2023-04-24 00:03:12.479\u001b[0m | \u001b[1mINFO    \u001b[0m | \u001b[36m__main__\u001b[0m:\u001b[36m<module>\u001b[0m:\u001b[36m24\u001b[0m - \u001b[1mconnected body to get data from head 5151: ('127.0.0.1', 54611)\u001b[0m\n"
     ]
    },
    {
     "name": "stdout",
     "output_type": "stream",
     "text": [
      "Block 5 out -> [4, 128, 7, 7]\n",
      "Block 6 out -> [4, 64, 14, 14]\n",
      "Block 7 out -> [4, 32, 28, 28]\n",
      "Block 8 out -> [4, 16, 56, 56]\n"
     ]
    },
    {
     "name": "stderr",
     "output_type": "stream",
     "text": [
      "\u001b[32m2023-04-24 00:03:24.703\u001b[0m | \u001b[1mINFO    \u001b[0m | \u001b[36m__main__\u001b[0m:\u001b[36m<module>\u001b[0m:\u001b[36m40\u001b[0m - \u001b[1mdisconnected body to get data from head 5151: ('127.0.0.1', 54611)\u001b[0m\n",
      "\u001b[32m2023-04-24 00:03:24.728\u001b[0m | \u001b[1mINFO    \u001b[0m | \u001b[36m__main__\u001b[0m:\u001b[36m<module>\u001b[0m:\u001b[36m48\u001b[0m - \u001b[1msent the data from head to tail 7171 bd_layer_data\u001b[0m\n"
     ]
    },
    {
     "name": "stdout",
     "output_type": "stream",
     "text": [
      "Block 9 out -> [4, 8, 112, 112]\n"
     ]
    },
    {
     "name": "stderr",
     "output_type": "stream",
     "text": [
      "\u001b[32m2023-04-24 00:03:25.021\u001b[0m | \u001b[1mINFO    \u001b[0m | \u001b[36m__main__\u001b[0m:\u001b[36m<module>\u001b[0m:\u001b[36m52\u001b[0m - \u001b[1mconnected body to get data from tail 8181: ('127.0.0.1', 54621)\u001b[0m\n",
      "\u001b[32m2023-04-24 00:03:41.640\u001b[0m | \u001b[1mINFO    \u001b[0m | \u001b[36m__main__\u001b[0m:\u001b[36m<module>\u001b[0m:\u001b[36m69\u001b[0m - \u001b[1mdisconnected body to get data from tail 8181: ('127.0.0.1', 54621)\u001b[0m\n",
      "\u001b[32m2023-04-24 00:03:41.693\u001b[0m | \u001b[1mINFO    \u001b[0m | \u001b[36m__main__\u001b[0m:\u001b[36m<module>\u001b[0m:\u001b[36m79\u001b[0m - \u001b[1msent the backprop data from body to head 9999 skip 1/2/3/4 grad\u001b[0m\n",
      "\u001b[32m2023-04-24 00:04:10.394\u001b[0m | \u001b[1mINFO    \u001b[0m | \u001b[36m__main__\u001b[0m:\u001b[36m<module>\u001b[0m:\u001b[36m24\u001b[0m - \u001b[1mconnected body to get data from head 5151: ('127.0.0.1', 54659)\u001b[0m\n"
     ]
    },
    {
     "name": "stdout",
     "output_type": "stream",
     "text": [
      "Block 5 out -> [4, 128, 7, 7]\n",
      "Block 6 out -> [4, 64, 14, 14]\n",
      "Block 7 out -> [4, 32, 28, 28]\n",
      "Block 8 out -> [4, 16, 56, 56]\n"
     ]
    },
    {
     "name": "stderr",
     "output_type": "stream",
     "text": [
      "\u001b[32m2023-04-24 00:04:25.392\u001b[0m | \u001b[1mINFO    \u001b[0m | \u001b[36m__main__\u001b[0m:\u001b[36m<module>\u001b[0m:\u001b[36m40\u001b[0m - \u001b[1mdisconnected body to get data from head 5151: ('127.0.0.1', 54659)\u001b[0m\n",
      "\u001b[32m2023-04-24 00:04:25.416\u001b[0m | \u001b[1mINFO    \u001b[0m | \u001b[36m__main__\u001b[0m:\u001b[36m<module>\u001b[0m:\u001b[36m48\u001b[0m - \u001b[1msent the data from head to tail 7171 bd_layer_data\u001b[0m\n"
     ]
    },
    {
     "name": "stdout",
     "output_type": "stream",
     "text": [
      "Block 9 out -> [4, 8, 112, 112]\n"
     ]
    },
    {
     "name": "stderr",
     "output_type": "stream",
     "text": [
      "\u001b[32m2023-04-24 00:04:25.776\u001b[0m | \u001b[1mINFO    \u001b[0m | \u001b[36m__main__\u001b[0m:\u001b[36m<module>\u001b[0m:\u001b[36m52\u001b[0m - \u001b[1mconnected body to get data from tail 8181: ('127.0.0.1', 54674)\u001b[0m\n",
      "\u001b[32m2023-04-24 00:04:52.172\u001b[0m | \u001b[1mINFO    \u001b[0m | \u001b[36m__main__\u001b[0m:\u001b[36m<module>\u001b[0m:\u001b[36m69\u001b[0m - \u001b[1mdisconnected body to get data from tail 8181: ('127.0.0.1', 54674)\u001b[0m\n",
      "\u001b[32m2023-04-24 00:04:52.432\u001b[0m | \u001b[1mINFO    \u001b[0m | \u001b[36m__main__\u001b[0m:\u001b[36m<module>\u001b[0m:\u001b[36m79\u001b[0m - \u001b[1msent the backprop data from body to head 9999 skip 1/2/3/4 grad\u001b[0m\n",
      "\u001b[32m2023-04-24 00:05:20.098\u001b[0m | \u001b[1mINFO    \u001b[0m | \u001b[36m__main__\u001b[0m:\u001b[36m<module>\u001b[0m:\u001b[36m24\u001b[0m - \u001b[1mconnected body to get data from head 5151: ('127.0.0.1', 54704)\u001b[0m\n"
     ]
    },
    {
     "name": "stdout",
     "output_type": "stream",
     "text": [
      "Block 5 out -> [4, 128, 7, 7]\n",
      "Block 6 out -> [4, 64, 14, 14]\n",
      "Block 7 out -> [4, 32, 28, 28]\n",
      "Block 8 out -> [4, 16, 56, 56]\n"
     ]
    },
    {
     "name": "stderr",
     "output_type": "stream",
     "text": [
      "\u001b[32m2023-04-24 00:05:34.112\u001b[0m | \u001b[1mINFO    \u001b[0m | \u001b[36m__main__\u001b[0m:\u001b[36m<module>\u001b[0m:\u001b[36m40\u001b[0m - \u001b[1mdisconnected body to get data from head 5151: ('127.0.0.1', 54704)\u001b[0m\n",
      "\u001b[32m2023-04-24 00:05:34.216\u001b[0m | \u001b[1mINFO    \u001b[0m | \u001b[36m__main__\u001b[0m:\u001b[36m<module>\u001b[0m:\u001b[36m48\u001b[0m - \u001b[1msent the data from head to tail 7171 bd_layer_data\u001b[0m\n"
     ]
    },
    {
     "name": "stdout",
     "output_type": "stream",
     "text": [
      "Block 9 out -> [4, 8, 112, 112]\n"
     ]
    },
    {
     "name": "stderr",
     "output_type": "stream",
     "text": [
      "\u001b[32m2023-04-24 00:05:34.588\u001b[0m | \u001b[1mINFO    \u001b[0m | \u001b[36m__main__\u001b[0m:\u001b[36m<module>\u001b[0m:\u001b[36m52\u001b[0m - \u001b[1mconnected body to get data from tail 8181: ('127.0.0.1', 54712)\u001b[0m\n",
      "\u001b[32m2023-04-24 00:05:56.931\u001b[0m | \u001b[1mINFO    \u001b[0m | \u001b[36m__main__\u001b[0m:\u001b[36m<module>\u001b[0m:\u001b[36m69\u001b[0m - \u001b[1mdisconnected body to get data from tail 8181: ('127.0.0.1', 54712)\u001b[0m\n",
      "\u001b[32m2023-04-24 00:05:57.122\u001b[0m | \u001b[1mINFO    \u001b[0m | \u001b[36m__main__\u001b[0m:\u001b[36m<module>\u001b[0m:\u001b[36m79\u001b[0m - \u001b[1msent the backprop data from body to head 9999 skip 1/2/3/4 grad\u001b[0m\n",
      "\u001b[32m2023-04-24 00:06:23.585\u001b[0m | \u001b[1mINFO    \u001b[0m | \u001b[36m__main__\u001b[0m:\u001b[36m<module>\u001b[0m:\u001b[36m24\u001b[0m - \u001b[1mconnected body to get data from head 5151: ('127.0.0.1', 54740)\u001b[0m\n"
     ]
    },
    {
     "name": "stdout",
     "output_type": "stream",
     "text": [
      "Block 5 out -> [4, 128, 7, 7]\n",
      "Block 6 out -> [4, 64, 14, 14]\n",
      "Block 7 out -> [4, 32, 28, 28]\n",
      "Block 8 out -> [4, 16, 56, 56]\n"
     ]
    },
    {
     "name": "stderr",
     "output_type": "stream",
     "text": [
      "\u001b[32m2023-04-24 00:06:36.910\u001b[0m | \u001b[1mINFO    \u001b[0m | \u001b[36m__main__\u001b[0m:\u001b[36m<module>\u001b[0m:\u001b[36m40\u001b[0m - \u001b[1mdisconnected body to get data from head 5151: ('127.0.0.1', 54740)\u001b[0m\n",
      "\u001b[32m2023-04-24 00:06:36.940\u001b[0m | \u001b[1mINFO    \u001b[0m | \u001b[36m__main__\u001b[0m:\u001b[36m<module>\u001b[0m:\u001b[36m48\u001b[0m - \u001b[1msent the data from head to tail 7171 bd_layer_data\u001b[0m\n"
     ]
    },
    {
     "name": "stdout",
     "output_type": "stream",
     "text": [
      "Block 9 out -> [4, 8, 112, 112]\n"
     ]
    },
    {
     "name": "stderr",
     "output_type": "stream",
     "text": [
      "\u001b[32m2023-04-24 00:06:37.639\u001b[0m | \u001b[1mINFO    \u001b[0m | \u001b[36m__main__\u001b[0m:\u001b[36m<module>\u001b[0m:\u001b[36m52\u001b[0m - \u001b[1mconnected body to get data from tail 8181: ('127.0.0.1', 54750)\u001b[0m\n",
      "\u001b[32m2023-04-24 00:06:57.977\u001b[0m | \u001b[1mINFO    \u001b[0m | \u001b[36m__main__\u001b[0m:\u001b[36m<module>\u001b[0m:\u001b[36m69\u001b[0m - \u001b[1mdisconnected body to get data from tail 8181: ('127.0.0.1', 54750)\u001b[0m\n",
      "\u001b[32m2023-04-24 00:06:58.192\u001b[0m | \u001b[1mINFO    \u001b[0m | \u001b[36m__main__\u001b[0m:\u001b[36m<module>\u001b[0m:\u001b[36m79\u001b[0m - \u001b[1msent the backprop data from body to head 9999 skip 1/2/3/4 grad\u001b[0m\n",
      "\u001b[32m2023-04-24 00:07:22.822\u001b[0m | \u001b[1mINFO    \u001b[0m | \u001b[36m__main__\u001b[0m:\u001b[36m<module>\u001b[0m:\u001b[36m24\u001b[0m - \u001b[1mconnected body to get data from head 5151: ('127.0.0.1', 54788)\u001b[0m\n"
     ]
    },
    {
     "name": "stdout",
     "output_type": "stream",
     "text": [
      "Block 5 out -> [4, 128, 7, 7]\n",
      "Block 6 out -> [4, 64, 14, 14]\n",
      "Block 7 out -> [4, 32, 28, 28]\n",
      "Block 8 out -> [4, 16, 56, 56]\n"
     ]
    },
    {
     "name": "stderr",
     "output_type": "stream",
     "text": [
      "\u001b[32m2023-04-24 00:07:36.632\u001b[0m | \u001b[1mINFO    \u001b[0m | \u001b[36m__main__\u001b[0m:\u001b[36m<module>\u001b[0m:\u001b[36m40\u001b[0m - \u001b[1mdisconnected body to get data from head 5151: ('127.0.0.1', 54788)\u001b[0m\n",
      "\u001b[32m2023-04-24 00:07:36.663\u001b[0m | \u001b[1mINFO    \u001b[0m | \u001b[36m__main__\u001b[0m:\u001b[36m<module>\u001b[0m:\u001b[36m48\u001b[0m - \u001b[1msent the data from head to tail 7171 bd_layer_data\u001b[0m\n"
     ]
    },
    {
     "name": "stdout",
     "output_type": "stream",
     "text": [
      "Block 9 out -> [4, 8, 112, 112]\n"
     ]
    },
    {
     "name": "stderr",
     "output_type": "stream",
     "text": [
      "\u001b[32m2023-04-24 00:07:37.029\u001b[0m | \u001b[1mINFO    \u001b[0m | \u001b[36m__main__\u001b[0m:\u001b[36m<module>\u001b[0m:\u001b[36m52\u001b[0m - \u001b[1mconnected body to get data from tail 8181: ('127.0.0.1', 54800)\u001b[0m\n",
      "\u001b[32m2023-04-24 00:07:55.591\u001b[0m | \u001b[1mINFO    \u001b[0m | \u001b[36m__main__\u001b[0m:\u001b[36m<module>\u001b[0m:\u001b[36m69\u001b[0m - \u001b[1mdisconnected body to get data from tail 8181: ('127.0.0.1', 54800)\u001b[0m\n",
      "\u001b[32m2023-04-24 00:07:55.806\u001b[0m | \u001b[1mINFO    \u001b[0m | \u001b[36m__main__\u001b[0m:\u001b[36m<module>\u001b[0m:\u001b[36m79\u001b[0m - \u001b[1msent the backprop data from body to head 9999 skip 1/2/3/4 grad\u001b[0m\n",
      "\u001b[32m2023-04-24 00:08:22.338\u001b[0m | \u001b[1mINFO    \u001b[0m | \u001b[36m__main__\u001b[0m:\u001b[36m<module>\u001b[0m:\u001b[36m24\u001b[0m - \u001b[1mconnected body to get data from head 5151: ('127.0.0.1', 54818)\u001b[0m\n"
     ]
    },
    {
     "name": "stdout",
     "output_type": "stream",
     "text": [
      "Block 5 out -> [4, 128, 7, 7]\n",
      "Block 6 out -> [4, 64, 14, 14]\n",
      "Block 7 out -> [4, 32, 28, 28]\n",
      "Block 8 out -> [4, 16, 56, 56]\n"
     ]
    },
    {
     "name": "stderr",
     "output_type": "stream",
     "text": [
      "\u001b[32m2023-04-24 00:08:35.411\u001b[0m | \u001b[1mINFO    \u001b[0m | \u001b[36m__main__\u001b[0m:\u001b[36m<module>\u001b[0m:\u001b[36m40\u001b[0m - \u001b[1mdisconnected body to get data from head 5151: ('127.0.0.1', 54818)\u001b[0m\n",
      "\u001b[32m2023-04-24 00:08:35.434\u001b[0m | \u001b[1mINFO    \u001b[0m | \u001b[36m__main__\u001b[0m:\u001b[36m<module>\u001b[0m:\u001b[36m48\u001b[0m - \u001b[1msent the data from head to tail 7171 bd_layer_data\u001b[0m\n"
     ]
    },
    {
     "name": "stdout",
     "output_type": "stream",
     "text": [
      "Block 9 out -> [4, 8, 112, 112]\n"
     ]
    },
    {
     "name": "stderr",
     "output_type": "stream",
     "text": [
      "\u001b[32m2023-04-24 00:08:35.843\u001b[0m | \u001b[1mINFO    \u001b[0m | \u001b[36m__main__\u001b[0m:\u001b[36m<module>\u001b[0m:\u001b[36m52\u001b[0m - \u001b[1mconnected body to get data from tail 8181: ('127.0.0.1', 54833)\u001b[0m\n",
      "\u001b[32m2023-04-24 00:08:49.613\u001b[0m | \u001b[1mINFO    \u001b[0m | \u001b[36m__main__\u001b[0m:\u001b[36m<module>\u001b[0m:\u001b[36m69\u001b[0m - \u001b[1mdisconnected body to get data from tail 8181: ('127.0.0.1', 54833)\u001b[0m\n",
      "\u001b[32m2023-04-24 00:08:49.732\u001b[0m | \u001b[1mINFO    \u001b[0m | \u001b[36m__main__\u001b[0m:\u001b[36m<module>\u001b[0m:\u001b[36m79\u001b[0m - \u001b[1msent the backprop data from body to head 9999 skip 1/2/3/4 grad\u001b[0m\n",
      "\u001b[32m2023-04-24 00:09:07.883\u001b[0m | \u001b[1mINFO    \u001b[0m | \u001b[36m__main__\u001b[0m:\u001b[36m<module>\u001b[0m:\u001b[36m24\u001b[0m - \u001b[1mconnected body to get data from head 5151: ('127.0.0.1', 54854)\u001b[0m\n"
     ]
    },
    {
     "name": "stdout",
     "output_type": "stream",
     "text": [
      "Block 5 out -> [4, 128, 7, 7]\n",
      "Block 6 out -> [4, 64, 14, 14]\n",
      "Block 7 out -> [4, 32, 28, 28]\n",
      "Block 8 out -> [4, 16, 56, 56]\n"
     ]
    },
    {
     "name": "stderr",
     "output_type": "stream",
     "text": [
      "\u001b[32m2023-04-24 00:09:16.122\u001b[0m | \u001b[1mINFO    \u001b[0m | \u001b[36m__main__\u001b[0m:\u001b[36m<module>\u001b[0m:\u001b[36m40\u001b[0m - \u001b[1mdisconnected body to get data from head 5151: ('127.0.0.1', 54854)\u001b[0m\n",
      "\u001b[32m2023-04-24 00:09:16.147\u001b[0m | \u001b[1mINFO    \u001b[0m | \u001b[36m__main__\u001b[0m:\u001b[36m<module>\u001b[0m:\u001b[36m48\u001b[0m - \u001b[1msent the data from head to tail 7171 bd_layer_data\u001b[0m\n"
     ]
    },
    {
     "name": "stdout",
     "output_type": "stream",
     "text": [
      "Block 9 out -> [4, 8, 112, 112]\n"
     ]
    },
    {
     "name": "stderr",
     "output_type": "stream",
     "text": [
      "\u001b[32m2023-04-24 00:09:16.331\u001b[0m | \u001b[1mINFO    \u001b[0m | \u001b[36m__main__\u001b[0m:\u001b[36m<module>\u001b[0m:\u001b[36m52\u001b[0m - \u001b[1mconnected body to get data from tail 8181: ('127.0.0.1', 54864)\u001b[0m\n",
      "\u001b[32m2023-04-24 00:09:24.919\u001b[0m | \u001b[1mINFO    \u001b[0m | \u001b[36m__main__\u001b[0m:\u001b[36m<module>\u001b[0m:\u001b[36m69\u001b[0m - \u001b[1mdisconnected body to get data from tail 8181: ('127.0.0.1', 54864)\u001b[0m\n",
      "\u001b[32m2023-04-24 00:09:24.951\u001b[0m | \u001b[1mINFO    \u001b[0m | \u001b[36m__main__\u001b[0m:\u001b[36m<module>\u001b[0m:\u001b[36m79\u001b[0m - \u001b[1msent the backprop data from body to head 9999 skip 1/2/3/4 grad\u001b[0m\n",
      "\u001b[32m2023-04-24 00:09:39.319\u001b[0m | \u001b[1mINFO    \u001b[0m | \u001b[36m__main__\u001b[0m:\u001b[36m<module>\u001b[0m:\u001b[36m24\u001b[0m - \u001b[1mconnected body to get data from head 5151: ('127.0.0.1', 54876)\u001b[0m\n"
     ]
    },
    {
     "name": "stdout",
     "output_type": "stream",
     "text": [
      "Block 5 out -> [4, 128, 7, 7]\n",
      "Block 6 out -> [4, 64, 14, 14]\n",
      "Block 7 out -> [4, 32, 28, 28]\n",
      "Block 8 out -> [4, 16, 56, 56]\n"
     ]
    },
    {
     "name": "stderr",
     "output_type": "stream",
     "text": [
      "\u001b[32m2023-04-24 00:09:46.725\u001b[0m | \u001b[1mINFO    \u001b[0m | \u001b[36m__main__\u001b[0m:\u001b[36m<module>\u001b[0m:\u001b[36m40\u001b[0m - \u001b[1mdisconnected body to get data from head 5151: ('127.0.0.1', 54876)\u001b[0m\n",
      "\u001b[32m2023-04-24 00:09:46.746\u001b[0m | \u001b[1mINFO    \u001b[0m | \u001b[36m__main__\u001b[0m:\u001b[36m<module>\u001b[0m:\u001b[36m48\u001b[0m - \u001b[1msent the data from head to tail 7171 bd_layer_data\u001b[0m\n"
     ]
    },
    {
     "name": "stdout",
     "output_type": "stream",
     "text": [
      "Block 9 out -> [4, 8, 112, 112]\n"
     ]
    },
    {
     "name": "stderr",
     "output_type": "stream",
     "text": [
      "\u001b[32m2023-04-24 00:09:47.521\u001b[0m | \u001b[1mINFO    \u001b[0m | \u001b[36m__main__\u001b[0m:\u001b[36m<module>\u001b[0m:\u001b[36m52\u001b[0m - \u001b[1mconnected body to get data from tail 8181: ('127.0.0.1', 54879)\u001b[0m\n",
      "\u001b[32m2023-04-24 00:09:53.585\u001b[0m | \u001b[1mINFO    \u001b[0m | \u001b[36m__main__\u001b[0m:\u001b[36m<module>\u001b[0m:\u001b[36m69\u001b[0m - \u001b[1mdisconnected body to get data from tail 8181: ('127.0.0.1', 54879)\u001b[0m\n",
      "\u001b[32m2023-04-24 00:09:53.617\u001b[0m | \u001b[1mINFO    \u001b[0m | \u001b[36m__main__\u001b[0m:\u001b[36m<module>\u001b[0m:\u001b[36m79\u001b[0m - \u001b[1msent the backprop data from body to head 9999 skip 1/2/3/4 grad\u001b[0m\n",
      "\u001b[32m2023-04-24 00:10:06.984\u001b[0m | \u001b[1mINFO    \u001b[0m | \u001b[36m__main__\u001b[0m:\u001b[36m<module>\u001b[0m:\u001b[36m24\u001b[0m - \u001b[1mconnected body to get data from head 5151: ('127.0.0.1', 54895)\u001b[0m\n"
     ]
    },
    {
     "name": "stdout",
     "output_type": "stream",
     "text": [
      "Block 5 out -> [4, 128, 7, 7]\n",
      "Block 6 out -> [4, 64, 14, 14]\n",
      "Block 7 out -> [4, 32, 28, 28]\n",
      "Block 8 out -> [4, 16, 56, 56]\n"
     ]
    },
    {
     "name": "stderr",
     "output_type": "stream",
     "text": [
      "\u001b[32m2023-04-24 00:10:13.868\u001b[0m | \u001b[1mINFO    \u001b[0m | \u001b[36m__main__\u001b[0m:\u001b[36m<module>\u001b[0m:\u001b[36m40\u001b[0m - \u001b[1mdisconnected body to get data from head 5151: ('127.0.0.1', 54895)\u001b[0m\n",
      "\u001b[32m2023-04-24 00:10:13.888\u001b[0m | \u001b[1mINFO    \u001b[0m | \u001b[36m__main__\u001b[0m:\u001b[36m<module>\u001b[0m:\u001b[36m48\u001b[0m - \u001b[1msent the data from head to tail 7171 bd_layer_data\u001b[0m\n"
     ]
    },
    {
     "name": "stdout",
     "output_type": "stream",
     "text": [
      "Block 9 out -> [4, 8, 112, 112]\n"
     ]
    },
    {
     "name": "stderr",
     "output_type": "stream",
     "text": [
      "\u001b[32m2023-04-24 00:10:15.154\u001b[0m | \u001b[1mINFO    \u001b[0m | \u001b[36m__main__\u001b[0m:\u001b[36m<module>\u001b[0m:\u001b[36m52\u001b[0m - \u001b[1mconnected body to get data from tail 8181: ('127.0.0.1', 54899)\u001b[0m\n",
      "\u001b[32m2023-04-24 00:10:24.689\u001b[0m | \u001b[1mINFO    \u001b[0m | \u001b[36m__main__\u001b[0m:\u001b[36m<module>\u001b[0m:\u001b[36m69\u001b[0m - \u001b[1mdisconnected body to get data from tail 8181: ('127.0.0.1', 54899)\u001b[0m\n",
      "\u001b[32m2023-04-24 00:10:24.775\u001b[0m | \u001b[1mINFO    \u001b[0m | \u001b[36m__main__\u001b[0m:\u001b[36m<module>\u001b[0m:\u001b[36m79\u001b[0m - \u001b[1msent the backprop data from body to head 9999 skip 1/2/3/4 grad\u001b[0m\n",
      "\u001b[32m2023-04-24 00:10:39.143\u001b[0m | \u001b[1mINFO    \u001b[0m | \u001b[36m__main__\u001b[0m:\u001b[36m<module>\u001b[0m:\u001b[36m24\u001b[0m - \u001b[1mconnected body to get data from head 5151: ('127.0.0.1', 54976)\u001b[0m\n"
     ]
    },
    {
     "name": "stdout",
     "output_type": "stream",
     "text": [
      "Block 5 out -> [4, 128, 7, 7]\n",
      "Block 6 out -> [4, 64, 14, 14]\n",
      "Block 7 out -> [4, 32, 28, 28]\n",
      "Block 8 out -> [4, 16, 56, 56]\n"
     ]
    },
    {
     "name": "stderr",
     "output_type": "stream",
     "text": [
      "\u001b[32m2023-04-24 00:10:47.415\u001b[0m | \u001b[1mINFO    \u001b[0m | \u001b[36m__main__\u001b[0m:\u001b[36m<module>\u001b[0m:\u001b[36m40\u001b[0m - \u001b[1mdisconnected body to get data from head 5151: ('127.0.0.1', 54976)\u001b[0m\n",
      "\u001b[32m2023-04-24 00:10:47.431\u001b[0m | \u001b[1mINFO    \u001b[0m | \u001b[36m__main__\u001b[0m:\u001b[36m<module>\u001b[0m:\u001b[36m48\u001b[0m - \u001b[1msent the data from head to tail 7171 bd_layer_data\u001b[0m\n",
      "\u001b[32m2023-04-24 00:10:47.611\u001b[0m | \u001b[1mINFO    \u001b[0m | \u001b[36m__main__\u001b[0m:\u001b[36m<module>\u001b[0m:\u001b[36m52\u001b[0m - \u001b[1mconnected body to get data from tail 8181: ('127.0.0.1', 54990)\u001b[0m\n"
     ]
    },
    {
     "name": "stdout",
     "output_type": "stream",
     "text": [
      "Block 9 out -> [4, 8, 112, 112]\n"
     ]
    },
    {
     "name": "stderr",
     "output_type": "stream",
     "text": [
      "\u001b[32m2023-04-24 00:11:01.912\u001b[0m | \u001b[1mINFO    \u001b[0m | \u001b[36m__main__\u001b[0m:\u001b[36m<module>\u001b[0m:\u001b[36m69\u001b[0m - \u001b[1mdisconnected body to get data from tail 8181: ('127.0.0.1', 54990)\u001b[0m\n",
      "\u001b[32m2023-04-24 00:11:02.055\u001b[0m | \u001b[1mINFO    \u001b[0m | \u001b[36m__main__\u001b[0m:\u001b[36m<module>\u001b[0m:\u001b[36m79\u001b[0m - \u001b[1msent the backprop data from body to head 9999 skip 1/2/3/4 grad\u001b[0m\n",
      "\u001b[32m2023-04-24 00:11:17.136\u001b[0m | \u001b[1mINFO    \u001b[0m | \u001b[36m__main__\u001b[0m:\u001b[36m<module>\u001b[0m:\u001b[36m24\u001b[0m - \u001b[1mconnected body to get data from head 5151: ('127.0.0.1', 55016)\u001b[0m\n"
     ]
    },
    {
     "name": "stdout",
     "output_type": "stream",
     "text": [
      "Block 5 out -> [4, 128, 7, 7]\n",
      "Block 6 out -> [4, 64, 14, 14]\n",
      "Block 7 out -> [4, 32, 28, 28]\n",
      "Block 8 out -> [4, 16, 56, 56]\n"
     ]
    },
    {
     "name": "stderr",
     "output_type": "stream",
     "text": [
      "\u001b[32m2023-04-24 00:11:24.644\u001b[0m | \u001b[1mINFO    \u001b[0m | \u001b[36m__main__\u001b[0m:\u001b[36m<module>\u001b[0m:\u001b[36m40\u001b[0m - \u001b[1mdisconnected body to get data from head 5151: ('127.0.0.1', 55016)\u001b[0m\n",
      "\u001b[32m2023-04-24 00:11:24.660\u001b[0m | \u001b[1mINFO    \u001b[0m | \u001b[36m__main__\u001b[0m:\u001b[36m<module>\u001b[0m:\u001b[36m48\u001b[0m - \u001b[1msent the data from head to tail 7171 bd_layer_data\u001b[0m\n"
     ]
    },
    {
     "name": "stdout",
     "output_type": "stream",
     "text": [
      "Block 9 out -> [4, 8, 112, 112]\n"
     ]
    },
    {
     "name": "stderr",
     "output_type": "stream",
     "text": [
      "\u001b[32m2023-04-24 00:11:25.320\u001b[0m | \u001b[1mINFO    \u001b[0m | \u001b[36m__main__\u001b[0m:\u001b[36m<module>\u001b[0m:\u001b[36m52\u001b[0m - \u001b[1mconnected body to get data from tail 8181: ('127.0.0.1', 55026)\u001b[0m\n",
      "\u001b[32m2023-04-24 00:11:35.633\u001b[0m | \u001b[1mINFO    \u001b[0m | \u001b[36m__main__\u001b[0m:\u001b[36m<module>\u001b[0m:\u001b[36m69\u001b[0m - \u001b[1mdisconnected body to get data from tail 8181: ('127.0.0.1', 55026)\u001b[0m\n",
      "\u001b[32m2023-04-24 00:11:35.740\u001b[0m | \u001b[1mINFO    \u001b[0m | \u001b[36m__main__\u001b[0m:\u001b[36m<module>\u001b[0m:\u001b[36m79\u001b[0m - \u001b[1msent the backprop data from body to head 9999 skip 1/2/3/4 grad\u001b[0m\n",
      "\u001b[32m2023-04-24 00:11:47.119\u001b[0m | \u001b[1mINFO    \u001b[0m | \u001b[36m__main__\u001b[0m:\u001b[36m<module>\u001b[0m:\u001b[36m24\u001b[0m - \u001b[1mconnected body to get data from head 5151: ('127.0.0.1', 55035)\u001b[0m\n"
     ]
    },
    {
     "name": "stdout",
     "output_type": "stream",
     "text": [
      "Block 5 out -> [4, 128, 7, 7]\n",
      "Block 6 out -> [4, 64, 14, 14]\n",
      "Block 7 out -> [4, 32, 28, 28]\n",
      "Block 8 out -> [4, 16, 56, 56]\n"
     ]
    },
    {
     "name": "stderr",
     "output_type": "stream",
     "text": [
      "\u001b[32m2023-04-24 00:11:53.597\u001b[0m | \u001b[1mINFO    \u001b[0m | \u001b[36m__main__\u001b[0m:\u001b[36m<module>\u001b[0m:\u001b[36m40\u001b[0m - \u001b[1mdisconnected body to get data from head 5151: ('127.0.0.1', 55035)\u001b[0m\n",
      "\u001b[32m2023-04-24 00:11:53.616\u001b[0m | \u001b[1mINFO    \u001b[0m | \u001b[36m__main__\u001b[0m:\u001b[36m<module>\u001b[0m:\u001b[36m48\u001b[0m - \u001b[1msent the data from head to tail 7171 bd_layer_data\u001b[0m\n"
     ]
    },
    {
     "name": "stdout",
     "output_type": "stream",
     "text": [
      "Block 9 out -> [4, 8, 112, 112]\n"
     ]
    },
    {
     "name": "stderr",
     "output_type": "stream",
     "text": [
      "\u001b[32m2023-04-24 00:11:55.313\u001b[0m | \u001b[1mINFO    \u001b[0m | \u001b[36m__main__\u001b[0m:\u001b[36m<module>\u001b[0m:\u001b[36m52\u001b[0m - \u001b[1mconnected body to get data from tail 8181: ('127.0.0.1', 55041)\u001b[0m\n",
      "\u001b[32m2023-04-24 00:11:59.775\u001b[0m | \u001b[1mINFO    \u001b[0m | \u001b[36m__main__\u001b[0m:\u001b[36m<module>\u001b[0m:\u001b[36m69\u001b[0m - \u001b[1mdisconnected body to get data from tail 8181: ('127.0.0.1', 55041)\u001b[0m\n",
      "\u001b[32m2023-04-24 00:11:59.799\u001b[0m | \u001b[1mINFO    \u001b[0m | \u001b[36m__main__\u001b[0m:\u001b[36m<module>\u001b[0m:\u001b[36m79\u001b[0m - \u001b[1msent the backprop data from body to head 9999 skip 1/2/3/4 grad\u001b[0m\n",
      "\u001b[32m2023-04-24 00:12:10.576\u001b[0m | \u001b[1mINFO    \u001b[0m | \u001b[36m__main__\u001b[0m:\u001b[36m<module>\u001b[0m:\u001b[36m24\u001b[0m - \u001b[1mconnected body to get data from head 5151: ('127.0.0.1', 55047)\u001b[0m\n"
     ]
    },
    {
     "name": "stdout",
     "output_type": "stream",
     "text": [
      "Block 5 out -> [4, 128, 7, 7]\n",
      "Block 6 out -> [4, 64, 14, 14]\n",
      "Block 7 out -> [4, 32, 28, 28]\n",
      "Block 8 out -> [4, 16, 56, 56]\n"
     ]
    },
    {
     "name": "stderr",
     "output_type": "stream",
     "text": [
      "\u001b[32m2023-04-24 00:12:16.504\u001b[0m | \u001b[1mINFO    \u001b[0m | \u001b[36m__main__\u001b[0m:\u001b[36m<module>\u001b[0m:\u001b[36m40\u001b[0m - \u001b[1mdisconnected body to get data from head 5151: ('127.0.0.1', 55047)\u001b[0m\n",
      "\u001b[32m2023-04-24 00:12:16.524\u001b[0m | \u001b[1mINFO    \u001b[0m | \u001b[36m__main__\u001b[0m:\u001b[36m<module>\u001b[0m:\u001b[36m48\u001b[0m - \u001b[1msent the data from head to tail 7171 bd_layer_data\u001b[0m\n"
     ]
    },
    {
     "name": "stdout",
     "output_type": "stream",
     "text": [
      "Block 9 out -> [4, 8, 112, 112]\n"
     ]
    },
    {
     "name": "stderr",
     "output_type": "stream",
     "text": [
      "\u001b[32m2023-04-24 00:12:18.726\u001b[0m | \u001b[1mINFO    \u001b[0m | \u001b[36m__main__\u001b[0m:\u001b[36m<module>\u001b[0m:\u001b[36m52\u001b[0m - \u001b[1mconnected body to get data from tail 8181: ('127.0.0.1', 55055)\u001b[0m\n",
      "\u001b[32m2023-04-24 00:12:23.008\u001b[0m | \u001b[1mINFO    \u001b[0m | \u001b[36m__main__\u001b[0m:\u001b[36m<module>\u001b[0m:\u001b[36m69\u001b[0m - \u001b[1mdisconnected body to get data from tail 8181: ('127.0.0.1', 55055)\u001b[0m\n",
      "\u001b[32m2023-04-24 00:12:23.027\u001b[0m | \u001b[1mINFO    \u001b[0m | \u001b[36m__main__\u001b[0m:\u001b[36m<module>\u001b[0m:\u001b[36m79\u001b[0m - \u001b[1msent the backprop data from body to head 9999 skip 1/2/3/4 grad\u001b[0m\n",
      "\u001b[32m2023-04-24 00:12:34.279\u001b[0m | \u001b[1mINFO    \u001b[0m | \u001b[36m__main__\u001b[0m:\u001b[36m<module>\u001b[0m:\u001b[36m24\u001b[0m - \u001b[1mconnected body to get data from head 5151: ('127.0.0.1', 55063)\u001b[0m\n"
     ]
    },
    {
     "name": "stdout",
     "output_type": "stream",
     "text": [
      "Block 5 out -> [4, 128, 7, 7]\n",
      "Block 6 out -> [4, 64, 14, 14]\n",
      "Block 7 out -> [4, 32, 28, 28]\n",
      "Block 8 out -> [4, 16, 56, 56]\n"
     ]
    },
    {
     "name": "stderr",
     "output_type": "stream",
     "text": [
      "\u001b[32m2023-04-24 00:12:40.220\u001b[0m | \u001b[1mINFO    \u001b[0m | \u001b[36m__main__\u001b[0m:\u001b[36m<module>\u001b[0m:\u001b[36m40\u001b[0m - \u001b[1mdisconnected body to get data from head 5151: ('127.0.0.1', 55063)\u001b[0m\n",
      "\u001b[32m2023-04-24 00:12:40.247\u001b[0m | \u001b[1mINFO    \u001b[0m | \u001b[36m__main__\u001b[0m:\u001b[36m<module>\u001b[0m:\u001b[36m48\u001b[0m - \u001b[1msent the data from head to tail 7171 bd_layer_data\u001b[0m\n"
     ]
    },
    {
     "name": "stdout",
     "output_type": "stream",
     "text": [
      "Block 9 out -> [4, 8, 112, 112]\n"
     ]
    },
    {
     "name": "stderr",
     "output_type": "stream",
     "text": [
      "\u001b[32m2023-04-24 00:12:42.467\u001b[0m | \u001b[1mINFO    \u001b[0m | \u001b[36m__main__\u001b[0m:\u001b[36m<module>\u001b[0m:\u001b[36m52\u001b[0m - \u001b[1mconnected body to get data from tail 8181: ('127.0.0.1', 55077)\u001b[0m\n",
      "\u001b[32m2023-04-24 00:12:46.648\u001b[0m | \u001b[1mINFO    \u001b[0m | \u001b[36m__main__\u001b[0m:\u001b[36m<module>\u001b[0m:\u001b[36m69\u001b[0m - \u001b[1mdisconnected body to get data from tail 8181: ('127.0.0.1', 55077)\u001b[0m\n",
      "\u001b[32m2023-04-24 00:12:46.666\u001b[0m | \u001b[1mINFO    \u001b[0m | \u001b[36m__main__\u001b[0m:\u001b[36m<module>\u001b[0m:\u001b[36m79\u001b[0m - \u001b[1msent the backprop data from body to head 9999 skip 1/2/3/4 grad\u001b[0m\n",
      "\u001b[32m2023-04-24 00:12:57.567\u001b[0m | \u001b[1mINFO    \u001b[0m | \u001b[36m__main__\u001b[0m:\u001b[36m<module>\u001b[0m:\u001b[36m24\u001b[0m - \u001b[1mconnected body to get data from head 5151: ('127.0.0.1', 55080)\u001b[0m\n"
     ]
    },
    {
     "name": "stdout",
     "output_type": "stream",
     "text": [
      "Block 5 out -> [4, 128, 7, 7]\n",
      "Block 6 out -> [4, 64, 14, 14]\n",
      "Block 7 out -> [4, 32, 28, 28]\n",
      "Block 8 out -> [4, 16, 56, 56]\n"
     ]
    },
    {
     "name": "stderr",
     "output_type": "stream",
     "text": [
      "\u001b[32m2023-04-24 00:13:03.738\u001b[0m | \u001b[1mINFO    \u001b[0m | \u001b[36m__main__\u001b[0m:\u001b[36m<module>\u001b[0m:\u001b[36m40\u001b[0m - \u001b[1mdisconnected body to get data from head 5151: ('127.0.0.1', 55080)\u001b[0m\n",
      "\u001b[32m2023-04-24 00:13:03.756\u001b[0m | \u001b[1mINFO    \u001b[0m | \u001b[36m__main__\u001b[0m:\u001b[36m<module>\u001b[0m:\u001b[36m48\u001b[0m - \u001b[1msent the data from head to tail 7171 bd_layer_data\u001b[0m\n"
     ]
    },
    {
     "name": "stdout",
     "output_type": "stream",
     "text": [
      "Block 9 out -> [4, 8, 112, 112]\n"
     ]
    },
    {
     "name": "stderr",
     "output_type": "stream",
     "text": [
      "\u001b[32m2023-04-24 00:13:05.732\u001b[0m | \u001b[1mINFO    \u001b[0m | \u001b[36m__main__\u001b[0m:\u001b[36m<module>\u001b[0m:\u001b[36m52\u001b[0m - \u001b[1mconnected body to get data from tail 8181: ('127.0.0.1', 55087)\u001b[0m\n",
      "\u001b[32m2023-04-24 00:13:10.417\u001b[0m | \u001b[1mINFO    \u001b[0m | \u001b[36m__main__\u001b[0m:\u001b[36m<module>\u001b[0m:\u001b[36m69\u001b[0m - \u001b[1mdisconnected body to get data from tail 8181: ('127.0.0.1', 55087)\u001b[0m\n",
      "\u001b[32m2023-04-24 00:13:10.437\u001b[0m | \u001b[1mINFO    \u001b[0m | \u001b[36m__main__\u001b[0m:\u001b[36m<module>\u001b[0m:\u001b[36m79\u001b[0m - \u001b[1msent the backprop data from body to head 9999 skip 1/2/3/4 grad\u001b[0m\n",
      "\u001b[32m2023-04-24 00:13:21.695\u001b[0m | \u001b[1mINFO    \u001b[0m | \u001b[36m__main__\u001b[0m:\u001b[36m<module>\u001b[0m:\u001b[36m24\u001b[0m - \u001b[1mconnected body to get data from head 5151: ('127.0.0.1', 55095)\u001b[0m\n"
     ]
    },
    {
     "name": "stdout",
     "output_type": "stream",
     "text": [
      "Block 5 out -> [4, 128, 7, 7]\n",
      "Block 6 out -> [4, 64, 14, 14]\n",
      "Block 7 out -> [4, 32, 28, 28]\n",
      "Block 8 out -> [4, 16, 56, 56]\n"
     ]
    },
    {
     "name": "stderr",
     "output_type": "stream",
     "text": [
      "\u001b[32m2023-04-24 00:13:28.068\u001b[0m | \u001b[1mINFO    \u001b[0m | \u001b[36m__main__\u001b[0m:\u001b[36m<module>\u001b[0m:\u001b[36m40\u001b[0m - \u001b[1mdisconnected body to get data from head 5151: ('127.0.0.1', 55095)\u001b[0m\n",
      "\u001b[32m2023-04-24 00:13:28.085\u001b[0m | \u001b[1mINFO    \u001b[0m | \u001b[36m__main__\u001b[0m:\u001b[36m<module>\u001b[0m:\u001b[36m48\u001b[0m - \u001b[1msent the data from head to tail 7171 bd_layer_data\u001b[0m\n"
     ]
    },
    {
     "name": "stdout",
     "output_type": "stream",
     "text": [
      "Block 9 out -> [4, 8, 112, 112]\n"
     ]
    },
    {
     "name": "stderr",
     "output_type": "stream",
     "text": [
      "\u001b[32m2023-04-24 00:13:29.843\u001b[0m | \u001b[1mINFO    \u001b[0m | \u001b[36m__main__\u001b[0m:\u001b[36m<module>\u001b[0m:\u001b[36m52\u001b[0m - \u001b[1mconnected body to get data from tail 8181: ('127.0.0.1', 55105)\u001b[0m\n",
      "\u001b[32m2023-04-24 00:13:35.523\u001b[0m | \u001b[1mINFO    \u001b[0m | \u001b[36m__main__\u001b[0m:\u001b[36m<module>\u001b[0m:\u001b[36m69\u001b[0m - \u001b[1mdisconnected body to get data from tail 8181: ('127.0.0.1', 55105)\u001b[0m\n",
      "\u001b[32m2023-04-24 00:13:35.543\u001b[0m | \u001b[1mINFO    \u001b[0m | \u001b[36m__main__\u001b[0m:\u001b[36m<module>\u001b[0m:\u001b[36m79\u001b[0m - \u001b[1msent the backprop data from body to head 9999 skip 1/2/3/4 grad\u001b[0m\n",
      "\u001b[32m2023-04-24 00:13:46.972\u001b[0m | \u001b[1mINFO    \u001b[0m | \u001b[36m__main__\u001b[0m:\u001b[36m<module>\u001b[0m:\u001b[36m24\u001b[0m - \u001b[1mconnected body to get data from head 5151: ('127.0.0.1', 55130)\u001b[0m\n"
     ]
    },
    {
     "name": "stdout",
     "output_type": "stream",
     "text": [
      "Block 5 out -> [4, 128, 7, 7]\n",
      "Block 6 out -> [4, 64, 14, 14]\n",
      "Block 7 out -> [4, 32, 28, 28]\n",
      "Block 8 out -> [4, 16, 56, 56]\n"
     ]
    },
    {
     "name": "stderr",
     "output_type": "stream",
     "text": [
      "\u001b[32m2023-04-24 00:13:52.774\u001b[0m | \u001b[1mINFO    \u001b[0m | \u001b[36m__main__\u001b[0m:\u001b[36m<module>\u001b[0m:\u001b[36m40\u001b[0m - \u001b[1mdisconnected body to get data from head 5151: ('127.0.0.1', 55130)\u001b[0m\n",
      "\u001b[32m2023-04-24 00:13:52.786\u001b[0m | \u001b[1mINFO    \u001b[0m | \u001b[36m__main__\u001b[0m:\u001b[36m<module>\u001b[0m:\u001b[36m48\u001b[0m - \u001b[1msent the data from head to tail 7171 bd_layer_data\u001b[0m\n"
     ]
    },
    {
     "name": "stdout",
     "output_type": "stream",
     "text": [
      "Block 9 out -> [4, 8, 112, 112]\n"
     ]
    },
    {
     "name": "stderr",
     "output_type": "stream",
     "text": [
      "\u001b[32m2023-04-24 00:13:55.127\u001b[0m | \u001b[1mINFO    \u001b[0m | \u001b[36m__main__\u001b[0m:\u001b[36m<module>\u001b[0m:\u001b[36m52\u001b[0m - \u001b[1mconnected body to get data from tail 8181: ('127.0.0.1', 55134)\u001b[0m\n",
      "\u001b[32m2023-04-24 00:14:01.935\u001b[0m | \u001b[1mINFO    \u001b[0m | \u001b[36m__main__\u001b[0m:\u001b[36m<module>\u001b[0m:\u001b[36m69\u001b[0m - \u001b[1mdisconnected body to get data from tail 8181: ('127.0.0.1', 55134)\u001b[0m\n",
      "\u001b[32m2023-04-24 00:14:02.020\u001b[0m | \u001b[1mINFO    \u001b[0m | \u001b[36m__main__\u001b[0m:\u001b[36m<module>\u001b[0m:\u001b[36m79\u001b[0m - \u001b[1msent the backprop data from body to head 9999 skip 1/2/3/4 grad\u001b[0m\n",
      "\u001b[32m2023-04-24 00:14:13.242\u001b[0m | \u001b[1mINFO    \u001b[0m | \u001b[36m__main__\u001b[0m:\u001b[36m<module>\u001b[0m:\u001b[36m24\u001b[0m - \u001b[1mconnected body to get data from head 5151: ('127.0.0.1', 55149)\u001b[0m\n"
     ]
    },
    {
     "name": "stdout",
     "output_type": "stream",
     "text": [
      "Block 5 out -> [4, 128, 7, 7]\n",
      "Block 6 out -> [4, 64, 14, 14]\n",
      "Block 7 out -> [4, 32, 28, 28]\n",
      "Block 8 out -> [4, 16, 56, 56]\n"
     ]
    },
    {
     "name": "stderr",
     "output_type": "stream",
     "text": [
      "\u001b[32m2023-04-24 00:14:19.217\u001b[0m | \u001b[1mINFO    \u001b[0m | \u001b[36m__main__\u001b[0m:\u001b[36m<module>\u001b[0m:\u001b[36m40\u001b[0m - \u001b[1mdisconnected body to get data from head 5151: ('127.0.0.1', 55149)\u001b[0m\n",
      "\u001b[32m2023-04-24 00:14:19.237\u001b[0m | \u001b[1mINFO    \u001b[0m | \u001b[36m__main__\u001b[0m:\u001b[36m<module>\u001b[0m:\u001b[36m48\u001b[0m - \u001b[1msent the data from head to tail 7171 bd_layer_data\u001b[0m\n"
     ]
    },
    {
     "name": "stdout",
     "output_type": "stream",
     "text": [
      "Block 9 out -> [4, 8, 112, 112]\n"
     ]
    },
    {
     "name": "stderr",
     "output_type": "stream",
     "text": [
      "\u001b[32m2023-04-24 00:14:21.403\u001b[0m | \u001b[1mINFO    \u001b[0m | \u001b[36m__main__\u001b[0m:\u001b[36m<module>\u001b[0m:\u001b[36m52\u001b[0m - \u001b[1mconnected body to get data from tail 8181: ('127.0.0.1', 55154)\u001b[0m\n",
      "\u001b[32m2023-04-24 00:14:25.740\u001b[0m | \u001b[1mINFO    \u001b[0m | \u001b[36m__main__\u001b[0m:\u001b[36m<module>\u001b[0m:\u001b[36m69\u001b[0m - \u001b[1mdisconnected body to get data from tail 8181: ('127.0.0.1', 55154)\u001b[0m\n",
      "\u001b[32m2023-04-24 00:14:25.757\u001b[0m | \u001b[1mINFO    \u001b[0m | \u001b[36m__main__\u001b[0m:\u001b[36m<module>\u001b[0m:\u001b[36m79\u001b[0m - \u001b[1msent the backprop data from body to head 9999 skip 1/2/3/4 grad\u001b[0m\n",
      "\u001b[32m2023-04-24 00:14:36.186\u001b[0m | \u001b[1mINFO    \u001b[0m | \u001b[36m__main__\u001b[0m:\u001b[36m<module>\u001b[0m:\u001b[36m24\u001b[0m - \u001b[1mconnected body to get data from head 5151: ('127.0.0.1', 55171)\u001b[0m\n"
     ]
    },
    {
     "name": "stdout",
     "output_type": "stream",
     "text": [
      "Block 5 out -> [4, 128, 7, 7]\n",
      "Block 6 out -> [4, 64, 14, 14]\n",
      "Block 7 out -> [4, 32, 28, 28]\n",
      "Block 8 out -> [4, 16, 56, 56]\n"
     ]
    },
    {
     "name": "stderr",
     "output_type": "stream",
     "text": [
      "\u001b[32m2023-04-24 00:14:42.868\u001b[0m | \u001b[1mINFO    \u001b[0m | \u001b[36m__main__\u001b[0m:\u001b[36m<module>\u001b[0m:\u001b[36m40\u001b[0m - \u001b[1mdisconnected body to get data from head 5151: ('127.0.0.1', 55171)\u001b[0m\n",
      "\u001b[32m2023-04-24 00:14:42.881\u001b[0m | \u001b[1mINFO    \u001b[0m | \u001b[36m__main__\u001b[0m:\u001b[36m<module>\u001b[0m:\u001b[36m48\u001b[0m - \u001b[1msent the data from head to tail 7171 bd_layer_data\u001b[0m\n"
     ]
    },
    {
     "name": "stdout",
     "output_type": "stream",
     "text": [
      "Block 9 out -> [4, 8, 112, 112]\n"
     ]
    },
    {
     "name": "stderr",
     "output_type": "stream",
     "text": [
      "\u001b[32m2023-04-24 00:14:44.321\u001b[0m | \u001b[1mINFO    \u001b[0m | \u001b[36m__main__\u001b[0m:\u001b[36m<module>\u001b[0m:\u001b[36m52\u001b[0m - \u001b[1mconnected body to get data from tail 8181: ('127.0.0.1', 55180)\u001b[0m\n",
      "\u001b[32m2023-04-24 00:14:50.161\u001b[0m | \u001b[1mINFO    \u001b[0m | \u001b[36m__main__\u001b[0m:\u001b[36m<module>\u001b[0m:\u001b[36m69\u001b[0m - \u001b[1mdisconnected body to get data from tail 8181: ('127.0.0.1', 55180)\u001b[0m\n",
      "\u001b[32m2023-04-24 00:14:50.178\u001b[0m | \u001b[1mINFO    \u001b[0m | \u001b[36m__main__\u001b[0m:\u001b[36m<module>\u001b[0m:\u001b[36m79\u001b[0m - \u001b[1msent the backprop data from body to head 9999 skip 1/2/3/4 grad\u001b[0m\n",
      "\u001b[32m2023-04-24 00:15:02.237\u001b[0m | \u001b[1mINFO    \u001b[0m | \u001b[36m__main__\u001b[0m:\u001b[36m<module>\u001b[0m:\u001b[36m24\u001b[0m - \u001b[1mconnected body to get data from head 5151: ('127.0.0.1', 55196)\u001b[0m\n"
     ]
    },
    {
     "name": "stdout",
     "output_type": "stream",
     "text": [
      "Block 5 out -> [4, 128, 7, 7]\n",
      "Block 6 out -> [4, 64, 14, 14]\n",
      "Block 7 out -> [4, 32, 28, 28]\n",
      "Block 8 out -> [4, 16, 56, 56]\n"
     ]
    },
    {
     "name": "stderr",
     "output_type": "stream",
     "text": [
      "\u001b[32m2023-04-24 00:15:08.621\u001b[0m | \u001b[1mINFO    \u001b[0m | \u001b[36m__main__\u001b[0m:\u001b[36m<module>\u001b[0m:\u001b[36m40\u001b[0m - \u001b[1mdisconnected body to get data from head 5151: ('127.0.0.1', 55196)\u001b[0m\n",
      "\u001b[32m2023-04-24 00:15:08.634\u001b[0m | \u001b[1mINFO    \u001b[0m | \u001b[36m__main__\u001b[0m:\u001b[36m<module>\u001b[0m:\u001b[36m48\u001b[0m - \u001b[1msent the data from head to tail 7171 bd_layer_data\u001b[0m\n"
     ]
    },
    {
     "name": "stdout",
     "output_type": "stream",
     "text": [
      "Block 9 out -> [4, 8, 112, 112]\n"
     ]
    },
    {
     "name": "stderr",
     "output_type": "stream",
     "text": [
      "\u001b[32m2023-04-24 00:15:10.385\u001b[0m | \u001b[1mINFO    \u001b[0m | \u001b[36m__main__\u001b[0m:\u001b[36m<module>\u001b[0m:\u001b[36m52\u001b[0m - \u001b[1mconnected body to get data from tail 8181: ('127.0.0.1', 55204)\u001b[0m\n",
      "\u001b[32m2023-04-24 00:15:18.367\u001b[0m | \u001b[1mINFO    \u001b[0m | \u001b[36m__main__\u001b[0m:\u001b[36m<module>\u001b[0m:\u001b[36m69\u001b[0m - \u001b[1mdisconnected body to get data from tail 8181: ('127.0.0.1', 55204)\u001b[0m\n",
      "\u001b[32m2023-04-24 00:15:18.385\u001b[0m | \u001b[1mINFO    \u001b[0m | \u001b[36m__main__\u001b[0m:\u001b[36m<module>\u001b[0m:\u001b[36m79\u001b[0m - \u001b[1msent the backprop data from body to head 9999 skip 1/2/3/4 grad\u001b[0m\n",
      "\u001b[32m2023-04-24 00:15:30.317\u001b[0m | \u001b[1mINFO    \u001b[0m | \u001b[36m__main__\u001b[0m:\u001b[36m<module>\u001b[0m:\u001b[36m24\u001b[0m - \u001b[1mconnected body to get data from head 5151: ('127.0.0.1', 55289)\u001b[0m\n"
     ]
    },
    {
     "name": "stdout",
     "output_type": "stream",
     "text": [
      "Block 5 out -> [4, 128, 7, 7]\n",
      "Block 6 out -> [4, 64, 14, 14]\n",
      "Block 7 out -> [4, 32, 28, 28]\n",
      "Block 8 out -> [4, 16, 56, 56]\n"
     ]
    },
    {
     "name": "stderr",
     "output_type": "stream",
     "text": [
      "\u001b[32m2023-04-24 00:15:35.988\u001b[0m | \u001b[1mINFO    \u001b[0m | \u001b[36m__main__\u001b[0m:\u001b[36m<module>\u001b[0m:\u001b[36m40\u001b[0m - \u001b[1mdisconnected body to get data from head 5151: ('127.0.0.1', 55289)\u001b[0m\n",
      "\u001b[32m2023-04-24 00:15:36.007\u001b[0m | \u001b[1mINFO    \u001b[0m | \u001b[36m__main__\u001b[0m:\u001b[36m<module>\u001b[0m:\u001b[36m48\u001b[0m - \u001b[1msent the data from head to tail 7171 bd_layer_data\u001b[0m\n"
     ]
    },
    {
     "name": "stdout",
     "output_type": "stream",
     "text": [
      "Block 9 out -> [4, 8, 112, 112]\n"
     ]
    },
    {
     "name": "stderr",
     "output_type": "stream",
     "text": [
      "\u001b[32m2023-04-24 00:15:38.467\u001b[0m | \u001b[1mINFO    \u001b[0m | \u001b[36m__main__\u001b[0m:\u001b[36m<module>\u001b[0m:\u001b[36m52\u001b[0m - \u001b[1mconnected body to get data from tail 8181: ('127.0.0.1', 55293)\u001b[0m\n",
      "\u001b[32m2023-04-24 00:15:46.219\u001b[0m | \u001b[1mINFO    \u001b[0m | \u001b[36m__main__\u001b[0m:\u001b[36m<module>\u001b[0m:\u001b[36m69\u001b[0m - \u001b[1mdisconnected body to get data from tail 8181: ('127.0.0.1', 55293)\u001b[0m\n",
      "\u001b[32m2023-04-24 00:15:46.312\u001b[0m | \u001b[1mINFO    \u001b[0m | \u001b[36m__main__\u001b[0m:\u001b[36m<module>\u001b[0m:\u001b[36m79\u001b[0m - \u001b[1msent the backprop data from body to head 9999 skip 1/2/3/4 grad\u001b[0m\n",
      "\u001b[32m2023-04-24 00:15:57.774\u001b[0m | \u001b[1mINFO    \u001b[0m | \u001b[36m__main__\u001b[0m:\u001b[36m<module>\u001b[0m:\u001b[36m24\u001b[0m - \u001b[1mconnected body to get data from head 5151: ('127.0.0.1', 55304)\u001b[0m\n"
     ]
    },
    {
     "name": "stdout",
     "output_type": "stream",
     "text": [
      "Block 5 out -> [4, 128, 7, 7]\n",
      "Block 6 out -> [4, 64, 14, 14]\n",
      "Block 7 out -> [4, 32, 28, 28]\n",
      "Block 8 out -> [4, 16, 56, 56]\n"
     ]
    },
    {
     "name": "stderr",
     "output_type": "stream",
     "text": [
      "\u001b[32m2023-04-24 00:16:03.787\u001b[0m | \u001b[1mINFO    \u001b[0m | \u001b[36m__main__\u001b[0m:\u001b[36m<module>\u001b[0m:\u001b[36m40\u001b[0m - \u001b[1mdisconnected body to get data from head 5151: ('127.0.0.1', 55304)\u001b[0m\n",
      "\u001b[32m2023-04-24 00:16:03.807\u001b[0m | \u001b[1mINFO    \u001b[0m | \u001b[36m__main__\u001b[0m:\u001b[36m<module>\u001b[0m:\u001b[36m48\u001b[0m - \u001b[1msent the data from head to tail 7171 bd_layer_data\u001b[0m\n"
     ]
    },
    {
     "name": "stdout",
     "output_type": "stream",
     "text": [
      "Block 9 out -> [4, 8, 112, 112]\n"
     ]
    },
    {
     "name": "stderr",
     "output_type": "stream",
     "text": [
      "\u001b[32m2023-04-24 00:16:05.930\u001b[0m | \u001b[1mINFO    \u001b[0m | \u001b[36m__main__\u001b[0m:\u001b[36m<module>\u001b[0m:\u001b[36m52\u001b[0m - \u001b[1mconnected body to get data from tail 8181: ('127.0.0.1', 55307)\u001b[0m\n",
      "\u001b[32m2023-04-24 00:16:10.878\u001b[0m | \u001b[1mINFO    \u001b[0m | \u001b[36m__main__\u001b[0m:\u001b[36m<module>\u001b[0m:\u001b[36m69\u001b[0m - \u001b[1mdisconnected body to get data from tail 8181: ('127.0.0.1', 55307)\u001b[0m\n",
      "\u001b[32m2023-04-24 00:16:10.900\u001b[0m | \u001b[1mINFO    \u001b[0m | \u001b[36m__main__\u001b[0m:\u001b[36m<module>\u001b[0m:\u001b[36m79\u001b[0m - \u001b[1msent the backprop data from body to head 9999 skip 1/2/3/4 grad\u001b[0m\n",
      "\u001b[32m2023-04-24 00:16:21.547\u001b[0m | \u001b[1mINFO    \u001b[0m | \u001b[36m__main__\u001b[0m:\u001b[36m<module>\u001b[0m:\u001b[36m24\u001b[0m - \u001b[1mconnected body to get data from head 5151: ('127.0.0.1', 55325)\u001b[0m\n"
     ]
    },
    {
     "name": "stdout",
     "output_type": "stream",
     "text": [
      "Block 5 out -> [4, 128, 7, 7]\n",
      "Block 6 out -> [4, 64, 14, 14]\n",
      "Block 7 out -> [4, 32, 28, 28]\n",
      "Block 8 out -> [4, 16, 56, 56]\n"
     ]
    },
    {
     "name": "stderr",
     "output_type": "stream",
     "text": [
      "\u001b[32m2023-04-24 00:16:27.193\u001b[0m | \u001b[1mINFO    \u001b[0m | \u001b[36m__main__\u001b[0m:\u001b[36m<module>\u001b[0m:\u001b[36m40\u001b[0m - \u001b[1mdisconnected body to get data from head 5151: ('127.0.0.1', 55325)\u001b[0m\n",
      "\u001b[32m2023-04-24 00:16:27.212\u001b[0m | \u001b[1mINFO    \u001b[0m | \u001b[36m__main__\u001b[0m:\u001b[36m<module>\u001b[0m:\u001b[36m48\u001b[0m - \u001b[1msent the data from head to tail 7171 bd_layer_data\u001b[0m\n"
     ]
    },
    {
     "name": "stdout",
     "output_type": "stream",
     "text": [
      "Block 9 out -> [4, 8, 112, 112]\n"
     ]
    },
    {
     "name": "stderr",
     "output_type": "stream",
     "text": [
      "\u001b[32m2023-04-24 00:16:29.692\u001b[0m | \u001b[1mINFO    \u001b[0m | \u001b[36m__main__\u001b[0m:\u001b[36m<module>\u001b[0m:\u001b[36m52\u001b[0m - \u001b[1mconnected body to get data from tail 8181: ('127.0.0.1', 55331)\u001b[0m\n",
      "\u001b[32m2023-04-24 00:16:33.522\u001b[0m | \u001b[1mINFO    \u001b[0m | \u001b[36m__main__\u001b[0m:\u001b[36m<module>\u001b[0m:\u001b[36m69\u001b[0m - \u001b[1mdisconnected body to get data from tail 8181: ('127.0.0.1', 55331)\u001b[0m\n",
      "\u001b[32m2023-04-24 00:16:33.535\u001b[0m | \u001b[1mINFO    \u001b[0m | \u001b[36m__main__\u001b[0m:\u001b[36m<module>\u001b[0m:\u001b[36m79\u001b[0m - \u001b[1msent the backprop data from body to head 9999 skip 1/2/3/4 grad\u001b[0m\n",
      "\u001b[32m2023-04-24 00:16:43.564\u001b[0m | \u001b[1mINFO    \u001b[0m | \u001b[36m__main__\u001b[0m:\u001b[36m<module>\u001b[0m:\u001b[36m24\u001b[0m - \u001b[1mconnected body to get data from head 5151: ('127.0.0.1', 55338)\u001b[0m\n"
     ]
    },
    {
     "name": "stdout",
     "output_type": "stream",
     "text": [
      "Block 5 out -> [4, 128, 7, 7]\n",
      "Block 6 out -> [4, 64, 14, 14]\n",
      "Block 7 out -> [4, 32, 28, 28]\n",
      "Block 8 out -> [4, 16, 56, 56]\n"
     ]
    },
    {
     "name": "stderr",
     "output_type": "stream",
     "text": [
      "\u001b[32m2023-04-24 00:16:49.244\u001b[0m | \u001b[1mINFO    \u001b[0m | \u001b[36m__main__\u001b[0m:\u001b[36m<module>\u001b[0m:\u001b[36m40\u001b[0m - \u001b[1mdisconnected body to get data from head 5151: ('127.0.0.1', 55338)\u001b[0m\n",
      "\u001b[32m2023-04-24 00:16:49.266\u001b[0m | \u001b[1mINFO    \u001b[0m | \u001b[36m__main__\u001b[0m:\u001b[36m<module>\u001b[0m:\u001b[36m48\u001b[0m - \u001b[1msent the data from head to tail 7171 bd_layer_data\u001b[0m\n"
     ]
    },
    {
     "name": "stdout",
     "output_type": "stream",
     "text": [
      "Block 9 out -> [4, 8, 112, 112]\n"
     ]
    },
    {
     "name": "stderr",
     "output_type": "stream",
     "text": [
      "\u001b[32m2023-04-24 00:16:51.696\u001b[0m | \u001b[1mINFO    \u001b[0m | \u001b[36m__main__\u001b[0m:\u001b[36m<module>\u001b[0m:\u001b[36m52\u001b[0m - \u001b[1mconnected body to get data from tail 8181: ('127.0.0.1', 55345)\u001b[0m\n",
      "\u001b[32m2023-04-24 00:16:57.170\u001b[0m | \u001b[1mINFO    \u001b[0m | \u001b[36m__main__\u001b[0m:\u001b[36m<module>\u001b[0m:\u001b[36m69\u001b[0m - \u001b[1mdisconnected body to get data from tail 8181: ('127.0.0.1', 55345)\u001b[0m\n",
      "\u001b[32m2023-04-24 00:16:57.189\u001b[0m | \u001b[1mINFO    \u001b[0m | \u001b[36m__main__\u001b[0m:\u001b[36m<module>\u001b[0m:\u001b[36m79\u001b[0m - \u001b[1msent the backprop data from body to head 9999 skip 1/2/3/4 grad\u001b[0m\n",
      "\u001b[32m2023-04-24 00:17:07.537\u001b[0m | \u001b[1mINFO    \u001b[0m | \u001b[36m__main__\u001b[0m:\u001b[36m<module>\u001b[0m:\u001b[36m24\u001b[0m - \u001b[1mconnected body to get data from head 5151: ('127.0.0.1', 55348)\u001b[0m\n"
     ]
    },
    {
     "name": "stdout",
     "output_type": "stream",
     "text": [
      "Block 5 out -> [4, 128, 7, 7]\n",
      "Block 6 out -> [4, 64, 14, 14]\n",
      "Block 7 out -> [4, 32, 28, 28]\n",
      "Block 8 out -> [4, 16, 56, 56]\n"
     ]
    },
    {
     "name": "stderr",
     "output_type": "stream",
     "text": [
      "\u001b[32m2023-04-24 00:17:13.426\u001b[0m | \u001b[1mINFO    \u001b[0m | \u001b[36m__main__\u001b[0m:\u001b[36m<module>\u001b[0m:\u001b[36m40\u001b[0m - \u001b[1mdisconnected body to get data from head 5151: ('127.0.0.1', 55348)\u001b[0m\n",
      "\u001b[32m2023-04-24 00:17:13.453\u001b[0m | \u001b[1mINFO    \u001b[0m | \u001b[36m__main__\u001b[0m:\u001b[36m<module>\u001b[0m:\u001b[36m48\u001b[0m - \u001b[1msent the data from head to tail 7171 bd_layer_data\u001b[0m\n"
     ]
    },
    {
     "name": "stdout",
     "output_type": "stream",
     "text": [
      "Block 9 out -> [4, 8, 112, 112]\n"
     ]
    },
    {
     "name": "stderr",
     "output_type": "stream",
     "text": [
      "\u001b[32m2023-04-24 00:17:15.680\u001b[0m | \u001b[1mINFO    \u001b[0m | \u001b[36m__main__\u001b[0m:\u001b[36m<module>\u001b[0m:\u001b[36m52\u001b[0m - \u001b[1mconnected body to get data from tail 8181: ('127.0.0.1', 55365)\u001b[0m\n",
      "\u001b[32m2023-04-24 00:17:20.192\u001b[0m | \u001b[1mINFO    \u001b[0m | \u001b[36m__main__\u001b[0m:\u001b[36m<module>\u001b[0m:\u001b[36m69\u001b[0m - \u001b[1mdisconnected body to get data from tail 8181: ('127.0.0.1', 55365)\u001b[0m\n",
      "\u001b[32m2023-04-24 00:17:20.267\u001b[0m | \u001b[1mINFO    \u001b[0m | \u001b[36m__main__\u001b[0m:\u001b[36m<module>\u001b[0m:\u001b[36m79\u001b[0m - \u001b[1msent the backprop data from body to head 9999 skip 1/2/3/4 grad\u001b[0m\n",
      "\u001b[32m2023-04-24 00:17:31.220\u001b[0m | \u001b[1mINFO    \u001b[0m | \u001b[36m__main__\u001b[0m:\u001b[36m<module>\u001b[0m:\u001b[36m24\u001b[0m - \u001b[1mconnected body to get data from head 5151: ('127.0.0.1', 55375)\u001b[0m\n"
     ]
    },
    {
     "name": "stdout",
     "output_type": "stream",
     "text": [
      "Block 5 out -> [4, 128, 7, 7]\n",
      "Block 6 out -> [4, 64, 14, 14]\n",
      "Block 7 out -> [4, 32, 28, 28]\n",
      "Block 8 out -> [4, 16, 56, 56]\n"
     ]
    },
    {
     "name": "stderr",
     "output_type": "stream",
     "text": [
      "\u001b[32m2023-04-24 00:17:38.641\u001b[0m | \u001b[1mINFO    \u001b[0m | \u001b[36m__main__\u001b[0m:\u001b[36m<module>\u001b[0m:\u001b[36m40\u001b[0m - \u001b[1mdisconnected body to get data from head 5151: ('127.0.0.1', 55375)\u001b[0m\n",
      "\u001b[32m2023-04-24 00:17:38.656\u001b[0m | \u001b[1mINFO    \u001b[0m | \u001b[36m__main__\u001b[0m:\u001b[36m<module>\u001b[0m:\u001b[36m48\u001b[0m - \u001b[1msent the data from head to tail 7171 bd_layer_data\u001b[0m\n"
     ]
    },
    {
     "name": "stdout",
     "output_type": "stream",
     "text": [
      "Block 9 out -> [4, 8, 112, 112]\n"
     ]
    },
    {
     "name": "stderr",
     "output_type": "stream",
     "text": [
      "\u001b[32m2023-04-24 00:17:39.419\u001b[0m | \u001b[1mINFO    \u001b[0m | \u001b[36m__main__\u001b[0m:\u001b[36m<module>\u001b[0m:\u001b[36m52\u001b[0m - \u001b[1mconnected body to get data from tail 8181: ('127.0.0.1', 55385)\u001b[0m\n",
      "\u001b[32m2023-04-24 00:17:46.906\u001b[0m | \u001b[1mINFO    \u001b[0m | \u001b[36m__main__\u001b[0m:\u001b[36m<module>\u001b[0m:\u001b[36m69\u001b[0m - \u001b[1mdisconnected body to get data from tail 8181: ('127.0.0.1', 55385)\u001b[0m\n",
      "\u001b[32m2023-04-24 00:17:47.006\u001b[0m | \u001b[1mINFO    \u001b[0m | \u001b[36m__main__\u001b[0m:\u001b[36m<module>\u001b[0m:\u001b[36m79\u001b[0m - \u001b[1msent the backprop data from body to head 9999 skip 1/2/3/4 grad\u001b[0m\n",
      "\u001b[32m2023-04-24 00:17:58.109\u001b[0m | \u001b[1mINFO    \u001b[0m | \u001b[36m__main__\u001b[0m:\u001b[36m<module>\u001b[0m:\u001b[36m24\u001b[0m - \u001b[1mconnected body to get data from head 5151: ('127.0.0.1', 55393)\u001b[0m\n"
     ]
    },
    {
     "name": "stdout",
     "output_type": "stream",
     "text": [
      "Block 5 out -> [4, 128, 7, 7]\n",
      "Block 6 out -> [4, 64, 14, 14]\n",
      "Block 7 out -> [4, 32, 28, 28]\n",
      "Block 8 out -> [4, 16, 56, 56]\n"
     ]
    },
    {
     "name": "stderr",
     "output_type": "stream",
     "text": [
      "\u001b[32m2023-04-24 00:18:03.725\u001b[0m | \u001b[1mINFO    \u001b[0m | \u001b[36m__main__\u001b[0m:\u001b[36m<module>\u001b[0m:\u001b[36m40\u001b[0m - \u001b[1mdisconnected body to get data from head 5151: ('127.0.0.1', 55393)\u001b[0m\n",
      "\u001b[32m2023-04-24 00:18:03.748\u001b[0m | \u001b[1mINFO    \u001b[0m | \u001b[36m__main__\u001b[0m:\u001b[36m<module>\u001b[0m:\u001b[36m48\u001b[0m - \u001b[1msent the data from head to tail 7171 bd_layer_data\u001b[0m\n"
     ]
    },
    {
     "name": "stdout",
     "output_type": "stream",
     "text": [
      "Block 9 out -> [4, 8, 112, 112]\n"
     ]
    },
    {
     "name": "stderr",
     "output_type": "stream",
     "text": [
      "\u001b[32m2023-04-24 00:18:06.256\u001b[0m | \u001b[1mINFO    \u001b[0m | \u001b[36m__main__\u001b[0m:\u001b[36m<module>\u001b[0m:\u001b[36m52\u001b[0m - \u001b[1mconnected body to get data from tail 8181: ('127.0.0.1', 55400)\u001b[0m\n",
      "\u001b[32m2023-04-24 00:18:10.353\u001b[0m | \u001b[1mINFO    \u001b[0m | \u001b[36m__main__\u001b[0m:\u001b[36m<module>\u001b[0m:\u001b[36m69\u001b[0m - \u001b[1mdisconnected body to get data from tail 8181: ('127.0.0.1', 55400)\u001b[0m\n",
      "\u001b[32m2023-04-24 00:18:10.372\u001b[0m | \u001b[1mINFO    \u001b[0m | \u001b[36m__main__\u001b[0m:\u001b[36m<module>\u001b[0m:\u001b[36m79\u001b[0m - \u001b[1msent the backprop data from body to head 9999 skip 1/2/3/4 grad\u001b[0m\n",
      "\u001b[32m2023-04-24 00:18:20.512\u001b[0m | \u001b[1mINFO    \u001b[0m | \u001b[36m__main__\u001b[0m:\u001b[36m<module>\u001b[0m:\u001b[36m24\u001b[0m - \u001b[1mconnected body to get data from head 5151: ('127.0.0.1', 55411)\u001b[0m\n"
     ]
    },
    {
     "name": "stdout",
     "output_type": "stream",
     "text": [
      "Block 5 out -> [4, 128, 7, 7]\n",
      "Block 6 out -> [4, 64, 14, 14]\n",
      "Block 7 out -> [4, 32, 28, 28]\n",
      "Block 8 out -> [4, 16, 56, 56]\n"
     ]
    },
    {
     "name": "stderr",
     "output_type": "stream",
     "text": [
      "\u001b[32m2023-04-24 00:18:26.210\u001b[0m | \u001b[1mINFO    \u001b[0m | \u001b[36m__main__\u001b[0m:\u001b[36m<module>\u001b[0m:\u001b[36m40\u001b[0m - \u001b[1mdisconnected body to get data from head 5151: ('127.0.0.1', 55411)\u001b[0m\n",
      "\u001b[32m2023-04-24 00:18:26.226\u001b[0m | \u001b[1mINFO    \u001b[0m | \u001b[36m__main__\u001b[0m:\u001b[36m<module>\u001b[0m:\u001b[36m48\u001b[0m - \u001b[1msent the data from head to tail 7171 bd_layer_data\u001b[0m\n"
     ]
    },
    {
     "name": "stdout",
     "output_type": "stream",
     "text": [
      "Block 9 out -> [4, 8, 112, 112]\n"
     ]
    },
    {
     "name": "stderr",
     "output_type": "stream",
     "text": [
      "\u001b[32m2023-04-24 00:18:28.670\u001b[0m | \u001b[1mINFO    \u001b[0m | \u001b[36m__main__\u001b[0m:\u001b[36m<module>\u001b[0m:\u001b[36m52\u001b[0m - \u001b[1mconnected body to get data from tail 8181: ('127.0.0.1', 55418)\u001b[0m\n",
      "\u001b[32m2023-04-24 00:18:32.418\u001b[0m | \u001b[1mINFO    \u001b[0m | \u001b[36m__main__\u001b[0m:\u001b[36m<module>\u001b[0m:\u001b[36m69\u001b[0m - \u001b[1mdisconnected body to get data from tail 8181: ('127.0.0.1', 55418)\u001b[0m\n",
      "\u001b[32m2023-04-24 00:18:32.433\u001b[0m | \u001b[1mINFO    \u001b[0m | \u001b[36m__main__\u001b[0m:\u001b[36m<module>\u001b[0m:\u001b[36m79\u001b[0m - \u001b[1msent the backprop data from body to head 9999 skip 1/2/3/4 grad\u001b[0m\n",
      "\u001b[32m2023-04-24 00:18:42.755\u001b[0m | \u001b[1mINFO    \u001b[0m | \u001b[36m__main__\u001b[0m:\u001b[36m<module>\u001b[0m:\u001b[36m24\u001b[0m - \u001b[1mconnected body to get data from head 5151: ('127.0.0.1', 55438)\u001b[0m\n"
     ]
    },
    {
     "name": "stdout",
     "output_type": "stream",
     "text": [
      "Block 5 out -> [4, 128, 7, 7]\n",
      "Block 6 out -> [4, 64, 14, 14]\n",
      "Block 7 out -> [4, 32, 28, 28]\n",
      "Block 8 out -> [4, 16, 56, 56]\n"
     ]
    },
    {
     "name": "stderr",
     "output_type": "stream",
     "text": [
      "\u001b[32m2023-04-24 00:18:49.896\u001b[0m | \u001b[1mINFO    \u001b[0m | \u001b[36m__main__\u001b[0m:\u001b[36m<module>\u001b[0m:\u001b[36m40\u001b[0m - \u001b[1mdisconnected body to get data from head 5151: ('127.0.0.1', 55438)\u001b[0m\n",
      "\u001b[32m2023-04-24 00:18:49.916\u001b[0m | \u001b[1mINFO    \u001b[0m | \u001b[36m__main__\u001b[0m:\u001b[36m<module>\u001b[0m:\u001b[36m48\u001b[0m - \u001b[1msent the data from head to tail 7171 bd_layer_data\u001b[0m\n"
     ]
    },
    {
     "name": "stdout",
     "output_type": "stream",
     "text": [
      "Block 9 out -> [4, 8, 112, 112]\n"
     ]
    },
    {
     "name": "stderr",
     "output_type": "stream",
     "text": [
      "\u001b[32m2023-04-24 00:18:50.893\u001b[0m | \u001b[1mINFO    \u001b[0m | \u001b[36m__main__\u001b[0m:\u001b[36m<module>\u001b[0m:\u001b[36m52\u001b[0m - \u001b[1mconnected body to get data from tail 8181: ('127.0.0.1', 55444)\u001b[0m\n",
      "\u001b[32m2023-04-24 00:18:59.109\u001b[0m | \u001b[1mINFO    \u001b[0m | \u001b[36m__main__\u001b[0m:\u001b[36m<module>\u001b[0m:\u001b[36m69\u001b[0m - \u001b[1mdisconnected body to get data from tail 8181: ('127.0.0.1', 55444)\u001b[0m\n",
      "\u001b[32m2023-04-24 00:18:59.132\u001b[0m | \u001b[1mINFO    \u001b[0m | \u001b[36m__main__\u001b[0m:\u001b[36m<module>\u001b[0m:\u001b[36m79\u001b[0m - \u001b[1msent the backprop data from body to head 9999 skip 1/2/3/4 grad\u001b[0m\n",
      "\u001b[32m2023-04-24 00:19:18.066\u001b[0m | \u001b[1mINFO    \u001b[0m | \u001b[36m__main__\u001b[0m:\u001b[36m<module>\u001b[0m:\u001b[36m24\u001b[0m - \u001b[1mconnected body to get data from head 5151: ('127.0.0.1', 55456)\u001b[0m\n"
     ]
    },
    {
     "name": "stdout",
     "output_type": "stream",
     "text": [
      "Block 5 out -> [4, 128, 7, 7]\n",
      "Block 6 out -> [4, 64, 14, 14]\n",
      "Block 7 out -> [4, 32, 28, 28]\n",
      "Block 8 out -> [4, 16, 56, 56]\n"
     ]
    },
    {
     "name": "stderr",
     "output_type": "stream",
     "text": [
      "\u001b[32m2023-04-24 00:19:28.534\u001b[0m | \u001b[1mINFO    \u001b[0m | \u001b[36m__main__\u001b[0m:\u001b[36m<module>\u001b[0m:\u001b[36m40\u001b[0m - \u001b[1mdisconnected body to get data from head 5151: ('127.0.0.1', 55456)\u001b[0m\n",
      "\u001b[32m2023-04-24 00:19:28.557\u001b[0m | \u001b[1mINFO    \u001b[0m | \u001b[36m__main__\u001b[0m:\u001b[36m<module>\u001b[0m:\u001b[36m48\u001b[0m - \u001b[1msent the data from head to tail 7171 bd_layer_data\u001b[0m\n"
     ]
    },
    {
     "name": "stdout",
     "output_type": "stream",
     "text": [
      "Block 9 out -> [4, 8, 112, 112]\n"
     ]
    },
    {
     "name": "stderr",
     "output_type": "stream",
     "text": [
      "\u001b[32m2023-04-24 00:19:28.784\u001b[0m | \u001b[1mINFO    \u001b[0m | \u001b[36m__main__\u001b[0m:\u001b[36m<module>\u001b[0m:\u001b[36m52\u001b[0m - \u001b[1mconnected body to get data from tail 8181: ('127.0.0.1', 55465)\u001b[0m\n",
      "\u001b[32m2023-04-24 00:19:35.306\u001b[0m | \u001b[1mINFO    \u001b[0m | \u001b[36m__main__\u001b[0m:\u001b[36m<module>\u001b[0m:\u001b[36m69\u001b[0m - \u001b[1mdisconnected body to get data from tail 8181: ('127.0.0.1', 55465)\u001b[0m\n",
      "\u001b[32m2023-04-24 00:19:35.332\u001b[0m | \u001b[1mINFO    \u001b[0m | \u001b[36m__main__\u001b[0m:\u001b[36m<module>\u001b[0m:\u001b[36m79\u001b[0m - \u001b[1msent the backprop data from body to head 9999 skip 1/2/3/4 grad\u001b[0m\n",
      "\u001b[32m2023-04-24 00:19:53.194\u001b[0m | \u001b[1mINFO    \u001b[0m | \u001b[36m__main__\u001b[0m:\u001b[36m<module>\u001b[0m:\u001b[36m24\u001b[0m - \u001b[1mconnected body to get data from head 5151: ('127.0.0.1', 55474)\u001b[0m\n"
     ]
    },
    {
     "name": "stdout",
     "output_type": "stream",
     "text": [
      "Block 5 out -> [4, 128, 7, 7]\n",
      "Block 6 out -> [4, 64, 14, 14]\n",
      "Block 7 out -> [4, 32, 28, 28]\n",
      "Block 8 out -> [4, 16, 56, 56]\n"
     ]
    },
    {
     "name": "stderr",
     "output_type": "stream",
     "text": [
      "\u001b[32m2023-04-24 00:20:03.027\u001b[0m | \u001b[1mINFO    \u001b[0m | \u001b[36m__main__\u001b[0m:\u001b[36m<module>\u001b[0m:\u001b[36m40\u001b[0m - \u001b[1mdisconnected body to get data from head 5151: ('127.0.0.1', 55474)\u001b[0m\n",
      "\u001b[32m2023-04-24 00:20:03.050\u001b[0m | \u001b[1mINFO    \u001b[0m | \u001b[36m__main__\u001b[0m:\u001b[36m<module>\u001b[0m:\u001b[36m48\u001b[0m - \u001b[1msent the data from head to tail 7171 bd_layer_data\u001b[0m\n"
     ]
    },
    {
     "name": "stdout",
     "output_type": "stream",
     "text": [
      "Block 9 out -> [4, 8, 112, 112]\n"
     ]
    },
    {
     "name": "stderr",
     "output_type": "stream",
     "text": [
      "\u001b[32m2023-04-24 00:20:03.274\u001b[0m | \u001b[1mINFO    \u001b[0m | \u001b[36m__main__\u001b[0m:\u001b[36m<module>\u001b[0m:\u001b[36m52\u001b[0m - \u001b[1mconnected body to get data from tail 8181: ('127.0.0.1', 55484)\u001b[0m\n",
      "\u001b[32m2023-04-24 00:20:09.615\u001b[0m | \u001b[1mINFO    \u001b[0m | \u001b[36m__main__\u001b[0m:\u001b[36m<module>\u001b[0m:\u001b[36m69\u001b[0m - \u001b[1mdisconnected body to get data from tail 8181: ('127.0.0.1', 55484)\u001b[0m\n",
      "\u001b[32m2023-04-24 00:20:09.636\u001b[0m | \u001b[1mINFO    \u001b[0m | \u001b[36m__main__\u001b[0m:\u001b[36m<module>\u001b[0m:\u001b[36m79\u001b[0m - \u001b[1msent the backprop data from body to head 9999 skip 1/2/3/4 grad\u001b[0m\n",
      "\u001b[32m2023-04-24 00:20:28.076\u001b[0m | \u001b[1mINFO    \u001b[0m | \u001b[36m__main__\u001b[0m:\u001b[36m<module>\u001b[0m:\u001b[36m24\u001b[0m - \u001b[1mconnected body to get data from head 5151: ('127.0.0.1', 55503)\u001b[0m\n"
     ]
    },
    {
     "name": "stdout",
     "output_type": "stream",
     "text": [
      "Block 5 out -> [4, 128, 7, 7]\n",
      "Block 6 out -> [4, 64, 14, 14]\n",
      "Block 7 out -> [4, 32, 28, 28]\n",
      "Block 8 out -> [4, 16, 56, 56]\n"
     ]
    },
    {
     "name": "stderr",
     "output_type": "stream",
     "text": [
      "\u001b[32m2023-04-24 00:20:38.024\u001b[0m | \u001b[1mINFO    \u001b[0m | \u001b[36m__main__\u001b[0m:\u001b[36m<module>\u001b[0m:\u001b[36m40\u001b[0m - \u001b[1mdisconnected body to get data from head 5151: ('127.0.0.1', 55503)\u001b[0m\n",
      "\u001b[32m2023-04-24 00:20:38.047\u001b[0m | \u001b[1mINFO    \u001b[0m | \u001b[36m__main__\u001b[0m:\u001b[36m<module>\u001b[0m:\u001b[36m48\u001b[0m - \u001b[1msent the data from head to tail 7171 bd_layer_data\u001b[0m\n"
     ]
    },
    {
     "name": "stdout",
     "output_type": "stream",
     "text": [
      "Block 9 out -> [4, 8, 112, 112]\n"
     ]
    },
    {
     "name": "stderr",
     "output_type": "stream",
     "text": [
      "\u001b[32m2023-04-24 00:20:38.292\u001b[0m | \u001b[1mINFO    \u001b[0m | \u001b[36m__main__\u001b[0m:\u001b[36m<module>\u001b[0m:\u001b[36m52\u001b[0m - \u001b[1mconnected body to get data from tail 8181: ('127.0.0.1', 55536)\u001b[0m\n",
      "\u001b[32m2023-04-24 00:20:52.884\u001b[0m | \u001b[1mINFO    \u001b[0m | \u001b[36m__main__\u001b[0m:\u001b[36m<module>\u001b[0m:\u001b[36m69\u001b[0m - \u001b[1mdisconnected body to get data from tail 8181: ('127.0.0.1', 55536)\u001b[0m\n",
      "\u001b[32m2023-04-24 00:20:53.050\u001b[0m | \u001b[1mINFO    \u001b[0m | \u001b[36m__main__\u001b[0m:\u001b[36m<module>\u001b[0m:\u001b[36m79\u001b[0m - \u001b[1msent the backprop data from body to head 9999 skip 1/2/3/4 grad\u001b[0m\n",
      "\u001b[32m2023-04-24 00:21:13.117\u001b[0m | \u001b[1mINFO    \u001b[0m | \u001b[36m__main__\u001b[0m:\u001b[36m<module>\u001b[0m:\u001b[36m24\u001b[0m - \u001b[1mconnected body to get data from head 5151: ('127.0.0.1', 55562)\u001b[0m\n"
     ]
    },
    {
     "name": "stdout",
     "output_type": "stream",
     "text": [
      "Block 5 out -> [4, 128, 7, 7]\n",
      "Block 6 out -> [4, 64, 14, 14]\n",
      "Block 7 out -> [4, 32, 28, 28]\n",
      "Block 8 out -> [4, 16, 56, 56]\n"
     ]
    },
    {
     "name": "stderr",
     "output_type": "stream",
     "text": [
      "\u001b[32m2023-04-24 00:21:23.556\u001b[0m | \u001b[1mINFO    \u001b[0m | \u001b[36m__main__\u001b[0m:\u001b[36m<module>\u001b[0m:\u001b[36m40\u001b[0m - \u001b[1mdisconnected body to get data from head 5151: ('127.0.0.1', 55562)\u001b[0m\n",
      "\u001b[32m2023-04-24 00:21:23.578\u001b[0m | \u001b[1mINFO    \u001b[0m | \u001b[36m__main__\u001b[0m:\u001b[36m<module>\u001b[0m:\u001b[36m48\u001b[0m - \u001b[1msent the data from head to tail 7171 bd_layer_data\u001b[0m\n"
     ]
    },
    {
     "name": "stdout",
     "output_type": "stream",
     "text": [
      "Block 9 out -> [4, 8, 112, 112]\n"
     ]
    },
    {
     "name": "stderr",
     "output_type": "stream",
     "text": [
      "\u001b[32m2023-04-24 00:21:23.822\u001b[0m | \u001b[1mINFO    \u001b[0m | \u001b[36m__main__\u001b[0m:\u001b[36m<module>\u001b[0m:\u001b[36m52\u001b[0m - \u001b[1mconnected body to get data from tail 8181: ('127.0.0.1', 55578)\u001b[0m\n",
      "\u001b[32m2023-04-24 00:21:30.072\u001b[0m | \u001b[1mINFO    \u001b[0m | \u001b[36m__main__\u001b[0m:\u001b[36m<module>\u001b[0m:\u001b[36m69\u001b[0m - \u001b[1mdisconnected body to get data from tail 8181: ('127.0.0.1', 55578)\u001b[0m\n",
      "\u001b[32m2023-04-24 00:21:30.092\u001b[0m | \u001b[1mINFO    \u001b[0m | \u001b[36m__main__\u001b[0m:\u001b[36m<module>\u001b[0m:\u001b[36m79\u001b[0m - \u001b[1msent the backprop data from body to head 9999 skip 1/2/3/4 grad\u001b[0m\n",
      "\u001b[32m2023-04-24 00:21:48.906\u001b[0m | \u001b[1mINFO    \u001b[0m | \u001b[36m__main__\u001b[0m:\u001b[36m<module>\u001b[0m:\u001b[36m24\u001b[0m - \u001b[1mconnected body to get data from head 5151: ('127.0.0.1', 55588)\u001b[0m\n"
     ]
    },
    {
     "name": "stdout",
     "output_type": "stream",
     "text": [
      "Block 5 out -> [4, 128, 7, 7]\n",
      "Block 6 out -> [4, 64, 14, 14]\n",
      "Block 7 out -> [4, 32, 28, 28]\n",
      "Block 8 out -> [4, 16, 56, 56]\n"
     ]
    },
    {
     "name": "stderr",
     "output_type": "stream",
     "text": [
      "\u001b[32m2023-04-24 00:21:55.914\u001b[0m | \u001b[1mINFO    \u001b[0m | \u001b[36m__main__\u001b[0m:\u001b[36m<module>\u001b[0m:\u001b[36m40\u001b[0m - \u001b[1mdisconnected body to get data from head 5151: ('127.0.0.1', 55588)\u001b[0m\n",
      "\u001b[32m2023-04-24 00:21:55.931\u001b[0m | \u001b[1mINFO    \u001b[0m | \u001b[36m__main__\u001b[0m:\u001b[36m<module>\u001b[0m:\u001b[36m48\u001b[0m - \u001b[1msent the data from head to tail 7171 bd_layer_data\u001b[0m\n"
     ]
    },
    {
     "name": "stdout",
     "output_type": "stream",
     "text": [
      "Block 9 out -> [4, 8, 112, 112]\n"
     ]
    },
    {
     "name": "stderr",
     "output_type": "stream",
     "text": [
      "\u001b[32m2023-04-24 00:21:57.076\u001b[0m | \u001b[1mINFO    \u001b[0m | \u001b[36m__main__\u001b[0m:\u001b[36m<module>\u001b[0m:\u001b[36m52\u001b[0m - \u001b[1mconnected body to get data from tail 8181: ('127.0.0.1', 55594)\u001b[0m\n",
      "\u001b[32m2023-04-24 00:22:04.266\u001b[0m | \u001b[1mINFO    \u001b[0m | \u001b[36m__main__\u001b[0m:\u001b[36m<module>\u001b[0m:\u001b[36m69\u001b[0m - \u001b[1mdisconnected body to get data from tail 8181: ('127.0.0.1', 55594)\u001b[0m\n",
      "\u001b[32m2023-04-24 00:22:04.318\u001b[0m | \u001b[1mINFO    \u001b[0m | \u001b[36m__main__\u001b[0m:\u001b[36m<module>\u001b[0m:\u001b[36m79\u001b[0m - \u001b[1msent the backprop data from body to head 9999 skip 1/2/3/4 grad\u001b[0m\n",
      "\u001b[32m2023-04-24 00:22:24.529\u001b[0m | \u001b[1mINFO    \u001b[0m | \u001b[36m__main__\u001b[0m:\u001b[36m<module>\u001b[0m:\u001b[36m24\u001b[0m - \u001b[1mconnected body to get data from head 5151: ('127.0.0.1', 55613)\u001b[0m\n"
     ]
    },
    {
     "name": "stdout",
     "output_type": "stream",
     "text": [
      "Block 5 out -> [4, 128, 7, 7]\n",
      "Block 6 out -> [4, 64, 14, 14]\n",
      "Block 7 out -> [4, 32, 28, 28]\n",
      "Block 8 out -> [4, 16, 56, 56]\n"
     ]
    },
    {
     "name": "stderr",
     "output_type": "stream",
     "text": [
      "\u001b[32m2023-04-24 00:22:35.212\u001b[0m | \u001b[1mINFO    \u001b[0m | \u001b[36m__main__\u001b[0m:\u001b[36m<module>\u001b[0m:\u001b[36m40\u001b[0m - \u001b[1mdisconnected body to get data from head 5151: ('127.0.0.1', 55613)\u001b[0m\n",
      "\u001b[32m2023-04-24 00:22:35.235\u001b[0m | \u001b[1mINFO    \u001b[0m | \u001b[36m__main__\u001b[0m:\u001b[36m<module>\u001b[0m:\u001b[36m48\u001b[0m - \u001b[1msent the data from head to tail 7171 bd_layer_data\u001b[0m\n"
     ]
    },
    {
     "name": "stdout",
     "output_type": "stream",
     "text": [
      "Block 9 out -> [4, 8, 112, 112]\n"
     ]
    },
    {
     "name": "stderr",
     "output_type": "stream",
     "text": [
      "\u001b[32m2023-04-24 00:22:35.582\u001b[0m | \u001b[1mINFO    \u001b[0m | \u001b[36m__main__\u001b[0m:\u001b[36m<module>\u001b[0m:\u001b[36m52\u001b[0m - \u001b[1mconnected body to get data from tail 8181: ('127.0.0.1', 55616)\u001b[0m\n",
      "\u001b[32m2023-04-24 00:22:47.249\u001b[0m | \u001b[1mINFO    \u001b[0m | \u001b[36m__main__\u001b[0m:\u001b[36m<module>\u001b[0m:\u001b[36m69\u001b[0m - \u001b[1mdisconnected body to get data from tail 8181: ('127.0.0.1', 55616)\u001b[0m\n",
      "\u001b[32m2023-04-24 00:22:47.378\u001b[0m | \u001b[1mINFO    \u001b[0m | \u001b[36m__main__\u001b[0m:\u001b[36m<module>\u001b[0m:\u001b[36m79\u001b[0m - \u001b[1msent the backprop data from body to head 9999 skip 1/2/3/4 grad\u001b[0m\n",
      "\u001b[32m2023-04-24 00:23:07.109\u001b[0m | \u001b[1mINFO    \u001b[0m | \u001b[36m__main__\u001b[0m:\u001b[36m<module>\u001b[0m:\u001b[36m24\u001b[0m - \u001b[1mconnected body to get data from head 5151: ('127.0.0.1', 55633)\u001b[0m\n"
     ]
    },
    {
     "name": "stdout",
     "output_type": "stream",
     "text": [
      "Block 5 out -> [4, 128, 7, 7]\n",
      "Block 6 out -> [4, 64, 14, 14]\n",
      "Block 7 out -> [4, 32, 28, 28]\n",
      "Block 8 out -> [4, 16, 56, 56]\n"
     ]
    },
    {
     "name": "stderr",
     "output_type": "stream",
     "text": [
      "\u001b[32m2023-04-24 00:23:17.483\u001b[0m | \u001b[1mINFO    \u001b[0m | \u001b[36m__main__\u001b[0m:\u001b[36m<module>\u001b[0m:\u001b[36m40\u001b[0m - \u001b[1mdisconnected body to get data from head 5151: ('127.0.0.1', 55633)\u001b[0m\n",
      "\u001b[32m2023-04-24 00:23:17.502\u001b[0m | \u001b[1mINFO    \u001b[0m | \u001b[36m__main__\u001b[0m:\u001b[36m<module>\u001b[0m:\u001b[36m48\u001b[0m - \u001b[1msent the data from head to tail 7171 bd_layer_data\u001b[0m\n"
     ]
    },
    {
     "name": "stdout",
     "output_type": "stream",
     "text": [
      "Block 9 out -> [4, 8, 112, 112]\n"
     ]
    },
    {
     "name": "stderr",
     "output_type": "stream",
     "text": [
      "\u001b[32m2023-04-24 00:23:17.746\u001b[0m | \u001b[1mINFO    \u001b[0m | \u001b[36m__main__\u001b[0m:\u001b[36m<module>\u001b[0m:\u001b[36m52\u001b[0m - \u001b[1mconnected body to get data from tail 8181: ('127.0.0.1', 55647)\u001b[0m\n",
      "\u001b[32m2023-04-24 00:23:31.423\u001b[0m | \u001b[1mINFO    \u001b[0m | \u001b[36m__main__\u001b[0m:\u001b[36m<module>\u001b[0m:\u001b[36m69\u001b[0m - \u001b[1mdisconnected body to get data from tail 8181: ('127.0.0.1', 55647)\u001b[0m\n",
      "\u001b[32m2023-04-24 00:23:31.596\u001b[0m | \u001b[1mINFO    \u001b[0m | \u001b[36m__main__\u001b[0m:\u001b[36m<module>\u001b[0m:\u001b[36m79\u001b[0m - \u001b[1msent the backprop data from body to head 9999 skip 1/2/3/4 grad\u001b[0m\n",
      "\u001b[32m2023-04-24 00:23:50.591\u001b[0m | \u001b[1mINFO    \u001b[0m | \u001b[36m__main__\u001b[0m:\u001b[36m<module>\u001b[0m:\u001b[36m24\u001b[0m - \u001b[1mconnected body to get data from head 5151: ('127.0.0.1', 55677)\u001b[0m\n"
     ]
    },
    {
     "name": "stdout",
     "output_type": "stream",
     "text": [
      "Block 5 out -> [4, 128, 7, 7]\n",
      "Block 6 out -> [4, 64, 14, 14]\n",
      "Block 7 out -> [4, 32, 28, 28]\n",
      "Block 8 out -> [4, 16, 56, 56]\n"
     ]
    },
    {
     "name": "stderr",
     "output_type": "stream",
     "text": [
      "\u001b[32m2023-04-24 00:24:01.233\u001b[0m | \u001b[1mINFO    \u001b[0m | \u001b[36m__main__\u001b[0m:\u001b[36m<module>\u001b[0m:\u001b[36m40\u001b[0m - \u001b[1mdisconnected body to get data from head 5151: ('127.0.0.1', 55677)\u001b[0m\n",
      "\u001b[32m2023-04-24 00:24:01.253\u001b[0m | \u001b[1mINFO    \u001b[0m | \u001b[36m__main__\u001b[0m:\u001b[36m<module>\u001b[0m:\u001b[36m48\u001b[0m - \u001b[1msent the data from head to tail 7171 bd_layer_data\u001b[0m\n"
     ]
    },
    {
     "name": "stdout",
     "output_type": "stream",
     "text": [
      "Block 9 out -> [4, 8, 112, 112]\n"
     ]
    },
    {
     "name": "stderr",
     "output_type": "stream",
     "text": [
      "\u001b[32m2023-04-24 00:24:01.503\u001b[0m | \u001b[1mINFO    \u001b[0m | \u001b[36m__main__\u001b[0m:\u001b[36m<module>\u001b[0m:\u001b[36m52\u001b[0m - \u001b[1mconnected body to get data from tail 8181: ('127.0.0.1', 55684)\u001b[0m\n",
      "\u001b[32m2023-04-24 00:24:09.299\u001b[0m | \u001b[1mINFO    \u001b[0m | \u001b[36m__main__\u001b[0m:\u001b[36m<module>\u001b[0m:\u001b[36m69\u001b[0m - \u001b[1mdisconnected body to get data from tail 8181: ('127.0.0.1', 55684)\u001b[0m\n",
      "\u001b[32m2023-04-24 00:24:09.390\u001b[0m | \u001b[1mINFO    \u001b[0m | \u001b[36m__main__\u001b[0m:\u001b[36m<module>\u001b[0m:\u001b[36m79\u001b[0m - \u001b[1msent the backprop data from body to head 9999 skip 1/2/3/4 grad\u001b[0m\n",
      "\u001b[32m2023-04-24 00:24:31.228\u001b[0m | \u001b[1mINFO    \u001b[0m | \u001b[36m__main__\u001b[0m:\u001b[36m<module>\u001b[0m:\u001b[36m24\u001b[0m - \u001b[1mconnected body to get data from head 5151: ('127.0.0.1', 55699)\u001b[0m\n"
     ]
    },
    {
     "name": "stdout",
     "output_type": "stream",
     "text": [
      "Block 5 out -> [4, 128, 7, 7]\n",
      "Block 6 out -> [4, 64, 14, 14]\n",
      "Block 7 out -> [4, 32, 28, 28]\n",
      "Block 8 out -> [4, 16, 56, 56]\n"
     ]
    },
    {
     "name": "stderr",
     "output_type": "stream",
     "text": [
      "\u001b[32m2023-04-24 00:24:42.862\u001b[0m | \u001b[1mINFO    \u001b[0m | \u001b[36m__main__\u001b[0m:\u001b[36m<module>\u001b[0m:\u001b[36m40\u001b[0m - \u001b[1mdisconnected body to get data from head 5151: ('127.0.0.1', 55699)\u001b[0m\n",
      "\u001b[32m2023-04-24 00:24:42.888\u001b[0m | \u001b[1mINFO    \u001b[0m | \u001b[36m__main__\u001b[0m:\u001b[36m<module>\u001b[0m:\u001b[36m48\u001b[0m - \u001b[1msent the data from head to tail 7171 bd_layer_data\u001b[0m\n"
     ]
    },
    {
     "name": "stdout",
     "output_type": "stream",
     "text": [
      "Block 9 out -> [4, 8, 112, 112]\n"
     ]
    },
    {
     "name": "stderr",
     "output_type": "stream",
     "text": [
      "\u001b[32m2023-04-24 00:24:43.196\u001b[0m | \u001b[1mINFO    \u001b[0m | \u001b[36m__main__\u001b[0m:\u001b[36m<module>\u001b[0m:\u001b[36m52\u001b[0m - \u001b[1mconnected body to get data from tail 8181: ('127.0.0.1', 55708)\u001b[0m\n",
      "\u001b[32m2023-04-24 00:24:56.415\u001b[0m | \u001b[1mINFO    \u001b[0m | \u001b[36m__main__\u001b[0m:\u001b[36m<module>\u001b[0m:\u001b[36m69\u001b[0m - \u001b[1mdisconnected body to get data from tail 8181: ('127.0.0.1', 55708)\u001b[0m\n",
      "\u001b[32m2023-04-24 00:24:56.563\u001b[0m | \u001b[1mINFO    \u001b[0m | \u001b[36m__main__\u001b[0m:\u001b[36m<module>\u001b[0m:\u001b[36m79\u001b[0m - \u001b[1msent the backprop data from body to head 9999 skip 1/2/3/4 grad\u001b[0m\n",
      "\u001b[32m2023-04-24 00:25:15.537\u001b[0m | \u001b[1mINFO    \u001b[0m | \u001b[36m__main__\u001b[0m:\u001b[36m<module>\u001b[0m:\u001b[36m24\u001b[0m - \u001b[1mconnected body to get data from head 5151: ('127.0.0.1', 55724)\u001b[0m\n"
     ]
    },
    {
     "name": "stdout",
     "output_type": "stream",
     "text": [
      "Block 5 out -> [4, 128, 7, 7]\n",
      "Block 6 out -> [4, 64, 14, 14]\n",
      "Block 7 out -> [4, 32, 28, 28]\n",
      "Block 8 out -> [4, 16, 56, 56]\n"
     ]
    },
    {
     "name": "stderr",
     "output_type": "stream",
     "text": [
      "\u001b[32m2023-04-24 00:25:26.037\u001b[0m | \u001b[1mINFO    \u001b[0m | \u001b[36m__main__\u001b[0m:\u001b[36m<module>\u001b[0m:\u001b[36m40\u001b[0m - \u001b[1mdisconnected body to get data from head 5151: ('127.0.0.1', 55724)\u001b[0m\n",
      "\u001b[32m2023-04-24 00:25:26.060\u001b[0m | \u001b[1mINFO    \u001b[0m | \u001b[36m__main__\u001b[0m:\u001b[36m<module>\u001b[0m:\u001b[36m48\u001b[0m - \u001b[1msent the data from head to tail 7171 bd_layer_data\u001b[0m\n"
     ]
    },
    {
     "name": "stdout",
     "output_type": "stream",
     "text": [
      "Block 9 out -> [4, 8, 112, 112]\n"
     ]
    },
    {
     "name": "stderr",
     "output_type": "stream",
     "text": [
      "\u001b[32m2023-04-24 00:25:26.314\u001b[0m | \u001b[1mINFO    \u001b[0m | \u001b[36m__main__\u001b[0m:\u001b[36m<module>\u001b[0m:\u001b[36m52\u001b[0m - \u001b[1mconnected body to get data from tail 8181: ('127.0.0.1', 55733)\u001b[0m\n",
      "\u001b[32m2023-04-24 00:25:32.479\u001b[0m | \u001b[1mINFO    \u001b[0m | \u001b[36m__main__\u001b[0m:\u001b[36m<module>\u001b[0m:\u001b[36m69\u001b[0m - \u001b[1mdisconnected body to get data from tail 8181: ('127.0.0.1', 55733)\u001b[0m\n",
      "\u001b[32m2023-04-24 00:25:32.508\u001b[0m | \u001b[1mINFO    \u001b[0m | \u001b[36m__main__\u001b[0m:\u001b[36m<module>\u001b[0m:\u001b[36m79\u001b[0m - \u001b[1msent the backprop data from body to head 9999 skip 1/2/3/4 grad\u001b[0m\n",
      "\u001b[32m2023-04-24 00:25:51.163\u001b[0m | \u001b[1mINFO    \u001b[0m | \u001b[36m__main__\u001b[0m:\u001b[36m<module>\u001b[0m:\u001b[36m24\u001b[0m - \u001b[1mconnected body to get data from head 5151: ('127.0.0.1', 55776)\u001b[0m\n"
     ]
    },
    {
     "name": "stdout",
     "output_type": "stream",
     "text": [
      "Block 5 out -> [4, 128, 7, 7]\n",
      "Block 6 out -> [4, 64, 14, 14]\n",
      "Block 7 out -> [4, 32, 28, 28]\n",
      "Block 8 out -> [4, 16, 56, 56]\n"
     ]
    },
    {
     "name": "stderr",
     "output_type": "stream",
     "text": [
      "\u001b[32m2023-04-24 00:26:01.344\u001b[0m | \u001b[1mINFO    \u001b[0m | \u001b[36m__main__\u001b[0m:\u001b[36m<module>\u001b[0m:\u001b[36m40\u001b[0m - \u001b[1mdisconnected body to get data from head 5151: ('127.0.0.1', 55776)\u001b[0m\n",
      "\u001b[32m2023-04-24 00:26:01.358\u001b[0m | \u001b[1mINFO    \u001b[0m | \u001b[36m__main__\u001b[0m:\u001b[36m<module>\u001b[0m:\u001b[36m48\u001b[0m - \u001b[1msent the data from head to tail 7171 bd_layer_data\u001b[0m\n"
     ]
    },
    {
     "name": "stdout",
     "output_type": "stream",
     "text": [
      "Block 9 out -> [4, 8, 112, 112]\n"
     ]
    },
    {
     "name": "stderr",
     "output_type": "stream",
     "text": [
      "\u001b[32m2023-04-24 00:26:01.594\u001b[0m | \u001b[1mINFO    \u001b[0m | \u001b[36m__main__\u001b[0m:\u001b[36m<module>\u001b[0m:\u001b[36m52\u001b[0m - \u001b[1mconnected body to get data from tail 8181: ('127.0.0.1', 55785)\u001b[0m\n",
      "\u001b[32m2023-04-24 00:26:14.325\u001b[0m | \u001b[1mINFO    \u001b[0m | \u001b[36m__main__\u001b[0m:\u001b[36m<module>\u001b[0m:\u001b[36m69\u001b[0m - \u001b[1mdisconnected body to get data from tail 8181: ('127.0.0.1', 55785)\u001b[0m\n",
      "\u001b[32m2023-04-24 00:26:14.496\u001b[0m | \u001b[1mINFO    \u001b[0m | \u001b[36m__main__\u001b[0m:\u001b[36m<module>\u001b[0m:\u001b[36m79\u001b[0m - \u001b[1msent the backprop data from body to head 9999 skip 1/2/3/4 grad\u001b[0m\n",
      "\u001b[32m2023-04-24 00:26:37.775\u001b[0m | \u001b[1mINFO    \u001b[0m | \u001b[36m__main__\u001b[0m:\u001b[36m<module>\u001b[0m:\u001b[36m24\u001b[0m - \u001b[1mconnected body to get data from head 5151: ('127.0.0.1', 55808)\u001b[0m\n"
     ]
    },
    {
     "name": "stdout",
     "output_type": "stream",
     "text": [
      "Block 5 out -> [4, 128, 7, 7]\n",
      "Block 6 out -> [4, 64, 14, 14]\n",
      "Block 7 out -> [4, 32, 28, 28]\n",
      "Block 8 out -> [4, 16, 56, 56]\n"
     ]
    },
    {
     "name": "stderr",
     "output_type": "stream",
     "text": [
      "\u001b[32m2023-04-24 00:26:50.022\u001b[0m | \u001b[1mINFO    \u001b[0m | \u001b[36m__main__\u001b[0m:\u001b[36m<module>\u001b[0m:\u001b[36m40\u001b[0m - \u001b[1mdisconnected body to get data from head 5151: ('127.0.0.1', 55808)\u001b[0m\n",
      "\u001b[32m2023-04-24 00:26:50.046\u001b[0m | \u001b[1mINFO    \u001b[0m | \u001b[36m__main__\u001b[0m:\u001b[36m<module>\u001b[0m:\u001b[36m48\u001b[0m - \u001b[1msent the data from head to tail 7171 bd_layer_data\u001b[0m\n"
     ]
    },
    {
     "name": "stdout",
     "output_type": "stream",
     "text": [
      "Block 9 out -> [4, 8, 112, 112]\n"
     ]
    },
    {
     "name": "stderr",
     "output_type": "stream",
     "text": [
      "\u001b[32m2023-04-24 00:26:50.365\u001b[0m | \u001b[1mINFO    \u001b[0m | \u001b[36m__main__\u001b[0m:\u001b[36m<module>\u001b[0m:\u001b[36m52\u001b[0m - \u001b[1mconnected body to get data from tail 8181: ('127.0.0.1', 55819)\u001b[0m\n",
      "\u001b[32m2023-04-24 00:27:05.567\u001b[0m | \u001b[1mINFO    \u001b[0m | \u001b[36m__main__\u001b[0m:\u001b[36m<module>\u001b[0m:\u001b[36m69\u001b[0m - \u001b[1mdisconnected body to get data from tail 8181: ('127.0.0.1', 55819)\u001b[0m\n",
      "\u001b[32m2023-04-24 00:27:05.688\u001b[0m | \u001b[1mINFO    \u001b[0m | \u001b[36m__main__\u001b[0m:\u001b[36m<module>\u001b[0m:\u001b[36m79\u001b[0m - \u001b[1msent the backprop data from body to head 9999 skip 1/2/3/4 grad\u001b[0m\n",
      "\u001b[32m2023-04-24 00:27:27.490\u001b[0m | \u001b[1mINFO    \u001b[0m | \u001b[36m__main__\u001b[0m:\u001b[36m<module>\u001b[0m:\u001b[36m24\u001b[0m - \u001b[1mconnected body to get data from head 5151: ('127.0.0.1', 55873)\u001b[0m\n"
     ]
    },
    {
     "name": "stdout",
     "output_type": "stream",
     "text": [
      "Block 5 out -> [4, 128, 7, 7]\n",
      "Block 6 out -> [4, 64, 14, 14]\n",
      "Block 7 out -> [4, 32, 28, 28]\n",
      "Block 8 out -> [4, 16, 56, 56]\n"
     ]
    },
    {
     "name": "stderr",
     "output_type": "stream",
     "text": [
      "\u001b[32m2023-04-24 00:27:39.838\u001b[0m | \u001b[1mINFO    \u001b[0m | \u001b[36m__main__\u001b[0m:\u001b[36m<module>\u001b[0m:\u001b[36m40\u001b[0m - \u001b[1mdisconnected body to get data from head 5151: ('127.0.0.1', 55873)\u001b[0m\n",
      "\u001b[32m2023-04-24 00:27:39.860\u001b[0m | \u001b[1mINFO    \u001b[0m | \u001b[36m__main__\u001b[0m:\u001b[36m<module>\u001b[0m:\u001b[36m48\u001b[0m - \u001b[1msent the data from head to tail 7171 bd_layer_data\u001b[0m\n"
     ]
    },
    {
     "name": "stdout",
     "output_type": "stream",
     "text": [
      "Block 9 out -> [4, 8, 112, 112]\n"
     ]
    },
    {
     "name": "stderr",
     "output_type": "stream",
     "text": [
      "\u001b[32m2023-04-24 00:27:40.230\u001b[0m | \u001b[1mINFO    \u001b[0m | \u001b[36m__main__\u001b[0m:\u001b[36m<module>\u001b[0m:\u001b[36m52\u001b[0m - \u001b[1mconnected body to get data from tail 8181: ('127.0.0.1', 55928)\u001b[0m\n",
      "\u001b[32m2023-04-24 00:27:56.607\u001b[0m | \u001b[1mINFO    \u001b[0m | \u001b[36m__main__\u001b[0m:\u001b[36m<module>\u001b[0m:\u001b[36m69\u001b[0m - \u001b[1mdisconnected body to get data from tail 8181: ('127.0.0.1', 55928)\u001b[0m\n",
      "\u001b[32m2023-04-24 00:27:56.757\u001b[0m | \u001b[1mINFO    \u001b[0m | \u001b[36m__main__\u001b[0m:\u001b[36m<module>\u001b[0m:\u001b[36m79\u001b[0m - \u001b[1msent the backprop data from body to head 9999 skip 1/2/3/4 grad\u001b[0m\n",
      "\u001b[32m2023-04-24 00:28:17.488\u001b[0m | \u001b[1mINFO    \u001b[0m | \u001b[36m__main__\u001b[0m:\u001b[36m<module>\u001b[0m:\u001b[36m24\u001b[0m - \u001b[1mconnected body to get data from head 5151: ('127.0.0.1', 55955)\u001b[0m\n"
     ]
    },
    {
     "name": "stdout",
     "output_type": "stream",
     "text": [
      "Block 5 out -> [4, 128, 7, 7]\n",
      "Block 6 out -> [4, 64, 14, 14]\n",
      "Block 7 out -> [4, 32, 28, 28]\n",
      "Block 8 out -> [4, 16, 56, 56]\n"
     ]
    },
    {
     "name": "stderr",
     "output_type": "stream",
     "text": [
      "\u001b[32m2023-04-24 00:28:28.789\u001b[0m | \u001b[1mINFO    \u001b[0m | \u001b[36m__main__\u001b[0m:\u001b[36m<module>\u001b[0m:\u001b[36m40\u001b[0m - \u001b[1mdisconnected body to get data from head 5151: ('127.0.0.1', 55955)\u001b[0m\n",
      "\u001b[32m2023-04-24 00:28:28.815\u001b[0m | \u001b[1mINFO    \u001b[0m | \u001b[36m__main__\u001b[0m:\u001b[36m<module>\u001b[0m:\u001b[36m48\u001b[0m - \u001b[1msent the data from head to tail 7171 bd_layer_data\u001b[0m\n"
     ]
    },
    {
     "name": "stdout",
     "output_type": "stream",
     "text": [
      "Block 9 out -> [4, 8, 112, 112]\n"
     ]
    },
    {
     "name": "stderr",
     "output_type": "stream",
     "text": [
      "\u001b[32m2023-04-24 00:28:29.115\u001b[0m | \u001b[1mINFO    \u001b[0m | \u001b[36m__main__\u001b[0m:\u001b[36m<module>\u001b[0m:\u001b[36m52\u001b[0m - \u001b[1mconnected body to get data from tail 8181: ('127.0.0.1', 55965)\u001b[0m\n",
      "\u001b[32m2023-04-24 00:28:41.955\u001b[0m | \u001b[1mINFO    \u001b[0m | \u001b[36m__main__\u001b[0m:\u001b[36m<module>\u001b[0m:\u001b[36m69\u001b[0m - \u001b[1mdisconnected body to get data from tail 8181: ('127.0.0.1', 55965)\u001b[0m\n",
      "\u001b[32m2023-04-24 00:28:41.988\u001b[0m | \u001b[1mINFO    \u001b[0m | \u001b[36m__main__\u001b[0m:\u001b[36m<module>\u001b[0m:\u001b[36m79\u001b[0m - \u001b[1msent the backprop data from body to head 9999 skip 1/2/3/4 grad\u001b[0m\n",
      "\u001b[32m2023-04-24 00:29:03.426\u001b[0m | \u001b[1mINFO    \u001b[0m | \u001b[36m__main__\u001b[0m:\u001b[36m<module>\u001b[0m:\u001b[36m24\u001b[0m - \u001b[1mconnected body to get data from head 5151: ('127.0.0.1', 55998)\u001b[0m\n"
     ]
    },
    {
     "name": "stdout",
     "output_type": "stream",
     "text": [
      "Block 5 out -> [4, 128, 7, 7]\n",
      "Block 6 out -> [4, 64, 14, 14]\n",
      "Block 7 out -> [4, 32, 28, 28]\n",
      "Block 8 out -> [4, 16, 56, 56]\n"
     ]
    },
    {
     "name": "stderr",
     "output_type": "stream",
     "text": [
      "\u001b[32m2023-04-24 00:29:14.362\u001b[0m | \u001b[1mINFO    \u001b[0m | \u001b[36m__main__\u001b[0m:\u001b[36m<module>\u001b[0m:\u001b[36m40\u001b[0m - \u001b[1mdisconnected body to get data from head 5151: ('127.0.0.1', 55998)\u001b[0m\n",
      "\u001b[32m2023-04-24 00:29:14.384\u001b[0m | \u001b[1mINFO    \u001b[0m | \u001b[36m__main__\u001b[0m:\u001b[36m<module>\u001b[0m:\u001b[36m48\u001b[0m - \u001b[1msent the data from head to tail 7171 bd_layer_data\u001b[0m\n"
     ]
    },
    {
     "name": "stdout",
     "output_type": "stream",
     "text": [
      "Block 9 out -> [4, 8, 112, 112]\n"
     ]
    },
    {
     "name": "stderr",
     "output_type": "stream",
     "text": [
      "\u001b[32m2023-04-24 00:29:14.677\u001b[0m | \u001b[1mINFO    \u001b[0m | \u001b[36m__main__\u001b[0m:\u001b[36m<module>\u001b[0m:\u001b[36m52\u001b[0m - \u001b[1mconnected body to get data from tail 8181: ('127.0.0.1', 56009)\u001b[0m\n",
      "\u001b[32m2023-04-24 00:29:30.080\u001b[0m | \u001b[1mINFO    \u001b[0m | \u001b[36m__main__\u001b[0m:\u001b[36m<module>\u001b[0m:\u001b[36m69\u001b[0m - \u001b[1mdisconnected body to get data from tail 8181: ('127.0.0.1', 56009)\u001b[0m\n",
      "\u001b[32m2023-04-24 00:29:30.238\u001b[0m | \u001b[1mINFO    \u001b[0m | \u001b[36m__main__\u001b[0m:\u001b[36m<module>\u001b[0m:\u001b[36m79\u001b[0m - \u001b[1msent the backprop data from body to head 9999 skip 1/2/3/4 grad\u001b[0m\n",
      "\u001b[32m2023-04-24 00:29:51.823\u001b[0m | \u001b[1mINFO    \u001b[0m | \u001b[36m__main__\u001b[0m:\u001b[36m<module>\u001b[0m:\u001b[36m24\u001b[0m - \u001b[1mconnected body to get data from head 5151: ('127.0.0.1', 56030)\u001b[0m\n"
     ]
    },
    {
     "name": "stdout",
     "output_type": "stream",
     "text": [
      "Block 5 out -> [4, 128, 7, 7]\n",
      "Block 6 out -> [4, 64, 14, 14]\n",
      "Block 7 out -> [4, 32, 28, 28]\n",
      "Block 8 out -> [4, 16, 56, 56]\n"
     ]
    },
    {
     "name": "stderr",
     "output_type": "stream",
     "text": [
      "\u001b[32m2023-04-24 00:30:02.684\u001b[0m | \u001b[1mINFO    \u001b[0m | \u001b[36m__main__\u001b[0m:\u001b[36m<module>\u001b[0m:\u001b[36m40\u001b[0m - \u001b[1mdisconnected body to get data from head 5151: ('127.0.0.1', 56030)\u001b[0m\n",
      "\u001b[32m2023-04-24 00:30:02.707\u001b[0m | \u001b[1mINFO    \u001b[0m | \u001b[36m__main__\u001b[0m:\u001b[36m<module>\u001b[0m:\u001b[36m48\u001b[0m - \u001b[1msent the data from head to tail 7171 bd_layer_data\u001b[0m\n"
     ]
    },
    {
     "name": "stdout",
     "output_type": "stream",
     "text": [
      "Block 9 out -> [4, 8, 112, 112]\n"
     ]
    },
    {
     "name": "stderr",
     "output_type": "stream",
     "text": [
      "\u001b[32m2023-04-24 00:30:02.953\u001b[0m | \u001b[1mINFO    \u001b[0m | \u001b[36m__main__\u001b[0m:\u001b[36m<module>\u001b[0m:\u001b[36m52\u001b[0m - \u001b[1mconnected body to get data from tail 8181: ('127.0.0.1', 56033)\u001b[0m\n",
      "\u001b[32m2023-04-24 00:30:19.895\u001b[0m | \u001b[1mINFO    \u001b[0m | \u001b[36m__main__\u001b[0m:\u001b[36m<module>\u001b[0m:\u001b[36m69\u001b[0m - \u001b[1mdisconnected body to get data from tail 8181: ('127.0.0.1', 56033)\u001b[0m\n",
      "\u001b[32m2023-04-24 00:30:20.105\u001b[0m | \u001b[1mINFO    \u001b[0m | \u001b[36m__main__\u001b[0m:\u001b[36m<module>\u001b[0m:\u001b[36m79\u001b[0m - \u001b[1msent the backprop data from body to head 9999 skip 1/2/3/4 grad\u001b[0m\n",
      "\u001b[32m2023-04-24 00:30:40.236\u001b[0m | \u001b[1mINFO    \u001b[0m | \u001b[36m__main__\u001b[0m:\u001b[36m<module>\u001b[0m:\u001b[36m24\u001b[0m - \u001b[1mconnected body to get data from head 5151: ('127.0.0.1', 56066)\u001b[0m\n"
     ]
    },
    {
     "name": "stdout",
     "output_type": "stream",
     "text": [
      "Block 5 out -> [4, 128, 7, 7]\n",
      "Block 6 out -> [4, 64, 14, 14]\n",
      "Block 7 out -> [4, 32, 28, 28]\n",
      "Block 8 out -> [4, 16, 56, 56]\n"
     ]
    },
    {
     "name": "stderr",
     "output_type": "stream",
     "text": [
      "\u001b[32m2023-04-24 00:30:50.859\u001b[0m | \u001b[1mINFO    \u001b[0m | \u001b[36m__main__\u001b[0m:\u001b[36m<module>\u001b[0m:\u001b[36m40\u001b[0m - \u001b[1mdisconnected body to get data from head 5151: ('127.0.0.1', 56066)\u001b[0m\n",
      "\u001b[32m2023-04-24 00:30:50.884\u001b[0m | \u001b[1mINFO    \u001b[0m | \u001b[36m__main__\u001b[0m:\u001b[36m<module>\u001b[0m:\u001b[36m48\u001b[0m - \u001b[1msent the data from head to tail 7171 bd_layer_data\u001b[0m\n"
     ]
    },
    {
     "name": "stdout",
     "output_type": "stream",
     "text": [
      "Block 9 out -> [4, 8, 112, 112]\n"
     ]
    },
    {
     "name": "stderr",
     "output_type": "stream",
     "text": [
      "\u001b[32m2023-04-24 00:30:51.165\u001b[0m | \u001b[1mINFO    \u001b[0m | \u001b[36m__main__\u001b[0m:\u001b[36m<module>\u001b[0m:\u001b[36m52\u001b[0m - \u001b[1mconnected body to get data from tail 8181: ('127.0.0.1', 56082)\u001b[0m\n",
      "\u001b[32m2023-04-24 00:31:02.030\u001b[0m | \u001b[1mINFO    \u001b[0m | \u001b[36m__main__\u001b[0m:\u001b[36m<module>\u001b[0m:\u001b[36m69\u001b[0m - \u001b[1mdisconnected body to get data from tail 8181: ('127.0.0.1', 56082)\u001b[0m\n",
      "\u001b[32m2023-04-24 00:31:02.087\u001b[0m | \u001b[1mINFO    \u001b[0m | \u001b[36m__main__\u001b[0m:\u001b[36m<module>\u001b[0m:\u001b[36m79\u001b[0m - \u001b[1msent the backprop data from body to head 9999 skip 1/2/3/4 grad\u001b[0m\n",
      "\u001b[32m2023-04-24 00:31:22.133\u001b[0m | \u001b[1mINFO    \u001b[0m | \u001b[36m__main__\u001b[0m:\u001b[36m<module>\u001b[0m:\u001b[36m24\u001b[0m - \u001b[1mconnected body to get data from head 5151: ('127.0.0.1', 56105)\u001b[0m\n"
     ]
    },
    {
     "name": "stdout",
     "output_type": "stream",
     "text": [
      "Block 5 out -> [4, 128, 7, 7]\n",
      "Block 6 out -> [4, 64, 14, 14]\n",
      "Block 7 out -> [4, 32, 28, 28]\n",
      "Block 8 out -> [4, 16, 56, 56]\n"
     ]
    },
    {
     "name": "stderr",
     "output_type": "stream",
     "text": [
      "\u001b[32m2023-04-24 00:31:32.978\u001b[0m | \u001b[1mINFO    \u001b[0m | \u001b[36m__main__\u001b[0m:\u001b[36m<module>\u001b[0m:\u001b[36m40\u001b[0m - \u001b[1mdisconnected body to get data from head 5151: ('127.0.0.1', 56105)\u001b[0m\n",
      "\u001b[32m2023-04-24 00:31:33.003\u001b[0m | \u001b[1mINFO    \u001b[0m | \u001b[36m__main__\u001b[0m:\u001b[36m<module>\u001b[0m:\u001b[36m48\u001b[0m - \u001b[1msent the data from head to tail 7171 bd_layer_data\u001b[0m\n"
     ]
    },
    {
     "name": "stdout",
     "output_type": "stream",
     "text": [
      "Block 9 out -> [4, 8, 112, 112]\n"
     ]
    },
    {
     "name": "stderr",
     "output_type": "stream",
     "text": [
      "\u001b[32m2023-04-24 00:31:33.295\u001b[0m | \u001b[1mINFO    \u001b[0m | \u001b[36m__main__\u001b[0m:\u001b[36m<module>\u001b[0m:\u001b[36m52\u001b[0m - \u001b[1mconnected body to get data from tail 8181: ('127.0.0.1', 56118)\u001b[0m\n",
      "\u001b[32m2023-04-24 00:31:49.099\u001b[0m | \u001b[1mINFO    \u001b[0m | \u001b[36m__main__\u001b[0m:\u001b[36m<module>\u001b[0m:\u001b[36m69\u001b[0m - \u001b[1mdisconnected body to get data from tail 8181: ('127.0.0.1', 56118)\u001b[0m\n",
      "\u001b[32m2023-04-24 00:31:49.252\u001b[0m | \u001b[1mINFO    \u001b[0m | \u001b[36m__main__\u001b[0m:\u001b[36m<module>\u001b[0m:\u001b[36m79\u001b[0m - \u001b[1msent the backprop data from body to head 9999 skip 1/2/3/4 grad\u001b[0m\n",
      "\u001b[32m2023-04-24 00:32:09.796\u001b[0m | \u001b[1mINFO    \u001b[0m | \u001b[36m__main__\u001b[0m:\u001b[36m<module>\u001b[0m:\u001b[36m24\u001b[0m - \u001b[1mconnected body to get data from head 5151: ('127.0.0.1', 56139)\u001b[0m\n"
     ]
    },
    {
     "name": "stdout",
     "output_type": "stream",
     "text": [
      "Block 5 out -> [4, 128, 7, 7]\n",
      "Block 6 out -> [4, 64, 14, 14]\n",
      "Block 7 out -> [4, 32, 28, 28]\n",
      "Block 8 out -> [4, 16, 56, 56]\n"
     ]
    },
    {
     "name": "stderr",
     "output_type": "stream",
     "text": [
      "\u001b[32m2023-04-24 00:32:21.281\u001b[0m | \u001b[1mINFO    \u001b[0m | \u001b[36m__main__\u001b[0m:\u001b[36m<module>\u001b[0m:\u001b[36m40\u001b[0m - \u001b[1mdisconnected body to get data from head 5151: ('127.0.0.1', 56139)\u001b[0m\n",
      "\u001b[32m2023-04-24 00:32:21.303\u001b[0m | \u001b[1mINFO    \u001b[0m | \u001b[36m__main__\u001b[0m:\u001b[36m<module>\u001b[0m:\u001b[36m48\u001b[0m - \u001b[1msent the data from head to tail 7171 bd_layer_data\u001b[0m\n"
     ]
    },
    {
     "name": "stdout",
     "output_type": "stream",
     "text": [
      "Block 9 out -> [4, 8, 112, 112]\n"
     ]
    },
    {
     "name": "stderr",
     "output_type": "stream",
     "text": [
      "\u001b[32m2023-04-24 00:32:21.769\u001b[0m | \u001b[1mINFO    \u001b[0m | \u001b[36m__main__\u001b[0m:\u001b[36m<module>\u001b[0m:\u001b[36m52\u001b[0m - \u001b[1mconnected body to get data from tail 8181: ('127.0.0.1', 56146)\u001b[0m\n",
      "\u001b[32m2023-04-24 00:32:35.726\u001b[0m | \u001b[1mINFO    \u001b[0m | \u001b[36m__main__\u001b[0m:\u001b[36m<module>\u001b[0m:\u001b[36m69\u001b[0m - \u001b[1mdisconnected body to get data from tail 8181: ('127.0.0.1', 56146)\u001b[0m\n",
      "\u001b[32m2023-04-24 00:32:35.839\u001b[0m | \u001b[1mINFO    \u001b[0m | \u001b[36m__main__\u001b[0m:\u001b[36m<module>\u001b[0m:\u001b[36m79\u001b[0m - \u001b[1msent the backprop data from body to head 9999 skip 1/2/3/4 grad\u001b[0m\n",
      "\u001b[32m2023-04-24 00:32:57.036\u001b[0m | \u001b[1mINFO    \u001b[0m | \u001b[36m__main__\u001b[0m:\u001b[36m<module>\u001b[0m:\u001b[36m24\u001b[0m - \u001b[1mconnected body to get data from head 5151: ('127.0.0.1', 56171)\u001b[0m\n"
     ]
    },
    {
     "name": "stdout",
     "output_type": "stream",
     "text": [
      "Block 5 out -> [4, 128, 7, 7]\n",
      "Block 6 out -> [4, 64, 14, 14]\n",
      "Block 7 out -> [4, 32, 28, 28]\n",
      "Block 8 out -> [4, 16, 56, 56]\n"
     ]
    },
    {
     "name": "stderr",
     "output_type": "stream",
     "text": [
      "\u001b[32m2023-04-24 00:33:07.984\u001b[0m | \u001b[1mINFO    \u001b[0m | \u001b[36m__main__\u001b[0m:\u001b[36m<module>\u001b[0m:\u001b[36m40\u001b[0m - \u001b[1mdisconnected body to get data from head 5151: ('127.0.0.1', 56171)\u001b[0m\n",
      "\u001b[32m2023-04-24 00:33:08.006\u001b[0m | \u001b[1mINFO    \u001b[0m | \u001b[36m__main__\u001b[0m:\u001b[36m<module>\u001b[0m:\u001b[36m48\u001b[0m - \u001b[1msent the data from head to tail 7171 bd_layer_data\u001b[0m\n"
     ]
    },
    {
     "name": "stdout",
     "output_type": "stream",
     "text": [
      "Block 9 out -> [4, 8, 112, 112]\n"
     ]
    },
    {
     "name": "stderr",
     "output_type": "stream",
     "text": [
      "\u001b[32m2023-04-24 00:33:08.292\u001b[0m | \u001b[1mINFO    \u001b[0m | \u001b[36m__main__\u001b[0m:\u001b[36m<module>\u001b[0m:\u001b[36m52\u001b[0m - \u001b[1mconnected body to get data from tail 8181: ('127.0.0.1', 56176)\u001b[0m\n",
      "\u001b[32m2023-04-24 00:33:24.962\u001b[0m | \u001b[1mINFO    \u001b[0m | \u001b[36m__main__\u001b[0m:\u001b[36m<module>\u001b[0m:\u001b[36m69\u001b[0m - \u001b[1mdisconnected body to get data from tail 8181: ('127.0.0.1', 56176)\u001b[0m\n",
      "\u001b[32m2023-04-24 00:33:25.141\u001b[0m | \u001b[1mINFO    \u001b[0m | \u001b[36m__main__\u001b[0m:\u001b[36m<module>\u001b[0m:\u001b[36m79\u001b[0m - \u001b[1msent the backprop data from body to head 9999 skip 1/2/3/4 grad\u001b[0m\n",
      "\u001b[32m2023-04-24 00:33:48.306\u001b[0m | \u001b[1mINFO    \u001b[0m | \u001b[36m__main__\u001b[0m:\u001b[36m<module>\u001b[0m:\u001b[36m24\u001b[0m - \u001b[1mconnected body to get data from head 5151: ('127.0.0.1', 56206)\u001b[0m\n"
     ]
    },
    {
     "name": "stdout",
     "output_type": "stream",
     "text": [
      "Block 5 out -> [4, 128, 7, 7]\n",
      "Block 6 out -> [4, 64, 14, 14]\n",
      "Block 7 out -> [4, 32, 28, 28]\n",
      "Block 8 out -> [4, 16, 56, 56]\n"
     ]
    },
    {
     "name": "stderr",
     "output_type": "stream",
     "text": [
      "\u001b[32m2023-04-24 00:33:58.964\u001b[0m | \u001b[1mINFO    \u001b[0m | \u001b[36m__main__\u001b[0m:\u001b[36m<module>\u001b[0m:\u001b[36m40\u001b[0m - \u001b[1mdisconnected body to get data from head 5151: ('127.0.0.1', 56206)\u001b[0m\n",
      "\u001b[32m2023-04-24 00:33:58.985\u001b[0m | \u001b[1mINFO    \u001b[0m | \u001b[36m__main__\u001b[0m:\u001b[36m<module>\u001b[0m:\u001b[36m48\u001b[0m - \u001b[1msent the data from head to tail 7171 bd_layer_data\u001b[0m\n"
     ]
    },
    {
     "name": "stdout",
     "output_type": "stream",
     "text": [
      "Block 9 out -> [4, 8, 112, 112]\n"
     ]
    },
    {
     "name": "stderr",
     "output_type": "stream",
     "text": [
      "\u001b[32m2023-04-24 00:33:59.287\u001b[0m | \u001b[1mINFO    \u001b[0m | \u001b[36m__main__\u001b[0m:\u001b[36m<module>\u001b[0m:\u001b[36m52\u001b[0m - \u001b[1mconnected body to get data from tail 8181: ('127.0.0.1', 56214)\u001b[0m\n",
      "\u001b[32m2023-04-24 00:34:11.223\u001b[0m | \u001b[1mINFO    \u001b[0m | \u001b[36m__main__\u001b[0m:\u001b[36m<module>\u001b[0m:\u001b[36m69\u001b[0m - \u001b[1mdisconnected body to get data from tail 8181: ('127.0.0.1', 56214)\u001b[0m\n",
      "\u001b[32m2023-04-24 00:34:11.259\u001b[0m | \u001b[1mINFO    \u001b[0m | \u001b[36m__main__\u001b[0m:\u001b[36m<module>\u001b[0m:\u001b[36m79\u001b[0m - \u001b[1msent the backprop data from body to head 9999 skip 1/2/3/4 grad\u001b[0m\n",
      "\u001b[32m2023-04-24 00:34:33.262\u001b[0m | \u001b[1mINFO    \u001b[0m | \u001b[36m__main__\u001b[0m:\u001b[36m<module>\u001b[0m:\u001b[36m24\u001b[0m - \u001b[1mconnected body to get data from head 5151: ('127.0.0.1', 56236)\u001b[0m\n"
     ]
    },
    {
     "name": "stdout",
     "output_type": "stream",
     "text": [
      "Block 5 out -> [4, 128, 7, 7]\n",
      "Block 6 out -> [4, 64, 14, 14]\n",
      "Block 7 out -> [4, 32, 28, 28]\n",
      "Block 8 out -> [4, 16, 56, 56]\n"
     ]
    },
    {
     "name": "stderr",
     "output_type": "stream",
     "text": [
      "\u001b[32m2023-04-24 00:34:44.103\u001b[0m | \u001b[1mINFO    \u001b[0m | \u001b[36m__main__\u001b[0m:\u001b[36m<module>\u001b[0m:\u001b[36m40\u001b[0m - \u001b[1mdisconnected body to get data from head 5151: ('127.0.0.1', 56236)\u001b[0m\n",
      "\u001b[32m2023-04-24 00:34:44.184\u001b[0m | \u001b[1mINFO    \u001b[0m | \u001b[36m__main__\u001b[0m:\u001b[36m<module>\u001b[0m:\u001b[36m48\u001b[0m - \u001b[1msent the data from head to tail 7171 bd_layer_data\u001b[0m\n"
     ]
    },
    {
     "name": "stdout",
     "output_type": "stream",
     "text": [
      "Block 9 out -> [4, 8, 112, 112]\n"
     ]
    },
    {
     "name": "stderr",
     "output_type": "stream",
     "text": [
      "\u001b[32m2023-04-24 00:34:44.542\u001b[0m | \u001b[1mINFO    \u001b[0m | \u001b[36m__main__\u001b[0m:\u001b[36m<module>\u001b[0m:\u001b[36m52\u001b[0m - \u001b[1mconnected body to get data from tail 8181: ('127.0.0.1', 56246)\u001b[0m\n",
      "\u001b[32m2023-04-24 00:35:06.806\u001b[0m | \u001b[1mINFO    \u001b[0m | \u001b[36m__main__\u001b[0m:\u001b[36m<module>\u001b[0m:\u001b[36m69\u001b[0m - \u001b[1mdisconnected body to get data from tail 8181: ('127.0.0.1', 56246)\u001b[0m\n",
      "\u001b[32m2023-04-24 00:35:07.032\u001b[0m | \u001b[1mINFO    \u001b[0m | \u001b[36m__main__\u001b[0m:\u001b[36m<module>\u001b[0m:\u001b[36m79\u001b[0m - \u001b[1msent the backprop data from body to head 9999 skip 1/2/3/4 grad\u001b[0m\n",
      "\u001b[32m2023-04-24 00:35:28.830\u001b[0m | \u001b[1mINFO    \u001b[0m | \u001b[36m__main__\u001b[0m:\u001b[36m<module>\u001b[0m:\u001b[36m24\u001b[0m - \u001b[1mconnected body to get data from head 5151: ('127.0.0.1', 56267)\u001b[0m\n"
     ]
    },
    {
     "name": "stdout",
     "output_type": "stream",
     "text": [
      "Block 5 out -> [4, 128, 7, 7]\n",
      "Block 6 out -> [4, 64, 14, 14]\n",
      "Block 7 out -> [4, 32, 28, 28]\n",
      "Block 8 out -> [4, 16, 56, 56]\n"
     ]
    },
    {
     "name": "stderr",
     "output_type": "stream",
     "text": [
      "\u001b[32m2023-04-24 00:35:39.500\u001b[0m | \u001b[1mINFO    \u001b[0m | \u001b[36m__main__\u001b[0m:\u001b[36m<module>\u001b[0m:\u001b[36m40\u001b[0m - \u001b[1mdisconnected body to get data from head 5151: ('127.0.0.1', 56267)\u001b[0m\n",
      "\u001b[32m2023-04-24 00:35:39.537\u001b[0m | \u001b[1mINFO    \u001b[0m | \u001b[36m__main__\u001b[0m:\u001b[36m<module>\u001b[0m:\u001b[36m48\u001b[0m - \u001b[1msent the data from head to tail 7171 bd_layer_data\u001b[0m\n"
     ]
    },
    {
     "name": "stdout",
     "output_type": "stream",
     "text": [
      "Block 9 out -> [4, 8, 112, 112]\n"
     ]
    },
    {
     "name": "stderr",
     "output_type": "stream",
     "text": [
      "\u001b[32m2023-04-24 00:35:39.786\u001b[0m | \u001b[1mINFO    \u001b[0m | \u001b[36m__main__\u001b[0m:\u001b[36m<module>\u001b[0m:\u001b[36m52\u001b[0m - \u001b[1mconnected body to get data from tail 8181: ('127.0.0.1', 56275)\u001b[0m\n",
      "\u001b[32m2023-04-24 00:35:57.178\u001b[0m | \u001b[1mINFO    \u001b[0m | \u001b[36m__main__\u001b[0m:\u001b[36m<module>\u001b[0m:\u001b[36m69\u001b[0m - \u001b[1mdisconnected body to get data from tail 8181: ('127.0.0.1', 56275)\u001b[0m\n",
      "\u001b[32m2023-04-24 00:35:57.354\u001b[0m | \u001b[1mINFO    \u001b[0m | \u001b[36m__main__\u001b[0m:\u001b[36m<module>\u001b[0m:\u001b[36m79\u001b[0m - \u001b[1msent the backprop data from body to head 9999 skip 1/2/3/4 grad\u001b[0m\n",
      "\u001b[32m2023-04-24 00:36:19.080\u001b[0m | \u001b[1mINFO    \u001b[0m | \u001b[36m__main__\u001b[0m:\u001b[36m<module>\u001b[0m:\u001b[36m24\u001b[0m - \u001b[1mconnected body to get data from head 5151: ('127.0.0.1', 56357)\u001b[0m\n"
     ]
    },
    {
     "name": "stdout",
     "output_type": "stream",
     "text": [
      "Block 5 out -> [4, 128, 7, 7]\n",
      "Block 6 out -> [4, 64, 14, 14]\n",
      "Block 7 out -> [4, 32, 28, 28]\n",
      "Block 8 out -> [4, 16, 56, 56]\n"
     ]
    },
    {
     "name": "stderr",
     "output_type": "stream",
     "text": [
      "\u001b[32m2023-04-24 00:36:30.036\u001b[0m | \u001b[1mINFO    \u001b[0m | \u001b[36m__main__\u001b[0m:\u001b[36m<module>\u001b[0m:\u001b[36m40\u001b[0m - \u001b[1mdisconnected body to get data from head 5151: ('127.0.0.1', 56357)\u001b[0m\n",
      "\u001b[32m2023-04-24 00:36:30.065\u001b[0m | \u001b[1mINFO    \u001b[0m | \u001b[36m__main__\u001b[0m:\u001b[36m<module>\u001b[0m:\u001b[36m48\u001b[0m - \u001b[1msent the data from head to tail 7171 bd_layer_data\u001b[0m\n"
     ]
    },
    {
     "name": "stdout",
     "output_type": "stream",
     "text": [
      "Block 9 out -> [4, 8, 112, 112]\n"
     ]
    },
    {
     "name": "stderr",
     "output_type": "stream",
     "text": [
      "\u001b[32m2023-04-24 00:36:30.355\u001b[0m | \u001b[1mINFO    \u001b[0m | \u001b[36m__main__\u001b[0m:\u001b[36m<module>\u001b[0m:\u001b[36m52\u001b[0m - \u001b[1mconnected body to get data from tail 8181: ('127.0.0.1', 56361)\u001b[0m\n",
      "\u001b[32m2023-04-24 00:36:44.703\u001b[0m | \u001b[1mINFO    \u001b[0m | \u001b[36m__main__\u001b[0m:\u001b[36m<module>\u001b[0m:\u001b[36m69\u001b[0m - \u001b[1mdisconnected body to get data from tail 8181: ('127.0.0.1', 56361)\u001b[0m\n",
      "\u001b[32m2023-04-24 00:36:44.742\u001b[0m | \u001b[1mINFO    \u001b[0m | \u001b[36m__main__\u001b[0m:\u001b[36m<module>\u001b[0m:\u001b[36m79\u001b[0m - \u001b[1msent the backprop data from body to head 9999 skip 1/2/3/4 grad\u001b[0m\n",
      "\u001b[32m2023-04-24 00:37:05.833\u001b[0m | \u001b[1mINFO    \u001b[0m | \u001b[36m__main__\u001b[0m:\u001b[36m<module>\u001b[0m:\u001b[36m24\u001b[0m - \u001b[1mconnected body to get data from head 5151: ('127.0.0.1', 56379)\u001b[0m\n"
     ]
    },
    {
     "name": "stdout",
     "output_type": "stream",
     "text": [
      "Block 5 out -> [4, 128, 7, 7]\n",
      "Block 6 out -> [4, 64, 14, 14]\n",
      "Block 7 out -> [4, 32, 28, 28]\n",
      "Block 8 out -> [4, 16, 56, 56]\n"
     ]
    },
    {
     "name": "stderr",
     "output_type": "stream",
     "text": [
      "\u001b[32m2023-04-24 00:37:16.796\u001b[0m | \u001b[1mINFO    \u001b[0m | \u001b[36m__main__\u001b[0m:\u001b[36m<module>\u001b[0m:\u001b[36m40\u001b[0m - \u001b[1mdisconnected body to get data from head 5151: ('127.0.0.1', 56379)\u001b[0m\n",
      "\u001b[32m2023-04-24 00:37:16.842\u001b[0m | \u001b[1mINFO    \u001b[0m | \u001b[36m__main__\u001b[0m:\u001b[36m<module>\u001b[0m:\u001b[36m48\u001b[0m - \u001b[1msent the data from head to tail 7171 bd_layer_data\u001b[0m\n"
     ]
    },
    {
     "name": "stdout",
     "output_type": "stream",
     "text": [
      "Block 9 out -> [4, 8, 112, 112]\n"
     ]
    },
    {
     "name": "stderr",
     "output_type": "stream",
     "text": [
      "\u001b[32m2023-04-24 00:37:17.134\u001b[0m | \u001b[1mINFO    \u001b[0m | \u001b[36m__main__\u001b[0m:\u001b[36m<module>\u001b[0m:\u001b[36m52\u001b[0m - \u001b[1mconnected body to get data from tail 8181: ('127.0.0.1', 56387)\u001b[0m\n",
      "\u001b[32m2023-04-24 00:37:35.907\u001b[0m | \u001b[1mINFO    \u001b[0m | \u001b[36m__main__\u001b[0m:\u001b[36m<module>\u001b[0m:\u001b[36m69\u001b[0m - \u001b[1mdisconnected body to get data from tail 8181: ('127.0.0.1', 56387)\u001b[0m\n",
      "\u001b[32m2023-04-24 00:37:36.082\u001b[0m | \u001b[1mINFO    \u001b[0m | \u001b[36m__main__\u001b[0m:\u001b[36m<module>\u001b[0m:\u001b[36m79\u001b[0m - \u001b[1msent the backprop data from body to head 9999 skip 1/2/3/4 grad\u001b[0m\n",
      "\u001b[32m2023-04-24 00:37:56.895\u001b[0m | \u001b[1mINFO    \u001b[0m | \u001b[36m__main__\u001b[0m:\u001b[36m<module>\u001b[0m:\u001b[36m24\u001b[0m - \u001b[1mconnected body to get data from head 5151: ('127.0.0.1', 56400)\u001b[0m\n"
     ]
    },
    {
     "name": "stdout",
     "output_type": "stream",
     "text": [
      "Block 5 out -> [4, 128, 7, 7]\n",
      "Block 6 out -> [4, 64, 14, 14]\n",
      "Block 7 out -> [4, 32, 28, 28]\n",
      "Block 8 out -> [4, 16, 56, 56]\n"
     ]
    },
    {
     "name": "stderr",
     "output_type": "stream",
     "text": [
      "\u001b[32m2023-04-24 00:38:07.082\u001b[0m | \u001b[1mINFO    \u001b[0m | \u001b[36m__main__\u001b[0m:\u001b[36m<module>\u001b[0m:\u001b[36m40\u001b[0m - \u001b[1mdisconnected body to get data from head 5151: ('127.0.0.1', 56400)\u001b[0m\n",
      "\u001b[32m2023-04-24 00:38:07.118\u001b[0m | \u001b[1mINFO    \u001b[0m | \u001b[36m__main__\u001b[0m:\u001b[36m<module>\u001b[0m:\u001b[36m48\u001b[0m - \u001b[1msent the data from head to tail 7171 bd_layer_data\u001b[0m\n"
     ]
    },
    {
     "name": "stdout",
     "output_type": "stream",
     "text": [
      "Block 9 out -> [4, 8, 112, 112]\n"
     ]
    },
    {
     "name": "stderr",
     "output_type": "stream",
     "text": [
      "\u001b[32m2023-04-24 00:38:07.372\u001b[0m | \u001b[1mINFO    \u001b[0m | \u001b[36m__main__\u001b[0m:\u001b[36m<module>\u001b[0m:\u001b[36m52\u001b[0m - \u001b[1mconnected body to get data from tail 8181: ('127.0.0.1', 56412)\u001b[0m\n",
      "\u001b[32m2023-04-24 00:38:30.757\u001b[0m | \u001b[1mINFO    \u001b[0m | \u001b[36m__main__\u001b[0m:\u001b[36m<module>\u001b[0m:\u001b[36m69\u001b[0m - \u001b[1mdisconnected body to get data from tail 8181: ('127.0.0.1', 56412)\u001b[0m\n",
      "\u001b[32m2023-04-24 00:38:30.922\u001b[0m | \u001b[1mINFO    \u001b[0m | \u001b[36m__main__\u001b[0m:\u001b[36m<module>\u001b[0m:\u001b[36m79\u001b[0m - \u001b[1msent the backprop data from body to head 9999 skip 1/2/3/4 grad\u001b[0m\n",
      "\u001b[32m2023-04-24 00:38:52.886\u001b[0m | \u001b[1mINFO    \u001b[0m | \u001b[36m__main__\u001b[0m:\u001b[36m<module>\u001b[0m:\u001b[36m24\u001b[0m - \u001b[1mconnected body to get data from head 5151: ('127.0.0.1', 56441)\u001b[0m\n"
     ]
    },
    {
     "name": "stdout",
     "output_type": "stream",
     "text": [
      "Block 5 out -> [4, 128, 7, 7]\n",
      "Block 6 out -> [4, 64, 14, 14]\n",
      "Block 7 out -> [4, 32, 28, 28]\n",
      "Block 8 out -> [4, 16, 56, 56]\n"
     ]
    },
    {
     "name": "stderr",
     "output_type": "stream",
     "text": [
      "\u001b[32m2023-04-24 00:39:03.516\u001b[0m | \u001b[1mINFO    \u001b[0m | \u001b[36m__main__\u001b[0m:\u001b[36m<module>\u001b[0m:\u001b[36m40\u001b[0m - \u001b[1mdisconnected body to get data from head 5151: ('127.0.0.1', 56441)\u001b[0m\n",
      "\u001b[32m2023-04-24 00:39:03.549\u001b[0m | \u001b[1mINFO    \u001b[0m | \u001b[36m__main__\u001b[0m:\u001b[36m<module>\u001b[0m:\u001b[36m48\u001b[0m - \u001b[1msent the data from head to tail 7171 bd_layer_data\u001b[0m\n"
     ]
    },
    {
     "name": "stdout",
     "output_type": "stream",
     "text": [
      "Block 9 out -> [4, 8, 112, 112]\n"
     ]
    },
    {
     "name": "stderr",
     "output_type": "stream",
     "text": [
      "\u001b[32m2023-04-24 00:39:03.815\u001b[0m | \u001b[1mINFO    \u001b[0m | \u001b[36m__main__\u001b[0m:\u001b[36m<module>\u001b[0m:\u001b[36m52\u001b[0m - \u001b[1mconnected body to get data from tail 8181: ('127.0.0.1', 56452)\u001b[0m\n",
      "\u001b[32m2023-04-24 00:39:17.888\u001b[0m | \u001b[1mINFO    \u001b[0m | \u001b[36m__main__\u001b[0m:\u001b[36m<module>\u001b[0m:\u001b[36m69\u001b[0m - \u001b[1mdisconnected body to get data from tail 8181: ('127.0.0.1', 56452)\u001b[0m\n",
      "\u001b[32m2023-04-24 00:39:18.010\u001b[0m | \u001b[1mINFO    \u001b[0m | \u001b[36m__main__\u001b[0m:\u001b[36m<module>\u001b[0m:\u001b[36m79\u001b[0m - \u001b[1msent the backprop data from body to head 9999 skip 1/2/3/4 grad\u001b[0m\n",
      "\u001b[32m2023-04-24 00:39:39.348\u001b[0m | \u001b[1mINFO    \u001b[0m | \u001b[36m__main__\u001b[0m:\u001b[36m<module>\u001b[0m:\u001b[36m24\u001b[0m - \u001b[1mconnected body to get data from head 5151: ('127.0.0.1', 56479)\u001b[0m\n"
     ]
    },
    {
     "name": "stdout",
     "output_type": "stream",
     "text": [
      "Block 5 out -> [4, 128, 7, 7]\n",
      "Block 6 out -> [4, 64, 14, 14]\n",
      "Block 7 out -> [4, 32, 28, 28]\n",
      "Block 8 out -> [4, 16, 56, 56]\n"
     ]
    },
    {
     "name": "stderr",
     "output_type": "stream",
     "text": [
      "\u001b[32m2023-04-24 00:39:49.426\u001b[0m | \u001b[1mINFO    \u001b[0m | \u001b[36m__main__\u001b[0m:\u001b[36m<module>\u001b[0m:\u001b[36m40\u001b[0m - \u001b[1mdisconnected body to get data from head 5151: ('127.0.0.1', 56479)\u001b[0m\n",
      "\u001b[32m2023-04-24 00:39:49.447\u001b[0m | \u001b[1mINFO    \u001b[0m | \u001b[36m__main__\u001b[0m:\u001b[36m<module>\u001b[0m:\u001b[36m48\u001b[0m - \u001b[1msent the data from head to tail 7171 bd_layer_data\u001b[0m\n"
     ]
    },
    {
     "name": "stdout",
     "output_type": "stream",
     "text": [
      "Block 9 out -> [4, 8, 112, 112]\n"
     ]
    },
    {
     "name": "stderr",
     "output_type": "stream",
     "text": [
      "\u001b[32m2023-04-24 00:39:49.688\u001b[0m | \u001b[1mINFO    \u001b[0m | \u001b[36m__main__\u001b[0m:\u001b[36m<module>\u001b[0m:\u001b[36m52\u001b[0m - \u001b[1mconnected body to get data from tail 8181: ('127.0.0.1', 56486)\u001b[0m\n",
      "\u001b[32m2023-04-24 00:40:16.538\u001b[0m | \u001b[1mINFO    \u001b[0m | \u001b[36m__main__\u001b[0m:\u001b[36m<module>\u001b[0m:\u001b[36m69\u001b[0m - \u001b[1mdisconnected body to get data from tail 8181: ('127.0.0.1', 56486)\u001b[0m\n",
      "\u001b[32m2023-04-24 00:40:16.726\u001b[0m | \u001b[1mINFO    \u001b[0m | \u001b[36m__main__\u001b[0m:\u001b[36m<module>\u001b[0m:\u001b[36m79\u001b[0m - \u001b[1msent the backprop data from body to head 9999 skip 1/2/3/4 grad\u001b[0m\n",
      "\u001b[32m2023-04-24 00:40:39.189\u001b[0m | \u001b[1mINFO    \u001b[0m | \u001b[36m__main__\u001b[0m:\u001b[36m<module>\u001b[0m:\u001b[36m24\u001b[0m - \u001b[1mconnected body to get data from head 5151: ('127.0.0.1', 56512)\u001b[0m\n"
     ]
    },
    {
     "name": "stdout",
     "output_type": "stream",
     "text": [
      "Block 5 out -> [4, 128, 7, 7]\n",
      "Block 6 out -> [4, 64, 14, 14]\n",
      "Block 7 out -> [4, 32, 28, 28]\n",
      "Block 8 out -> [4, 16, 56, 56]\n"
     ]
    },
    {
     "name": "stderr",
     "output_type": "stream",
     "text": [
      "\u001b[32m2023-04-24 00:40:50.414\u001b[0m | \u001b[1mINFO    \u001b[0m | \u001b[36m__main__\u001b[0m:\u001b[36m<module>\u001b[0m:\u001b[36m40\u001b[0m - \u001b[1mdisconnected body to get data from head 5151: ('127.0.0.1', 56512)\u001b[0m\n",
      "\u001b[32m2023-04-24 00:40:50.434\u001b[0m | \u001b[1mINFO    \u001b[0m | \u001b[36m__main__\u001b[0m:\u001b[36m<module>\u001b[0m:\u001b[36m48\u001b[0m - \u001b[1msent the data from head to tail 7171 bd_layer_data\u001b[0m\n"
     ]
    },
    {
     "name": "stdout",
     "output_type": "stream",
     "text": [
      "Block 9 out -> [4, 8, 112, 112]\n"
     ]
    },
    {
     "name": "stderr",
     "output_type": "stream",
     "text": [
      "\u001b[32m2023-04-24 00:40:50.688\u001b[0m | \u001b[1mINFO    \u001b[0m | \u001b[36m__main__\u001b[0m:\u001b[36m<module>\u001b[0m:\u001b[36m52\u001b[0m - \u001b[1mconnected body to get data from tail 8181: ('127.0.0.1', 56527)\u001b[0m\n",
      "\u001b[32m2023-04-24 00:41:09.270\u001b[0m | \u001b[1mINFO    \u001b[0m | \u001b[36m__main__\u001b[0m:\u001b[36m<module>\u001b[0m:\u001b[36m69\u001b[0m - \u001b[1mdisconnected body to get data from tail 8181: ('127.0.0.1', 56527)\u001b[0m\n",
      "\u001b[32m2023-04-24 00:41:09.427\u001b[0m | \u001b[1mINFO    \u001b[0m | \u001b[36m__main__\u001b[0m:\u001b[36m<module>\u001b[0m:\u001b[36m79\u001b[0m - \u001b[1msent the backprop data from body to head 9999 skip 1/2/3/4 grad\u001b[0m\n",
      "\u001b[32m2023-04-24 00:41:29.620\u001b[0m | \u001b[1mINFO    \u001b[0m | \u001b[36m__main__\u001b[0m:\u001b[36m<module>\u001b[0m:\u001b[36m24\u001b[0m - \u001b[1mconnected body to get data from head 5151: ('127.0.0.1', 56550)\u001b[0m\n"
     ]
    },
    {
     "name": "stdout",
     "output_type": "stream",
     "text": [
      "Block 5 out -> [4, 128, 7, 7]\n",
      "Block 6 out -> [4, 64, 14, 14]\n",
      "Block 7 out -> [4, 32, 28, 28]\n",
      "Block 8 out -> [4, 16, 56, 56]\n"
     ]
    },
    {
     "name": "stderr",
     "output_type": "stream",
     "text": [
      "\u001b[32m2023-04-24 00:41:39.176\u001b[0m | \u001b[1mINFO    \u001b[0m | \u001b[36m__main__\u001b[0m:\u001b[36m<module>\u001b[0m:\u001b[36m40\u001b[0m - \u001b[1mdisconnected body to get data from head 5151: ('127.0.0.1', 56550)\u001b[0m\n",
      "\u001b[32m2023-04-24 00:41:39.202\u001b[0m | \u001b[1mINFO    \u001b[0m | \u001b[36m__main__\u001b[0m:\u001b[36m<module>\u001b[0m:\u001b[36m48\u001b[0m - \u001b[1msent the data from head to tail 7171 bd_layer_data\u001b[0m\n"
     ]
    },
    {
     "name": "stdout",
     "output_type": "stream",
     "text": [
      "Block 9 out -> [4, 8, 112, 112]\n"
     ]
    },
    {
     "name": "stderr",
     "output_type": "stream",
     "text": [
      "\u001b[32m2023-04-24 00:41:39.442\u001b[0m | \u001b[1mINFO    \u001b[0m | \u001b[36m__main__\u001b[0m:\u001b[36m<module>\u001b[0m:\u001b[36m52\u001b[0m - \u001b[1mconnected body to get data from tail 8181: ('127.0.0.1', 56556)\u001b[0m\n",
      "\u001b[32m2023-04-24 00:41:56.942\u001b[0m | \u001b[1mINFO    \u001b[0m | \u001b[36m__main__\u001b[0m:\u001b[36m<module>\u001b[0m:\u001b[36m69\u001b[0m - \u001b[1mdisconnected body to get data from tail 8181: ('127.0.0.1', 56556)\u001b[0m\n",
      "\u001b[32m2023-04-24 00:41:57.168\u001b[0m | \u001b[1mINFO    \u001b[0m | \u001b[36m__main__\u001b[0m:\u001b[36m<module>\u001b[0m:\u001b[36m79\u001b[0m - \u001b[1msent the backprop data from body to head 9999 skip 1/2/3/4 grad\u001b[0m\n",
      "\u001b[32m2023-04-24 00:42:18.252\u001b[0m | \u001b[1mINFO    \u001b[0m | \u001b[36m__main__\u001b[0m:\u001b[36m<module>\u001b[0m:\u001b[36m24\u001b[0m - \u001b[1mconnected body to get data from head 5151: ('127.0.0.1', 56575)\u001b[0m\n"
     ]
    },
    {
     "name": "stdout",
     "output_type": "stream",
     "text": [
      "Block 5 out -> [4, 128, 7, 7]\n",
      "Block 6 out -> [4, 64, 14, 14]\n",
      "Block 7 out -> [4, 32, 28, 28]\n",
      "Block 8 out -> [4, 16, 56, 56]\n"
     ]
    },
    {
     "name": "stderr",
     "output_type": "stream",
     "text": [
      "\u001b[32m2023-04-24 00:42:28.842\u001b[0m | \u001b[1mINFO    \u001b[0m | \u001b[36m__main__\u001b[0m:\u001b[36m<module>\u001b[0m:\u001b[36m40\u001b[0m - \u001b[1mdisconnected body to get data from head 5151: ('127.0.0.1', 56575)\u001b[0m\n",
      "\u001b[32m2023-04-24 00:42:28.868\u001b[0m | \u001b[1mINFO    \u001b[0m | \u001b[36m__main__\u001b[0m:\u001b[36m<module>\u001b[0m:\u001b[36m48\u001b[0m - \u001b[1msent the data from head to tail 7171 bd_layer_data\u001b[0m\n"
     ]
    },
    {
     "name": "stdout",
     "output_type": "stream",
     "text": [
      "Block 9 out -> [4, 8, 112, 112]\n"
     ]
    },
    {
     "name": "stderr",
     "output_type": "stream",
     "text": [
      "\u001b[32m2023-04-24 00:42:29.104\u001b[0m | \u001b[1mINFO    \u001b[0m | \u001b[36m__main__\u001b[0m:\u001b[36m<module>\u001b[0m:\u001b[36m52\u001b[0m - \u001b[1mconnected body to get data from tail 8181: ('127.0.0.1', 56579)\u001b[0m\n",
      "\u001b[32m2023-04-24 00:42:45.337\u001b[0m | \u001b[1mINFO    \u001b[0m | \u001b[36m__main__\u001b[0m:\u001b[36m<module>\u001b[0m:\u001b[36m69\u001b[0m - \u001b[1mdisconnected body to get data from tail 8181: ('127.0.0.1', 56579)\u001b[0m\n",
      "\u001b[32m2023-04-24 00:42:45.556\u001b[0m | \u001b[1mINFO    \u001b[0m | \u001b[36m__main__\u001b[0m:\u001b[36m<module>\u001b[0m:\u001b[36m79\u001b[0m - \u001b[1msent the backprop data from body to head 9999 skip 1/2/3/4 grad\u001b[0m\n",
      "\u001b[32m2023-04-24 00:43:05.024\u001b[0m | \u001b[1mINFO    \u001b[0m | \u001b[36m__main__\u001b[0m:\u001b[36m<module>\u001b[0m:\u001b[36m24\u001b[0m - \u001b[1mconnected body to get data from head 5151: ('127.0.0.1', 56595)\u001b[0m\n"
     ]
    },
    {
     "name": "stdout",
     "output_type": "stream",
     "text": [
      "Block 5 out -> [4, 128, 7, 7]\n",
      "Block 6 out -> [4, 64, 14, 14]\n",
      "Block 7 out -> [4, 32, 28, 28]\n",
      "Block 8 out -> [4, 16, 56, 56]\n"
     ]
    },
    {
     "name": "stderr",
     "output_type": "stream",
     "text": [
      "\u001b[32m2023-04-24 00:43:14.514\u001b[0m | \u001b[1mINFO    \u001b[0m | \u001b[36m__main__\u001b[0m:\u001b[36m<module>\u001b[0m:\u001b[36m40\u001b[0m - \u001b[1mdisconnected body to get data from head 5151: ('127.0.0.1', 56595)\u001b[0m\n",
      "\u001b[32m2023-04-24 00:43:14.546\u001b[0m | \u001b[1mINFO    \u001b[0m | \u001b[36m__main__\u001b[0m:\u001b[36m<module>\u001b[0m:\u001b[36m48\u001b[0m - \u001b[1msent the data from head to tail 7171 bd_layer_data\u001b[0m\n"
     ]
    },
    {
     "name": "stdout",
     "output_type": "stream",
     "text": [
      "Block 9 out -> [4, 8, 112, 112]\n"
     ]
    },
    {
     "name": "stderr",
     "output_type": "stream",
     "text": [
      "\u001b[32m2023-04-24 00:43:14.831\u001b[0m | \u001b[1mINFO    \u001b[0m | \u001b[36m__main__\u001b[0m:\u001b[36m<module>\u001b[0m:\u001b[36m52\u001b[0m - \u001b[1mconnected body to get data from tail 8181: ('127.0.0.1', 56603)\u001b[0m\n",
      "\u001b[32m2023-04-24 00:43:30.236\u001b[0m | \u001b[1mINFO    \u001b[0m | \u001b[36m__main__\u001b[0m:\u001b[36m<module>\u001b[0m:\u001b[36m69\u001b[0m - \u001b[1mdisconnected body to get data from tail 8181: ('127.0.0.1', 56603)\u001b[0m\n",
      "\u001b[32m2023-04-24 00:43:30.380\u001b[0m | \u001b[1mINFO    \u001b[0m | \u001b[36m__main__\u001b[0m:\u001b[36m<module>\u001b[0m:\u001b[36m79\u001b[0m - \u001b[1msent the backprop data from body to head 9999 skip 1/2/3/4 grad\u001b[0m\n",
      "\u001b[32m2023-04-24 00:43:51.317\u001b[0m | \u001b[1mINFO    \u001b[0m | \u001b[36m__main__\u001b[0m:\u001b[36m<module>\u001b[0m:\u001b[36m24\u001b[0m - \u001b[1mconnected body to get data from head 5151: ('127.0.0.1', 56625)\u001b[0m\n"
     ]
    },
    {
     "name": "stdout",
     "output_type": "stream",
     "text": [
      "Block 5 out -> [4, 128, 7, 7]\n",
      "Block 6 out -> [4, 64, 14, 14]\n",
      "Block 7 out -> [4, 32, 28, 28]\n",
      "Block 8 out -> [4, 16, 56, 56]\n"
     ]
    },
    {
     "name": "stderr",
     "output_type": "stream",
     "text": [
      "\u001b[32m2023-04-24 00:44:02.743\u001b[0m | \u001b[1mINFO    \u001b[0m | \u001b[36m__main__\u001b[0m:\u001b[36m<module>\u001b[0m:\u001b[36m40\u001b[0m - \u001b[1mdisconnected body to get data from head 5151: ('127.0.0.1', 56625)\u001b[0m\n",
      "\u001b[32m2023-04-24 00:44:02.775\u001b[0m | \u001b[1mINFO    \u001b[0m | \u001b[36m__main__\u001b[0m:\u001b[36m<module>\u001b[0m:\u001b[36m48\u001b[0m - \u001b[1msent the data from head to tail 7171 bd_layer_data\u001b[0m\n"
     ]
    },
    {
     "name": "stdout",
     "output_type": "stream",
     "text": [
      "Block 9 out -> [4, 8, 112, 112]\n"
     ]
    },
    {
     "name": "stderr",
     "output_type": "stream",
     "text": [
      "\u001b[32m2023-04-24 00:44:03.063\u001b[0m | \u001b[1mINFO    \u001b[0m | \u001b[36m__main__\u001b[0m:\u001b[36m<module>\u001b[0m:\u001b[36m52\u001b[0m - \u001b[1mconnected body to get data from tail 8181: ('127.0.0.1', 56649)\u001b[0m\n",
      "\u001b[32m2023-04-24 00:44:12.797\u001b[0m | \u001b[1mINFO    \u001b[0m | \u001b[36m__main__\u001b[0m:\u001b[36m<module>\u001b[0m:\u001b[36m69\u001b[0m - \u001b[1mdisconnected body to get data from tail 8181: ('127.0.0.1', 56649)\u001b[0m\n",
      "\u001b[32m2023-04-24 00:44:12.823\u001b[0m | \u001b[1mINFO    \u001b[0m | \u001b[36m__main__\u001b[0m:\u001b[36m<module>\u001b[0m:\u001b[36m79\u001b[0m - \u001b[1msent the backprop data from body to head 9999 skip 1/2/3/4 grad\u001b[0m\n",
      "\u001b[32m2023-04-24 00:44:34.982\u001b[0m | \u001b[1mINFO    \u001b[0m | \u001b[36m__main__\u001b[0m:\u001b[36m<module>\u001b[0m:\u001b[36m24\u001b[0m - \u001b[1mconnected body to get data from head 5151: ('127.0.0.1', 56669)\u001b[0m\n"
     ]
    },
    {
     "name": "stdout",
     "output_type": "stream",
     "text": [
      "Block 5 out -> [4, 128, 7, 7]\n",
      "Block 6 out -> [4, 64, 14, 14]\n",
      "Block 7 out -> [4, 32, 28, 28]\n",
      "Block 8 out -> [4, 16, 56, 56]\n"
     ]
    },
    {
     "name": "stderr",
     "output_type": "stream",
     "text": [
      "\u001b[32m2023-04-24 00:44:45.393\u001b[0m | \u001b[1mINFO    \u001b[0m | \u001b[36m__main__\u001b[0m:\u001b[36m<module>\u001b[0m:\u001b[36m40\u001b[0m - \u001b[1mdisconnected body to get data from head 5151: ('127.0.0.1', 56669)\u001b[0m\n",
      "\u001b[32m2023-04-24 00:44:45.415\u001b[0m | \u001b[1mINFO    \u001b[0m | \u001b[36m__main__\u001b[0m:\u001b[36m<module>\u001b[0m:\u001b[36m48\u001b[0m - \u001b[1msent the data from head to tail 7171 bd_layer_data\u001b[0m\n"
     ]
    },
    {
     "name": "stdout",
     "output_type": "stream",
     "text": [
      "Block 9 out -> [4, 8, 112, 112]\n"
     ]
    },
    {
     "name": "stderr",
     "output_type": "stream",
     "text": [
      "\u001b[32m2023-04-24 00:44:45.635\u001b[0m | \u001b[1mINFO    \u001b[0m | \u001b[36m__main__\u001b[0m:\u001b[36m<module>\u001b[0m:\u001b[36m52\u001b[0m - \u001b[1mconnected body to get data from tail 8181: ('127.0.0.1', 56674)\u001b[0m\n",
      "\u001b[32m2023-04-24 00:45:04.227\u001b[0m | \u001b[1mINFO    \u001b[0m | \u001b[36m__main__\u001b[0m:\u001b[36m<module>\u001b[0m:\u001b[36m69\u001b[0m - \u001b[1mdisconnected body to get data from tail 8181: ('127.0.0.1', 56674)\u001b[0m\n",
      "\u001b[32m2023-04-24 00:45:04.368\u001b[0m | \u001b[1mINFO    \u001b[0m | \u001b[36m__main__\u001b[0m:\u001b[36m<module>\u001b[0m:\u001b[36m79\u001b[0m - \u001b[1msent the backprop data from body to head 9999 skip 1/2/3/4 grad\u001b[0m\n",
      "\u001b[32m2023-04-24 00:45:23.975\u001b[0m | \u001b[1mINFO    \u001b[0m | \u001b[36m__main__\u001b[0m:\u001b[36m<module>\u001b[0m:\u001b[36m24\u001b[0m - \u001b[1mconnected body to get data from head 5151: ('127.0.0.1', 56692)\u001b[0m\n"
     ]
    },
    {
     "name": "stdout",
     "output_type": "stream",
     "text": [
      "Block 5 out -> [4, 128, 7, 7]\n",
      "Block 6 out -> [4, 64, 14, 14]\n",
      "Block 7 out -> [4, 32, 28, 28]\n",
      "Block 8 out -> [4, 16, 56, 56]\n"
     ]
    },
    {
     "name": "stderr",
     "output_type": "stream",
     "text": [
      "\u001b[32m2023-04-24 00:45:33.893\u001b[0m | \u001b[1mINFO    \u001b[0m | \u001b[36m__main__\u001b[0m:\u001b[36m<module>\u001b[0m:\u001b[36m40\u001b[0m - \u001b[1mdisconnected body to get data from head 5151: ('127.0.0.1', 56692)\u001b[0m\n",
      "\u001b[32m2023-04-24 00:45:33.924\u001b[0m | \u001b[1mINFO    \u001b[0m | \u001b[36m__main__\u001b[0m:\u001b[36m<module>\u001b[0m:\u001b[36m48\u001b[0m - \u001b[1msent the data from head to tail 7171 bd_layer_data\u001b[0m\n"
     ]
    },
    {
     "name": "stdout",
     "output_type": "stream",
     "text": [
      "Block 9 out -> [4, 8, 112, 112]\n"
     ]
    },
    {
     "name": "stderr",
     "output_type": "stream",
     "text": [
      "\u001b[32m2023-04-24 00:45:34.159\u001b[0m | \u001b[1mINFO    \u001b[0m | \u001b[36m__main__\u001b[0m:\u001b[36m<module>\u001b[0m:\u001b[36m52\u001b[0m - \u001b[1mconnected body to get data from tail 8181: ('127.0.0.1', 56699)\u001b[0m\n",
      "\u001b[32m2023-04-24 00:45:49.353\u001b[0m | \u001b[1mINFO    \u001b[0m | \u001b[36m__main__\u001b[0m:\u001b[36m<module>\u001b[0m:\u001b[36m69\u001b[0m - \u001b[1mdisconnected body to get data from tail 8181: ('127.0.0.1', 56699)\u001b[0m\n",
      "\u001b[32m2023-04-24 00:45:49.552\u001b[0m | \u001b[1mINFO    \u001b[0m | \u001b[36m__main__\u001b[0m:\u001b[36m<module>\u001b[0m:\u001b[36m79\u001b[0m - \u001b[1msent the backprop data from body to head 9999 skip 1/2/3/4 grad\u001b[0m\n",
      "\u001b[32m2023-04-24 00:46:09.648\u001b[0m | \u001b[1mINFO    \u001b[0m | \u001b[36m__main__\u001b[0m:\u001b[36m<module>\u001b[0m:\u001b[36m24\u001b[0m - \u001b[1mconnected body to get data from head 5151: ('127.0.0.1', 56714)\u001b[0m\n"
     ]
    },
    {
     "name": "stdout",
     "output_type": "stream",
     "text": [
      "Block 5 out -> [4, 128, 7, 7]\n",
      "Block 6 out -> [4, 64, 14, 14]\n",
      "Block 7 out -> [4, 32, 28, 28]\n",
      "Block 8 out -> [4, 16, 56, 56]\n"
     ]
    },
    {
     "name": "stderr",
     "output_type": "stream",
     "text": [
      "\u001b[32m2023-04-24 00:46:19.150\u001b[0m | \u001b[1mINFO    \u001b[0m | \u001b[36m__main__\u001b[0m:\u001b[36m<module>\u001b[0m:\u001b[36m40\u001b[0m - \u001b[1mdisconnected body to get data from head 5151: ('127.0.0.1', 56714)\u001b[0m\n",
      "\u001b[32m2023-04-24 00:46:19.180\u001b[0m | \u001b[1mINFO    \u001b[0m | \u001b[36m__main__\u001b[0m:\u001b[36m<module>\u001b[0m:\u001b[36m48\u001b[0m - \u001b[1msent the data from head to tail 7171 bd_layer_data\u001b[0m\n"
     ]
    },
    {
     "name": "stdout",
     "output_type": "stream",
     "text": [
      "Block 9 out -> [4, 8, 112, 112]\n"
     ]
    },
    {
     "name": "stderr",
     "output_type": "stream",
     "text": [
      "\u001b[32m2023-04-24 00:46:19.486\u001b[0m | \u001b[1mINFO    \u001b[0m | \u001b[36m__main__\u001b[0m:\u001b[36m<module>\u001b[0m:\u001b[36m52\u001b[0m - \u001b[1mconnected body to get data from tail 8181: ('127.0.0.1', 56723)\u001b[0m\n",
      "\u001b[32m2023-04-24 00:46:36.452\u001b[0m | \u001b[1mINFO    \u001b[0m | \u001b[36m__main__\u001b[0m:\u001b[36m<module>\u001b[0m:\u001b[36m69\u001b[0m - \u001b[1mdisconnected body to get data from tail 8181: ('127.0.0.1', 56723)\u001b[0m\n",
      "\u001b[32m2023-04-24 00:46:36.688\u001b[0m | \u001b[1mINFO    \u001b[0m | \u001b[36m__main__\u001b[0m:\u001b[36m<module>\u001b[0m:\u001b[36m79\u001b[0m - \u001b[1msent the backprop data from body to head 9999 skip 1/2/3/4 grad\u001b[0m\n",
      "\u001b[32m2023-04-24 00:46:59.355\u001b[0m | \u001b[1mINFO    \u001b[0m | \u001b[36m__main__\u001b[0m:\u001b[36m<module>\u001b[0m:\u001b[36m24\u001b[0m - \u001b[1mconnected body to get data from head 5151: ('127.0.0.1', 56749)\u001b[0m\n"
     ]
    },
    {
     "name": "stdout",
     "output_type": "stream",
     "text": [
      "Block 5 out -> [4, 128, 7, 7]\n",
      "Block 6 out -> [4, 64, 14, 14]\n",
      "Block 7 out -> [4, 32, 28, 28]\n",
      "Block 8 out -> [4, 16, 56, 56]\n"
     ]
    },
    {
     "name": "stderr",
     "output_type": "stream",
     "text": [
      "\u001b[32m2023-04-24 00:47:09.827\u001b[0m | \u001b[1mINFO    \u001b[0m | \u001b[36m__main__\u001b[0m:\u001b[36m<module>\u001b[0m:\u001b[36m40\u001b[0m - \u001b[1mdisconnected body to get data from head 5151: ('127.0.0.1', 56749)\u001b[0m\n",
      "\u001b[32m2023-04-24 00:47:09.848\u001b[0m | \u001b[1mINFO    \u001b[0m | \u001b[36m__main__\u001b[0m:\u001b[36m<module>\u001b[0m:\u001b[36m48\u001b[0m - \u001b[1msent the data from head to tail 7171 bd_layer_data\u001b[0m\n"
     ]
    },
    {
     "name": "stdout",
     "output_type": "stream",
     "text": [
      "Block 9 out -> [4, 8, 112, 112]\n"
     ]
    },
    {
     "name": "stderr",
     "output_type": "stream",
     "text": [
      "\u001b[32m2023-04-24 00:47:10.107\u001b[0m | \u001b[1mINFO    \u001b[0m | \u001b[36m__main__\u001b[0m:\u001b[36m<module>\u001b[0m:\u001b[36m52\u001b[0m - \u001b[1mconnected body to get data from tail 8181: ('127.0.0.1', 56753)\u001b[0m\n",
      "\u001b[32m2023-04-24 00:47:24.613\u001b[0m | \u001b[1mINFO    \u001b[0m | \u001b[36m__main__\u001b[0m:\u001b[36m<module>\u001b[0m:\u001b[36m69\u001b[0m - \u001b[1mdisconnected body to get data from tail 8181: ('127.0.0.1', 56753)\u001b[0m\n",
      "\u001b[32m2023-04-24 00:47:24.784\u001b[0m | \u001b[1mINFO    \u001b[0m | \u001b[36m__main__\u001b[0m:\u001b[36m<module>\u001b[0m:\u001b[36m79\u001b[0m - \u001b[1msent the backprop data from body to head 9999 skip 1/2/3/4 grad\u001b[0m\n",
      "\u001b[32m2023-04-24 00:47:45.767\u001b[0m | \u001b[1mINFO    \u001b[0m | \u001b[36m__main__\u001b[0m:\u001b[36m<module>\u001b[0m:\u001b[36m24\u001b[0m - \u001b[1mconnected body to get data from head 5151: ('127.0.0.1', 56774)\u001b[0m\n"
     ]
    },
    {
     "name": "stdout",
     "output_type": "stream",
     "text": [
      "Block 5 out -> [4, 128, 7, 7]\n",
      "Block 6 out -> [4, 64, 14, 14]\n",
      "Block 7 out -> [4, 32, 28, 28]\n",
      "Block 8 out -> [4, 16, 56, 56]\n"
     ]
    },
    {
     "name": "stderr",
     "output_type": "stream",
     "text": [
      "\u001b[32m2023-04-24 00:47:55.621\u001b[0m | \u001b[1mINFO    \u001b[0m | \u001b[36m__main__\u001b[0m:\u001b[36m<module>\u001b[0m:\u001b[36m40\u001b[0m - \u001b[1mdisconnected body to get data from head 5151: ('127.0.0.1', 56774)\u001b[0m\n",
      "\u001b[32m2023-04-24 00:47:55.649\u001b[0m | \u001b[1mINFO    \u001b[0m | \u001b[36m__main__\u001b[0m:\u001b[36m<module>\u001b[0m:\u001b[36m48\u001b[0m - \u001b[1msent the data from head to tail 7171 bd_layer_data\u001b[0m\n"
     ]
    },
    {
     "name": "stdout",
     "output_type": "stream",
     "text": [
      "Block 9 out -> [4, 8, 112, 112]\n"
     ]
    },
    {
     "name": "stderr",
     "output_type": "stream",
     "text": [
      "\u001b[32m2023-04-24 00:47:55.915\u001b[0m | \u001b[1mINFO    \u001b[0m | \u001b[36m__main__\u001b[0m:\u001b[36m<module>\u001b[0m:\u001b[36m52\u001b[0m - \u001b[1mconnected body to get data from tail 8181: ('127.0.0.1', 56781)\u001b[0m\n",
      "\u001b[32m2023-04-24 00:48:15.565\u001b[0m | \u001b[1mINFO    \u001b[0m | \u001b[36m__main__\u001b[0m:\u001b[36m<module>\u001b[0m:\u001b[36m69\u001b[0m - \u001b[1mdisconnected body to get data from tail 8181: ('127.0.0.1', 56781)\u001b[0m\n",
      "\u001b[32m2023-04-24 00:48:15.716\u001b[0m | \u001b[1mINFO    \u001b[0m | \u001b[36m__main__\u001b[0m:\u001b[36m<module>\u001b[0m:\u001b[36m79\u001b[0m - \u001b[1msent the backprop data from body to head 9999 skip 1/2/3/4 grad\u001b[0m\n",
      "\u001b[32m2023-04-24 00:48:36.609\u001b[0m | \u001b[1mINFO    \u001b[0m | \u001b[36m__main__\u001b[0m:\u001b[36m<module>\u001b[0m:\u001b[36m24\u001b[0m - \u001b[1mconnected body to get data from head 5151: ('127.0.0.1', 56804)\u001b[0m\n"
     ]
    },
    {
     "name": "stdout",
     "output_type": "stream",
     "text": [
      "Block 5 out -> [4, 128, 7, 7]\n",
      "Block 6 out -> [4, 64, 14, 14]\n",
      "Block 7 out -> [4, 32, 28, 28]\n",
      "Block 8 out -> [4, 16, 56, 56]\n"
     ]
    },
    {
     "name": "stderr",
     "output_type": "stream",
     "text": [
      "\u001b[32m2023-04-24 00:48:46.355\u001b[0m | \u001b[1mINFO    \u001b[0m | \u001b[36m__main__\u001b[0m:\u001b[36m<module>\u001b[0m:\u001b[36m40\u001b[0m - \u001b[1mdisconnected body to get data from head 5151: ('127.0.0.1', 56804)\u001b[0m\n",
      "\u001b[32m2023-04-24 00:48:46.372\u001b[0m | \u001b[1mINFO    \u001b[0m | \u001b[36m__main__\u001b[0m:\u001b[36m<module>\u001b[0m:\u001b[36m48\u001b[0m - \u001b[1msent the data from head to tail 7171 bd_layer_data\u001b[0m\n",
      "\u001b[32m2023-04-24 00:48:46.553\u001b[0m | \u001b[1mINFO    \u001b[0m | \u001b[36m__main__\u001b[0m:\u001b[36m<module>\u001b[0m:\u001b[36m52\u001b[0m - \u001b[1mconnected body to get data from tail 8181: ('127.0.0.1', 56820)\u001b[0m\n"
     ]
    },
    {
     "name": "stdout",
     "output_type": "stream",
     "text": [
      "Block 9 out -> [4, 8, 112, 112]\n"
     ]
    },
    {
     "name": "stderr",
     "output_type": "stream",
     "text": [
      "\u001b[32m2023-04-24 00:49:01.782\u001b[0m | \u001b[1mINFO    \u001b[0m | \u001b[36m__main__\u001b[0m:\u001b[36m<module>\u001b[0m:\u001b[36m69\u001b[0m - \u001b[1mdisconnected body to get data from tail 8181: ('127.0.0.1', 56820)\u001b[0m\n",
      "\u001b[32m2023-04-24 00:49:01.913\u001b[0m | \u001b[1mINFO    \u001b[0m | \u001b[36m__main__\u001b[0m:\u001b[36m<module>\u001b[0m:\u001b[36m79\u001b[0m - \u001b[1msent the backprop data from body to head 9999 skip 1/2/3/4 grad\u001b[0m\n",
      "\u001b[32m2023-04-24 00:49:14.951\u001b[0m | \u001b[1mINFO    \u001b[0m | \u001b[36m__main__\u001b[0m:\u001b[36m<module>\u001b[0m:\u001b[36m24\u001b[0m - \u001b[1mconnected body to get data from head 5151: ('127.0.0.1', 56845)\u001b[0m\n"
     ]
    },
    {
     "name": "stdout",
     "output_type": "stream",
     "text": [
      "Block 5 out -> [4, 128, 7, 7]\n",
      "Block 6 out -> [4, 64, 14, 14]\n",
      "Block 7 out -> [4, 32, 28, 28]\n",
      "Block 8 out -> [4, 16, 56, 56]\n"
     ]
    },
    {
     "name": "stderr",
     "output_type": "stream",
     "text": [
      "\u001b[32m2023-04-24 00:49:20.892\u001b[0m | \u001b[1mINFO    \u001b[0m | \u001b[36m__main__\u001b[0m:\u001b[36m<module>\u001b[0m:\u001b[36m40\u001b[0m - \u001b[1mdisconnected body to get data from head 5151: ('127.0.0.1', 56845)\u001b[0m\n",
      "\u001b[32m2023-04-24 00:49:20.904\u001b[0m | \u001b[1mINFO    \u001b[0m | \u001b[36m__main__\u001b[0m:\u001b[36m<module>\u001b[0m:\u001b[36m48\u001b[0m - \u001b[1msent the data from head to tail 7171 bd_layer_data\u001b[0m\n"
     ]
    },
    {
     "name": "stdout",
     "output_type": "stream",
     "text": [
      "Block 9 out -> [4, 8, 112, 112]\n"
     ]
    },
    {
     "name": "stderr",
     "output_type": "stream",
     "text": [
      "\u001b[32m2023-04-24 00:49:23.224\u001b[0m | \u001b[1mINFO    \u001b[0m | \u001b[36m__main__\u001b[0m:\u001b[36m<module>\u001b[0m:\u001b[36m52\u001b[0m - \u001b[1mconnected body to get data from tail 8181: ('127.0.0.1', 56911)\u001b[0m\n",
      "\u001b[32m2023-04-24 00:49:34.704\u001b[0m | \u001b[1mINFO    \u001b[0m | \u001b[36m__main__\u001b[0m:\u001b[36m<module>\u001b[0m:\u001b[36m69\u001b[0m - \u001b[1mdisconnected body to get data from tail 8181: ('127.0.0.1', 56911)\u001b[0m\n",
      "\u001b[32m2023-04-24 00:49:34.802\u001b[0m | \u001b[1mINFO    \u001b[0m | \u001b[36m__main__\u001b[0m:\u001b[36m<module>\u001b[0m:\u001b[36m79\u001b[0m - \u001b[1msent the backprop data from body to head 9999 skip 1/2/3/4 grad\u001b[0m\n",
      "\u001b[32m2023-04-24 00:49:48.817\u001b[0m | \u001b[1mINFO    \u001b[0m | \u001b[36m__main__\u001b[0m:\u001b[36m<module>\u001b[0m:\u001b[36m24\u001b[0m - \u001b[1mconnected body to get data from head 5151: ('127.0.0.1', 56929)\u001b[0m\n"
     ]
    },
    {
     "name": "stdout",
     "output_type": "stream",
     "text": [
      "Block 5 out -> [4, 128, 7, 7]\n",
      "Block 6 out -> [4, 64, 14, 14]\n",
      "Block 7 out -> [4, 32, 28, 28]\n",
      "Block 8 out -> [4, 16, 56, 56]\n"
     ]
    },
    {
     "name": "stderr",
     "output_type": "stream",
     "text": [
      "\u001b[32m2023-04-24 00:49:55.066\u001b[0m | \u001b[1mINFO    \u001b[0m | \u001b[36m__main__\u001b[0m:\u001b[36m<module>\u001b[0m:\u001b[36m40\u001b[0m - \u001b[1mdisconnected body to get data from head 5151: ('127.0.0.1', 56929)\u001b[0m\n",
      "\u001b[32m2023-04-24 00:49:55.087\u001b[0m | \u001b[1mINFO    \u001b[0m | \u001b[36m__main__\u001b[0m:\u001b[36m<module>\u001b[0m:\u001b[36m48\u001b[0m - \u001b[1msent the data from head to tail 7171 bd_layer_data\u001b[0m\n"
     ]
    },
    {
     "name": "stdout",
     "output_type": "stream",
     "text": [
      "Block 9 out -> [4, 8, 112, 112]\n"
     ]
    },
    {
     "name": "stderr",
     "output_type": "stream",
     "text": [
      "\u001b[32m2023-04-24 00:49:56.970\u001b[0m | \u001b[1mINFO    \u001b[0m | \u001b[36m__main__\u001b[0m:\u001b[36m<module>\u001b[0m:\u001b[36m52\u001b[0m - \u001b[1mconnected body to get data from tail 8181: ('127.0.0.1', 56932)\u001b[0m\n",
      "\u001b[32m2023-04-24 00:50:09.264\u001b[0m | \u001b[1mINFO    \u001b[0m | \u001b[36m__main__\u001b[0m:\u001b[36m<module>\u001b[0m:\u001b[36m69\u001b[0m - \u001b[1mdisconnected body to get data from tail 8181: ('127.0.0.1', 56932)\u001b[0m\n",
      "\u001b[32m2023-04-24 00:50:09.442\u001b[0m | \u001b[1mINFO    \u001b[0m | \u001b[36m__main__\u001b[0m:\u001b[36m<module>\u001b[0m:\u001b[36m79\u001b[0m - \u001b[1msent the backprop data from body to head 9999 skip 1/2/3/4 grad\u001b[0m\n",
      "\u001b[32m2023-04-24 00:50:21.177\u001b[0m | \u001b[1mINFO    \u001b[0m | \u001b[36m__main__\u001b[0m:\u001b[36m<module>\u001b[0m:\u001b[36m24\u001b[0m - \u001b[1mconnected body to get data from head 5151: ('127.0.0.1', 56948)\u001b[0m\n"
     ]
    },
    {
     "name": "stdout",
     "output_type": "stream",
     "text": [
      "Block 5 out -> [4, 128, 7, 7]\n",
      "Block 6 out -> [4, 64, 14, 14]\n",
      "Block 7 out -> [4, 32, 28, 28]\n",
      "Block 8 out -> [4, 16, 56, 56]\n"
     ]
    },
    {
     "name": "stderr",
     "output_type": "stream",
     "text": [
      "\u001b[32m2023-04-24 00:50:26.606\u001b[0m | \u001b[1mINFO    \u001b[0m | \u001b[36m__main__\u001b[0m:\u001b[36m<module>\u001b[0m:\u001b[36m40\u001b[0m - \u001b[1mdisconnected body to get data from head 5151: ('127.0.0.1', 56948)\u001b[0m\n",
      "\u001b[32m2023-04-24 00:50:26.623\u001b[0m | \u001b[1mINFO    \u001b[0m | \u001b[36m__main__\u001b[0m:\u001b[36m<module>\u001b[0m:\u001b[36m48\u001b[0m - \u001b[1msent the data from head to tail 7171 bd_layer_data\u001b[0m\n"
     ]
    },
    {
     "name": "stdout",
     "output_type": "stream",
     "text": [
      "Block 9 out -> [4, 8, 112, 112]\n"
     ]
    },
    {
     "name": "stderr",
     "output_type": "stream",
     "text": [
      "\u001b[32m2023-04-24 00:50:29.349\u001b[0m | \u001b[1mINFO    \u001b[0m | \u001b[36m__main__\u001b[0m:\u001b[36m<module>\u001b[0m:\u001b[36m52\u001b[0m - \u001b[1mconnected body to get data from tail 8181: ('127.0.0.1', 56952)\u001b[0m\n",
      "\u001b[32m2023-04-24 00:50:42.182\u001b[0m | \u001b[1mINFO    \u001b[0m | \u001b[36m__main__\u001b[0m:\u001b[36m<module>\u001b[0m:\u001b[36m69\u001b[0m - \u001b[1mdisconnected body to get data from tail 8181: ('127.0.0.1', 56952)\u001b[0m\n",
      "\u001b[32m2023-04-24 00:50:42.365\u001b[0m | \u001b[1mINFO    \u001b[0m | \u001b[36m__main__\u001b[0m:\u001b[36m<module>\u001b[0m:\u001b[36m79\u001b[0m - \u001b[1msent the backprop data from body to head 9999 skip 1/2/3/4 grad\u001b[0m\n",
      "\u001b[32m2023-04-24 00:50:53.890\u001b[0m | \u001b[1mINFO    \u001b[0m | \u001b[36m__main__\u001b[0m:\u001b[36m<module>\u001b[0m:\u001b[36m24\u001b[0m - \u001b[1mconnected body to get data from head 5151: ('127.0.0.1', 56977)\u001b[0m\n"
     ]
    },
    {
     "name": "stdout",
     "output_type": "stream",
     "text": [
      "Block 5 out -> [4, 128, 7, 7]\n",
      "Block 6 out -> [4, 64, 14, 14]\n",
      "Block 7 out -> [4, 32, 28, 28]\n",
      "Block 8 out -> [4, 16, 56, 56]\n"
     ]
    },
    {
     "name": "stderr",
     "output_type": "stream",
     "text": [
      "\u001b[32m2023-04-24 00:51:00.385\u001b[0m | \u001b[1mINFO    \u001b[0m | \u001b[36m__main__\u001b[0m:\u001b[36m<module>\u001b[0m:\u001b[36m40\u001b[0m - \u001b[1mdisconnected body to get data from head 5151: ('127.0.0.1', 56977)\u001b[0m\n",
      "\u001b[32m2023-04-24 00:51:00.403\u001b[0m | \u001b[1mINFO    \u001b[0m | \u001b[36m__main__\u001b[0m:\u001b[36m<module>\u001b[0m:\u001b[36m48\u001b[0m - \u001b[1msent the data from head to tail 7171 bd_layer_data\u001b[0m\n"
     ]
    },
    {
     "name": "stdout",
     "output_type": "stream",
     "text": [
      "Block 9 out -> [4, 8, 112, 112]\n"
     ]
    },
    {
     "name": "stderr",
     "output_type": "stream",
     "text": [
      "\u001b[32m2023-04-24 00:51:02.075\u001b[0m | \u001b[1mINFO    \u001b[0m | \u001b[36m__main__\u001b[0m:\u001b[36m<module>\u001b[0m:\u001b[36m52\u001b[0m - \u001b[1mconnected body to get data from tail 8181: ('127.0.0.1', 56982)\u001b[0m\n",
      "\u001b[32m2023-04-24 00:51:19.546\u001b[0m | \u001b[1mINFO    \u001b[0m | \u001b[36m__main__\u001b[0m:\u001b[36m<module>\u001b[0m:\u001b[36m69\u001b[0m - \u001b[1mdisconnected body to get data from tail 8181: ('127.0.0.1', 56982)\u001b[0m\n",
      "\u001b[32m2023-04-24 00:51:19.687\u001b[0m | \u001b[1mINFO    \u001b[0m | \u001b[36m__main__\u001b[0m:\u001b[36m<module>\u001b[0m:\u001b[36m79\u001b[0m - \u001b[1msent the backprop data from body to head 9999 skip 1/2/3/4 grad\u001b[0m\n",
      "\u001b[32m2023-04-24 00:51:34.647\u001b[0m | \u001b[1mINFO    \u001b[0m | \u001b[36m__main__\u001b[0m:\u001b[36m<module>\u001b[0m:\u001b[36m24\u001b[0m - \u001b[1mconnected body to get data from head 5151: ('127.0.0.1', 57063)\u001b[0m\n"
     ]
    },
    {
     "name": "stdout",
     "output_type": "stream",
     "text": [
      "Block 5 out -> [4, 128, 7, 7]\n",
      "Block 6 out -> [4, 64, 14, 14]\n",
      "Block 7 out -> [4, 32, 28, 28]\n",
      "Block 8 out -> [4, 16, 56, 56]\n"
     ]
    },
    {
     "name": "stderr",
     "output_type": "stream",
     "text": [
      "\u001b[32m2023-04-24 00:51:42.233\u001b[0m | \u001b[1mINFO    \u001b[0m | \u001b[36m__main__\u001b[0m:\u001b[36m<module>\u001b[0m:\u001b[36m40\u001b[0m - \u001b[1mdisconnected body to get data from head 5151: ('127.0.0.1', 57063)\u001b[0m\n",
      "\u001b[32m2023-04-24 00:51:42.252\u001b[0m | \u001b[1mINFO    \u001b[0m | \u001b[36m__main__\u001b[0m:\u001b[36m<module>\u001b[0m:\u001b[36m48\u001b[0m - \u001b[1msent the data from head to tail 7171 bd_layer_data\u001b[0m\n"
     ]
    },
    {
     "name": "stdout",
     "output_type": "stream",
     "text": [
      "Block 9 out -> [4, 8, 112, 112]\n"
     ]
    },
    {
     "name": "stderr",
     "output_type": "stream",
     "text": [
      "\u001b[32m2023-04-24 00:51:42.931\u001b[0m | \u001b[1mINFO    \u001b[0m | \u001b[36m__main__\u001b[0m:\u001b[36m<module>\u001b[0m:\u001b[36m52\u001b[0m - \u001b[1mconnected body to get data from tail 8181: ('127.0.0.1', 57074)\u001b[0m\n",
      "\u001b[32m2023-04-24 00:51:56.193\u001b[0m | \u001b[1mINFO    \u001b[0m | \u001b[36m__main__\u001b[0m:\u001b[36m<module>\u001b[0m:\u001b[36m69\u001b[0m - \u001b[1mdisconnected body to get data from tail 8181: ('127.0.0.1', 57074)\u001b[0m\n",
      "\u001b[32m2023-04-24 00:51:56.317\u001b[0m | \u001b[1mINFO    \u001b[0m | \u001b[36m__main__\u001b[0m:\u001b[36m<module>\u001b[0m:\u001b[36m79\u001b[0m - \u001b[1msent the backprop data from body to head 9999 skip 1/2/3/4 grad\u001b[0m\n",
      "\u001b[32m2023-04-24 00:52:10.265\u001b[0m | \u001b[1mINFO    \u001b[0m | \u001b[36m__main__\u001b[0m:\u001b[36m<module>\u001b[0m:\u001b[36m24\u001b[0m - \u001b[1mconnected body to get data from head 5151: ('127.0.0.1', 57093)\u001b[0m\n"
     ]
    },
    {
     "name": "stdout",
     "output_type": "stream",
     "text": [
      "Block 5 out -> [4, 128, 7, 7]\n",
      "Block 6 out -> [4, 64, 14, 14]\n",
      "Block 7 out -> [4, 32, 28, 28]\n",
      "Block 8 out -> [4, 16, 56, 56]\n"
     ]
    },
    {
     "name": "stderr",
     "output_type": "stream",
     "text": [
      "\u001b[32m2023-04-24 00:52:16.655\u001b[0m | \u001b[1mINFO    \u001b[0m | \u001b[36m__main__\u001b[0m:\u001b[36m<module>\u001b[0m:\u001b[36m40\u001b[0m - \u001b[1mdisconnected body to get data from head 5151: ('127.0.0.1', 57093)\u001b[0m\n",
      "\u001b[32m2023-04-24 00:52:16.672\u001b[0m | \u001b[1mINFO    \u001b[0m | \u001b[36m__main__\u001b[0m:\u001b[36m<module>\u001b[0m:\u001b[36m48\u001b[0m - \u001b[1msent the data from head to tail 7171 bd_layer_data\u001b[0m\n"
     ]
    },
    {
     "name": "stdout",
     "output_type": "stream",
     "text": [
      "Block 9 out -> [4, 8, 112, 112]\n"
     ]
    },
    {
     "name": "stderr",
     "output_type": "stream",
     "text": [
      "\u001b[32m2023-04-24 00:52:18.562\u001b[0m | \u001b[1mINFO    \u001b[0m | \u001b[36m__main__\u001b[0m:\u001b[36m<module>\u001b[0m:\u001b[36m52\u001b[0m - \u001b[1mconnected body to get data from tail 8181: ('127.0.0.1', 57096)\u001b[0m\n",
      "\u001b[32m2023-04-24 00:52:34.501\u001b[0m | \u001b[1mINFO    \u001b[0m | \u001b[36m__main__\u001b[0m:\u001b[36m<module>\u001b[0m:\u001b[36m69\u001b[0m - \u001b[1mdisconnected body to get data from tail 8181: ('127.0.0.1', 57096)\u001b[0m\n",
      "\u001b[32m2023-04-24 00:52:34.681\u001b[0m | \u001b[1mINFO    \u001b[0m | \u001b[36m__main__\u001b[0m:\u001b[36m<module>\u001b[0m:\u001b[36m79\u001b[0m - \u001b[1msent the backprop data from body to head 9999 skip 1/2/3/4 grad\u001b[0m\n",
      "\u001b[32m2023-04-24 00:52:50.100\u001b[0m | \u001b[1mINFO    \u001b[0m | \u001b[36m__main__\u001b[0m:\u001b[36m<module>\u001b[0m:\u001b[36m24\u001b[0m - \u001b[1mconnected body to get data from head 5151: ('127.0.0.1', 57109)\u001b[0m\n"
     ]
    },
    {
     "name": "stdout",
     "output_type": "stream",
     "text": [
      "Block 5 out -> [4, 128, 7, 7]\n",
      "Block 6 out -> [4, 64, 14, 14]\n",
      "Block 7 out -> [4, 32, 28, 28]\n",
      "Block 8 out -> [4, 16, 56, 56]\n"
     ]
    },
    {
     "name": "stderr",
     "output_type": "stream",
     "text": [
      "\u001b[32m2023-04-24 00:52:58.010\u001b[0m | \u001b[1mINFO    \u001b[0m | \u001b[36m__main__\u001b[0m:\u001b[36m<module>\u001b[0m:\u001b[36m40\u001b[0m - \u001b[1mdisconnected body to get data from head 5151: ('127.0.0.1', 57109)\u001b[0m\n",
      "\u001b[32m2023-04-24 00:52:58.026\u001b[0m | \u001b[1mINFO    \u001b[0m | \u001b[36m__main__\u001b[0m:\u001b[36m<module>\u001b[0m:\u001b[36m48\u001b[0m - \u001b[1msent the data from head to tail 7171 bd_layer_data\u001b[0m\n"
     ]
    },
    {
     "name": "stdout",
     "output_type": "stream",
     "text": [
      "Block 9 out -> [4, 8, 112, 112]\n"
     ]
    },
    {
     "name": "stderr",
     "output_type": "stream",
     "text": [
      "\u001b[32m2023-04-24 00:52:58.396\u001b[0m | \u001b[1mINFO    \u001b[0m | \u001b[36m__main__\u001b[0m:\u001b[36m<module>\u001b[0m:\u001b[36m52\u001b[0m - \u001b[1mconnected body to get data from tail 8181: ('127.0.0.1', 57117)\u001b[0m\n",
      "\u001b[32m2023-04-24 00:53:11.760\u001b[0m | \u001b[1mINFO    \u001b[0m | \u001b[36m__main__\u001b[0m:\u001b[36m<module>\u001b[0m:\u001b[36m69\u001b[0m - \u001b[1mdisconnected body to get data from tail 8181: ('127.0.0.1', 57117)\u001b[0m\n",
      "\u001b[32m2023-04-24 00:53:11.883\u001b[0m | \u001b[1mINFO    \u001b[0m | \u001b[36m__main__\u001b[0m:\u001b[36m<module>\u001b[0m:\u001b[36m79\u001b[0m - \u001b[1msent the backprop data from body to head 9999 skip 1/2/3/4 grad\u001b[0m\n",
      "\u001b[32m2023-04-24 00:53:26.989\u001b[0m | \u001b[1mINFO    \u001b[0m | \u001b[36m__main__\u001b[0m:\u001b[36m<module>\u001b[0m:\u001b[36m24\u001b[0m - \u001b[1mconnected body to get data from head 5151: ('127.0.0.1', 57141)\u001b[0m\n"
     ]
    },
    {
     "name": "stdout",
     "output_type": "stream",
     "text": [
      "Block 5 out -> [4, 128, 7, 7]\n",
      "Block 6 out -> [4, 64, 14, 14]\n",
      "Block 7 out -> [4, 32, 28, 28]\n",
      "Block 8 out -> [4, 16, 56, 56]\n"
     ]
    },
    {
     "name": "stderr",
     "output_type": "stream",
     "text": [
      "\u001b[32m2023-04-24 00:53:34.269\u001b[0m | \u001b[1mINFO    \u001b[0m | \u001b[36m__main__\u001b[0m:\u001b[36m<module>\u001b[0m:\u001b[36m40\u001b[0m - \u001b[1mdisconnected body to get data from head 5151: ('127.0.0.1', 57141)\u001b[0m\n",
      "\u001b[32m2023-04-24 00:53:34.283\u001b[0m | \u001b[1mINFO    \u001b[0m | \u001b[36m__main__\u001b[0m:\u001b[36m<module>\u001b[0m:\u001b[36m48\u001b[0m - \u001b[1msent the data from head to tail 7171 bd_layer_data\u001b[0m\n"
     ]
    },
    {
     "name": "stdout",
     "output_type": "stream",
     "text": [
      "Block 9 out -> [4, 8, 112, 112]\n"
     ]
    },
    {
     "name": "stderr",
     "output_type": "stream",
     "text": [
      "\u001b[32m2023-04-24 00:53:35.165\u001b[0m | \u001b[1mINFO    \u001b[0m | \u001b[36m__main__\u001b[0m:\u001b[36m<module>\u001b[0m:\u001b[36m52\u001b[0m - \u001b[1mconnected body to get data from tail 8181: ('127.0.0.1', 57155)\u001b[0m\n",
      "\u001b[32m2023-04-24 00:53:51.705\u001b[0m | \u001b[1mINFO    \u001b[0m | \u001b[36m__main__\u001b[0m:\u001b[36m<module>\u001b[0m:\u001b[36m69\u001b[0m - \u001b[1mdisconnected body to get data from tail 8181: ('127.0.0.1', 57155)\u001b[0m\n",
      "\u001b[32m2023-04-24 00:53:51.836\u001b[0m | \u001b[1mINFO    \u001b[0m | \u001b[36m__main__\u001b[0m:\u001b[36m<module>\u001b[0m:\u001b[36m79\u001b[0m - \u001b[1msent the backprop data from body to head 9999 skip 1/2/3/4 grad\u001b[0m\n",
      "\u001b[32m2023-04-24 00:54:08.825\u001b[0m | \u001b[1mINFO    \u001b[0m | \u001b[36m__main__\u001b[0m:\u001b[36m<module>\u001b[0m:\u001b[36m24\u001b[0m - \u001b[1mconnected body to get data from head 5151: ('127.0.0.1', 57178)\u001b[0m\n"
     ]
    },
    {
     "name": "stdout",
     "output_type": "stream",
     "text": [
      "Block 5 out -> [4, 128, 7, 7]\n",
      "Block 6 out -> [4, 64, 14, 14]\n",
      "Block 7 out -> [4, 32, 28, 28]\n",
      "Block 8 out -> [4, 16, 56, 56]\n"
     ]
    },
    {
     "name": "stderr",
     "output_type": "stream",
     "text": [
      "\u001b[32m2023-04-24 00:54:17.384\u001b[0m | \u001b[1mINFO    \u001b[0m | \u001b[36m__main__\u001b[0m:\u001b[36m<module>\u001b[0m:\u001b[36m40\u001b[0m - \u001b[1mdisconnected body to get data from head 5151: ('127.0.0.1', 57178)\u001b[0m\n",
      "\u001b[32m2023-04-24 00:54:17.417\u001b[0m | \u001b[1mINFO    \u001b[0m | \u001b[36m__main__\u001b[0m:\u001b[36m<module>\u001b[0m:\u001b[36m48\u001b[0m - \u001b[1msent the data from head to tail 7171 bd_layer_data\u001b[0m\n"
     ]
    },
    {
     "name": "stdout",
     "output_type": "stream",
     "text": [
      "Block 9 out -> [4, 8, 112, 112]\n"
     ]
    },
    {
     "name": "stderr",
     "output_type": "stream",
     "text": [
      "\u001b[32m2023-04-24 00:54:17.775\u001b[0m | \u001b[1mINFO    \u001b[0m | \u001b[36m__main__\u001b[0m:\u001b[36m<module>\u001b[0m:\u001b[36m52\u001b[0m - \u001b[1mconnected body to get data from tail 8181: ('127.0.0.1', 57232)\u001b[0m\n",
      "\u001b[32m2023-04-24 00:54:41.626\u001b[0m | \u001b[1mINFO    \u001b[0m | \u001b[36m__main__\u001b[0m:\u001b[36m<module>\u001b[0m:\u001b[36m69\u001b[0m - \u001b[1mdisconnected body to get data from tail 8181: ('127.0.0.1', 57232)\u001b[0m\n",
      "\u001b[32m2023-04-24 00:54:41.826\u001b[0m | \u001b[1mINFO    \u001b[0m | \u001b[36m__main__\u001b[0m:\u001b[36m<module>\u001b[0m:\u001b[36m79\u001b[0m - \u001b[1msent the backprop data from body to head 9999 skip 1/2/3/4 grad\u001b[0m\n",
      "\u001b[32m2023-04-24 00:54:59.269\u001b[0m | \u001b[1mINFO    \u001b[0m | \u001b[36m__main__\u001b[0m:\u001b[36m<module>\u001b[0m:\u001b[36m24\u001b[0m - \u001b[1mconnected body to get data from head 5151: ('127.0.0.1', 57295)\u001b[0m\n"
     ]
    },
    {
     "name": "stdout",
     "output_type": "stream",
     "text": [
      "Block 5 out -> [4, 128, 7, 7]\n",
      "Block 6 out -> [4, 64, 14, 14]\n",
      "Block 7 out -> [4, 32, 28, 28]\n",
      "Block 8 out -> [4, 16, 56, 56]\n"
     ]
    },
    {
     "name": "stderr",
     "output_type": "stream",
     "text": [
      "\u001b[32m2023-04-24 00:55:07.316\u001b[0m | \u001b[1mINFO    \u001b[0m | \u001b[36m__main__\u001b[0m:\u001b[36m<module>\u001b[0m:\u001b[36m40\u001b[0m - \u001b[1mdisconnected body to get data from head 5151: ('127.0.0.1', 57295)\u001b[0m\n",
      "\u001b[32m2023-04-24 00:55:07.334\u001b[0m | \u001b[1mINFO    \u001b[0m | \u001b[36m__main__\u001b[0m:\u001b[36m<module>\u001b[0m:\u001b[36m48\u001b[0m - \u001b[1msent the data from head to tail 7171 bd_layer_data\u001b[0m\n",
      "\u001b[32m2023-04-24 00:55:07.517\u001b[0m | \u001b[1mINFO    \u001b[0m | \u001b[36m__main__\u001b[0m:\u001b[36m<module>\u001b[0m:\u001b[36m52\u001b[0m - \u001b[1mconnected body to get data from tail 8181: ('127.0.0.1', 57300)\u001b[0m\n"
     ]
    },
    {
     "name": "stdout",
     "output_type": "stream",
     "text": [
      "Block 9 out -> [4, 8, 112, 112]\n"
     ]
    },
    {
     "name": "stderr",
     "output_type": "stream",
     "text": [
      "\u001b[32m2023-04-24 00:55:21.406\u001b[0m | \u001b[1mINFO    \u001b[0m | \u001b[36m__main__\u001b[0m:\u001b[36m<module>\u001b[0m:\u001b[36m69\u001b[0m - \u001b[1mdisconnected body to get data from tail 8181: ('127.0.0.1', 57300)\u001b[0m\n",
      "\u001b[32m2023-04-24 00:55:21.551\u001b[0m | \u001b[1mINFO    \u001b[0m | \u001b[36m__main__\u001b[0m:\u001b[36m<module>\u001b[0m:\u001b[36m79\u001b[0m - \u001b[1msent the backprop data from body to head 9999 skip 1/2/3/4 grad\u001b[0m\n",
      "\u001b[32m2023-04-24 00:55:37.676\u001b[0m | \u001b[1mINFO    \u001b[0m | \u001b[36m__main__\u001b[0m:\u001b[36m<module>\u001b[0m:\u001b[36m24\u001b[0m - \u001b[1mconnected body to get data from head 5151: ('127.0.0.1', 57319)\u001b[0m\n"
     ]
    },
    {
     "name": "stdout",
     "output_type": "stream",
     "text": [
      "Block 5 out -> [4, 128, 7, 7]\n",
      "Block 6 out -> [4, 64, 14, 14]\n",
      "Block 7 out -> [4, 32, 28, 28]\n",
      "Block 8 out -> [4, 16, 56, 56]\n"
     ]
    },
    {
     "name": "stderr",
     "output_type": "stream",
     "text": [
      "\u001b[32m2023-04-24 00:55:45.099\u001b[0m | \u001b[1mINFO    \u001b[0m | \u001b[36m__main__\u001b[0m:\u001b[36m<module>\u001b[0m:\u001b[36m40\u001b[0m - \u001b[1mdisconnected body to get data from head 5151: ('127.0.0.1', 57319)\u001b[0m\n",
      "\u001b[32m2023-04-24 00:55:45.116\u001b[0m | \u001b[1mINFO    \u001b[0m | \u001b[36m__main__\u001b[0m:\u001b[36m<module>\u001b[0m:\u001b[36m48\u001b[0m - \u001b[1msent the data from head to tail 7171 bd_layer_data\u001b[0m\n"
     ]
    },
    {
     "name": "stdout",
     "output_type": "stream",
     "text": [
      "Block 9 out -> [4, 8, 112, 112]\n"
     ]
    },
    {
     "name": "stderr",
     "output_type": "stream",
     "text": [
      "\u001b[32m2023-04-24 00:55:45.877\u001b[0m | \u001b[1mINFO    \u001b[0m | \u001b[36m__main__\u001b[0m:\u001b[36m<module>\u001b[0m:\u001b[36m52\u001b[0m - \u001b[1mconnected body to get data from tail 8181: ('127.0.0.1', 57326)\u001b[0m\n",
      "\u001b[32m2023-04-24 00:55:57.741\u001b[0m | \u001b[1mINFO    \u001b[0m | \u001b[36m__main__\u001b[0m:\u001b[36m<module>\u001b[0m:\u001b[36m69\u001b[0m - \u001b[1mdisconnected body to get data from tail 8181: ('127.0.0.1', 57326)\u001b[0m\n",
      "\u001b[32m2023-04-24 00:55:57.880\u001b[0m | \u001b[1mINFO    \u001b[0m | \u001b[36m__main__\u001b[0m:\u001b[36m<module>\u001b[0m:\u001b[36m79\u001b[0m - \u001b[1msent the backprop data from body to head 9999 skip 1/2/3/4 grad\u001b[0m\n",
      "\u001b[32m2023-04-24 00:56:13.176\u001b[0m | \u001b[1mINFO    \u001b[0m | \u001b[36m__main__\u001b[0m:\u001b[36m<module>\u001b[0m:\u001b[36m24\u001b[0m - \u001b[1mconnected body to get data from head 5151: ('127.0.0.1', 57343)\u001b[0m\n"
     ]
    },
    {
     "name": "stdout",
     "output_type": "stream",
     "text": [
      "Block 5 out -> [4, 128, 7, 7]\n",
      "Block 6 out -> [4, 64, 14, 14]\n",
      "Block 7 out -> [4, 32, 28, 28]\n",
      "Block 8 out -> [4, 16, 56, 56]\n"
     ]
    },
    {
     "name": "stderr",
     "output_type": "stream",
     "text": [
      "\u001b[32m2023-04-24 00:56:22.658\u001b[0m | \u001b[1mINFO    \u001b[0m | \u001b[36m__main__\u001b[0m:\u001b[36m<module>\u001b[0m:\u001b[36m40\u001b[0m - \u001b[1mdisconnected body to get data from head 5151: ('127.0.0.1', 57343)\u001b[0m\n",
      "\u001b[32m2023-04-24 00:56:22.679\u001b[0m | \u001b[1mINFO    \u001b[0m | \u001b[36m__main__\u001b[0m:\u001b[36m<module>\u001b[0m:\u001b[36m48\u001b[0m - \u001b[1msent the data from head to tail 7171 bd_layer_data\u001b[0m\n"
     ]
    },
    {
     "name": "stdout",
     "output_type": "stream",
     "text": [
      "Block 9 out -> [4, 8, 112, 112]\n"
     ]
    },
    {
     "name": "stderr",
     "output_type": "stream",
     "text": [
      "\u001b[32m2023-04-24 00:56:23.065\u001b[0m | \u001b[1mINFO    \u001b[0m | \u001b[36m__main__\u001b[0m:\u001b[36m<module>\u001b[0m:\u001b[36m52\u001b[0m - \u001b[1mconnected body to get data from tail 8181: ('127.0.0.1', 57351)\u001b[0m\n",
      "\u001b[32m2023-04-24 00:56:42.901\u001b[0m | \u001b[1mINFO    \u001b[0m | \u001b[36m__main__\u001b[0m:\u001b[36m<module>\u001b[0m:\u001b[36m69\u001b[0m - \u001b[1mdisconnected body to get data from tail 8181: ('127.0.0.1', 57351)\u001b[0m\n",
      "\u001b[32m2023-04-24 00:56:43.070\u001b[0m | \u001b[1mINFO    \u001b[0m | \u001b[36m__main__\u001b[0m:\u001b[36m<module>\u001b[0m:\u001b[36m79\u001b[0m - \u001b[1msent the backprop data from body to head 9999 skip 1/2/3/4 grad\u001b[0m\n",
      "\u001b[32m2023-04-24 00:57:03.337\u001b[0m | \u001b[1mINFO    \u001b[0m | \u001b[36m__main__\u001b[0m:\u001b[36m<module>\u001b[0m:\u001b[36m24\u001b[0m - \u001b[1mconnected body to get data from head 5151: ('127.0.0.1', 57379)\u001b[0m\n"
     ]
    },
    {
     "name": "stdout",
     "output_type": "stream",
     "text": [
      "Block 5 out -> [4, 128, 7, 7]\n",
      "Block 6 out -> [4, 64, 14, 14]\n",
      "Block 7 out -> [4, 32, 28, 28]\n",
      "Block 8 out -> [4, 16, 56, 56]\n"
     ]
    },
    {
     "name": "stderr",
     "output_type": "stream",
     "text": [
      "\u001b[32m2023-04-24 00:57:13.017\u001b[0m | \u001b[1mINFO    \u001b[0m | \u001b[36m__main__\u001b[0m:\u001b[36m<module>\u001b[0m:\u001b[36m40\u001b[0m - \u001b[1mdisconnected body to get data from head 5151: ('127.0.0.1', 57379)\u001b[0m\n",
      "\u001b[32m2023-04-24 00:57:13.037\u001b[0m | \u001b[1mINFO    \u001b[0m | \u001b[36m__main__\u001b[0m:\u001b[36m<module>\u001b[0m:\u001b[36m48\u001b[0m - \u001b[1msent the data from head to tail 7171 bd_layer_data\u001b[0m\n"
     ]
    },
    {
     "name": "stdout",
     "output_type": "stream",
     "text": [
      "Block 9 out -> [4, 8, 112, 112]\n"
     ]
    },
    {
     "name": "stderr",
     "output_type": "stream",
     "text": [
      "\u001b[32m2023-04-24 00:57:13.445\u001b[0m | \u001b[1mINFO    \u001b[0m | \u001b[36m__main__\u001b[0m:\u001b[36m<module>\u001b[0m:\u001b[36m52\u001b[0m - \u001b[1mconnected body to get data from tail 8181: ('127.0.0.1', 57389)\u001b[0m\n",
      "\u001b[32m2023-04-24 00:57:27.047\u001b[0m | \u001b[1mINFO    \u001b[0m | \u001b[36m__main__\u001b[0m:\u001b[36m<module>\u001b[0m:\u001b[36m69\u001b[0m - \u001b[1mdisconnected body to get data from tail 8181: ('127.0.0.1', 57389)\u001b[0m\n",
      "\u001b[32m2023-04-24 00:57:27.156\u001b[0m | \u001b[1mINFO    \u001b[0m | \u001b[36m__main__\u001b[0m:\u001b[36m<module>\u001b[0m:\u001b[36m79\u001b[0m - \u001b[1msent the backprop data from body to head 9999 skip 1/2/3/4 grad\u001b[0m\n",
      "\u001b[32m2023-04-24 00:57:48.254\u001b[0m | \u001b[1mINFO    \u001b[0m | \u001b[36m__main__\u001b[0m:\u001b[36m<module>\u001b[0m:\u001b[36m24\u001b[0m - \u001b[1mconnected body to get data from head 5151: ('127.0.0.1', 57453)\u001b[0m\n"
     ]
    },
    {
     "name": "stdout",
     "output_type": "stream",
     "text": [
      "Block 5 out -> [4, 128, 7, 7]\n",
      "Block 6 out -> [4, 64, 14, 14]\n",
      "Block 7 out -> [4, 32, 28, 28]\n",
      "Block 8 out -> [4, 16, 56, 56]\n"
     ]
    },
    {
     "name": "stderr",
     "output_type": "stream",
     "text": [
      "\u001b[32m2023-04-24 00:57:58.464\u001b[0m | \u001b[1mINFO    \u001b[0m | \u001b[36m__main__\u001b[0m:\u001b[36m<module>\u001b[0m:\u001b[36m40\u001b[0m - \u001b[1mdisconnected body to get data from head 5151: ('127.0.0.1', 57453)\u001b[0m\n",
      "\u001b[32m2023-04-24 00:57:58.492\u001b[0m | \u001b[1mINFO    \u001b[0m | \u001b[36m__main__\u001b[0m:\u001b[36m<module>\u001b[0m:\u001b[36m48\u001b[0m - \u001b[1msent the data from head to tail 7171 bd_layer_data\u001b[0m\n"
     ]
    },
    {
     "name": "stdout",
     "output_type": "stream",
     "text": [
      "Block 9 out -> [4, 8, 112, 112]\n"
     ]
    },
    {
     "name": "stderr",
     "output_type": "stream",
     "text": [
      "\u001b[32m2023-04-24 00:57:58.737\u001b[0m | \u001b[1mINFO    \u001b[0m | \u001b[36m__main__\u001b[0m:\u001b[36m<module>\u001b[0m:\u001b[36m52\u001b[0m - \u001b[1mconnected body to get data from tail 8181: ('127.0.0.1', 57480)\u001b[0m\n",
      "\u001b[32m2023-04-24 00:58:18.941\u001b[0m | \u001b[1mINFO    \u001b[0m | \u001b[36m__main__\u001b[0m:\u001b[36m<module>\u001b[0m:\u001b[36m69\u001b[0m - \u001b[1mdisconnected body to get data from tail 8181: ('127.0.0.1', 57480)\u001b[0m\n",
      "\u001b[32m2023-04-24 00:58:19.112\u001b[0m | \u001b[1mINFO    \u001b[0m | \u001b[36m__main__\u001b[0m:\u001b[36m<module>\u001b[0m:\u001b[36m79\u001b[0m - \u001b[1msent the backprop data from body to head 9999 skip 1/2/3/4 grad\u001b[0m\n",
      "\u001b[32m2023-04-24 00:58:39.146\u001b[0m | \u001b[1mINFO    \u001b[0m | \u001b[36m__main__\u001b[0m:\u001b[36m<module>\u001b[0m:\u001b[36m24\u001b[0m - \u001b[1mconnected body to get data from head 5151: ('127.0.0.1', 57524)\u001b[0m\n"
     ]
    },
    {
     "name": "stdout",
     "output_type": "stream",
     "text": [
      "Block 5 out -> [4, 128, 7, 7]\n",
      "Block 6 out -> [4, 64, 14, 14]\n",
      "Block 7 out -> [4, 32, 28, 28]\n",
      "Block 8 out -> [4, 16, 56, 56]\n"
     ]
    },
    {
     "name": "stderr",
     "output_type": "stream",
     "text": [
      "\u001b[32m2023-04-24 00:58:49.788\u001b[0m | \u001b[1mINFO    \u001b[0m | \u001b[36m__main__\u001b[0m:\u001b[36m<module>\u001b[0m:\u001b[36m40\u001b[0m - \u001b[1mdisconnected body to get data from head 5151: ('127.0.0.1', 57524)\u001b[0m\n",
      "\u001b[32m2023-04-24 00:58:49.827\u001b[0m | \u001b[1mINFO    \u001b[0m | \u001b[36m__main__\u001b[0m:\u001b[36m<module>\u001b[0m:\u001b[36m48\u001b[0m - \u001b[1msent the data from head to tail 7171 bd_layer_data\u001b[0m\n"
     ]
    },
    {
     "name": "stdout",
     "output_type": "stream",
     "text": [
      "Block 9 out -> [4, 8, 112, 112]\n"
     ]
    },
    {
     "name": "stderr",
     "output_type": "stream",
     "text": [
      "\u001b[32m2023-04-24 00:58:50.046\u001b[0m | \u001b[1mINFO    \u001b[0m | \u001b[36m__main__\u001b[0m:\u001b[36m<module>\u001b[0m:\u001b[36m52\u001b[0m - \u001b[1mconnected body to get data from tail 8181: ('127.0.0.1', 57539)\u001b[0m\n",
      "\u001b[32m2023-04-24 00:59:07.282\u001b[0m | \u001b[1mINFO    \u001b[0m | \u001b[36m__main__\u001b[0m:\u001b[36m<module>\u001b[0m:\u001b[36m69\u001b[0m - \u001b[1mdisconnected body to get data from tail 8181: ('127.0.0.1', 57539)\u001b[0m\n",
      "\u001b[32m2023-04-24 00:59:07.460\u001b[0m | \u001b[1mINFO    \u001b[0m | \u001b[36m__main__\u001b[0m:\u001b[36m<module>\u001b[0m:\u001b[36m79\u001b[0m - \u001b[1msent the backprop data from body to head 9999 skip 1/2/3/4 grad\u001b[0m\n",
      "\u001b[32m2023-04-24 00:59:29.128\u001b[0m | \u001b[1mINFO    \u001b[0m | \u001b[36m__main__\u001b[0m:\u001b[36m<module>\u001b[0m:\u001b[36m24\u001b[0m - \u001b[1mconnected body to get data from head 5151: ('127.0.0.1', 57676)\u001b[0m\n"
     ]
    },
    {
     "name": "stdout",
     "output_type": "stream",
     "text": [
      "Block 5 out -> [4, 128, 7, 7]\n",
      "Block 6 out -> [4, 64, 14, 14]\n",
      "Block 7 out -> [4, 32, 28, 28]\n",
      "Block 8 out -> [4, 16, 56, 56]\n"
     ]
    },
    {
     "name": "stderr",
     "output_type": "stream",
     "text": [
      "\u001b[32m2023-04-24 00:59:38.918\u001b[0m | \u001b[1mINFO    \u001b[0m | \u001b[36m__main__\u001b[0m:\u001b[36m<module>\u001b[0m:\u001b[36m40\u001b[0m - \u001b[1mdisconnected body to get data from head 5151: ('127.0.0.1', 57676)\u001b[0m\n",
      "\u001b[32m2023-04-24 00:59:38.934\u001b[0m | \u001b[1mINFO    \u001b[0m | \u001b[36m__main__\u001b[0m:\u001b[36m<module>\u001b[0m:\u001b[36m48\u001b[0m - \u001b[1msent the data from head to tail 7171 bd_layer_data\u001b[0m\n"
     ]
    },
    {
     "name": "stdout",
     "output_type": "stream",
     "text": [
      "Block 9 out -> [4, 8, 112, 112]\n"
     ]
    },
    {
     "name": "stderr",
     "output_type": "stream",
     "text": [
      "\u001b[32m2023-04-24 00:59:39.191\u001b[0m | \u001b[1mINFO    \u001b[0m | \u001b[36m__main__\u001b[0m:\u001b[36m<module>\u001b[0m:\u001b[36m52\u001b[0m - \u001b[1mconnected body to get data from tail 8181: ('127.0.0.1', 57687)\u001b[0m\n",
      "\u001b[32m2023-04-24 01:00:01.942\u001b[0m | \u001b[1mINFO    \u001b[0m | \u001b[36m__main__\u001b[0m:\u001b[36m<module>\u001b[0m:\u001b[36m69\u001b[0m - \u001b[1mdisconnected body to get data from tail 8181: ('127.0.0.1', 57687)\u001b[0m\n",
      "\u001b[32m2023-04-24 01:00:02.105\u001b[0m | \u001b[1mINFO    \u001b[0m | \u001b[36m__main__\u001b[0m:\u001b[36m<module>\u001b[0m:\u001b[36m79\u001b[0m - \u001b[1msent the backprop data from body to head 9999 skip 1/2/3/4 grad\u001b[0m\n",
      "\u001b[32m2023-04-24 01:00:24.384\u001b[0m | \u001b[1mINFO    \u001b[0m | \u001b[36m__main__\u001b[0m:\u001b[36m<module>\u001b[0m:\u001b[36m24\u001b[0m - \u001b[1mconnected body to get data from head 5151: ('127.0.0.1', 57757)\u001b[0m\n"
     ]
    },
    {
     "name": "stdout",
     "output_type": "stream",
     "text": [
      "Block 5 out -> [4, 128, 7, 7]\n",
      "Block 6 out -> [4, 64, 14, 14]\n",
      "Block 7 out -> [4, 32, 28, 28]\n",
      "Block 8 out -> [4, 16, 56, 56]\n"
     ]
    }
   ],
   "source": [
    "# Forward propagation in body model\n",
    "\n",
    "model_body.train()\n",
    "\n",
    "\n",
    "try:\n",
    "    bd_layer_data = None\n",
    "    skip_1 = None\n",
    "    skip_2 = None\n",
    "    skip_3 = None\n",
    "    skip_4 = None\n",
    "\n",
    "    while True:\n",
    "        # listen for incoming connections\n",
    "        recv_head.listen()\n",
    "        recv_tail.listen()\n",
    "\n",
    "        # wait until either socket is ready to read\n",
    "        read_sockets, _, _ = select.select([recv_head, recv_tail], [], [])\n",
    "        try:\n",
    "            for sock in read_sockets:\n",
    "                if sock == recv_head:\n",
    "                    conn, addr = recv_head.accept()\n",
    "                    logger.info(f\"connected body to get data from head 5151: {addr}\")\n",
    "\n",
    "                    head_fwd_file = conn.recv(1024)\n",
    "\n",
    "                    if len(head_fwd_file) == 0:\n",
    "                        logger.error(\"Frame not available\")\n",
    "                        break\n",
    "\n",
    "                    with h5py.File(head_fwd_file, 'r') as head_fwd:\n",
    "                        skip_1 = torch.tensor(head_fwd['skip1'][:], requires_grad=True).to(device)\n",
    "                        skip_2 = torch.tensor(head_fwd['skip2'][:], requires_grad=True).to(device)\n",
    "                        skip_3 = torch.tensor(head_fwd['skip3'][:], requires_grad=True).to(device)\n",
    "                        skip_4 = torch.tensor(head_fwd['skip4'][:], requires_grad=True).to(device)\n",
    "\n",
    "                    bd_layer_data = model_body(skip_1, skip_2, skip_3, skip_4)\n",
    "\n",
    "                    logger.info(f\"disconnected body to get data from head 5151: {addr}\")\n",
    "\n",
    "                    with h5py.File('params_and_grads/body_forward_pass.hdf5', 'w') as body_fwd:\n",
    "                        for layer, data in bd_layer_data.items():\n",
    "                            body_fwd.create_dataset(layer,  data=data.cpu().detach().numpy())\n",
    "\n",
    "                    send_socket_info(7171, \"params_and_grads/body_forward_pass.hdf5\")\n",
    "\n",
    "                    logger.info(f\"sent the data from head to tail 7171 bd_layer_data\")\n",
    "\n",
    "                if sock == recv_tail:\n",
    "                    conn, addr = recv_tail.accept()\n",
    "                    logger.info(f\"connected body to get data from tail 8181: {addr}\")\n",
    "\n",
    "                    tail_grad_file = conn.recv(1024)\n",
    "\n",
    "                    if len(tail_grad_file) == 0:\n",
    "                        logger.error(\"Frame not available\")\n",
    "                        break\n",
    "                    \n",
    "                    with h5py.File(tail_grad_file, 'r') as grad_tail:\n",
    "                        skip_9_grad = torch.tensor(grad_tail['skip_9_grad'][:])\n",
    "                        bd_layer_data['skip9'].backward(skip_9_grad)\n",
    "\n",
    "                    # skip_1_grad = skip_1.grad\n",
    "                    # skip_2_grad = skip_2.grad\n",
    "                    # skip_3_grad = skip_3.grad\n",
    "                    skip_4_grad = skip_4.grad\n",
    "\n",
    "                    logger.info(f\"disconnected body to get data from tail 8181: {addr}\")\n",
    "\n",
    "                    with h5py.File('params_and_grads/body_back_prop.hdf5', 'w') as body_bkp:\n",
    "                        # body_bkp.create_dataset(\"skip_1_grad\",  data=skip_1_grad.cpu().detach().numpy())\n",
    "                        # body_bkp.create_dataset(\"skip_2_grad\",  data=skip_2_grad.cpu().detach().numpy())\n",
    "                        # body_bkp.create_dataset(\"skip_3_grad\",  data=skip_3_grad.cpu().detach().numpy())\n",
    "                        body_bkp.create_dataset(\"skip_4_grad\",  data=skip_4_grad.cpu().detach().numpy())\n",
    "\n",
    "                    send_socket_info(9191, 'params_and_grads/body_back_prop.hdf5')\n",
    "\n",
    "                    logger.info(f\"sent the backprop data from body to head 9999 skip 1/2/3/4 grad\")\n",
    "\n",
    "        except ConnectionResetError:\n",
    "            logger.error(f\"Connection error issue\")\n",
    "except Exception as e:\n",
    "    import traceback\n",
    "    traceback.print_exc()\n",
    "finally:\n",
    "    pass"
   ]
  }
 ],
 "metadata": {
  "kernelspec": {
   "display_name": "mlenv",
   "language": "python",
   "name": "python3"
  },
  "language_info": {
   "codemirror_mode": {
    "name": "ipython",
    "version": 3
   },
   "file_extension": ".py",
   "mimetype": "text/x-python",
   "name": "python",
   "nbconvert_exporter": "python",
   "pygments_lexer": "ipython3",
   "version": "3.9.13"
  },
  "orig_nbformat": 4
 },
 "nbformat": 4,
 "nbformat_minor": 2
}
